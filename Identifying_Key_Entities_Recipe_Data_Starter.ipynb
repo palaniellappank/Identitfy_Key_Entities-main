{
 "cells": [
  {
   "cell_type": "markdown",
   "metadata": {
    "id": "42UBKEnat_xo"
   },
   "source": [
    "# **Identifying Key Entities in Recipe Data**"
   ]
  },
  {
   "cell_type": "markdown",
   "metadata": {
    "id": "Pme3h_fduOKh"
   },
   "source": [
    "\n",
    "**Business Objective**:\n",
    "The goal of this assignment is to train a Named Entity Recognition (NER) model using Conditional Random Fields (CRF) to extract key entities from recipe data. The model will classify words into predefined categories such as ingredients, quantities and units, enabling the creation of a structured database of recipes and ingredients that can be used to power advanced features in recipe management systems, dietary tracking apps, or e-commerce platforms."
   ]
  },
  {
   "cell_type": "markdown",
   "metadata": {
    "id": "FXzoAs8evNG0"
   },
   "source": [
    "### **Data Description**\n",
    "The given data is in JSON format, representing a **structured recipe ingredient list** with **Named Entity Recognition (NER) labels**. Below is a breakdown of the data fields:\n",
    "\n",
    "```json\n",
    "[\n",
    "    {\n",
    "        \"input\": \"6 Karela Bitter Gourd Pavakkai Salt 1 Onion 3 tablespoon Gram flour besan 2 teaspoons Turmeric powder Haldi Red Chilli Cumin seeds Jeera Coriander Powder Dhania Amchur Dry Mango Sunflower Oil\",\n",
    "        \"pos\": \"quantity ingredient ingredient ingredient ingredient ingredient quantity ingredient quantity unit ingredient ingredient ingredient quantity unit ingredient ingredient ingredient ingredient ingredient ingredient ingredient ingredient ingredient ingredient ingredient ingredient ingredient ingredient ingredient ingredient\"\n",
    "    },\n",
    "    {\n",
    "      \"input\": \"2-1/2 cups rice cooked 3 tomatoes teaspoons BC Belle Bhat powder 1 teaspoon chickpea lentils 1/2 cumin seeds white urad dal mustard green chilli dry red 2 cashew or peanuts 1-1/2 tablespoon oil asafoetida\",\n",
    "      \"pos\": \"quantity unit ingredient ingredient quantity ingredient unit ingredient ingredient ingredient ingredient quantity unit ingredient ingredient quantity ingredient ingredient ingredient ingredient ingredient ingredient ingredient ingredient ingredient ingredient quantity ingredient ingredient ingredient quantity unit ingredient ingredient\"\n",
    "    }\n",
    "]\n"
   ]
  },
  {
   "cell_type": "markdown",
   "metadata": {
    "id": "LSDcNvJlwC6N"
   },
   "source": [
    "| **Key**  | **Description**  |\n",
    "|----------|-----------------|\n",
    "| `input`  | Contains a raw ingredient list from a recipe. |\n",
    "| `pos`    | Represents the corresponding part-of-speech (POS) tags or NER labels, identifying quantities, ingredients, and units. |\n"
   ]
  },
  {
   "cell_type": "markdown",
   "metadata": {
    "id": "phenosA4se1c"
   },
   "source": [
    "## **1** Import libraries"
   ]
  },
  {
   "cell_type": "markdown",
   "metadata": {
    "id": "Br-jQHin3kQX"
   },
   "source": [
    "#### **1.1** Installation of sklearn-crfsuite"
   ]
  },
  {
   "cell_type": "markdown",
   "metadata": {
    "id": "DPhaJSfCwpfa"
   },
   "source": [
    "sklearn-crfsuite is a Python wrapper for CRFsuite, a fast and efficient implementation of Conditional Random Fields (CRFs). It is designed to integrate seamlessly with scikit-learn for structured prediction tasks such as Named Entity Recognition (NER), Part-of-Speech (POS) tagging, and chunking."
   ]
  },
  {
   "cell_type": "code",
   "execution_count": 1,
   "metadata": {
    "id": "_QawokgQXAMO"
   },
   "outputs": [],
   "source": [
    "# installation of sklearn_crfsuite\n",
    "#!pip install sklearn_crfsuite==0.5.0"
   ]
  },
  {
   "cell_type": "markdown",
   "metadata": {
    "id": "svqZwrHT3rzV"
   },
   "source": [
    "#### **1.2** Import necessary libraries"
   ]
  },
  {
   "cell_type": "code",
   "execution_count": 2,
   "metadata": {
    "id": "v2zLbaB0w1ZH"
   },
   "outputs": [],
   "source": [
    "# Import warnings\n",
    "import warnings\n",
    "warnings.filterwarnings('ignore')"
   ]
  },
  {
   "cell_type": "code",
   "execution_count": 3,
   "metadata": {
    "id": "0hlp-Ln4WsaV"
   },
   "outputs": [],
   "source": [
    "# Import necessary libraries\n",
    "import json  # For handling JSON data\n",
    "import pandas as pd  # For data manipulation and analysis\n",
    "import re  # For regular expressions (useful for text preprocessing)\n",
    "import matplotlib.pyplot as plt  # For visualisation\n",
    "import seaborn as sns  # For advanced data visualisation\n",
    "import sklearn_crfsuite  # CRF (Conditional Random Fields) implementation for sequence modeling\n",
    "import numpy as np  # For numerical computations\n",
    "# Saving and loading machine learning models\n",
    "import joblib\n",
    "import random\n",
    "import spacy\n",
    "from IPython.display import display, Markdown # For displaying well-formatted output\n",
    "\n",
    "from fractions import Fraction  # For handling fractional values in numerical data\n",
    "# Importing tools for feature engineering and model training\n",
    "from collections import Counter  # For counting occurrences of elements in a list\n",
    "from sklearn.model_selection import train_test_split  # For splitting dataset into train and test sets\n",
    "from sklearn_crfsuite import metrics  # For evaluating CRF models\n",
    "from sklearn_crfsuite.metrics import flat_classification_report\n",
    "from sklearn.utils.class_weight import compute_class_weight\n",
    "from collections import Counter\n",
    "from sklearn.metrics import confusion_matrix"
   ]
  },
  {
   "cell_type": "code",
   "execution_count": 4,
   "metadata": {
    "id": "k3_LR6N_2cli"
   },
   "outputs": [],
   "source": [
    "# Ensure pandas displays full content\n",
    "pd.set_option('display.max_colwidth', None)\n",
    "pd.set_option('display.expand_frame_repr', False)"
   ]
  },
  {
   "cell_type": "markdown",
   "metadata": {
    "id": "fUOu_u0fyMfh"
   },
   "source": [
    "## **2** Data Ingestion and Preparation <font color = red>[25 marks]</font> <br>"
   ]
  },
  {
   "cell_type": "markdown",
   "metadata": {
    "id": "-ksMVNgeyiLN"
   },
   "source": [
    "#### **2.1** *Read Recipe Data from Dataframe and prepare the data for analysis* <font color = red>[12 marks]</font> <br>\n",
    "Read the data from JSON file, print first five rows and describe the dataframe"
   ]
  },
  {
   "cell_type": "markdown",
   "metadata": {
    "id": "kxn28jL3z4GY"
   },
   "source": [
    "##### **2.1.1** **Define a *load_json_dataframe* function** <font color = red>[7 marks]</font> <br>\n",
    "\n",
    "Define a function that takes path of the ingredient_and_quantity.json file and reads it, convert it into dataframe - df and return it."
   ]
  },
  {
   "cell_type": "code",
   "execution_count": 5,
   "metadata": {
    "id": "dq6UgUYcPyOL"
   },
   "outputs": [],
   "source": [
    "# define a function to load json file to a dataframe\n",
    "\n",
    "def load_json_to_dataframe(file_path):\n",
    "    \"\"\"\n",
    "    Load a JSON file into a pandas DataFrame.\n",
    "\n",
    "    Parameters:\n",
    "    - file_path (str): Path to the JSON file.\n",
    "\n",
    "    Returns:\n",
    "    - pd.DataFrame: DataFrame containing the JSON data.\n",
    "    \"\"\"\n",
    "    try:\n",
    "        with open(file_path, 'r', encoding='utf-8') as file:\n",
    "            data = json.load(file)\n",
    "        df = pd.DataFrame(data)\n",
    "        return df\n",
    "    except Exception as e:\n",
    "        print(f\"Error loading JSON file: {e}\")\n",
    "        return None\n",
    "\n"
   ]
  },
  {
   "cell_type": "markdown",
   "metadata": {
    "id": "1NlhkH_605IA"
   },
   "source": [
    "##### **2.1.2** **Execute the *load_json_dataframe* function** <font color = red>[2 marks]</font> <br>"
   ]
  },
  {
   "cell_type": "code",
   "execution_count": 6,
   "metadata": {
    "id": "UONMkMsrxdxB"
   },
   "outputs": [],
   "source": [
    "# read the json file by giving the file path and create a dataframe\n",
    "df=load_json_to_dataframe(\"ingredient_and_quantity.json\")"
   ]
  },
  {
   "cell_type": "markdown",
   "metadata": {
    "id": "_1VkDbev3UHP"
   },
   "source": [
    "##### **2.1.3** **Describe the dataframe** <font color = red>[3 marks]</font> <br>\n",
    "\n",
    "Print first five rows of dataframe along with dimensions. Display the information of dataframe"
   ]
  },
  {
   "cell_type": "code",
   "execution_count": 7,
   "metadata": {
    "id": "yZFj2skZxgpl"
   },
   "outputs": [
    {
     "name": "stdout",
     "output_type": "stream",
     "text": [
      "                                                                                                                                                                                                                                                                                            input                                                                                                                                                                                                                                                                                                                                                                                                                                                                      pos\n",
      "0                                                                                                 6 Karela Bitter Gourd Pavakkai Salt 1 Onion 3 tablespoon Gram flour besan 2 teaspoons Turmeric powder Haldi Red Chilli Cumin seeds Jeera Coriander Powder Dhania Amchur Dry Mango Sunflower Oil                                                                                                                                         quantity ingredient ingredient ingredient ingredient ingredient quantity ingredient quantity unit ingredient ingredient ingredient quantity unit ingredient ingredient ingredient ingredient ingredient ingredient ingredient ingredient ingredient ingredient ingredient ingredient ingredient ingredient ingredient ingredient\n",
      "1                                                                                    2-1/2 cups rice cooked 3 tomatoes teaspoons BC Belle Bhat powder 1 teaspoon chickpea lentils 1/2 cumin seeds white urad dal mustard green chilli dry red 2 cashew or peanuts 1-1/2 tablespoon oil asafoetida                                                                                                                        quantity unit ingredient ingredient quantity ingredient unit ingredient ingredient ingredient ingredient quantity unit ingredient ingredient quantity ingredient ingredient ingredient ingredient ingredient ingredient ingredient ingredient ingredient ingredient quantity ingredient ingredient ingredient quantity unit ingredient ingredient\n",
      "2                                                                  1-1/2 cups Rice Vermicelli Noodles Thin 1 Onion sliced 1/2 cup Carrots Gajjar chopped 1/3 Green peas Matar 2 Chillies 1/4 teaspoon Asafoetida hing Mustard seeds White Urad Dal Split Ghee sprig Curry leaves Salt Lemon juice                                                                                       quantity unit ingredient ingredient ingredient ingredient quantity ingredient ingredient quantity unit ingredient ingredient ingredient quantity ingredient ingredient ingredient quantity ingredient quantity unit ingredient ingredient ingredient ingredient ingredient ingredient ingredient ingredient ingredient unit ingredient ingredient ingredient ingredient ingredient\n",
      "3  500 grams Chicken 2 Onion chopped 1 Tomato 4 Green Chillies slit inch Ginger finely 6 cloves Garlic 1/2 teaspoon Turmeric powder Haldi Garam masala tablespoon Sesame Gingelly Oil 1/4 Methi Seeds Fenugreek Coriander Dhania Dry Red Fennel seeds Saunf cups Sorrel Leaves Gongura picked and  quantity unit ingredient quantity ingredient ingredient quantity ingredient quantity ingredient ingredient ingredient unit ingredient ingredient quantity unit ingredient quantity unit ingredient ingredient ingredient ingredient ingredient unit ingredient ingredient ingredient quantity ingredient ingredient ingredient ingredient ingredient ingredient ingredient ingredient ingredient ingredient unit ingredient ingredient ingredient ingredient ingredient\n",
      "4                                                                                                                                                           1 tablespoon chana dal white urad 2 red chillies coriander seeds 3 inches ginger onion tomato Teaspoon mustard asafoetida sprig curry                                                                                                                                                                                                                                                                 quantity unit ingredient ingredient ingredient ingredient quantity ingredient ingredient ingredient ingredient quantity unit ingredient ingredient ingredient unit ingredient ingredient unit ingredient\n"
     ]
    }
   ],
   "source": [
    "# display first five rows of the dataframe - df\n",
    "print(df.head())"
   ]
  },
  {
   "cell_type": "code",
   "execution_count": 8,
   "metadata": {
    "id": "Y7cA28XSx1I1"
   },
   "outputs": [
    {
     "name": "stdout",
     "output_type": "stream",
     "text": [
      "(285, 2)\n"
     ]
    }
   ],
   "source": [
    "# print the dimensions of dataframe - df\n",
    "print(df.shape)"
   ]
  },
  {
   "cell_type": "code",
   "execution_count": 9,
   "metadata": {
    "id": "Q-gsbEhJx2rm"
   },
   "outputs": [
    {
     "name": "stdout",
     "output_type": "stream",
     "text": [
      "<bound method DataFrame.info of                                                                                                                                                                                                                                                                                               input                                                                                                                                                                                                                                                                                                                                                                                                                                                                      pos\n",
      "0                                                                                                   6 Karela Bitter Gourd Pavakkai Salt 1 Onion 3 tablespoon Gram flour besan 2 teaspoons Turmeric powder Haldi Red Chilli Cumin seeds Jeera Coriander Powder Dhania Amchur Dry Mango Sunflower Oil                                                                                                                                         quantity ingredient ingredient ingredient ingredient ingredient quantity ingredient quantity unit ingredient ingredient ingredient quantity unit ingredient ingredient ingredient ingredient ingredient ingredient ingredient ingredient ingredient ingredient ingredient ingredient ingredient ingredient ingredient ingredient\n",
      "1                                                                                      2-1/2 cups rice cooked 3 tomatoes teaspoons BC Belle Bhat powder 1 teaspoon chickpea lentils 1/2 cumin seeds white urad dal mustard green chilli dry red 2 cashew or peanuts 1-1/2 tablespoon oil asafoetida                                                                                                                        quantity unit ingredient ingredient quantity ingredient unit ingredient ingredient ingredient ingredient quantity unit ingredient ingredient quantity ingredient ingredient ingredient ingredient ingredient ingredient ingredient ingredient ingredient ingredient quantity ingredient ingredient ingredient quantity unit ingredient ingredient\n",
      "2                                                                    1-1/2 cups Rice Vermicelli Noodles Thin 1 Onion sliced 1/2 cup Carrots Gajjar chopped 1/3 Green peas Matar 2 Chillies 1/4 teaspoon Asafoetida hing Mustard seeds White Urad Dal Split Ghee sprig Curry leaves Salt Lemon juice                                                                                       quantity unit ingredient ingredient ingredient ingredient quantity ingredient ingredient quantity unit ingredient ingredient ingredient quantity ingredient ingredient ingredient quantity ingredient quantity unit ingredient ingredient ingredient ingredient ingredient ingredient ingredient ingredient ingredient unit ingredient ingredient ingredient ingredient ingredient\n",
      "3    500 grams Chicken 2 Onion chopped 1 Tomato 4 Green Chillies slit inch Ginger finely 6 cloves Garlic 1/2 teaspoon Turmeric powder Haldi Garam masala tablespoon Sesame Gingelly Oil 1/4 Methi Seeds Fenugreek Coriander Dhania Dry Red Fennel seeds Saunf cups Sorrel Leaves Gongura picked and  quantity unit ingredient quantity ingredient ingredient quantity ingredient quantity ingredient ingredient ingredient unit ingredient ingredient quantity unit ingredient quantity unit ingredient ingredient ingredient ingredient ingredient unit ingredient ingredient ingredient quantity ingredient ingredient ingredient ingredient ingredient ingredient ingredient ingredient ingredient ingredient unit ingredient ingredient ingredient ingredient ingredient\n",
      "4                                                                                                                                                             1 tablespoon chana dal white urad 2 red chillies coriander seeds 3 inches ginger onion tomato Teaspoon mustard asafoetida sprig curry                                                                                                                                                                                                                                                                 quantity unit ingredient ingredient ingredient ingredient quantity ingredient ingredient ingredient ingredient quantity unit ingredient ingredient ingredient unit ingredient ingredient unit ingredient\n",
      "..                                                                                                                                                                                                                                                                                              ...                                                                                                                                                                                                                                                                                                                                                                                                                                                                      ...\n",
      "280                                                                                              2 Mooli Mullangi Radish 200 grams Paneer Homemade Cottage Cheese 1 Green Chilli 4 cloves Garlic inch Ginger teaspoon Cumin powder Sunflower Oil Salt 1/4 Turmeric Haldi cup Whole Wheat Flour Ghee                                                                                                                                                  quantity ingredient ingredient ingredient quantity unit ingredient ingredient ingredient ingredient quantity ingredient ingredient quantity unit ingredient unit ingredient unit ingredient ingredient ingredient ingredient ingredient quantity ingredient ingredient unit ingredient ingredient ingredient ingredient\n",
      "281                                                                                                                                                                                   2 cups Fresh orange juice teaspoons Ginger grated tablespoons Tea Monk Seiki Peppermint Green 4 Chilled water                                                                                                                                                                                                                                                                                                     quantity unit ingredient ingredient ingredient unit ingredient ingredient unit ingredient ingredient ingredient ingredient ingredient quantity ingredient ingredient\n",
      "282                                                                                                                  3 Potatoes Aloo 2 Green zucchini 1 tablespoon Red Chilli flakes Dried oregano Thyme Leaves Black pepper powder 1/4 cup Cheddar cheese grated 1/2 Whole Wheat Bread crumbs Salt                                                                                                                                                                 quantity ingredient ingredient quantity ingredient ingredient quantity unit ingredient ingredient ingredient ingredient ingredient ingredient ingredient ingredient ingredient ingredient quantity unit ingredient ingredient ingredient quantity ingredient ingredient ingredient ingredient ingredient\n",
      "283    1 cup Pink Masoor Dal 200 grams Drumstick Leaves Moringa Murungai Keerai 1/4 teaspoon Asafoetida hing Cumin seeds Jeera inch Ginger finely chopped Dry Red Chilli Tomato Green slit 2 teaspoons Coriander Powder Dhania 1/2 Turmeric powder Haldi Salt tablespoon Ghee Lemon juice extracted                    quantity unit ingredient ingredient ingredient quantity unit ingredient ingredient ingredient ingredient ingredient quantity unit ingredient ingredient ingredient ingredient ingredient unit ingredient ingredient ingredient ingredient ingredient ingredient ingredient ingredient ingredient quantity unit ingredient ingredient ingredient quantity ingredient ingredient ingredient ingredient unit ingredient ingredient ingredient ingredient\n",
      "284                                                                            1/2 cup Bajra Flour Jowar Whole Wheat 2 cups Methi Leaves inch Ginger 3 Green Chillies 1 tablespoon Sesame seeds teaspoons Red Chilli powder Turmeric 1/4 teaspoon Asafoetida 5 tablespoons Curd Sugar Sunflower Oil                                                                                                                                          quantity unit ingredient ingredient ingredient ingredient ingredient quantity unit ingredient ingredient unit ingredient quantity ingredient ingredient quantity unit ingredient ingredient unit ingredient ingredient ingredient ingredient quantity unit ingredient quantity unit ingredient ingredient ingredient ingredient\n",
      "\n",
      "[285 rows x 2 columns]>\n"
     ]
    }
   ],
   "source": [
    "# print the information of the dataframe\n",
    "print(df.info)\n"
   ]
  },
  {
   "cell_type": "markdown",
   "metadata": {
    "id": "1y18LwoqyFpk"
   },
   "source": [
    "#### **2.2** *Recipe Data Manipulation* <font color = red>[13 marks]</font> <br>\n",
    "Create derived metrics in dataframe and provide insights of the dataframe"
   ]
  },
  {
   "cell_type": "markdown",
   "metadata": {
    "id": "bhNG_XC1r4Qw"
   },
   "source": [
    "##### **2.2.1** **Create input_tokens and pos_tokens columns by splitting the input and pos from the dataframe** <font color = red>[3 marks]</font> <br>\n",
    "Split the input and pos into input_tokens and pos_tokens in the dataframe and display it in the dataframe"
   ]
  },
  {
   "cell_type": "code",
   "execution_count": 10,
   "metadata": {
    "id": "nma6uJwmXUas"
   },
   "outputs": [
    {
     "data": {
      "text/html": [
       "<div>\n",
       "<style scoped>\n",
       "    .dataframe tbody tr th:only-of-type {\n",
       "        vertical-align: middle;\n",
       "    }\n",
       "\n",
       "    .dataframe tbody tr th {\n",
       "        vertical-align: top;\n",
       "    }\n",
       "\n",
       "    .dataframe thead th {\n",
       "        text-align: right;\n",
       "    }\n",
       "</style>\n",
       "<table border=\"1\" class=\"dataframe\">\n",
       "  <thead>\n",
       "    <tr style=\"text-align: right;\">\n",
       "      <th></th>\n",
       "      <th>input</th>\n",
       "      <th>pos</th>\n",
       "      <th>input_tokens</th>\n",
       "      <th>pos_tokens</th>\n",
       "    </tr>\n",
       "  </thead>\n",
       "  <tbody>\n",
       "    <tr>\n",
       "      <th>0</th>\n",
       "      <td>6 Karela Bitter Gourd Pavakkai Salt 1 Onion 3 tablespoon Gram flour besan 2 teaspoons Turmeric powder Haldi Red Chilli Cumin seeds Jeera Coriander Powder Dhania Amchur Dry Mango Sunflower Oil</td>\n",
       "      <td>quantity ingredient ingredient ingredient ingredient ingredient quantity ingredient quantity unit ingredient ingredient ingredient quantity unit ingredient ingredient ingredient ingredient ingredient ingredient ingredient ingredient ingredient ingredient ingredient ingredient ingredient ingredient ingredient ingredient</td>\n",
       "      <td>[6, Karela, Bitter, Gourd, Pavakkai, Salt, 1, Onion, 3, tablespoon, Gram, flour, besan, 2, teaspoons, Turmeric, powder, Haldi, Red, Chilli, Cumin, seeds, Jeera, Coriander, Powder, Dhania, Amchur, Dry, Mango, Sunflower, Oil]</td>\n",
       "      <td>[quantity, ingredient, ingredient, ingredient, ingredient, ingredient, quantity, ingredient, quantity, unit, ingredient, ingredient, ingredient, quantity, unit, ingredient, ingredient, ingredient, ingredient, ingredient, ingredient, ingredient, ingredient, ingredient, ingredient, ingredient, ingredient, ingredient, ingredient, ingredient, ingredient]</td>\n",
       "    </tr>\n",
       "    <tr>\n",
       "      <th>1</th>\n",
       "      <td>2-1/2 cups rice cooked 3 tomatoes teaspoons BC Belle Bhat powder 1 teaspoon chickpea lentils 1/2 cumin seeds white urad dal mustard green chilli dry red 2 cashew or peanuts 1-1/2 tablespoon oil asafoetida</td>\n",
       "      <td>quantity unit ingredient ingredient quantity ingredient unit ingredient ingredient ingredient ingredient quantity unit ingredient ingredient quantity ingredient ingredient ingredient ingredient ingredient ingredient ingredient ingredient ingredient ingredient quantity ingredient ingredient ingredient quantity unit ingredient ingredient</td>\n",
       "      <td>[2-1/2, cups, rice, cooked, 3, tomatoes, teaspoons, BC, Belle, Bhat, powder, 1, teaspoon, chickpea, lentils, 1/2, cumin, seeds, white, urad, dal, mustard, green, chilli, dry, red, 2, cashew, or, peanuts, 1-1/2, tablespoon, oil, asafoetida]</td>\n",
       "      <td>[quantity, unit, ingredient, ingredient, quantity, ingredient, unit, ingredient, ingredient, ingredient, ingredient, quantity, unit, ingredient, ingredient, quantity, ingredient, ingredient, ingredient, ingredient, ingredient, ingredient, ingredient, ingredient, ingredient, ingredient, quantity, ingredient, ingredient, ingredient, quantity, unit, ingredient, ingredient]</td>\n",
       "    </tr>\n",
       "    <tr>\n",
       "      <th>2</th>\n",
       "      <td>1-1/2 cups Rice Vermicelli Noodles Thin 1 Onion sliced 1/2 cup Carrots Gajjar chopped 1/3 Green peas Matar 2 Chillies 1/4 teaspoon Asafoetida hing Mustard seeds White Urad Dal Split Ghee sprig Curry leaves Salt Lemon juice</td>\n",
       "      <td>quantity unit ingredient ingredient ingredient ingredient quantity ingredient ingredient quantity unit ingredient ingredient ingredient quantity ingredient ingredient ingredient quantity ingredient quantity unit ingredient ingredient ingredient ingredient ingredient ingredient ingredient ingredient ingredient unit ingredient ingredient ingredient ingredient ingredient</td>\n",
       "      <td>[1-1/2, cups, Rice, Vermicelli, Noodles, Thin, 1, Onion, sliced, 1/2, cup, Carrots, Gajjar, chopped, 1/3, Green, peas, Matar, 2, Chillies, 1/4, teaspoon, Asafoetida, hing, Mustard, seeds, White, Urad, Dal, Split, Ghee, sprig, Curry, leaves, Salt, Lemon, juice]</td>\n",
       "      <td>[quantity, unit, ingredient, ingredient, ingredient, ingredient, quantity, ingredient, ingredient, quantity, unit, ingredient, ingredient, ingredient, quantity, ingredient, ingredient, ingredient, quantity, ingredient, quantity, unit, ingredient, ingredient, ingredient, ingredient, ingredient, ingredient, ingredient, ingredient, ingredient, unit, ingredient, ingredient, ingredient, ingredient, ingredient]</td>\n",
       "    </tr>\n",
       "    <tr>\n",
       "      <th>3</th>\n",
       "      <td>500 grams Chicken 2 Onion chopped 1 Tomato 4 Green Chillies slit inch Ginger finely 6 cloves Garlic 1/2 teaspoon Turmeric powder Haldi Garam masala tablespoon Sesame Gingelly Oil 1/4 Methi Seeds Fenugreek Coriander Dhania Dry Red Fennel seeds Saunf cups Sorrel Leaves Gongura picked and</td>\n",
       "      <td>quantity unit ingredient quantity ingredient ingredient quantity ingredient quantity ingredient ingredient ingredient unit ingredient ingredient quantity unit ingredient quantity unit ingredient ingredient ingredient ingredient ingredient unit ingredient ingredient ingredient quantity ingredient ingredient ingredient ingredient ingredient ingredient ingredient ingredient ingredient ingredient unit ingredient ingredient ingredient ingredient ingredient</td>\n",
       "      <td>[500, grams, Chicken, 2, Onion, chopped, 1, Tomato, 4, Green, Chillies, slit, inch, Ginger, finely, 6, cloves, Garlic, 1/2, teaspoon, Turmeric, powder, Haldi, Garam, masala, tablespoon, Sesame, Gingelly, Oil, 1/4, Methi, Seeds, Fenugreek, Coriander, Dhania, Dry, Red, Fennel, seeds, Saunf, cups, Sorrel, Leaves, Gongura, picked, and]</td>\n",
       "      <td>[quantity, unit, ingredient, quantity, ingredient, ingredient, quantity, ingredient, quantity, ingredient, ingredient, ingredient, unit, ingredient, ingredient, quantity, unit, ingredient, quantity, unit, ingredient, ingredient, ingredient, ingredient, ingredient, unit, ingredient, ingredient, ingredient, quantity, ingredient, ingredient, ingredient, ingredient, ingredient, ingredient, ingredient, ingredient, ingredient, ingredient, unit, ingredient, ingredient, ingredient, ingredient, ingredient]</td>\n",
       "    </tr>\n",
       "    <tr>\n",
       "      <th>4</th>\n",
       "      <td>1 tablespoon chana dal white urad 2 red chillies coriander seeds 3 inches ginger onion tomato Teaspoon mustard asafoetida sprig curry</td>\n",
       "      <td>quantity unit ingredient ingredient ingredient ingredient quantity ingredient ingredient ingredient ingredient quantity unit ingredient ingredient ingredient unit ingredient ingredient unit ingredient</td>\n",
       "      <td>[1, tablespoon, chana, dal, white, urad, 2, red, chillies, coriander, seeds, 3, inches, ginger, onion, tomato, Teaspoon, mustard, asafoetida, sprig, curry]</td>\n",
       "      <td>[quantity, unit, ingredient, ingredient, ingredient, ingredient, quantity, ingredient, ingredient, ingredient, ingredient, quantity, unit, ingredient, ingredient, ingredient, unit, ingredient, ingredient, unit, ingredient]</td>\n",
       "    </tr>\n",
       "    <tr>\n",
       "      <th>...</th>\n",
       "      <td>...</td>\n",
       "      <td>...</td>\n",
       "      <td>...</td>\n",
       "      <td>...</td>\n",
       "    </tr>\n",
       "    <tr>\n",
       "      <th>280</th>\n",
       "      <td>2 Mooli Mullangi Radish 200 grams Paneer Homemade Cottage Cheese 1 Green Chilli 4 cloves Garlic inch Ginger teaspoon Cumin powder Sunflower Oil Salt 1/4 Turmeric Haldi cup Whole Wheat Flour Ghee</td>\n",
       "      <td>quantity ingredient ingredient ingredient quantity unit ingredient ingredient ingredient ingredient quantity ingredient ingredient quantity unit ingredient unit ingredient unit ingredient ingredient ingredient ingredient ingredient quantity ingredient ingredient unit ingredient ingredient ingredient ingredient</td>\n",
       "      <td>[2, Mooli, Mullangi, Radish, 200, grams, Paneer, Homemade, Cottage, Cheese, 1, Green, Chilli, 4, cloves, Garlic, inch, Ginger, teaspoon, Cumin, powder, Sunflower, Oil, Salt, 1/4, Turmeric, Haldi, cup, Whole, Wheat, Flour, Ghee]</td>\n",
       "      <td>[quantity, ingredient, ingredient, ingredient, quantity, unit, ingredient, ingredient, ingredient, ingredient, quantity, ingredient, ingredient, quantity, unit, ingredient, unit, ingredient, unit, ingredient, ingredient, ingredient, ingredient, ingredient, quantity, ingredient, ingredient, unit, ingredient, ingredient, ingredient, ingredient]</td>\n",
       "    </tr>\n",
       "    <tr>\n",
       "      <th>281</th>\n",
       "      <td>2 cups Fresh orange juice teaspoons Ginger grated tablespoons Tea Monk Seiki Peppermint Green 4 Chilled water</td>\n",
       "      <td>quantity unit ingredient ingredient ingredient unit ingredient ingredient unit ingredient ingredient ingredient ingredient ingredient quantity ingredient ingredient</td>\n",
       "      <td>[2, cups, Fresh, orange, juice, teaspoons, Ginger, grated, tablespoons, Tea, Monk, Seiki, Peppermint, Green, 4, Chilled, water]</td>\n",
       "      <td>[quantity, unit, ingredient, ingredient, ingredient, unit, ingredient, ingredient, unit, ingredient, ingredient, ingredient, ingredient, ingredient, quantity, ingredient, ingredient]</td>\n",
       "    </tr>\n",
       "    <tr>\n",
       "      <th>282</th>\n",
       "      <td>3 Potatoes Aloo 2 Green zucchini 1 tablespoon Red Chilli flakes Dried oregano Thyme Leaves Black pepper powder 1/4 cup Cheddar cheese grated 1/2 Whole Wheat Bread crumbs Salt</td>\n",
       "      <td>quantity ingredient ingredient quantity ingredient ingredient quantity unit ingredient ingredient ingredient ingredient ingredient ingredient ingredient ingredient ingredient ingredient quantity unit ingredient ingredient ingredient quantity ingredient ingredient ingredient ingredient ingredient</td>\n",
       "      <td>[3, Potatoes, Aloo, 2, Green, zucchini, 1, tablespoon, Red, Chilli, flakes, Dried, oregano, Thyme, Leaves, Black, pepper, powder, 1/4, cup, Cheddar, cheese, grated, 1/2, Whole, Wheat, Bread, crumbs, Salt]</td>\n",
       "      <td>[quantity, ingredient, ingredient, quantity, ingredient, ingredient, quantity, unit, ingredient, ingredient, ingredient, ingredient, ingredient, ingredient, ingredient, ingredient, ingredient, ingredient, quantity, unit, ingredient, ingredient, ingredient, quantity, ingredient, ingredient, ingredient, ingredient, ingredient]</td>\n",
       "    </tr>\n",
       "    <tr>\n",
       "      <th>283</th>\n",
       "      <td>1 cup Pink Masoor Dal 200 grams Drumstick Leaves Moringa Murungai Keerai 1/4 teaspoon Asafoetida hing Cumin seeds Jeera inch Ginger finely chopped Dry Red Chilli Tomato Green slit 2 teaspoons Coriander Powder Dhania 1/2 Turmeric powder Haldi Salt tablespoon Ghee Lemon juice extracted</td>\n",
       "      <td>quantity unit ingredient ingredient ingredient quantity unit ingredient ingredient ingredient ingredient ingredient quantity unit ingredient ingredient ingredient ingredient ingredient unit ingredient ingredient ingredient ingredient ingredient ingredient ingredient ingredient ingredient quantity unit ingredient ingredient ingredient quantity ingredient ingredient ingredient ingredient unit ingredient ingredient ingredient ingredient</td>\n",
       "      <td>[1, cup, Pink, Masoor, Dal, 200, grams, Drumstick, Leaves, Moringa, Murungai, Keerai, 1/4, teaspoon, Asafoetida, hing, Cumin, seeds, Jeera, inch, Ginger, finely, chopped, Dry, Red, Chilli, Tomato, Green, slit, 2, teaspoons, Coriander, Powder, Dhania, 1/2, Turmeric, powder, Haldi, Salt, tablespoon, Ghee, Lemon, juice, extracted]</td>\n",
       "      <td>[quantity, unit, ingredient, ingredient, ingredient, quantity, unit, ingredient, ingredient, ingredient, ingredient, ingredient, quantity, unit, ingredient, ingredient, ingredient, ingredient, ingredient, unit, ingredient, ingredient, ingredient, ingredient, ingredient, ingredient, ingredient, ingredient, ingredient, quantity, unit, ingredient, ingredient, ingredient, quantity, ingredient, ingredient, ingredient, ingredient, unit, ingredient, ingredient, ingredient, ingredient]</td>\n",
       "    </tr>\n",
       "    <tr>\n",
       "      <th>284</th>\n",
       "      <td>1/2 cup Bajra Flour Jowar Whole Wheat 2 cups Methi Leaves inch Ginger 3 Green Chillies 1 tablespoon Sesame seeds teaspoons Red Chilli powder Turmeric 1/4 teaspoon Asafoetida 5 tablespoons Curd Sugar Sunflower Oil</td>\n",
       "      <td>quantity unit ingredient ingredient ingredient ingredient ingredient quantity unit ingredient ingredient unit ingredient quantity ingredient ingredient quantity unit ingredient ingredient unit ingredient ingredient ingredient ingredient quantity unit ingredient quantity unit ingredient ingredient ingredient ingredient</td>\n",
       "      <td>[1/2, cup, Bajra, Flour, Jowar, Whole, Wheat, 2, cups, Methi, Leaves, inch, Ginger, 3, Green, Chillies, 1, tablespoon, Sesame, seeds, teaspoons, Red, Chilli, powder, Turmeric, 1/4, teaspoon, Asafoetida, 5, tablespoons, Curd, Sugar, Sunflower, Oil]</td>\n",
       "      <td>[quantity, unit, ingredient, ingredient, ingredient, ingredient, ingredient, quantity, unit, ingredient, ingredient, unit, ingredient, quantity, ingredient, ingredient, quantity, unit, ingredient, ingredient, unit, ingredient, ingredient, ingredient, ingredient, quantity, unit, ingredient, quantity, unit, ingredient, ingredient, ingredient, ingredient]</td>\n",
       "    </tr>\n",
       "  </tbody>\n",
       "</table>\n",
       "<p>285 rows × 4 columns</p>\n",
       "</div>"
      ],
      "text/plain": [
       "                                                                                                                                                                                                                                                                                              input                                                                                                                                                                                                                                                                                                                                                                                                                                                                      pos                                                                                                                                                                                                                                                                                                                                   input_tokens                                                                                                                                                                                                                                                                                                                                                                                                                                                                                                              pos_tokens\n",
       "0                                                                                                   6 Karela Bitter Gourd Pavakkai Salt 1 Onion 3 tablespoon Gram flour besan 2 teaspoons Turmeric powder Haldi Red Chilli Cumin seeds Jeera Coriander Powder Dhania Amchur Dry Mango Sunflower Oil                                                                                                                                         quantity ingredient ingredient ingredient ingredient ingredient quantity ingredient quantity unit ingredient ingredient ingredient quantity unit ingredient ingredient ingredient ingredient ingredient ingredient ingredient ingredient ingredient ingredient ingredient ingredient ingredient ingredient ingredient ingredient                                                                                                                [6, Karela, Bitter, Gourd, Pavakkai, Salt, 1, Onion, 3, tablespoon, Gram, flour, besan, 2, teaspoons, Turmeric, powder, Haldi, Red, Chilli, Cumin, seeds, Jeera, Coriander, Powder, Dhania, Amchur, Dry, Mango, Sunflower, Oil]                                                                                                                                                        [quantity, ingredient, ingredient, ingredient, ingredient, ingredient, quantity, ingredient, quantity, unit, ingredient, ingredient, ingredient, quantity, unit, ingredient, ingredient, ingredient, ingredient, ingredient, ingredient, ingredient, ingredient, ingredient, ingredient, ingredient, ingredient, ingredient, ingredient, ingredient, ingredient]\n",
       "1                                                                                      2-1/2 cups rice cooked 3 tomatoes teaspoons BC Belle Bhat powder 1 teaspoon chickpea lentils 1/2 cumin seeds white urad dal mustard green chilli dry red 2 cashew or peanuts 1-1/2 tablespoon oil asafoetida                                                                                                                        quantity unit ingredient ingredient quantity ingredient unit ingredient ingredient ingredient ingredient quantity unit ingredient ingredient quantity ingredient ingredient ingredient ingredient ingredient ingredient ingredient ingredient ingredient ingredient quantity ingredient ingredient ingredient quantity unit ingredient ingredient                                                                                                [2-1/2, cups, rice, cooked, 3, tomatoes, teaspoons, BC, Belle, Bhat, powder, 1, teaspoon, chickpea, lentils, 1/2, cumin, seeds, white, urad, dal, mustard, green, chilli, dry, red, 2, cashew, or, peanuts, 1-1/2, tablespoon, oil, asafoetida]                                                                                                                                    [quantity, unit, ingredient, ingredient, quantity, ingredient, unit, ingredient, ingredient, ingredient, ingredient, quantity, unit, ingredient, ingredient, quantity, ingredient, ingredient, ingredient, ingredient, ingredient, ingredient, ingredient, ingredient, ingredient, ingredient, quantity, ingredient, ingredient, ingredient, quantity, unit, ingredient, ingredient]\n",
       "2                                                                    1-1/2 cups Rice Vermicelli Noodles Thin 1 Onion sliced 1/2 cup Carrots Gajjar chopped 1/3 Green peas Matar 2 Chillies 1/4 teaspoon Asafoetida hing Mustard seeds White Urad Dal Split Ghee sprig Curry leaves Salt Lemon juice                                                                                       quantity unit ingredient ingredient ingredient ingredient quantity ingredient ingredient quantity unit ingredient ingredient ingredient quantity ingredient ingredient ingredient quantity ingredient quantity unit ingredient ingredient ingredient ingredient ingredient ingredient ingredient ingredient ingredient unit ingredient ingredient ingredient ingredient ingredient                                                                           [1-1/2, cups, Rice, Vermicelli, Noodles, Thin, 1, Onion, sliced, 1/2, cup, Carrots, Gajjar, chopped, 1/3, Green, peas, Matar, 2, Chillies, 1/4, teaspoon, Asafoetida, hing, Mustard, seeds, White, Urad, Dal, Split, Ghee, sprig, Curry, leaves, Salt, Lemon, juice]                                                                                                [quantity, unit, ingredient, ingredient, ingredient, ingredient, quantity, ingredient, ingredient, quantity, unit, ingredient, ingredient, ingredient, quantity, ingredient, ingredient, ingredient, quantity, ingredient, quantity, unit, ingredient, ingredient, ingredient, ingredient, ingredient, ingredient, ingredient, ingredient, ingredient, unit, ingredient, ingredient, ingredient, ingredient, ingredient]\n",
       "3    500 grams Chicken 2 Onion chopped 1 Tomato 4 Green Chillies slit inch Ginger finely 6 cloves Garlic 1/2 teaspoon Turmeric powder Haldi Garam masala tablespoon Sesame Gingelly Oil 1/4 Methi Seeds Fenugreek Coriander Dhania Dry Red Fennel seeds Saunf cups Sorrel Leaves Gongura picked and  quantity unit ingredient quantity ingredient ingredient quantity ingredient quantity ingredient ingredient ingredient unit ingredient ingredient quantity unit ingredient quantity unit ingredient ingredient ingredient ingredient ingredient unit ingredient ingredient ingredient quantity ingredient ingredient ingredient ingredient ingredient ingredient ingredient ingredient ingredient ingredient unit ingredient ingredient ingredient ingredient ingredient  [500, grams, Chicken, 2, Onion, chopped, 1, Tomato, 4, Green, Chillies, slit, inch, Ginger, finely, 6, cloves, Garlic, 1/2, teaspoon, Turmeric, powder, Haldi, Garam, masala, tablespoon, Sesame, Gingelly, Oil, 1/4, Methi, Seeds, Fenugreek, Coriander, Dhania, Dry, Red, Fennel, seeds, Saunf, cups, Sorrel, Leaves, Gongura, picked, and]  [quantity, unit, ingredient, quantity, ingredient, ingredient, quantity, ingredient, quantity, ingredient, ingredient, ingredient, unit, ingredient, ingredient, quantity, unit, ingredient, quantity, unit, ingredient, ingredient, ingredient, ingredient, ingredient, unit, ingredient, ingredient, ingredient, quantity, ingredient, ingredient, ingredient, ingredient, ingredient, ingredient, ingredient, ingredient, ingredient, ingredient, unit, ingredient, ingredient, ingredient, ingredient, ingredient]\n",
       "4                                                                                                                                                             1 tablespoon chana dal white urad 2 red chillies coriander seeds 3 inches ginger onion tomato Teaspoon mustard asafoetida sprig curry                                                                                                                                                                                                                                                                 quantity unit ingredient ingredient ingredient ingredient quantity ingredient ingredient ingredient ingredient quantity unit ingredient ingredient ingredient unit ingredient ingredient unit ingredient                                                                                                                                                                                    [1, tablespoon, chana, dal, white, urad, 2, red, chillies, coriander, seeds, 3, inches, ginger, onion, tomato, Teaspoon, mustard, asafoetida, sprig, curry]                                                                                                                                                                                                                                                                                          [quantity, unit, ingredient, ingredient, ingredient, ingredient, quantity, ingredient, ingredient, ingredient, ingredient, quantity, unit, ingredient, ingredient, ingredient, unit, ingredient, ingredient, unit, ingredient]\n",
       "..                                                                                                                                                                                                                                                                                              ...                                                                                                                                                                                                                                                                                                                                                                                                                                                                      ...                                                                                                                                                                                                                                                                                                                                            ...                                                                                                                                                                                                                                                                                                                                                                                                                                                                                                                     ...\n",
       "280                                                                                              2 Mooli Mullangi Radish 200 grams Paneer Homemade Cottage Cheese 1 Green Chilli 4 cloves Garlic inch Ginger teaspoon Cumin powder Sunflower Oil Salt 1/4 Turmeric Haldi cup Whole Wheat Flour Ghee                                                                                                                                                  quantity ingredient ingredient ingredient quantity unit ingredient ingredient ingredient ingredient quantity ingredient ingredient quantity unit ingredient unit ingredient unit ingredient ingredient ingredient ingredient ingredient quantity ingredient ingredient unit ingredient ingredient ingredient ingredient                                                                                                            [2, Mooli, Mullangi, Radish, 200, grams, Paneer, Homemade, Cottage, Cheese, 1, Green, Chilli, 4, cloves, Garlic, inch, Ginger, teaspoon, Cumin, powder, Sunflower, Oil, Salt, 1/4, Turmeric, Haldi, cup, Whole, Wheat, Flour, Ghee]                                                                                                                                                                [quantity, ingredient, ingredient, ingredient, quantity, unit, ingredient, ingredient, ingredient, ingredient, quantity, ingredient, ingredient, quantity, unit, ingredient, unit, ingredient, unit, ingredient, ingredient, ingredient, ingredient, ingredient, quantity, ingredient, ingredient, unit, ingredient, ingredient, ingredient, ingredient]\n",
       "281                                                                                                                                                                                   2 cups Fresh orange juice teaspoons Ginger grated tablespoons Tea Monk Seiki Peppermint Green 4 Chilled water                                                                                                                                                                                                                                                                                                     quantity unit ingredient ingredient ingredient unit ingredient ingredient unit ingredient ingredient ingredient ingredient ingredient quantity ingredient ingredient                                                                                                                                                                                                                [2, cups, Fresh, orange, juice, teaspoons, Ginger, grated, tablespoons, Tea, Monk, Seiki, Peppermint, Green, 4, Chilled, water]                                                                                                                                                                                                                                                                                                                                  [quantity, unit, ingredient, ingredient, ingredient, unit, ingredient, ingredient, unit, ingredient, ingredient, ingredient, ingredient, ingredient, quantity, ingredient, ingredient]\n",
       "282                                                                                                                  3 Potatoes Aloo 2 Green zucchini 1 tablespoon Red Chilli flakes Dried oregano Thyme Leaves Black pepper powder 1/4 cup Cheddar cheese grated 1/2 Whole Wheat Bread crumbs Salt                                                                                                                                                                 quantity ingredient ingredient quantity ingredient ingredient quantity unit ingredient ingredient ingredient ingredient ingredient ingredient ingredient ingredient ingredient ingredient quantity unit ingredient ingredient ingredient quantity ingredient ingredient ingredient ingredient ingredient                                                                                                                                   [3, Potatoes, Aloo, 2, Green, zucchini, 1, tablespoon, Red, Chilli, flakes, Dried, oregano, Thyme, Leaves, Black, pepper, powder, 1/4, cup, Cheddar, cheese, grated, 1/2, Whole, Wheat, Bread, crumbs, Salt]                                                                                                                                                                                  [quantity, ingredient, ingredient, quantity, ingredient, ingredient, quantity, unit, ingredient, ingredient, ingredient, ingredient, ingredient, ingredient, ingredient, ingredient, ingredient, ingredient, quantity, unit, ingredient, ingredient, ingredient, quantity, ingredient, ingredient, ingredient, ingredient, ingredient]\n",
       "283    1 cup Pink Masoor Dal 200 grams Drumstick Leaves Moringa Murungai Keerai 1/4 teaspoon Asafoetida hing Cumin seeds Jeera inch Ginger finely chopped Dry Red Chilli Tomato Green slit 2 teaspoons Coriander Powder Dhania 1/2 Turmeric powder Haldi Salt tablespoon Ghee Lemon juice extracted                    quantity unit ingredient ingredient ingredient quantity unit ingredient ingredient ingredient ingredient ingredient quantity unit ingredient ingredient ingredient ingredient ingredient unit ingredient ingredient ingredient ingredient ingredient ingredient ingredient ingredient ingredient quantity unit ingredient ingredient ingredient quantity ingredient ingredient ingredient ingredient unit ingredient ingredient ingredient ingredient      [1, cup, Pink, Masoor, Dal, 200, grams, Drumstick, Leaves, Moringa, Murungai, Keerai, 1/4, teaspoon, Asafoetida, hing, Cumin, seeds, Jeera, inch, Ginger, finely, chopped, Dry, Red, Chilli, Tomato, Green, slit, 2, teaspoons, Coriander, Powder, Dhania, 1/2, Turmeric, powder, Haldi, Salt, tablespoon, Ghee, Lemon, juice, extracted]                      [quantity, unit, ingredient, ingredient, ingredient, quantity, unit, ingredient, ingredient, ingredient, ingredient, ingredient, quantity, unit, ingredient, ingredient, ingredient, ingredient, ingredient, unit, ingredient, ingredient, ingredient, ingredient, ingredient, ingredient, ingredient, ingredient, ingredient, quantity, unit, ingredient, ingredient, ingredient, quantity, ingredient, ingredient, ingredient, ingredient, unit, ingredient, ingredient, ingredient, ingredient]\n",
       "284                                                                            1/2 cup Bajra Flour Jowar Whole Wheat 2 cups Methi Leaves inch Ginger 3 Green Chillies 1 tablespoon Sesame seeds teaspoons Red Chilli powder Turmeric 1/4 teaspoon Asafoetida 5 tablespoons Curd Sugar Sunflower Oil                                                                                                                                          quantity unit ingredient ingredient ingredient ingredient ingredient quantity unit ingredient ingredient unit ingredient quantity ingredient ingredient quantity unit ingredient ingredient unit ingredient ingredient ingredient ingredient quantity unit ingredient quantity unit ingredient ingredient ingredient ingredient                                                                                        [1/2, cup, Bajra, Flour, Jowar, Whole, Wheat, 2, cups, Methi, Leaves, inch, Ginger, 3, Green, Chillies, 1, tablespoon, Sesame, seeds, teaspoons, Red, Chilli, powder, Turmeric, 1/4, teaspoon, Asafoetida, 5, tablespoons, Curd, Sugar, Sunflower, Oil]                                                                                                                                                      [quantity, unit, ingredient, ingredient, ingredient, ingredient, ingredient, quantity, unit, ingredient, ingredient, unit, ingredient, quantity, ingredient, ingredient, quantity, unit, ingredient, ingredient, unit, ingredient, ingredient, ingredient, ingredient, quantity, unit, ingredient, quantity, unit, ingredient, ingredient, ingredient, ingredient]\n",
       "\n",
       "[285 rows x 4 columns]"
      ]
     },
     "execution_count": 10,
     "metadata": {},
     "output_type": "execute_result"
    }
   ],
   "source": [
    "# split the input and pos into input_tokens and pos_tokens in the dataframe\n",
    "\n",
    "# Tokenize input\n",
    "# Tokenize POS\n",
    "\n",
    "\n",
    "\n",
    "def split_tokens(df):\n",
    "    \"\"\"\n",
    "    Splits the 'input' and 'pos' columns in the DataFrame into 'input_tokens' and 'pos_tokens' respectively.\n",
    "\n",
    "    Parameters:\n",
    "    - df (pd.DataFrame): DataFrame with 'input' and 'pos' columns containing space-separated strings.\n",
    "\n",
    "    Returns:\n",
    "    - pd.DataFrame: Modified DataFrame with new 'input_tokens' and 'pos_tokens' columns.\n",
    "    \"\"\"\n",
    "    df['input_tokens'] = df['input'].apply(lambda x: x.split() if isinstance(x, str) else [])\n",
    "    df['pos_tokens'] = df['pos'].apply(lambda x: x.split() if isinstance(x, str) else [])\n",
    "    return df\n",
    "split_tokens(df)"
   ]
  },
  {
   "cell_type": "code",
   "execution_count": 11,
   "metadata": {
    "id": "9g-ajvFBzaaf"
   },
   "outputs": [
    {
     "name": "stdout",
     "output_type": "stream",
     "text": [
      "                                                                                                                                                                                                                                                                                            input                                                                                                                                                                                                                                                                                                                                                                                                                                                                      pos                                                                                                                                                                                                                                                                                                                                   input_tokens                                                                                                                                                                                                                                                                                                                                                                                                                                                                                                              pos_tokens\n",
      "0                                                                                                 6 Karela Bitter Gourd Pavakkai Salt 1 Onion 3 tablespoon Gram flour besan 2 teaspoons Turmeric powder Haldi Red Chilli Cumin seeds Jeera Coriander Powder Dhania Amchur Dry Mango Sunflower Oil                                                                                                                                         quantity ingredient ingredient ingredient ingredient ingredient quantity ingredient quantity unit ingredient ingredient ingredient quantity unit ingredient ingredient ingredient ingredient ingredient ingredient ingredient ingredient ingredient ingredient ingredient ingredient ingredient ingredient ingredient ingredient                                                                                                                [6, Karela, Bitter, Gourd, Pavakkai, Salt, 1, Onion, 3, tablespoon, Gram, flour, besan, 2, teaspoons, Turmeric, powder, Haldi, Red, Chilli, Cumin, seeds, Jeera, Coriander, Powder, Dhania, Amchur, Dry, Mango, Sunflower, Oil]                                                                                                                                                        [quantity, ingredient, ingredient, ingredient, ingredient, ingredient, quantity, ingredient, quantity, unit, ingredient, ingredient, ingredient, quantity, unit, ingredient, ingredient, ingredient, ingredient, ingredient, ingredient, ingredient, ingredient, ingredient, ingredient, ingredient, ingredient, ingredient, ingredient, ingredient, ingredient]\n",
      "1                                                                                    2-1/2 cups rice cooked 3 tomatoes teaspoons BC Belle Bhat powder 1 teaspoon chickpea lentils 1/2 cumin seeds white urad dal mustard green chilli dry red 2 cashew or peanuts 1-1/2 tablespoon oil asafoetida                                                                                                                        quantity unit ingredient ingredient quantity ingredient unit ingredient ingredient ingredient ingredient quantity unit ingredient ingredient quantity ingredient ingredient ingredient ingredient ingredient ingredient ingredient ingredient ingredient ingredient quantity ingredient ingredient ingredient quantity unit ingredient ingredient                                                                                                [2-1/2, cups, rice, cooked, 3, tomatoes, teaspoons, BC, Belle, Bhat, powder, 1, teaspoon, chickpea, lentils, 1/2, cumin, seeds, white, urad, dal, mustard, green, chilli, dry, red, 2, cashew, or, peanuts, 1-1/2, tablespoon, oil, asafoetida]                                                                                                                                    [quantity, unit, ingredient, ingredient, quantity, ingredient, unit, ingredient, ingredient, ingredient, ingredient, quantity, unit, ingredient, ingredient, quantity, ingredient, ingredient, ingredient, ingredient, ingredient, ingredient, ingredient, ingredient, ingredient, ingredient, quantity, ingredient, ingredient, ingredient, quantity, unit, ingredient, ingredient]\n",
      "2                                                                  1-1/2 cups Rice Vermicelli Noodles Thin 1 Onion sliced 1/2 cup Carrots Gajjar chopped 1/3 Green peas Matar 2 Chillies 1/4 teaspoon Asafoetida hing Mustard seeds White Urad Dal Split Ghee sprig Curry leaves Salt Lemon juice                                                                                       quantity unit ingredient ingredient ingredient ingredient quantity ingredient ingredient quantity unit ingredient ingredient ingredient quantity ingredient ingredient ingredient quantity ingredient quantity unit ingredient ingredient ingredient ingredient ingredient ingredient ingredient ingredient ingredient unit ingredient ingredient ingredient ingredient ingredient                                                                           [1-1/2, cups, Rice, Vermicelli, Noodles, Thin, 1, Onion, sliced, 1/2, cup, Carrots, Gajjar, chopped, 1/3, Green, peas, Matar, 2, Chillies, 1/4, teaspoon, Asafoetida, hing, Mustard, seeds, White, Urad, Dal, Split, Ghee, sprig, Curry, leaves, Salt, Lemon, juice]                                                                                                [quantity, unit, ingredient, ingredient, ingredient, ingredient, quantity, ingredient, ingredient, quantity, unit, ingredient, ingredient, ingredient, quantity, ingredient, ingredient, ingredient, quantity, ingredient, quantity, unit, ingredient, ingredient, ingredient, ingredient, ingredient, ingredient, ingredient, ingredient, ingredient, unit, ingredient, ingredient, ingredient, ingredient, ingredient]\n",
      "3  500 grams Chicken 2 Onion chopped 1 Tomato 4 Green Chillies slit inch Ginger finely 6 cloves Garlic 1/2 teaspoon Turmeric powder Haldi Garam masala tablespoon Sesame Gingelly Oil 1/4 Methi Seeds Fenugreek Coriander Dhania Dry Red Fennel seeds Saunf cups Sorrel Leaves Gongura picked and  quantity unit ingredient quantity ingredient ingredient quantity ingredient quantity ingredient ingredient ingredient unit ingredient ingredient quantity unit ingredient quantity unit ingredient ingredient ingredient ingredient ingredient unit ingredient ingredient ingredient quantity ingredient ingredient ingredient ingredient ingredient ingredient ingredient ingredient ingredient ingredient unit ingredient ingredient ingredient ingredient ingredient  [500, grams, Chicken, 2, Onion, chopped, 1, Tomato, 4, Green, Chillies, slit, inch, Ginger, finely, 6, cloves, Garlic, 1/2, teaspoon, Turmeric, powder, Haldi, Garam, masala, tablespoon, Sesame, Gingelly, Oil, 1/4, Methi, Seeds, Fenugreek, Coriander, Dhania, Dry, Red, Fennel, seeds, Saunf, cups, Sorrel, Leaves, Gongura, picked, and]  [quantity, unit, ingredient, quantity, ingredient, ingredient, quantity, ingredient, quantity, ingredient, ingredient, ingredient, unit, ingredient, ingredient, quantity, unit, ingredient, quantity, unit, ingredient, ingredient, ingredient, ingredient, ingredient, unit, ingredient, ingredient, ingredient, quantity, ingredient, ingredient, ingredient, ingredient, ingredient, ingredient, ingredient, ingredient, ingredient, ingredient, unit, ingredient, ingredient, ingredient, ingredient, ingredient]\n",
      "4                                                                                                                                                           1 tablespoon chana dal white urad 2 red chillies coriander seeds 3 inches ginger onion tomato Teaspoon mustard asafoetida sprig curry                                                                                                                                                                                                                                                                 quantity unit ingredient ingredient ingredient ingredient quantity ingredient ingredient ingredient ingredient quantity unit ingredient ingredient ingredient unit ingredient ingredient unit ingredient                                                                                                                                                                                    [1, tablespoon, chana, dal, white, urad, 2, red, chillies, coriander, seeds, 3, inches, ginger, onion, tomato, Teaspoon, mustard, asafoetida, sprig, curry]                                                                                                                                                                                                                                                                                          [quantity, unit, ingredient, ingredient, ingredient, ingredient, quantity, ingredient, ingredient, ingredient, ingredient, quantity, unit, ingredient, ingredient, ingredient, unit, ingredient, ingredient, unit, ingredient]\n"
     ]
    }
   ],
   "source": [
    "# display first five rows of the dataframe - df\n",
    "print(df.head())"
   ]
  },
  {
   "cell_type": "markdown",
   "metadata": {
    "id": "-JtvsBYur-oV"
   },
   "source": [
    "##### **2.2.2** **Provide the length for input_tokens and pos_tokens and validate their length** <font color = red>[2 marks]</font> <br>\n",
    "\n",
    "Create input_length and pos_length columns in the dataframe and validate both the lengths. Check for the rows that are unequal in input and pos length\n"
   ]
  },
  {
   "cell_type": "code",
   "execution_count": 12,
   "metadata": {
    "id": "GeVRD2IK1Jrg"
   },
   "outputs": [
    {
     "data": {
      "text/html": [
       "<div>\n",
       "<style scoped>\n",
       "    .dataframe tbody tr th:only-of-type {\n",
       "        vertical-align: middle;\n",
       "    }\n",
       "\n",
       "    .dataframe tbody tr th {\n",
       "        vertical-align: top;\n",
       "    }\n",
       "\n",
       "    .dataframe thead th {\n",
       "        text-align: right;\n",
       "    }\n",
       "</style>\n",
       "<table border=\"1\" class=\"dataframe\">\n",
       "  <thead>\n",
       "    <tr style=\"text-align: right;\">\n",
       "      <th></th>\n",
       "      <th>input</th>\n",
       "      <th>pos</th>\n",
       "      <th>input_tokens</th>\n",
       "      <th>pos_tokens</th>\n",
       "      <th>input_length</th>\n",
       "      <th>pos_length</th>\n",
       "    </tr>\n",
       "  </thead>\n",
       "  <tbody>\n",
       "    <tr>\n",
       "      <th>0</th>\n",
       "      <td>6 Karela Bitter Gourd Pavakkai Salt 1 Onion 3 tablespoon Gram flour besan 2 teaspoons Turmeric powder Haldi Red Chilli Cumin seeds Jeera Coriander Powder Dhania Amchur Dry Mango Sunflower Oil</td>\n",
       "      <td>quantity ingredient ingredient ingredient ingredient ingredient quantity ingredient quantity unit ingredient ingredient ingredient quantity unit ingredient ingredient ingredient ingredient ingredient ingredient ingredient ingredient ingredient ingredient ingredient ingredient ingredient ingredient ingredient ingredient</td>\n",
       "      <td>[6, Karela, Bitter, Gourd, Pavakkai, Salt, 1, Onion, 3, tablespoon, Gram, flour, besan, 2, teaspoons, Turmeric, powder, Haldi, Red, Chilli, Cumin, seeds, Jeera, Coriander, Powder, Dhania, Amchur, Dry, Mango, Sunflower, Oil]</td>\n",
       "      <td>[quantity, ingredient, ingredient, ingredient, ingredient, ingredient, quantity, ingredient, quantity, unit, ingredient, ingredient, ingredient, quantity, unit, ingredient, ingredient, ingredient, ingredient, ingredient, ingredient, ingredient, ingredient, ingredient, ingredient, ingredient, ingredient, ingredient, ingredient, ingredient, ingredient]</td>\n",
       "      <td>31</td>\n",
       "      <td>31</td>\n",
       "    </tr>\n",
       "    <tr>\n",
       "      <th>1</th>\n",
       "      <td>2-1/2 cups rice cooked 3 tomatoes teaspoons BC Belle Bhat powder 1 teaspoon chickpea lentils 1/2 cumin seeds white urad dal mustard green chilli dry red 2 cashew or peanuts 1-1/2 tablespoon oil asafoetida</td>\n",
       "      <td>quantity unit ingredient ingredient quantity ingredient unit ingredient ingredient ingredient ingredient quantity unit ingredient ingredient quantity ingredient ingredient ingredient ingredient ingredient ingredient ingredient ingredient ingredient ingredient quantity ingredient ingredient ingredient quantity unit ingredient ingredient</td>\n",
       "      <td>[2-1/2, cups, rice, cooked, 3, tomatoes, teaspoons, BC, Belle, Bhat, powder, 1, teaspoon, chickpea, lentils, 1/2, cumin, seeds, white, urad, dal, mustard, green, chilli, dry, red, 2, cashew, or, peanuts, 1-1/2, tablespoon, oil, asafoetida]</td>\n",
       "      <td>[quantity, unit, ingredient, ingredient, quantity, ingredient, unit, ingredient, ingredient, ingredient, ingredient, quantity, unit, ingredient, ingredient, quantity, ingredient, ingredient, ingredient, ingredient, ingredient, ingredient, ingredient, ingredient, ingredient, ingredient, quantity, ingredient, ingredient, ingredient, quantity, unit, ingredient, ingredient]</td>\n",
       "      <td>34</td>\n",
       "      <td>34</td>\n",
       "    </tr>\n",
       "    <tr>\n",
       "      <th>2</th>\n",
       "      <td>1-1/2 cups Rice Vermicelli Noodles Thin 1 Onion sliced 1/2 cup Carrots Gajjar chopped 1/3 Green peas Matar 2 Chillies 1/4 teaspoon Asafoetida hing Mustard seeds White Urad Dal Split Ghee sprig Curry leaves Salt Lemon juice</td>\n",
       "      <td>quantity unit ingredient ingredient ingredient ingredient quantity ingredient ingredient quantity unit ingredient ingredient ingredient quantity ingredient ingredient ingredient quantity ingredient quantity unit ingredient ingredient ingredient ingredient ingredient ingredient ingredient ingredient ingredient unit ingredient ingredient ingredient ingredient ingredient</td>\n",
       "      <td>[1-1/2, cups, Rice, Vermicelli, Noodles, Thin, 1, Onion, sliced, 1/2, cup, Carrots, Gajjar, chopped, 1/3, Green, peas, Matar, 2, Chillies, 1/4, teaspoon, Asafoetida, hing, Mustard, seeds, White, Urad, Dal, Split, Ghee, sprig, Curry, leaves, Salt, Lemon, juice]</td>\n",
       "      <td>[quantity, unit, ingredient, ingredient, ingredient, ingredient, quantity, ingredient, ingredient, quantity, unit, ingredient, ingredient, ingredient, quantity, ingredient, ingredient, ingredient, quantity, ingredient, quantity, unit, ingredient, ingredient, ingredient, ingredient, ingredient, ingredient, ingredient, ingredient, ingredient, unit, ingredient, ingredient, ingredient, ingredient, ingredient]</td>\n",
       "      <td>37</td>\n",
       "      <td>37</td>\n",
       "    </tr>\n",
       "    <tr>\n",
       "      <th>3</th>\n",
       "      <td>500 grams Chicken 2 Onion chopped 1 Tomato 4 Green Chillies slit inch Ginger finely 6 cloves Garlic 1/2 teaspoon Turmeric powder Haldi Garam masala tablespoon Sesame Gingelly Oil 1/4 Methi Seeds Fenugreek Coriander Dhania Dry Red Fennel seeds Saunf cups Sorrel Leaves Gongura picked and</td>\n",
       "      <td>quantity unit ingredient quantity ingredient ingredient quantity ingredient quantity ingredient ingredient ingredient unit ingredient ingredient quantity unit ingredient quantity unit ingredient ingredient ingredient ingredient ingredient unit ingredient ingredient ingredient quantity ingredient ingredient ingredient ingredient ingredient ingredient ingredient ingredient ingredient ingredient unit ingredient ingredient ingredient ingredient ingredient</td>\n",
       "      <td>[500, grams, Chicken, 2, Onion, chopped, 1, Tomato, 4, Green, Chillies, slit, inch, Ginger, finely, 6, cloves, Garlic, 1/2, teaspoon, Turmeric, powder, Haldi, Garam, masala, tablespoon, Sesame, Gingelly, Oil, 1/4, Methi, Seeds, Fenugreek, Coriander, Dhania, Dry, Red, Fennel, seeds, Saunf, cups, Sorrel, Leaves, Gongura, picked, and]</td>\n",
       "      <td>[quantity, unit, ingredient, quantity, ingredient, ingredient, quantity, ingredient, quantity, ingredient, ingredient, ingredient, unit, ingredient, ingredient, quantity, unit, ingredient, quantity, unit, ingredient, ingredient, ingredient, ingredient, ingredient, unit, ingredient, ingredient, ingredient, quantity, ingredient, ingredient, ingredient, ingredient, ingredient, ingredient, ingredient, ingredient, ingredient, ingredient, unit, ingredient, ingredient, ingredient, ingredient, ingredient]</td>\n",
       "      <td>46</td>\n",
       "      <td>46</td>\n",
       "    </tr>\n",
       "    <tr>\n",
       "      <th>4</th>\n",
       "      <td>1 tablespoon chana dal white urad 2 red chillies coriander seeds 3 inches ginger onion tomato Teaspoon mustard asafoetida sprig curry</td>\n",
       "      <td>quantity unit ingredient ingredient ingredient ingredient quantity ingredient ingredient ingredient ingredient quantity unit ingredient ingredient ingredient unit ingredient ingredient unit ingredient</td>\n",
       "      <td>[1, tablespoon, chana, dal, white, urad, 2, red, chillies, coriander, seeds, 3, inches, ginger, onion, tomato, Teaspoon, mustard, asafoetida, sprig, curry]</td>\n",
       "      <td>[quantity, unit, ingredient, ingredient, ingredient, ingredient, quantity, ingredient, ingredient, ingredient, ingredient, quantity, unit, ingredient, ingredient, ingredient, unit, ingredient, ingredient, unit, ingredient]</td>\n",
       "      <td>21</td>\n",
       "      <td>21</td>\n",
       "    </tr>\n",
       "    <tr>\n",
       "      <th>...</th>\n",
       "      <td>...</td>\n",
       "      <td>...</td>\n",
       "      <td>...</td>\n",
       "      <td>...</td>\n",
       "      <td>...</td>\n",
       "      <td>...</td>\n",
       "    </tr>\n",
       "    <tr>\n",
       "      <th>280</th>\n",
       "      <td>2 Mooli Mullangi Radish 200 grams Paneer Homemade Cottage Cheese 1 Green Chilli 4 cloves Garlic inch Ginger teaspoon Cumin powder Sunflower Oil Salt 1/4 Turmeric Haldi cup Whole Wheat Flour Ghee</td>\n",
       "      <td>quantity ingredient ingredient ingredient quantity unit ingredient ingredient ingredient ingredient quantity ingredient ingredient quantity unit ingredient unit ingredient unit ingredient ingredient ingredient ingredient ingredient quantity ingredient ingredient unit ingredient ingredient ingredient ingredient</td>\n",
       "      <td>[2, Mooli, Mullangi, Radish, 200, grams, Paneer, Homemade, Cottage, Cheese, 1, Green, Chilli, 4, cloves, Garlic, inch, Ginger, teaspoon, Cumin, powder, Sunflower, Oil, Salt, 1/4, Turmeric, Haldi, cup, Whole, Wheat, Flour, Ghee]</td>\n",
       "      <td>[quantity, ingredient, ingredient, ingredient, quantity, unit, ingredient, ingredient, ingredient, ingredient, quantity, ingredient, ingredient, quantity, unit, ingredient, unit, ingredient, unit, ingredient, ingredient, ingredient, ingredient, ingredient, quantity, ingredient, ingredient, unit, ingredient, ingredient, ingredient, ingredient]</td>\n",
       "      <td>32</td>\n",
       "      <td>32</td>\n",
       "    </tr>\n",
       "    <tr>\n",
       "      <th>281</th>\n",
       "      <td>2 cups Fresh orange juice teaspoons Ginger grated tablespoons Tea Monk Seiki Peppermint Green 4 Chilled water</td>\n",
       "      <td>quantity unit ingredient ingredient ingredient unit ingredient ingredient unit ingredient ingredient ingredient ingredient ingredient quantity ingredient ingredient</td>\n",
       "      <td>[2, cups, Fresh, orange, juice, teaspoons, Ginger, grated, tablespoons, Tea, Monk, Seiki, Peppermint, Green, 4, Chilled, water]</td>\n",
       "      <td>[quantity, unit, ingredient, ingredient, ingredient, unit, ingredient, ingredient, unit, ingredient, ingredient, ingredient, ingredient, ingredient, quantity, ingredient, ingredient]</td>\n",
       "      <td>17</td>\n",
       "      <td>17</td>\n",
       "    </tr>\n",
       "    <tr>\n",
       "      <th>282</th>\n",
       "      <td>3 Potatoes Aloo 2 Green zucchini 1 tablespoon Red Chilli flakes Dried oregano Thyme Leaves Black pepper powder 1/4 cup Cheddar cheese grated 1/2 Whole Wheat Bread crumbs Salt</td>\n",
       "      <td>quantity ingredient ingredient quantity ingredient ingredient quantity unit ingredient ingredient ingredient ingredient ingredient ingredient ingredient ingredient ingredient ingredient quantity unit ingredient ingredient ingredient quantity ingredient ingredient ingredient ingredient ingredient</td>\n",
       "      <td>[3, Potatoes, Aloo, 2, Green, zucchini, 1, tablespoon, Red, Chilli, flakes, Dried, oregano, Thyme, Leaves, Black, pepper, powder, 1/4, cup, Cheddar, cheese, grated, 1/2, Whole, Wheat, Bread, crumbs, Salt]</td>\n",
       "      <td>[quantity, ingredient, ingredient, quantity, ingredient, ingredient, quantity, unit, ingredient, ingredient, ingredient, ingredient, ingredient, ingredient, ingredient, ingredient, ingredient, ingredient, quantity, unit, ingredient, ingredient, ingredient, quantity, ingredient, ingredient, ingredient, ingredient, ingredient]</td>\n",
       "      <td>29</td>\n",
       "      <td>29</td>\n",
       "    </tr>\n",
       "    <tr>\n",
       "      <th>283</th>\n",
       "      <td>1 cup Pink Masoor Dal 200 grams Drumstick Leaves Moringa Murungai Keerai 1/4 teaspoon Asafoetida hing Cumin seeds Jeera inch Ginger finely chopped Dry Red Chilli Tomato Green slit 2 teaspoons Coriander Powder Dhania 1/2 Turmeric powder Haldi Salt tablespoon Ghee Lemon juice extracted</td>\n",
       "      <td>quantity unit ingredient ingredient ingredient quantity unit ingredient ingredient ingredient ingredient ingredient quantity unit ingredient ingredient ingredient ingredient ingredient unit ingredient ingredient ingredient ingredient ingredient ingredient ingredient ingredient ingredient quantity unit ingredient ingredient ingredient quantity ingredient ingredient ingredient ingredient unit ingredient ingredient ingredient ingredient</td>\n",
       "      <td>[1, cup, Pink, Masoor, Dal, 200, grams, Drumstick, Leaves, Moringa, Murungai, Keerai, 1/4, teaspoon, Asafoetida, hing, Cumin, seeds, Jeera, inch, Ginger, finely, chopped, Dry, Red, Chilli, Tomato, Green, slit, 2, teaspoons, Coriander, Powder, Dhania, 1/2, Turmeric, powder, Haldi, Salt, tablespoon, Ghee, Lemon, juice, extracted]</td>\n",
       "      <td>[quantity, unit, ingredient, ingredient, ingredient, quantity, unit, ingredient, ingredient, ingredient, ingredient, ingredient, quantity, unit, ingredient, ingredient, ingredient, ingredient, ingredient, unit, ingredient, ingredient, ingredient, ingredient, ingredient, ingredient, ingredient, ingredient, ingredient, quantity, unit, ingredient, ingredient, ingredient, quantity, ingredient, ingredient, ingredient, ingredient, unit, ingredient, ingredient, ingredient, ingredient]</td>\n",
       "      <td>44</td>\n",
       "      <td>44</td>\n",
       "    </tr>\n",
       "    <tr>\n",
       "      <th>284</th>\n",
       "      <td>1/2 cup Bajra Flour Jowar Whole Wheat 2 cups Methi Leaves inch Ginger 3 Green Chillies 1 tablespoon Sesame seeds teaspoons Red Chilli powder Turmeric 1/4 teaspoon Asafoetida 5 tablespoons Curd Sugar Sunflower Oil</td>\n",
       "      <td>quantity unit ingredient ingredient ingredient ingredient ingredient quantity unit ingredient ingredient unit ingredient quantity ingredient ingredient quantity unit ingredient ingredient unit ingredient ingredient ingredient ingredient quantity unit ingredient quantity unit ingredient ingredient ingredient ingredient</td>\n",
       "      <td>[1/2, cup, Bajra, Flour, Jowar, Whole, Wheat, 2, cups, Methi, Leaves, inch, Ginger, 3, Green, Chillies, 1, tablespoon, Sesame, seeds, teaspoons, Red, Chilli, powder, Turmeric, 1/4, teaspoon, Asafoetida, 5, tablespoons, Curd, Sugar, Sunflower, Oil]</td>\n",
       "      <td>[quantity, unit, ingredient, ingredient, ingredient, ingredient, ingredient, quantity, unit, ingredient, ingredient, unit, ingredient, quantity, ingredient, ingredient, quantity, unit, ingredient, ingredient, unit, ingredient, ingredient, ingredient, ingredient, quantity, unit, ingredient, quantity, unit, ingredient, ingredient, ingredient, ingredient]</td>\n",
       "      <td>34</td>\n",
       "      <td>34</td>\n",
       "    </tr>\n",
       "  </tbody>\n",
       "</table>\n",
       "<p>285 rows × 6 columns</p>\n",
       "</div>"
      ],
      "text/plain": [
       "                                                                                                                                                                                                                                                                                              input                                                                                                                                                                                                                                                                                                                                                                                                                                                                      pos                                                                                                                                                                                                                                                                                                                                   input_tokens                                                                                                                                                                                                                                                                                                                                                                                                                                                                                                              pos_tokens  input_length  pos_length\n",
       "0                                                                                                   6 Karela Bitter Gourd Pavakkai Salt 1 Onion 3 tablespoon Gram flour besan 2 teaspoons Turmeric powder Haldi Red Chilli Cumin seeds Jeera Coriander Powder Dhania Amchur Dry Mango Sunflower Oil                                                                                                                                         quantity ingredient ingredient ingredient ingredient ingredient quantity ingredient quantity unit ingredient ingredient ingredient quantity unit ingredient ingredient ingredient ingredient ingredient ingredient ingredient ingredient ingredient ingredient ingredient ingredient ingredient ingredient ingredient ingredient                                                                                                                [6, Karela, Bitter, Gourd, Pavakkai, Salt, 1, Onion, 3, tablespoon, Gram, flour, besan, 2, teaspoons, Turmeric, powder, Haldi, Red, Chilli, Cumin, seeds, Jeera, Coriander, Powder, Dhania, Amchur, Dry, Mango, Sunflower, Oil]                                                                                                                                                        [quantity, ingredient, ingredient, ingredient, ingredient, ingredient, quantity, ingredient, quantity, unit, ingredient, ingredient, ingredient, quantity, unit, ingredient, ingredient, ingredient, ingredient, ingredient, ingredient, ingredient, ingredient, ingredient, ingredient, ingredient, ingredient, ingredient, ingredient, ingredient, ingredient]            31          31\n",
       "1                                                                                      2-1/2 cups rice cooked 3 tomatoes teaspoons BC Belle Bhat powder 1 teaspoon chickpea lentils 1/2 cumin seeds white urad dal mustard green chilli dry red 2 cashew or peanuts 1-1/2 tablespoon oil asafoetida                                                                                                                        quantity unit ingredient ingredient quantity ingredient unit ingredient ingredient ingredient ingredient quantity unit ingredient ingredient quantity ingredient ingredient ingredient ingredient ingredient ingredient ingredient ingredient ingredient ingredient quantity ingredient ingredient ingredient quantity unit ingredient ingredient                                                                                                [2-1/2, cups, rice, cooked, 3, tomatoes, teaspoons, BC, Belle, Bhat, powder, 1, teaspoon, chickpea, lentils, 1/2, cumin, seeds, white, urad, dal, mustard, green, chilli, dry, red, 2, cashew, or, peanuts, 1-1/2, tablespoon, oil, asafoetida]                                                                                                                                    [quantity, unit, ingredient, ingredient, quantity, ingredient, unit, ingredient, ingredient, ingredient, ingredient, quantity, unit, ingredient, ingredient, quantity, ingredient, ingredient, ingredient, ingredient, ingredient, ingredient, ingredient, ingredient, ingredient, ingredient, quantity, ingredient, ingredient, ingredient, quantity, unit, ingredient, ingredient]            34          34\n",
       "2                                                                    1-1/2 cups Rice Vermicelli Noodles Thin 1 Onion sliced 1/2 cup Carrots Gajjar chopped 1/3 Green peas Matar 2 Chillies 1/4 teaspoon Asafoetida hing Mustard seeds White Urad Dal Split Ghee sprig Curry leaves Salt Lemon juice                                                                                       quantity unit ingredient ingredient ingredient ingredient quantity ingredient ingredient quantity unit ingredient ingredient ingredient quantity ingredient ingredient ingredient quantity ingredient quantity unit ingredient ingredient ingredient ingredient ingredient ingredient ingredient ingredient ingredient unit ingredient ingredient ingredient ingredient ingredient                                                                           [1-1/2, cups, Rice, Vermicelli, Noodles, Thin, 1, Onion, sliced, 1/2, cup, Carrots, Gajjar, chopped, 1/3, Green, peas, Matar, 2, Chillies, 1/4, teaspoon, Asafoetida, hing, Mustard, seeds, White, Urad, Dal, Split, Ghee, sprig, Curry, leaves, Salt, Lemon, juice]                                                                                                [quantity, unit, ingredient, ingredient, ingredient, ingredient, quantity, ingredient, ingredient, quantity, unit, ingredient, ingredient, ingredient, quantity, ingredient, ingredient, ingredient, quantity, ingredient, quantity, unit, ingredient, ingredient, ingredient, ingredient, ingredient, ingredient, ingredient, ingredient, ingredient, unit, ingredient, ingredient, ingredient, ingredient, ingredient]            37          37\n",
       "3    500 grams Chicken 2 Onion chopped 1 Tomato 4 Green Chillies slit inch Ginger finely 6 cloves Garlic 1/2 teaspoon Turmeric powder Haldi Garam masala tablespoon Sesame Gingelly Oil 1/4 Methi Seeds Fenugreek Coriander Dhania Dry Red Fennel seeds Saunf cups Sorrel Leaves Gongura picked and  quantity unit ingredient quantity ingredient ingredient quantity ingredient quantity ingredient ingredient ingredient unit ingredient ingredient quantity unit ingredient quantity unit ingredient ingredient ingredient ingredient ingredient unit ingredient ingredient ingredient quantity ingredient ingredient ingredient ingredient ingredient ingredient ingredient ingredient ingredient ingredient unit ingredient ingredient ingredient ingredient ingredient  [500, grams, Chicken, 2, Onion, chopped, 1, Tomato, 4, Green, Chillies, slit, inch, Ginger, finely, 6, cloves, Garlic, 1/2, teaspoon, Turmeric, powder, Haldi, Garam, masala, tablespoon, Sesame, Gingelly, Oil, 1/4, Methi, Seeds, Fenugreek, Coriander, Dhania, Dry, Red, Fennel, seeds, Saunf, cups, Sorrel, Leaves, Gongura, picked, and]  [quantity, unit, ingredient, quantity, ingredient, ingredient, quantity, ingredient, quantity, ingredient, ingredient, ingredient, unit, ingredient, ingredient, quantity, unit, ingredient, quantity, unit, ingredient, ingredient, ingredient, ingredient, ingredient, unit, ingredient, ingredient, ingredient, quantity, ingredient, ingredient, ingredient, ingredient, ingredient, ingredient, ingredient, ingredient, ingredient, ingredient, unit, ingredient, ingredient, ingredient, ingredient, ingredient]            46          46\n",
       "4                                                                                                                                                             1 tablespoon chana dal white urad 2 red chillies coriander seeds 3 inches ginger onion tomato Teaspoon mustard asafoetida sprig curry                                                                                                                                                                                                                                                                 quantity unit ingredient ingredient ingredient ingredient quantity ingredient ingredient ingredient ingredient quantity unit ingredient ingredient ingredient unit ingredient ingredient unit ingredient                                                                                                                                                                                    [1, tablespoon, chana, dal, white, urad, 2, red, chillies, coriander, seeds, 3, inches, ginger, onion, tomato, Teaspoon, mustard, asafoetida, sprig, curry]                                                                                                                                                                                                                                                                                          [quantity, unit, ingredient, ingredient, ingredient, ingredient, quantity, ingredient, ingredient, ingredient, ingredient, quantity, unit, ingredient, ingredient, ingredient, unit, ingredient, ingredient, unit, ingredient]            21          21\n",
       "..                                                                                                                                                                                                                                                                                              ...                                                                                                                                                                                                                                                                                                                                                                                                                                                                      ...                                                                                                                                                                                                                                                                                                                                            ...                                                                                                                                                                                                                                                                                                                                                                                                                                                                                                                     ...           ...         ...\n",
       "280                                                                                              2 Mooli Mullangi Radish 200 grams Paneer Homemade Cottage Cheese 1 Green Chilli 4 cloves Garlic inch Ginger teaspoon Cumin powder Sunflower Oil Salt 1/4 Turmeric Haldi cup Whole Wheat Flour Ghee                                                                                                                                                  quantity ingredient ingredient ingredient quantity unit ingredient ingredient ingredient ingredient quantity ingredient ingredient quantity unit ingredient unit ingredient unit ingredient ingredient ingredient ingredient ingredient quantity ingredient ingredient unit ingredient ingredient ingredient ingredient                                                                                                            [2, Mooli, Mullangi, Radish, 200, grams, Paneer, Homemade, Cottage, Cheese, 1, Green, Chilli, 4, cloves, Garlic, inch, Ginger, teaspoon, Cumin, powder, Sunflower, Oil, Salt, 1/4, Turmeric, Haldi, cup, Whole, Wheat, Flour, Ghee]                                                                                                                                                                [quantity, ingredient, ingredient, ingredient, quantity, unit, ingredient, ingredient, ingredient, ingredient, quantity, ingredient, ingredient, quantity, unit, ingredient, unit, ingredient, unit, ingredient, ingredient, ingredient, ingredient, ingredient, quantity, ingredient, ingredient, unit, ingredient, ingredient, ingredient, ingredient]            32          32\n",
       "281                                                                                                                                                                                   2 cups Fresh orange juice teaspoons Ginger grated tablespoons Tea Monk Seiki Peppermint Green 4 Chilled water                                                                                                                                                                                                                                                                                                     quantity unit ingredient ingredient ingredient unit ingredient ingredient unit ingredient ingredient ingredient ingredient ingredient quantity ingredient ingredient                                                                                                                                                                                                                [2, cups, Fresh, orange, juice, teaspoons, Ginger, grated, tablespoons, Tea, Monk, Seiki, Peppermint, Green, 4, Chilled, water]                                                                                                                                                                                                                                                                                                                                  [quantity, unit, ingredient, ingredient, ingredient, unit, ingredient, ingredient, unit, ingredient, ingredient, ingredient, ingredient, ingredient, quantity, ingredient, ingredient]            17          17\n",
       "282                                                                                                                  3 Potatoes Aloo 2 Green zucchini 1 tablespoon Red Chilli flakes Dried oregano Thyme Leaves Black pepper powder 1/4 cup Cheddar cheese grated 1/2 Whole Wheat Bread crumbs Salt                                                                                                                                                                 quantity ingredient ingredient quantity ingredient ingredient quantity unit ingredient ingredient ingredient ingredient ingredient ingredient ingredient ingredient ingredient ingredient quantity unit ingredient ingredient ingredient quantity ingredient ingredient ingredient ingredient ingredient                                                                                                                                   [3, Potatoes, Aloo, 2, Green, zucchini, 1, tablespoon, Red, Chilli, flakes, Dried, oregano, Thyme, Leaves, Black, pepper, powder, 1/4, cup, Cheddar, cheese, grated, 1/2, Whole, Wheat, Bread, crumbs, Salt]                                                                                                                                                                                  [quantity, ingredient, ingredient, quantity, ingredient, ingredient, quantity, unit, ingredient, ingredient, ingredient, ingredient, ingredient, ingredient, ingredient, ingredient, ingredient, ingredient, quantity, unit, ingredient, ingredient, ingredient, quantity, ingredient, ingredient, ingredient, ingredient, ingredient]            29          29\n",
       "283    1 cup Pink Masoor Dal 200 grams Drumstick Leaves Moringa Murungai Keerai 1/4 teaspoon Asafoetida hing Cumin seeds Jeera inch Ginger finely chopped Dry Red Chilli Tomato Green slit 2 teaspoons Coriander Powder Dhania 1/2 Turmeric powder Haldi Salt tablespoon Ghee Lemon juice extracted                    quantity unit ingredient ingredient ingredient quantity unit ingredient ingredient ingredient ingredient ingredient quantity unit ingredient ingredient ingredient ingredient ingredient unit ingredient ingredient ingredient ingredient ingredient ingredient ingredient ingredient ingredient quantity unit ingredient ingredient ingredient quantity ingredient ingredient ingredient ingredient unit ingredient ingredient ingredient ingredient      [1, cup, Pink, Masoor, Dal, 200, grams, Drumstick, Leaves, Moringa, Murungai, Keerai, 1/4, teaspoon, Asafoetida, hing, Cumin, seeds, Jeera, inch, Ginger, finely, chopped, Dry, Red, Chilli, Tomato, Green, slit, 2, teaspoons, Coriander, Powder, Dhania, 1/2, Turmeric, powder, Haldi, Salt, tablespoon, Ghee, Lemon, juice, extracted]                      [quantity, unit, ingredient, ingredient, ingredient, quantity, unit, ingredient, ingredient, ingredient, ingredient, ingredient, quantity, unit, ingredient, ingredient, ingredient, ingredient, ingredient, unit, ingredient, ingredient, ingredient, ingredient, ingredient, ingredient, ingredient, ingredient, ingredient, quantity, unit, ingredient, ingredient, ingredient, quantity, ingredient, ingredient, ingredient, ingredient, unit, ingredient, ingredient, ingredient, ingredient]            44          44\n",
       "284                                                                            1/2 cup Bajra Flour Jowar Whole Wheat 2 cups Methi Leaves inch Ginger 3 Green Chillies 1 tablespoon Sesame seeds teaspoons Red Chilli powder Turmeric 1/4 teaspoon Asafoetida 5 tablespoons Curd Sugar Sunflower Oil                                                                                                                                          quantity unit ingredient ingredient ingredient ingredient ingredient quantity unit ingredient ingredient unit ingredient quantity ingredient ingredient quantity unit ingredient ingredient unit ingredient ingredient ingredient ingredient quantity unit ingredient quantity unit ingredient ingredient ingredient ingredient                                                                                        [1/2, cup, Bajra, Flour, Jowar, Whole, Wheat, 2, cups, Methi, Leaves, inch, Ginger, 3, Green, Chillies, 1, tablespoon, Sesame, seeds, teaspoons, Red, Chilli, powder, Turmeric, 1/4, teaspoon, Asafoetida, 5, tablespoons, Curd, Sugar, Sunflower, Oil]                                                                                                                                                      [quantity, unit, ingredient, ingredient, ingredient, ingredient, ingredient, quantity, unit, ingredient, ingredient, unit, ingredient, quantity, ingredient, ingredient, quantity, unit, ingredient, ingredient, unit, ingredient, ingredient, ingredient, ingredient, quantity, unit, ingredient, quantity, unit, ingredient, ingredient, ingredient, ingredient]            34          34\n",
       "\n",
       "[285 rows x 6 columns]"
      ]
     },
     "execution_count": 12,
     "metadata": {},
     "output_type": "execute_result"
    }
   ],
   "source": [
    "# create input_length and pos_length columns for the input_tokens and pos-tokens\n",
    "def add_token_lengths(df):\n",
    "    \"\"\"\n",
    "    Adds 'input_length' and 'pos_length' columns to the DataFrame by computing the lengths\n",
    "    of the 'input_tokens' and 'pos_tokens' lists respectively.\n",
    "\n",
    "    Parameters:\n",
    "    - df (pd.DataFrame): DataFrame with 'input_tokens' and 'pos_tokens' columns.\n",
    "\n",
    "    Returns:\n",
    "    - pd.DataFrame: Modified DataFrame with new 'input_length' and 'pos_length' columns.\n",
    "    \"\"\"\n",
    "    df['input_length'] = df['input_tokens'].apply(len)\n",
    "    df['pos_length'] = df['pos_tokens'].apply(len)\n",
    "    return df\n",
    "add_token_lengths(df)"
   ]
  },
  {
   "cell_type": "code",
   "execution_count": 13,
   "metadata": {
    "id": "BPMOlLnz1P1H"
   },
   "outputs": [
    {
     "data": {
      "text/html": [
       "<div>\n",
       "<style scoped>\n",
       "    .dataframe tbody tr th:only-of-type {\n",
       "        vertical-align: middle;\n",
       "    }\n",
       "\n",
       "    .dataframe tbody tr th {\n",
       "        vertical-align: top;\n",
       "    }\n",
       "\n",
       "    .dataframe thead th {\n",
       "        text-align: right;\n",
       "    }\n",
       "</style>\n",
       "<table border=\"1\" class=\"dataframe\">\n",
       "  <thead>\n",
       "    <tr style=\"text-align: right;\">\n",
       "      <th></th>\n",
       "      <th>input</th>\n",
       "      <th>pos</th>\n",
       "      <th>input_tokens</th>\n",
       "      <th>pos_tokens</th>\n",
       "      <th>input_length</th>\n",
       "      <th>pos_length</th>\n",
       "      <th>lengths_match</th>\n",
       "    </tr>\n",
       "  </thead>\n",
       "  <tbody>\n",
       "    <tr>\n",
       "      <th>0</th>\n",
       "      <td>6 Karela Bitter Gourd Pavakkai Salt 1 Onion 3 tablespoon Gram flour besan 2 teaspoons Turmeric powder Haldi Red Chilli Cumin seeds Jeera Coriander Powder Dhania Amchur Dry Mango Sunflower Oil</td>\n",
       "      <td>quantity ingredient ingredient ingredient ingredient ingredient quantity ingredient quantity unit ingredient ingredient ingredient quantity unit ingredient ingredient ingredient ingredient ingredient ingredient ingredient ingredient ingredient ingredient ingredient ingredient ingredient ingredient ingredient ingredient</td>\n",
       "      <td>[6, Karela, Bitter, Gourd, Pavakkai, Salt, 1, Onion, 3, tablespoon, Gram, flour, besan, 2, teaspoons, Turmeric, powder, Haldi, Red, Chilli, Cumin, seeds, Jeera, Coriander, Powder, Dhania, Amchur, Dry, Mango, Sunflower, Oil]</td>\n",
       "      <td>[quantity, ingredient, ingredient, ingredient, ingredient, ingredient, quantity, ingredient, quantity, unit, ingredient, ingredient, ingredient, quantity, unit, ingredient, ingredient, ingredient, ingredient, ingredient, ingredient, ingredient, ingredient, ingredient, ingredient, ingredient, ingredient, ingredient, ingredient, ingredient, ingredient]</td>\n",
       "      <td>31</td>\n",
       "      <td>31</td>\n",
       "      <td>True</td>\n",
       "    </tr>\n",
       "    <tr>\n",
       "      <th>1</th>\n",
       "      <td>2-1/2 cups rice cooked 3 tomatoes teaspoons BC Belle Bhat powder 1 teaspoon chickpea lentils 1/2 cumin seeds white urad dal mustard green chilli dry red 2 cashew or peanuts 1-1/2 tablespoon oil asafoetida</td>\n",
       "      <td>quantity unit ingredient ingredient quantity ingredient unit ingredient ingredient ingredient ingredient quantity unit ingredient ingredient quantity ingredient ingredient ingredient ingredient ingredient ingredient ingredient ingredient ingredient ingredient quantity ingredient ingredient ingredient quantity unit ingredient ingredient</td>\n",
       "      <td>[2-1/2, cups, rice, cooked, 3, tomatoes, teaspoons, BC, Belle, Bhat, powder, 1, teaspoon, chickpea, lentils, 1/2, cumin, seeds, white, urad, dal, mustard, green, chilli, dry, red, 2, cashew, or, peanuts, 1-1/2, tablespoon, oil, asafoetida]</td>\n",
       "      <td>[quantity, unit, ingredient, ingredient, quantity, ingredient, unit, ingredient, ingredient, ingredient, ingredient, quantity, unit, ingredient, ingredient, quantity, ingredient, ingredient, ingredient, ingredient, ingredient, ingredient, ingredient, ingredient, ingredient, ingredient, quantity, ingredient, ingredient, ingredient, quantity, unit, ingredient, ingredient]</td>\n",
       "      <td>34</td>\n",
       "      <td>34</td>\n",
       "      <td>True</td>\n",
       "    </tr>\n",
       "    <tr>\n",
       "      <th>2</th>\n",
       "      <td>1-1/2 cups Rice Vermicelli Noodles Thin 1 Onion sliced 1/2 cup Carrots Gajjar chopped 1/3 Green peas Matar 2 Chillies 1/4 teaspoon Asafoetida hing Mustard seeds White Urad Dal Split Ghee sprig Curry leaves Salt Lemon juice</td>\n",
       "      <td>quantity unit ingredient ingredient ingredient ingredient quantity ingredient ingredient quantity unit ingredient ingredient ingredient quantity ingredient ingredient ingredient quantity ingredient quantity unit ingredient ingredient ingredient ingredient ingredient ingredient ingredient ingredient ingredient unit ingredient ingredient ingredient ingredient ingredient</td>\n",
       "      <td>[1-1/2, cups, Rice, Vermicelli, Noodles, Thin, 1, Onion, sliced, 1/2, cup, Carrots, Gajjar, chopped, 1/3, Green, peas, Matar, 2, Chillies, 1/4, teaspoon, Asafoetida, hing, Mustard, seeds, White, Urad, Dal, Split, Ghee, sprig, Curry, leaves, Salt, Lemon, juice]</td>\n",
       "      <td>[quantity, unit, ingredient, ingredient, ingredient, ingredient, quantity, ingredient, ingredient, quantity, unit, ingredient, ingredient, ingredient, quantity, ingredient, ingredient, ingredient, quantity, ingredient, quantity, unit, ingredient, ingredient, ingredient, ingredient, ingredient, ingredient, ingredient, ingredient, ingredient, unit, ingredient, ingredient, ingredient, ingredient, ingredient]</td>\n",
       "      <td>37</td>\n",
       "      <td>37</td>\n",
       "      <td>True</td>\n",
       "    </tr>\n",
       "    <tr>\n",
       "      <th>3</th>\n",
       "      <td>500 grams Chicken 2 Onion chopped 1 Tomato 4 Green Chillies slit inch Ginger finely 6 cloves Garlic 1/2 teaspoon Turmeric powder Haldi Garam masala tablespoon Sesame Gingelly Oil 1/4 Methi Seeds Fenugreek Coriander Dhania Dry Red Fennel seeds Saunf cups Sorrel Leaves Gongura picked and</td>\n",
       "      <td>quantity unit ingredient quantity ingredient ingredient quantity ingredient quantity ingredient ingredient ingredient unit ingredient ingredient quantity unit ingredient quantity unit ingredient ingredient ingredient ingredient ingredient unit ingredient ingredient ingredient quantity ingredient ingredient ingredient ingredient ingredient ingredient ingredient ingredient ingredient ingredient unit ingredient ingredient ingredient ingredient ingredient</td>\n",
       "      <td>[500, grams, Chicken, 2, Onion, chopped, 1, Tomato, 4, Green, Chillies, slit, inch, Ginger, finely, 6, cloves, Garlic, 1/2, teaspoon, Turmeric, powder, Haldi, Garam, masala, tablespoon, Sesame, Gingelly, Oil, 1/4, Methi, Seeds, Fenugreek, Coriander, Dhania, Dry, Red, Fennel, seeds, Saunf, cups, Sorrel, Leaves, Gongura, picked, and]</td>\n",
       "      <td>[quantity, unit, ingredient, quantity, ingredient, ingredient, quantity, ingredient, quantity, ingredient, ingredient, ingredient, unit, ingredient, ingredient, quantity, unit, ingredient, quantity, unit, ingredient, ingredient, ingredient, ingredient, ingredient, unit, ingredient, ingredient, ingredient, quantity, ingredient, ingredient, ingredient, ingredient, ingredient, ingredient, ingredient, ingredient, ingredient, ingredient, unit, ingredient, ingredient, ingredient, ingredient, ingredient]</td>\n",
       "      <td>46</td>\n",
       "      <td>46</td>\n",
       "      <td>True</td>\n",
       "    </tr>\n",
       "    <tr>\n",
       "      <th>4</th>\n",
       "      <td>1 tablespoon chana dal white urad 2 red chillies coriander seeds 3 inches ginger onion tomato Teaspoon mustard asafoetida sprig curry</td>\n",
       "      <td>quantity unit ingredient ingredient ingredient ingredient quantity ingredient ingredient ingredient ingredient quantity unit ingredient ingredient ingredient unit ingredient ingredient unit ingredient</td>\n",
       "      <td>[1, tablespoon, chana, dal, white, urad, 2, red, chillies, coriander, seeds, 3, inches, ginger, onion, tomato, Teaspoon, mustard, asafoetida, sprig, curry]</td>\n",
       "      <td>[quantity, unit, ingredient, ingredient, ingredient, ingredient, quantity, ingredient, ingredient, ingredient, ingredient, quantity, unit, ingredient, ingredient, ingredient, unit, ingredient, ingredient, unit, ingredient]</td>\n",
       "      <td>21</td>\n",
       "      <td>21</td>\n",
       "      <td>True</td>\n",
       "    </tr>\n",
       "    <tr>\n",
       "      <th>...</th>\n",
       "      <td>...</td>\n",
       "      <td>...</td>\n",
       "      <td>...</td>\n",
       "      <td>...</td>\n",
       "      <td>...</td>\n",
       "      <td>...</td>\n",
       "      <td>...</td>\n",
       "    </tr>\n",
       "    <tr>\n",
       "      <th>280</th>\n",
       "      <td>2 Mooli Mullangi Radish 200 grams Paneer Homemade Cottage Cheese 1 Green Chilli 4 cloves Garlic inch Ginger teaspoon Cumin powder Sunflower Oil Salt 1/4 Turmeric Haldi cup Whole Wheat Flour Ghee</td>\n",
       "      <td>quantity ingredient ingredient ingredient quantity unit ingredient ingredient ingredient ingredient quantity ingredient ingredient quantity unit ingredient unit ingredient unit ingredient ingredient ingredient ingredient ingredient quantity ingredient ingredient unit ingredient ingredient ingredient ingredient</td>\n",
       "      <td>[2, Mooli, Mullangi, Radish, 200, grams, Paneer, Homemade, Cottage, Cheese, 1, Green, Chilli, 4, cloves, Garlic, inch, Ginger, teaspoon, Cumin, powder, Sunflower, Oil, Salt, 1/4, Turmeric, Haldi, cup, Whole, Wheat, Flour, Ghee]</td>\n",
       "      <td>[quantity, ingredient, ingredient, ingredient, quantity, unit, ingredient, ingredient, ingredient, ingredient, quantity, ingredient, ingredient, quantity, unit, ingredient, unit, ingredient, unit, ingredient, ingredient, ingredient, ingredient, ingredient, quantity, ingredient, ingredient, unit, ingredient, ingredient, ingredient, ingredient]</td>\n",
       "      <td>32</td>\n",
       "      <td>32</td>\n",
       "      <td>True</td>\n",
       "    </tr>\n",
       "    <tr>\n",
       "      <th>281</th>\n",
       "      <td>2 cups Fresh orange juice teaspoons Ginger grated tablespoons Tea Monk Seiki Peppermint Green 4 Chilled water</td>\n",
       "      <td>quantity unit ingredient ingredient ingredient unit ingredient ingredient unit ingredient ingredient ingredient ingredient ingredient quantity ingredient ingredient</td>\n",
       "      <td>[2, cups, Fresh, orange, juice, teaspoons, Ginger, grated, tablespoons, Tea, Monk, Seiki, Peppermint, Green, 4, Chilled, water]</td>\n",
       "      <td>[quantity, unit, ingredient, ingredient, ingredient, unit, ingredient, ingredient, unit, ingredient, ingredient, ingredient, ingredient, ingredient, quantity, ingredient, ingredient]</td>\n",
       "      <td>17</td>\n",
       "      <td>17</td>\n",
       "      <td>True</td>\n",
       "    </tr>\n",
       "    <tr>\n",
       "      <th>282</th>\n",
       "      <td>3 Potatoes Aloo 2 Green zucchini 1 tablespoon Red Chilli flakes Dried oregano Thyme Leaves Black pepper powder 1/4 cup Cheddar cheese grated 1/2 Whole Wheat Bread crumbs Salt</td>\n",
       "      <td>quantity ingredient ingredient quantity ingredient ingredient quantity unit ingredient ingredient ingredient ingredient ingredient ingredient ingredient ingredient ingredient ingredient quantity unit ingredient ingredient ingredient quantity ingredient ingredient ingredient ingredient ingredient</td>\n",
       "      <td>[3, Potatoes, Aloo, 2, Green, zucchini, 1, tablespoon, Red, Chilli, flakes, Dried, oregano, Thyme, Leaves, Black, pepper, powder, 1/4, cup, Cheddar, cheese, grated, 1/2, Whole, Wheat, Bread, crumbs, Salt]</td>\n",
       "      <td>[quantity, ingredient, ingredient, quantity, ingredient, ingredient, quantity, unit, ingredient, ingredient, ingredient, ingredient, ingredient, ingredient, ingredient, ingredient, ingredient, ingredient, quantity, unit, ingredient, ingredient, ingredient, quantity, ingredient, ingredient, ingredient, ingredient, ingredient]</td>\n",
       "      <td>29</td>\n",
       "      <td>29</td>\n",
       "      <td>True</td>\n",
       "    </tr>\n",
       "    <tr>\n",
       "      <th>283</th>\n",
       "      <td>1 cup Pink Masoor Dal 200 grams Drumstick Leaves Moringa Murungai Keerai 1/4 teaspoon Asafoetida hing Cumin seeds Jeera inch Ginger finely chopped Dry Red Chilli Tomato Green slit 2 teaspoons Coriander Powder Dhania 1/2 Turmeric powder Haldi Salt tablespoon Ghee Lemon juice extracted</td>\n",
       "      <td>quantity unit ingredient ingredient ingredient quantity unit ingredient ingredient ingredient ingredient ingredient quantity unit ingredient ingredient ingredient ingredient ingredient unit ingredient ingredient ingredient ingredient ingredient ingredient ingredient ingredient ingredient quantity unit ingredient ingredient ingredient quantity ingredient ingredient ingredient ingredient unit ingredient ingredient ingredient ingredient</td>\n",
       "      <td>[1, cup, Pink, Masoor, Dal, 200, grams, Drumstick, Leaves, Moringa, Murungai, Keerai, 1/4, teaspoon, Asafoetida, hing, Cumin, seeds, Jeera, inch, Ginger, finely, chopped, Dry, Red, Chilli, Tomato, Green, slit, 2, teaspoons, Coriander, Powder, Dhania, 1/2, Turmeric, powder, Haldi, Salt, tablespoon, Ghee, Lemon, juice, extracted]</td>\n",
       "      <td>[quantity, unit, ingredient, ingredient, ingredient, quantity, unit, ingredient, ingredient, ingredient, ingredient, ingredient, quantity, unit, ingredient, ingredient, ingredient, ingredient, ingredient, unit, ingredient, ingredient, ingredient, ingredient, ingredient, ingredient, ingredient, ingredient, ingredient, quantity, unit, ingredient, ingredient, ingredient, quantity, ingredient, ingredient, ingredient, ingredient, unit, ingredient, ingredient, ingredient, ingredient]</td>\n",
       "      <td>44</td>\n",
       "      <td>44</td>\n",
       "      <td>True</td>\n",
       "    </tr>\n",
       "    <tr>\n",
       "      <th>284</th>\n",
       "      <td>1/2 cup Bajra Flour Jowar Whole Wheat 2 cups Methi Leaves inch Ginger 3 Green Chillies 1 tablespoon Sesame seeds teaspoons Red Chilli powder Turmeric 1/4 teaspoon Asafoetida 5 tablespoons Curd Sugar Sunflower Oil</td>\n",
       "      <td>quantity unit ingredient ingredient ingredient ingredient ingredient quantity unit ingredient ingredient unit ingredient quantity ingredient ingredient quantity unit ingredient ingredient unit ingredient ingredient ingredient ingredient quantity unit ingredient quantity unit ingredient ingredient ingredient ingredient</td>\n",
       "      <td>[1/2, cup, Bajra, Flour, Jowar, Whole, Wheat, 2, cups, Methi, Leaves, inch, Ginger, 3, Green, Chillies, 1, tablespoon, Sesame, seeds, teaspoons, Red, Chilli, powder, Turmeric, 1/4, teaspoon, Asafoetida, 5, tablespoons, Curd, Sugar, Sunflower, Oil]</td>\n",
       "      <td>[quantity, unit, ingredient, ingredient, ingredient, ingredient, ingredient, quantity, unit, ingredient, ingredient, unit, ingredient, quantity, ingredient, ingredient, quantity, unit, ingredient, ingredient, unit, ingredient, ingredient, ingredient, ingredient, quantity, unit, ingredient, quantity, unit, ingredient, ingredient, ingredient, ingredient]</td>\n",
       "      <td>34</td>\n",
       "      <td>34</td>\n",
       "      <td>True</td>\n",
       "    </tr>\n",
       "  </tbody>\n",
       "</table>\n",
       "<p>285 rows × 7 columns</p>\n",
       "</div>"
      ],
      "text/plain": [
       "                                                                                                                                                                                                                                                                                              input                                                                                                                                                                                                                                                                                                                                                                                                                                                                      pos                                                                                                                                                                                                                                                                                                                                   input_tokens                                                                                                                                                                                                                                                                                                                                                                                                                                                                                                              pos_tokens  input_length  pos_length  lengths_match\n",
       "0                                                                                                   6 Karela Bitter Gourd Pavakkai Salt 1 Onion 3 tablespoon Gram flour besan 2 teaspoons Turmeric powder Haldi Red Chilli Cumin seeds Jeera Coriander Powder Dhania Amchur Dry Mango Sunflower Oil                                                                                                                                         quantity ingredient ingredient ingredient ingredient ingredient quantity ingredient quantity unit ingredient ingredient ingredient quantity unit ingredient ingredient ingredient ingredient ingredient ingredient ingredient ingredient ingredient ingredient ingredient ingredient ingredient ingredient ingredient ingredient                                                                                                                [6, Karela, Bitter, Gourd, Pavakkai, Salt, 1, Onion, 3, tablespoon, Gram, flour, besan, 2, teaspoons, Turmeric, powder, Haldi, Red, Chilli, Cumin, seeds, Jeera, Coriander, Powder, Dhania, Amchur, Dry, Mango, Sunflower, Oil]                                                                                                                                                        [quantity, ingredient, ingredient, ingredient, ingredient, ingredient, quantity, ingredient, quantity, unit, ingredient, ingredient, ingredient, quantity, unit, ingredient, ingredient, ingredient, ingredient, ingredient, ingredient, ingredient, ingredient, ingredient, ingredient, ingredient, ingredient, ingredient, ingredient, ingredient, ingredient]            31          31           True\n",
       "1                                                                                      2-1/2 cups rice cooked 3 tomatoes teaspoons BC Belle Bhat powder 1 teaspoon chickpea lentils 1/2 cumin seeds white urad dal mustard green chilli dry red 2 cashew or peanuts 1-1/2 tablespoon oil asafoetida                                                                                                                        quantity unit ingredient ingredient quantity ingredient unit ingredient ingredient ingredient ingredient quantity unit ingredient ingredient quantity ingredient ingredient ingredient ingredient ingredient ingredient ingredient ingredient ingredient ingredient quantity ingredient ingredient ingredient quantity unit ingredient ingredient                                                                                                [2-1/2, cups, rice, cooked, 3, tomatoes, teaspoons, BC, Belle, Bhat, powder, 1, teaspoon, chickpea, lentils, 1/2, cumin, seeds, white, urad, dal, mustard, green, chilli, dry, red, 2, cashew, or, peanuts, 1-1/2, tablespoon, oil, asafoetida]                                                                                                                                    [quantity, unit, ingredient, ingredient, quantity, ingredient, unit, ingredient, ingredient, ingredient, ingredient, quantity, unit, ingredient, ingredient, quantity, ingredient, ingredient, ingredient, ingredient, ingredient, ingredient, ingredient, ingredient, ingredient, ingredient, quantity, ingredient, ingredient, ingredient, quantity, unit, ingredient, ingredient]            34          34           True\n",
       "2                                                                    1-1/2 cups Rice Vermicelli Noodles Thin 1 Onion sliced 1/2 cup Carrots Gajjar chopped 1/3 Green peas Matar 2 Chillies 1/4 teaspoon Asafoetida hing Mustard seeds White Urad Dal Split Ghee sprig Curry leaves Salt Lemon juice                                                                                       quantity unit ingredient ingredient ingredient ingredient quantity ingredient ingredient quantity unit ingredient ingredient ingredient quantity ingredient ingredient ingredient quantity ingredient quantity unit ingredient ingredient ingredient ingredient ingredient ingredient ingredient ingredient ingredient unit ingredient ingredient ingredient ingredient ingredient                                                                           [1-1/2, cups, Rice, Vermicelli, Noodles, Thin, 1, Onion, sliced, 1/2, cup, Carrots, Gajjar, chopped, 1/3, Green, peas, Matar, 2, Chillies, 1/4, teaspoon, Asafoetida, hing, Mustard, seeds, White, Urad, Dal, Split, Ghee, sprig, Curry, leaves, Salt, Lemon, juice]                                                                                                [quantity, unit, ingredient, ingredient, ingredient, ingredient, quantity, ingredient, ingredient, quantity, unit, ingredient, ingredient, ingredient, quantity, ingredient, ingredient, ingredient, quantity, ingredient, quantity, unit, ingredient, ingredient, ingredient, ingredient, ingredient, ingredient, ingredient, ingredient, ingredient, unit, ingredient, ingredient, ingredient, ingredient, ingredient]            37          37           True\n",
       "3    500 grams Chicken 2 Onion chopped 1 Tomato 4 Green Chillies slit inch Ginger finely 6 cloves Garlic 1/2 teaspoon Turmeric powder Haldi Garam masala tablespoon Sesame Gingelly Oil 1/4 Methi Seeds Fenugreek Coriander Dhania Dry Red Fennel seeds Saunf cups Sorrel Leaves Gongura picked and  quantity unit ingredient quantity ingredient ingredient quantity ingredient quantity ingredient ingredient ingredient unit ingredient ingredient quantity unit ingredient quantity unit ingredient ingredient ingredient ingredient ingredient unit ingredient ingredient ingredient quantity ingredient ingredient ingredient ingredient ingredient ingredient ingredient ingredient ingredient ingredient unit ingredient ingredient ingredient ingredient ingredient  [500, grams, Chicken, 2, Onion, chopped, 1, Tomato, 4, Green, Chillies, slit, inch, Ginger, finely, 6, cloves, Garlic, 1/2, teaspoon, Turmeric, powder, Haldi, Garam, masala, tablespoon, Sesame, Gingelly, Oil, 1/4, Methi, Seeds, Fenugreek, Coriander, Dhania, Dry, Red, Fennel, seeds, Saunf, cups, Sorrel, Leaves, Gongura, picked, and]  [quantity, unit, ingredient, quantity, ingredient, ingredient, quantity, ingredient, quantity, ingredient, ingredient, ingredient, unit, ingredient, ingredient, quantity, unit, ingredient, quantity, unit, ingredient, ingredient, ingredient, ingredient, ingredient, unit, ingredient, ingredient, ingredient, quantity, ingredient, ingredient, ingredient, ingredient, ingredient, ingredient, ingredient, ingredient, ingredient, ingredient, unit, ingredient, ingredient, ingredient, ingredient, ingredient]            46          46           True\n",
       "4                                                                                                                                                             1 tablespoon chana dal white urad 2 red chillies coriander seeds 3 inches ginger onion tomato Teaspoon mustard asafoetida sprig curry                                                                                                                                                                                                                                                                 quantity unit ingredient ingredient ingredient ingredient quantity ingredient ingredient ingredient ingredient quantity unit ingredient ingredient ingredient unit ingredient ingredient unit ingredient                                                                                                                                                                                    [1, tablespoon, chana, dal, white, urad, 2, red, chillies, coriander, seeds, 3, inches, ginger, onion, tomato, Teaspoon, mustard, asafoetida, sprig, curry]                                                                                                                                                                                                                                                                                          [quantity, unit, ingredient, ingredient, ingredient, ingredient, quantity, ingredient, ingredient, ingredient, ingredient, quantity, unit, ingredient, ingredient, ingredient, unit, ingredient, ingredient, unit, ingredient]            21          21           True\n",
       "..                                                                                                                                                                                                                                                                                              ...                                                                                                                                                                                                                                                                                                                                                                                                                                                                      ...                                                                                                                                                                                                                                                                                                                                            ...                                                                                                                                                                                                                                                                                                                                                                                                                                                                                                                     ...           ...         ...            ...\n",
       "280                                                                                              2 Mooli Mullangi Radish 200 grams Paneer Homemade Cottage Cheese 1 Green Chilli 4 cloves Garlic inch Ginger teaspoon Cumin powder Sunflower Oil Salt 1/4 Turmeric Haldi cup Whole Wheat Flour Ghee                                                                                                                                                  quantity ingredient ingredient ingredient quantity unit ingredient ingredient ingredient ingredient quantity ingredient ingredient quantity unit ingredient unit ingredient unit ingredient ingredient ingredient ingredient ingredient quantity ingredient ingredient unit ingredient ingredient ingredient ingredient                                                                                                            [2, Mooli, Mullangi, Radish, 200, grams, Paneer, Homemade, Cottage, Cheese, 1, Green, Chilli, 4, cloves, Garlic, inch, Ginger, teaspoon, Cumin, powder, Sunflower, Oil, Salt, 1/4, Turmeric, Haldi, cup, Whole, Wheat, Flour, Ghee]                                                                                                                                                                [quantity, ingredient, ingredient, ingredient, quantity, unit, ingredient, ingredient, ingredient, ingredient, quantity, ingredient, ingredient, quantity, unit, ingredient, unit, ingredient, unit, ingredient, ingredient, ingredient, ingredient, ingredient, quantity, ingredient, ingredient, unit, ingredient, ingredient, ingredient, ingredient]            32          32           True\n",
       "281                                                                                                                                                                                   2 cups Fresh orange juice teaspoons Ginger grated tablespoons Tea Monk Seiki Peppermint Green 4 Chilled water                                                                                                                                                                                                                                                                                                     quantity unit ingredient ingredient ingredient unit ingredient ingredient unit ingredient ingredient ingredient ingredient ingredient quantity ingredient ingredient                                                                                                                                                                                                                [2, cups, Fresh, orange, juice, teaspoons, Ginger, grated, tablespoons, Tea, Monk, Seiki, Peppermint, Green, 4, Chilled, water]                                                                                                                                                                                                                                                                                                                                  [quantity, unit, ingredient, ingredient, ingredient, unit, ingredient, ingredient, unit, ingredient, ingredient, ingredient, ingredient, ingredient, quantity, ingredient, ingredient]            17          17           True\n",
       "282                                                                                                                  3 Potatoes Aloo 2 Green zucchini 1 tablespoon Red Chilli flakes Dried oregano Thyme Leaves Black pepper powder 1/4 cup Cheddar cheese grated 1/2 Whole Wheat Bread crumbs Salt                                                                                                                                                                 quantity ingredient ingredient quantity ingredient ingredient quantity unit ingredient ingredient ingredient ingredient ingredient ingredient ingredient ingredient ingredient ingredient quantity unit ingredient ingredient ingredient quantity ingredient ingredient ingredient ingredient ingredient                                                                                                                                   [3, Potatoes, Aloo, 2, Green, zucchini, 1, tablespoon, Red, Chilli, flakes, Dried, oregano, Thyme, Leaves, Black, pepper, powder, 1/4, cup, Cheddar, cheese, grated, 1/2, Whole, Wheat, Bread, crumbs, Salt]                                                                                                                                                                                  [quantity, ingredient, ingredient, quantity, ingredient, ingredient, quantity, unit, ingredient, ingredient, ingredient, ingredient, ingredient, ingredient, ingredient, ingredient, ingredient, ingredient, quantity, unit, ingredient, ingredient, ingredient, quantity, ingredient, ingredient, ingredient, ingredient, ingredient]            29          29           True\n",
       "283    1 cup Pink Masoor Dal 200 grams Drumstick Leaves Moringa Murungai Keerai 1/4 teaspoon Asafoetida hing Cumin seeds Jeera inch Ginger finely chopped Dry Red Chilli Tomato Green slit 2 teaspoons Coriander Powder Dhania 1/2 Turmeric powder Haldi Salt tablespoon Ghee Lemon juice extracted                    quantity unit ingredient ingredient ingredient quantity unit ingredient ingredient ingredient ingredient ingredient quantity unit ingredient ingredient ingredient ingredient ingredient unit ingredient ingredient ingredient ingredient ingredient ingredient ingredient ingredient ingredient quantity unit ingredient ingredient ingredient quantity ingredient ingredient ingredient ingredient unit ingredient ingredient ingredient ingredient      [1, cup, Pink, Masoor, Dal, 200, grams, Drumstick, Leaves, Moringa, Murungai, Keerai, 1/4, teaspoon, Asafoetida, hing, Cumin, seeds, Jeera, inch, Ginger, finely, chopped, Dry, Red, Chilli, Tomato, Green, slit, 2, teaspoons, Coriander, Powder, Dhania, 1/2, Turmeric, powder, Haldi, Salt, tablespoon, Ghee, Lemon, juice, extracted]                      [quantity, unit, ingredient, ingredient, ingredient, quantity, unit, ingredient, ingredient, ingredient, ingredient, ingredient, quantity, unit, ingredient, ingredient, ingredient, ingredient, ingredient, unit, ingredient, ingredient, ingredient, ingredient, ingredient, ingredient, ingredient, ingredient, ingredient, quantity, unit, ingredient, ingredient, ingredient, quantity, ingredient, ingredient, ingredient, ingredient, unit, ingredient, ingredient, ingredient, ingredient]            44          44           True\n",
       "284                                                                            1/2 cup Bajra Flour Jowar Whole Wheat 2 cups Methi Leaves inch Ginger 3 Green Chillies 1 tablespoon Sesame seeds teaspoons Red Chilli powder Turmeric 1/4 teaspoon Asafoetida 5 tablespoons Curd Sugar Sunflower Oil                                                                                                                                          quantity unit ingredient ingredient ingredient ingredient ingredient quantity unit ingredient ingredient unit ingredient quantity ingredient ingredient quantity unit ingredient ingredient unit ingredient ingredient ingredient ingredient quantity unit ingredient quantity unit ingredient ingredient ingredient ingredient                                                                                        [1/2, cup, Bajra, Flour, Jowar, Whole, Wheat, 2, cups, Methi, Leaves, inch, Ginger, 3, Green, Chillies, 1, tablespoon, Sesame, seeds, teaspoons, Red, Chilli, powder, Turmeric, 1/4, teaspoon, Asafoetida, 5, tablespoons, Curd, Sugar, Sunflower, Oil]                                                                                                                                                      [quantity, unit, ingredient, ingredient, ingredient, ingredient, ingredient, quantity, unit, ingredient, ingredient, unit, ingredient, quantity, ingredient, ingredient, quantity, unit, ingredient, ingredient, unit, ingredient, ingredient, ingredient, ingredient, quantity, unit, ingredient, quantity, unit, ingredient, ingredient, ingredient, ingredient]            34          34           True\n",
       "\n",
       "[285 rows x 7 columns]"
      ]
     },
     "execution_count": 13,
     "metadata": {},
     "output_type": "execute_result"
    }
   ],
   "source": [
    "# check for the equality of input_length and pos_length in the dataframe\n",
    "def check_lengths_match(df):\n",
    "    \"\"\"\n",
    "    Adds a 'lengths_match' column to the DataFrame indicating whether\n",
    "    'input_length' and 'pos_length' are equal for each row.\n",
    "\n",
    "    Parameters:\n",
    "    - df (pd.DataFrame): DataFrame with 'input_length' and 'pos_length' columns.\n",
    "\n",
    "    Returns:\n",
    "    - pd.DataFrame: Modified DataFrame with new 'lengths_match' column.\n",
    "    \"\"\"\n",
    "    df['lengths_match'] = df['input_length'] == df['pos_length']\n",
    "    return df\n",
    "check_lengths_match(df)"
   ]
  },
  {
   "cell_type": "markdown",
   "metadata": {
    "id": "dpJQu3JE_P7Z"
   },
   "source": [
    "##### **2.2.3** **Define a unique_labels function and validate the labels in pos_tokens** <font color = red>[2 marks]</font> <br>\n",
    "\n",
    "Define a unique_labels function which checks for all the unique pos labels in the recipe & execute it.\n"
   ]
  },
  {
   "cell_type": "code",
   "execution_count": 14,
   "metadata": {
    "id": "-4aMFCxXO_GJ"
   },
   "outputs": [
    {
     "name": "stdout",
     "output_type": "stream",
     "text": [
      "Unique POS labels found in the dataset:\n",
      "{'unit', 'quantity', 'ingredient'}\n"
     ]
    },
    {
     "data": {
      "text/plain": [
       "{'ingredient', 'quantity', 'unit'}"
      ]
     },
     "execution_count": 14,
     "metadata": {},
     "output_type": "execute_result"
    }
   ],
   "source": [
    "# Define a unique_labels function to checks for all the unique pos labels in the recipe & print it\n",
    "def unique_labels(df):\n",
    "    \"\"\"\n",
    "    Extracts and prints all unique POS labels from the 'pos_tokens' column in the DataFrame.\n",
    "\n",
    "    Parameters:\n",
    "    - df (pd.DataFrame): DataFrame with a 'pos_tokens' column containing lists of POS tags.\n",
    "\n",
    "    Returns:\n",
    "    - set: A set of unique POS labels.\n",
    "    \"\"\"\n",
    "    unique_pos = set()\n",
    "    for tokens in df['pos_tokens']:\n",
    "        if isinstance(tokens, list):\n",
    "            unique_pos.update(tokens)\n",
    "    print(\"Unique POS labels found in the dataset:\")\n",
    "    print(unique_pos)\n",
    "    return unique_pos\n",
    "unique_labels(df)"
   ]
  },
  {
   "cell_type": "markdown",
   "metadata": {
    "id": "JbriClEV9CW5"
   },
   "source": [
    "##### **2.2.3** **Provide the insights seen in the recipe data after validation** <font color = red>[1 marks]</font> <br>\n",
    "\n"
   ]
  },
  {
   "cell_type": "markdown",
   "metadata": {
    "id": "rrNQ4AtD9RPk"
   },
   "source": [
    "<font color = red>[write your answer]</font> <br>\n"
   ]
  },
  {
   "cell_type": "code",
   "execution_count": 15,
   "metadata": {},
   "outputs": [
    {
     "data": {
      "text/plain": [
       "[17, 27, 79, 164, 207]"
      ]
     },
     "execution_count": 15,
     "metadata": {},
     "output_type": "execute_result"
    }
   ],
   "source": [
    "def find_mismatched_indexes(df):\n",
    "    \"\"\"\n",
    "    Returns the indexes of rows where 'input_length' and 'pos_length' are not equal.\n",
    "\n",
    "    Parameters:\n",
    "    - df (pd.DataFrame): DataFrame with 'input_length' and 'pos_length' columns.\n",
    "\n",
    "    Returns:\n",
    "    - list: List of index values where the lengths do not match.\n",
    "    \"\"\"\n",
    "    mismatched_indexes = df[df['input_length'] != df['pos_length']].index.tolist()\n",
    "    return mismatched_indexes\n",
    "\n",
    "find_mismatched_indexes(df)"
   ]
  },
  {
   "cell_type": "markdown",
   "metadata": {
    "id": "Qtqtij2-CD2m"
   },
   "source": [
    "##### **2.2.4** **Drop the rows that have invalid data provided in previous cell** <font color = red> [2 marks]</font> <br>"
   ]
  },
  {
   "cell_type": "code",
   "execution_count": 16,
   "metadata": {
    "id": "jaiy1pYWCFPA"
   },
   "outputs": [],
   "source": [
    "# drop the irrelevant recipe data\n",
    "def clean_recipe_data(df):\n",
    "    \"\"\"\n",
    "    Cleans the recipe DataFrame by removing rows with missing 'input' or 'pos' values,\n",
    "    and rows where 'input_length' and 'pos_length' do not match.\n",
    "\n",
    "    Parameters:\n",
    "    - df (pd.DataFrame): The original DataFrame.\n",
    "\n",
    "    Returns:\n",
    "    - pd.DataFrame: Cleaned DataFrame.\n",
    "    \"\"\"\n",
    "    # Drop rows with missing 'input' or 'pos'\n",
    "    df_cleaned = df.dropna(subset=['input', 'pos'])\n",
    "\n",
    "    # Split tokens\n",
    "    df_cleaned['input_tokens'] = df_cleaned['input'].apply(lambda x: x.split() if isinstance(x, str) else [])\n",
    "    df_cleaned['pos_tokens'] = df_cleaned['pos'].apply(lambda x: x.split() if isinstance(x, str) else [])\n",
    "\n",
    "    # Add token lengths\n",
    "    df_cleaned['input_length'] = df_cleaned['input_tokens'].apply(len)\n",
    "    df_cleaned['pos_length'] = df_cleaned['pos_tokens'].apply(len)\n",
    "\n",
    "    # Keep only rows where lengths match\n",
    "    df_cleaned = df_cleaned[df_cleaned['input_length'] == df_cleaned['pos_length']]\n",
    "\n",
    "    return df_cleaned\n",
    "df1=clean_recipe_data(df)"
   ]
  },
  {
   "cell_type": "markdown",
   "metadata": {
    "id": "_RJEStPSC9PB"
   },
   "source": [
    "##### **2.2.5** **Update the input_length & pos_length in dataframe**<font color = red> [2 marks]</font> <br>"
   ]
  },
  {
   "cell_type": "code",
   "execution_count": 17,
   "metadata": {
    "id": "XjJd7gPI5_ca"
   },
   "outputs": [
    {
     "data": {
      "text/html": [
       "<div>\n",
       "<style scoped>\n",
       "    .dataframe tbody tr th:only-of-type {\n",
       "        vertical-align: middle;\n",
       "    }\n",
       "\n",
       "    .dataframe tbody tr th {\n",
       "        vertical-align: top;\n",
       "    }\n",
       "\n",
       "    .dataframe thead th {\n",
       "        text-align: right;\n",
       "    }\n",
       "</style>\n",
       "<table border=\"1\" class=\"dataframe\">\n",
       "  <thead>\n",
       "    <tr style=\"text-align: right;\">\n",
       "      <th></th>\n",
       "      <th>input</th>\n",
       "      <th>pos</th>\n",
       "      <th>input_tokens</th>\n",
       "      <th>pos_tokens</th>\n",
       "      <th>input_length</th>\n",
       "      <th>pos_length</th>\n",
       "      <th>lengths_match</th>\n",
       "    </tr>\n",
       "  </thead>\n",
       "  <tbody>\n",
       "    <tr>\n",
       "      <th>0</th>\n",
       "      <td>6 Karela Bitter Gourd Pavakkai Salt 1 Onion 3 tablespoon Gram flour besan 2 teaspoons Turmeric powder Haldi Red Chilli Cumin seeds Jeera Coriander Powder Dhania Amchur Dry Mango Sunflower Oil</td>\n",
       "      <td>quantity ingredient ingredient ingredient ingredient ingredient quantity ingredient quantity unit ingredient ingredient ingredient quantity unit ingredient ingredient ingredient ingredient ingredient ingredient ingredient ingredient ingredient ingredient ingredient ingredient ingredient ingredient ingredient ingredient</td>\n",
       "      <td>[6, Karela, Bitter, Gourd, Pavakkai, Salt, 1, Onion, 3, tablespoon, Gram, flour, besan, 2, teaspoons, Turmeric, powder, Haldi, Red, Chilli, Cumin, seeds, Jeera, Coriander, Powder, Dhania, Amchur, Dry, Mango, Sunflower, Oil]</td>\n",
       "      <td>[quantity, ingredient, ingredient, ingredient, ingredient, ingredient, quantity, ingredient, quantity, unit, ingredient, ingredient, ingredient, quantity, unit, ingredient, ingredient, ingredient, ingredient, ingredient, ingredient, ingredient, ingredient, ingredient, ingredient, ingredient, ingredient, ingredient, ingredient, ingredient, ingredient]</td>\n",
       "      <td>31</td>\n",
       "      <td>31</td>\n",
       "      <td>True</td>\n",
       "    </tr>\n",
       "    <tr>\n",
       "      <th>1</th>\n",
       "      <td>2-1/2 cups rice cooked 3 tomatoes teaspoons BC Belle Bhat powder 1 teaspoon chickpea lentils 1/2 cumin seeds white urad dal mustard green chilli dry red 2 cashew or peanuts 1-1/2 tablespoon oil asafoetida</td>\n",
       "      <td>quantity unit ingredient ingredient quantity ingredient unit ingredient ingredient ingredient ingredient quantity unit ingredient ingredient quantity ingredient ingredient ingredient ingredient ingredient ingredient ingredient ingredient ingredient ingredient quantity ingredient ingredient ingredient quantity unit ingredient ingredient</td>\n",
       "      <td>[2-1/2, cups, rice, cooked, 3, tomatoes, teaspoons, BC, Belle, Bhat, powder, 1, teaspoon, chickpea, lentils, 1/2, cumin, seeds, white, urad, dal, mustard, green, chilli, dry, red, 2, cashew, or, peanuts, 1-1/2, tablespoon, oil, asafoetida]</td>\n",
       "      <td>[quantity, unit, ingredient, ingredient, quantity, ingredient, unit, ingredient, ingredient, ingredient, ingredient, quantity, unit, ingredient, ingredient, quantity, ingredient, ingredient, ingredient, ingredient, ingredient, ingredient, ingredient, ingredient, ingredient, ingredient, quantity, ingredient, ingredient, ingredient, quantity, unit, ingredient, ingredient]</td>\n",
       "      <td>34</td>\n",
       "      <td>34</td>\n",
       "      <td>True</td>\n",
       "    </tr>\n",
       "    <tr>\n",
       "      <th>2</th>\n",
       "      <td>1-1/2 cups Rice Vermicelli Noodles Thin 1 Onion sliced 1/2 cup Carrots Gajjar chopped 1/3 Green peas Matar 2 Chillies 1/4 teaspoon Asafoetida hing Mustard seeds White Urad Dal Split Ghee sprig Curry leaves Salt Lemon juice</td>\n",
       "      <td>quantity unit ingredient ingredient ingredient ingredient quantity ingredient ingredient quantity unit ingredient ingredient ingredient quantity ingredient ingredient ingredient quantity ingredient quantity unit ingredient ingredient ingredient ingredient ingredient ingredient ingredient ingredient ingredient unit ingredient ingredient ingredient ingredient ingredient</td>\n",
       "      <td>[1-1/2, cups, Rice, Vermicelli, Noodles, Thin, 1, Onion, sliced, 1/2, cup, Carrots, Gajjar, chopped, 1/3, Green, peas, Matar, 2, Chillies, 1/4, teaspoon, Asafoetida, hing, Mustard, seeds, White, Urad, Dal, Split, Ghee, sprig, Curry, leaves, Salt, Lemon, juice]</td>\n",
       "      <td>[quantity, unit, ingredient, ingredient, ingredient, ingredient, quantity, ingredient, ingredient, quantity, unit, ingredient, ingredient, ingredient, quantity, ingredient, ingredient, ingredient, quantity, ingredient, quantity, unit, ingredient, ingredient, ingredient, ingredient, ingredient, ingredient, ingredient, ingredient, ingredient, unit, ingredient, ingredient, ingredient, ingredient, ingredient]</td>\n",
       "      <td>37</td>\n",
       "      <td>37</td>\n",
       "      <td>True</td>\n",
       "    </tr>\n",
       "    <tr>\n",
       "      <th>3</th>\n",
       "      <td>500 grams Chicken 2 Onion chopped 1 Tomato 4 Green Chillies slit inch Ginger finely 6 cloves Garlic 1/2 teaspoon Turmeric powder Haldi Garam masala tablespoon Sesame Gingelly Oil 1/4 Methi Seeds Fenugreek Coriander Dhania Dry Red Fennel seeds Saunf cups Sorrel Leaves Gongura picked and</td>\n",
       "      <td>quantity unit ingredient quantity ingredient ingredient quantity ingredient quantity ingredient ingredient ingredient unit ingredient ingredient quantity unit ingredient quantity unit ingredient ingredient ingredient ingredient ingredient unit ingredient ingredient ingredient quantity ingredient ingredient ingredient ingredient ingredient ingredient ingredient ingredient ingredient ingredient unit ingredient ingredient ingredient ingredient ingredient</td>\n",
       "      <td>[500, grams, Chicken, 2, Onion, chopped, 1, Tomato, 4, Green, Chillies, slit, inch, Ginger, finely, 6, cloves, Garlic, 1/2, teaspoon, Turmeric, powder, Haldi, Garam, masala, tablespoon, Sesame, Gingelly, Oil, 1/4, Methi, Seeds, Fenugreek, Coriander, Dhania, Dry, Red, Fennel, seeds, Saunf, cups, Sorrel, Leaves, Gongura, picked, and]</td>\n",
       "      <td>[quantity, unit, ingredient, quantity, ingredient, ingredient, quantity, ingredient, quantity, ingredient, ingredient, ingredient, unit, ingredient, ingredient, quantity, unit, ingredient, quantity, unit, ingredient, ingredient, ingredient, ingredient, ingredient, unit, ingredient, ingredient, ingredient, quantity, ingredient, ingredient, ingredient, ingredient, ingredient, ingredient, ingredient, ingredient, ingredient, ingredient, unit, ingredient, ingredient, ingredient, ingredient, ingredient]</td>\n",
       "      <td>46</td>\n",
       "      <td>46</td>\n",
       "      <td>True</td>\n",
       "    </tr>\n",
       "    <tr>\n",
       "      <th>4</th>\n",
       "      <td>1 tablespoon chana dal white urad 2 red chillies coriander seeds 3 inches ginger onion tomato Teaspoon mustard asafoetida sprig curry</td>\n",
       "      <td>quantity unit ingredient ingredient ingredient ingredient quantity ingredient ingredient ingredient ingredient quantity unit ingredient ingredient ingredient unit ingredient ingredient unit ingredient</td>\n",
       "      <td>[1, tablespoon, chana, dal, white, urad, 2, red, chillies, coriander, seeds, 3, inches, ginger, onion, tomato, Teaspoon, mustard, asafoetida, sprig, curry]</td>\n",
       "      <td>[quantity, unit, ingredient, ingredient, ingredient, ingredient, quantity, ingredient, ingredient, ingredient, ingredient, quantity, unit, ingredient, ingredient, ingredient, unit, ingredient, ingredient, unit, ingredient]</td>\n",
       "      <td>21</td>\n",
       "      <td>21</td>\n",
       "      <td>True</td>\n",
       "    </tr>\n",
       "    <tr>\n",
       "      <th>...</th>\n",
       "      <td>...</td>\n",
       "      <td>...</td>\n",
       "      <td>...</td>\n",
       "      <td>...</td>\n",
       "      <td>...</td>\n",
       "      <td>...</td>\n",
       "      <td>...</td>\n",
       "    </tr>\n",
       "    <tr>\n",
       "      <th>280</th>\n",
       "      <td>2 Mooli Mullangi Radish 200 grams Paneer Homemade Cottage Cheese 1 Green Chilli 4 cloves Garlic inch Ginger teaspoon Cumin powder Sunflower Oil Salt 1/4 Turmeric Haldi cup Whole Wheat Flour Ghee</td>\n",
       "      <td>quantity ingredient ingredient ingredient quantity unit ingredient ingredient ingredient ingredient quantity ingredient ingredient quantity unit ingredient unit ingredient unit ingredient ingredient ingredient ingredient ingredient quantity ingredient ingredient unit ingredient ingredient ingredient ingredient</td>\n",
       "      <td>[2, Mooli, Mullangi, Radish, 200, grams, Paneer, Homemade, Cottage, Cheese, 1, Green, Chilli, 4, cloves, Garlic, inch, Ginger, teaspoon, Cumin, powder, Sunflower, Oil, Salt, 1/4, Turmeric, Haldi, cup, Whole, Wheat, Flour, Ghee]</td>\n",
       "      <td>[quantity, ingredient, ingredient, ingredient, quantity, unit, ingredient, ingredient, ingredient, ingredient, quantity, ingredient, ingredient, quantity, unit, ingredient, unit, ingredient, unit, ingredient, ingredient, ingredient, ingredient, ingredient, quantity, ingredient, ingredient, unit, ingredient, ingredient, ingredient, ingredient]</td>\n",
       "      <td>32</td>\n",
       "      <td>32</td>\n",
       "      <td>True</td>\n",
       "    </tr>\n",
       "    <tr>\n",
       "      <th>281</th>\n",
       "      <td>2 cups Fresh orange juice teaspoons Ginger grated tablespoons Tea Monk Seiki Peppermint Green 4 Chilled water</td>\n",
       "      <td>quantity unit ingredient ingredient ingredient unit ingredient ingredient unit ingredient ingredient ingredient ingredient ingredient quantity ingredient ingredient</td>\n",
       "      <td>[2, cups, Fresh, orange, juice, teaspoons, Ginger, grated, tablespoons, Tea, Monk, Seiki, Peppermint, Green, 4, Chilled, water]</td>\n",
       "      <td>[quantity, unit, ingredient, ingredient, ingredient, unit, ingredient, ingredient, unit, ingredient, ingredient, ingredient, ingredient, ingredient, quantity, ingredient, ingredient]</td>\n",
       "      <td>17</td>\n",
       "      <td>17</td>\n",
       "      <td>True</td>\n",
       "    </tr>\n",
       "    <tr>\n",
       "      <th>282</th>\n",
       "      <td>3 Potatoes Aloo 2 Green zucchini 1 tablespoon Red Chilli flakes Dried oregano Thyme Leaves Black pepper powder 1/4 cup Cheddar cheese grated 1/2 Whole Wheat Bread crumbs Salt</td>\n",
       "      <td>quantity ingredient ingredient quantity ingredient ingredient quantity unit ingredient ingredient ingredient ingredient ingredient ingredient ingredient ingredient ingredient ingredient quantity unit ingredient ingredient ingredient quantity ingredient ingredient ingredient ingredient ingredient</td>\n",
       "      <td>[3, Potatoes, Aloo, 2, Green, zucchini, 1, tablespoon, Red, Chilli, flakes, Dried, oregano, Thyme, Leaves, Black, pepper, powder, 1/4, cup, Cheddar, cheese, grated, 1/2, Whole, Wheat, Bread, crumbs, Salt]</td>\n",
       "      <td>[quantity, ingredient, ingredient, quantity, ingredient, ingredient, quantity, unit, ingredient, ingredient, ingredient, ingredient, ingredient, ingredient, ingredient, ingredient, ingredient, ingredient, quantity, unit, ingredient, ingredient, ingredient, quantity, ingredient, ingredient, ingredient, ingredient, ingredient]</td>\n",
       "      <td>29</td>\n",
       "      <td>29</td>\n",
       "      <td>True</td>\n",
       "    </tr>\n",
       "    <tr>\n",
       "      <th>283</th>\n",
       "      <td>1 cup Pink Masoor Dal 200 grams Drumstick Leaves Moringa Murungai Keerai 1/4 teaspoon Asafoetida hing Cumin seeds Jeera inch Ginger finely chopped Dry Red Chilli Tomato Green slit 2 teaspoons Coriander Powder Dhania 1/2 Turmeric powder Haldi Salt tablespoon Ghee Lemon juice extracted</td>\n",
       "      <td>quantity unit ingredient ingredient ingredient quantity unit ingredient ingredient ingredient ingredient ingredient quantity unit ingredient ingredient ingredient ingredient ingredient unit ingredient ingredient ingredient ingredient ingredient ingredient ingredient ingredient ingredient quantity unit ingredient ingredient ingredient quantity ingredient ingredient ingredient ingredient unit ingredient ingredient ingredient ingredient</td>\n",
       "      <td>[1, cup, Pink, Masoor, Dal, 200, grams, Drumstick, Leaves, Moringa, Murungai, Keerai, 1/4, teaspoon, Asafoetida, hing, Cumin, seeds, Jeera, inch, Ginger, finely, chopped, Dry, Red, Chilli, Tomato, Green, slit, 2, teaspoons, Coriander, Powder, Dhania, 1/2, Turmeric, powder, Haldi, Salt, tablespoon, Ghee, Lemon, juice, extracted]</td>\n",
       "      <td>[quantity, unit, ingredient, ingredient, ingredient, quantity, unit, ingredient, ingredient, ingredient, ingredient, ingredient, quantity, unit, ingredient, ingredient, ingredient, ingredient, ingredient, unit, ingredient, ingredient, ingredient, ingredient, ingredient, ingredient, ingredient, ingredient, ingredient, quantity, unit, ingredient, ingredient, ingredient, quantity, ingredient, ingredient, ingredient, ingredient, unit, ingredient, ingredient, ingredient, ingredient]</td>\n",
       "      <td>44</td>\n",
       "      <td>44</td>\n",
       "      <td>True</td>\n",
       "    </tr>\n",
       "    <tr>\n",
       "      <th>284</th>\n",
       "      <td>1/2 cup Bajra Flour Jowar Whole Wheat 2 cups Methi Leaves inch Ginger 3 Green Chillies 1 tablespoon Sesame seeds teaspoons Red Chilli powder Turmeric 1/4 teaspoon Asafoetida 5 tablespoons Curd Sugar Sunflower Oil</td>\n",
       "      <td>quantity unit ingredient ingredient ingredient ingredient ingredient quantity unit ingredient ingredient unit ingredient quantity ingredient ingredient quantity unit ingredient ingredient unit ingredient ingredient ingredient ingredient quantity unit ingredient quantity unit ingredient ingredient ingredient ingredient</td>\n",
       "      <td>[1/2, cup, Bajra, Flour, Jowar, Whole, Wheat, 2, cups, Methi, Leaves, inch, Ginger, 3, Green, Chillies, 1, tablespoon, Sesame, seeds, teaspoons, Red, Chilli, powder, Turmeric, 1/4, teaspoon, Asafoetida, 5, tablespoons, Curd, Sugar, Sunflower, Oil]</td>\n",
       "      <td>[quantity, unit, ingredient, ingredient, ingredient, ingredient, ingredient, quantity, unit, ingredient, ingredient, unit, ingredient, quantity, ingredient, ingredient, quantity, unit, ingredient, ingredient, unit, ingredient, ingredient, ingredient, ingredient, quantity, unit, ingredient, quantity, unit, ingredient, ingredient, ingredient, ingredient]</td>\n",
       "      <td>34</td>\n",
       "      <td>34</td>\n",
       "      <td>True</td>\n",
       "    </tr>\n",
       "  </tbody>\n",
       "</table>\n",
       "<p>280 rows × 7 columns</p>\n",
       "</div>"
      ],
      "text/plain": [
       "                                                                                                                                                                                                                                                                                              input                                                                                                                                                                                                                                                                                                                                                                                                                                                                      pos                                                                                                                                                                                                                                                                                                                                   input_tokens                                                                                                                                                                                                                                                                                                                                                                                                                                                                                                              pos_tokens  input_length  pos_length  lengths_match\n",
       "0                                                                                                   6 Karela Bitter Gourd Pavakkai Salt 1 Onion 3 tablespoon Gram flour besan 2 teaspoons Turmeric powder Haldi Red Chilli Cumin seeds Jeera Coriander Powder Dhania Amchur Dry Mango Sunflower Oil                                                                                                                                         quantity ingredient ingredient ingredient ingredient ingredient quantity ingredient quantity unit ingredient ingredient ingredient quantity unit ingredient ingredient ingredient ingredient ingredient ingredient ingredient ingredient ingredient ingredient ingredient ingredient ingredient ingredient ingredient ingredient                                                                                                                [6, Karela, Bitter, Gourd, Pavakkai, Salt, 1, Onion, 3, tablespoon, Gram, flour, besan, 2, teaspoons, Turmeric, powder, Haldi, Red, Chilli, Cumin, seeds, Jeera, Coriander, Powder, Dhania, Amchur, Dry, Mango, Sunflower, Oil]                                                                                                                                                        [quantity, ingredient, ingredient, ingredient, ingredient, ingredient, quantity, ingredient, quantity, unit, ingredient, ingredient, ingredient, quantity, unit, ingredient, ingredient, ingredient, ingredient, ingredient, ingredient, ingredient, ingredient, ingredient, ingredient, ingredient, ingredient, ingredient, ingredient, ingredient, ingredient]            31          31           True\n",
       "1                                                                                      2-1/2 cups rice cooked 3 tomatoes teaspoons BC Belle Bhat powder 1 teaspoon chickpea lentils 1/2 cumin seeds white urad dal mustard green chilli dry red 2 cashew or peanuts 1-1/2 tablespoon oil asafoetida                                                                                                                        quantity unit ingredient ingredient quantity ingredient unit ingredient ingredient ingredient ingredient quantity unit ingredient ingredient quantity ingredient ingredient ingredient ingredient ingredient ingredient ingredient ingredient ingredient ingredient quantity ingredient ingredient ingredient quantity unit ingredient ingredient                                                                                                [2-1/2, cups, rice, cooked, 3, tomatoes, teaspoons, BC, Belle, Bhat, powder, 1, teaspoon, chickpea, lentils, 1/2, cumin, seeds, white, urad, dal, mustard, green, chilli, dry, red, 2, cashew, or, peanuts, 1-1/2, tablespoon, oil, asafoetida]                                                                                                                                    [quantity, unit, ingredient, ingredient, quantity, ingredient, unit, ingredient, ingredient, ingredient, ingredient, quantity, unit, ingredient, ingredient, quantity, ingredient, ingredient, ingredient, ingredient, ingredient, ingredient, ingredient, ingredient, ingredient, ingredient, quantity, ingredient, ingredient, ingredient, quantity, unit, ingredient, ingredient]            34          34           True\n",
       "2                                                                    1-1/2 cups Rice Vermicelli Noodles Thin 1 Onion sliced 1/2 cup Carrots Gajjar chopped 1/3 Green peas Matar 2 Chillies 1/4 teaspoon Asafoetida hing Mustard seeds White Urad Dal Split Ghee sprig Curry leaves Salt Lemon juice                                                                                       quantity unit ingredient ingredient ingredient ingredient quantity ingredient ingredient quantity unit ingredient ingredient ingredient quantity ingredient ingredient ingredient quantity ingredient quantity unit ingredient ingredient ingredient ingredient ingredient ingredient ingredient ingredient ingredient unit ingredient ingredient ingredient ingredient ingredient                                                                           [1-1/2, cups, Rice, Vermicelli, Noodles, Thin, 1, Onion, sliced, 1/2, cup, Carrots, Gajjar, chopped, 1/3, Green, peas, Matar, 2, Chillies, 1/4, teaspoon, Asafoetida, hing, Mustard, seeds, White, Urad, Dal, Split, Ghee, sprig, Curry, leaves, Salt, Lemon, juice]                                                                                                [quantity, unit, ingredient, ingredient, ingredient, ingredient, quantity, ingredient, ingredient, quantity, unit, ingredient, ingredient, ingredient, quantity, ingredient, ingredient, ingredient, quantity, ingredient, quantity, unit, ingredient, ingredient, ingredient, ingredient, ingredient, ingredient, ingredient, ingredient, ingredient, unit, ingredient, ingredient, ingredient, ingredient, ingredient]            37          37           True\n",
       "3    500 grams Chicken 2 Onion chopped 1 Tomato 4 Green Chillies slit inch Ginger finely 6 cloves Garlic 1/2 teaspoon Turmeric powder Haldi Garam masala tablespoon Sesame Gingelly Oil 1/4 Methi Seeds Fenugreek Coriander Dhania Dry Red Fennel seeds Saunf cups Sorrel Leaves Gongura picked and  quantity unit ingredient quantity ingredient ingredient quantity ingredient quantity ingredient ingredient ingredient unit ingredient ingredient quantity unit ingredient quantity unit ingredient ingredient ingredient ingredient ingredient unit ingredient ingredient ingredient quantity ingredient ingredient ingredient ingredient ingredient ingredient ingredient ingredient ingredient ingredient unit ingredient ingredient ingredient ingredient ingredient  [500, grams, Chicken, 2, Onion, chopped, 1, Tomato, 4, Green, Chillies, slit, inch, Ginger, finely, 6, cloves, Garlic, 1/2, teaspoon, Turmeric, powder, Haldi, Garam, masala, tablespoon, Sesame, Gingelly, Oil, 1/4, Methi, Seeds, Fenugreek, Coriander, Dhania, Dry, Red, Fennel, seeds, Saunf, cups, Sorrel, Leaves, Gongura, picked, and]  [quantity, unit, ingredient, quantity, ingredient, ingredient, quantity, ingredient, quantity, ingredient, ingredient, ingredient, unit, ingredient, ingredient, quantity, unit, ingredient, quantity, unit, ingredient, ingredient, ingredient, ingredient, ingredient, unit, ingredient, ingredient, ingredient, quantity, ingredient, ingredient, ingredient, ingredient, ingredient, ingredient, ingredient, ingredient, ingredient, ingredient, unit, ingredient, ingredient, ingredient, ingredient, ingredient]            46          46           True\n",
       "4                                                                                                                                                             1 tablespoon chana dal white urad 2 red chillies coriander seeds 3 inches ginger onion tomato Teaspoon mustard asafoetida sprig curry                                                                                                                                                                                                                                                                 quantity unit ingredient ingredient ingredient ingredient quantity ingredient ingredient ingredient ingredient quantity unit ingredient ingredient ingredient unit ingredient ingredient unit ingredient                                                                                                                                                                                    [1, tablespoon, chana, dal, white, urad, 2, red, chillies, coriander, seeds, 3, inches, ginger, onion, tomato, Teaspoon, mustard, asafoetida, sprig, curry]                                                                                                                                                                                                                                                                                          [quantity, unit, ingredient, ingredient, ingredient, ingredient, quantity, ingredient, ingredient, ingredient, ingredient, quantity, unit, ingredient, ingredient, ingredient, unit, ingredient, ingredient, unit, ingredient]            21          21           True\n",
       "..                                                                                                                                                                                                                                                                                              ...                                                                                                                                                                                                                                                                                                                                                                                                                                                                      ...                                                                                                                                                                                                                                                                                                                                            ...                                                                                                                                                                                                                                                                                                                                                                                                                                                                                                                     ...           ...         ...            ...\n",
       "280                                                                                              2 Mooli Mullangi Radish 200 grams Paneer Homemade Cottage Cheese 1 Green Chilli 4 cloves Garlic inch Ginger teaspoon Cumin powder Sunflower Oil Salt 1/4 Turmeric Haldi cup Whole Wheat Flour Ghee                                                                                                                                                  quantity ingredient ingredient ingredient quantity unit ingredient ingredient ingredient ingredient quantity ingredient ingredient quantity unit ingredient unit ingredient unit ingredient ingredient ingredient ingredient ingredient quantity ingredient ingredient unit ingredient ingredient ingredient ingredient                                                                                                            [2, Mooli, Mullangi, Radish, 200, grams, Paneer, Homemade, Cottage, Cheese, 1, Green, Chilli, 4, cloves, Garlic, inch, Ginger, teaspoon, Cumin, powder, Sunflower, Oil, Salt, 1/4, Turmeric, Haldi, cup, Whole, Wheat, Flour, Ghee]                                                                                                                                                                [quantity, ingredient, ingredient, ingredient, quantity, unit, ingredient, ingredient, ingredient, ingredient, quantity, ingredient, ingredient, quantity, unit, ingredient, unit, ingredient, unit, ingredient, ingredient, ingredient, ingredient, ingredient, quantity, ingredient, ingredient, unit, ingredient, ingredient, ingredient, ingredient]            32          32           True\n",
       "281                                                                                                                                                                                   2 cups Fresh orange juice teaspoons Ginger grated tablespoons Tea Monk Seiki Peppermint Green 4 Chilled water                                                                                                                                                                                                                                                                                                     quantity unit ingredient ingredient ingredient unit ingredient ingredient unit ingredient ingredient ingredient ingredient ingredient quantity ingredient ingredient                                                                                                                                                                                                                [2, cups, Fresh, orange, juice, teaspoons, Ginger, grated, tablespoons, Tea, Monk, Seiki, Peppermint, Green, 4, Chilled, water]                                                                                                                                                                                                                                                                                                                                  [quantity, unit, ingredient, ingredient, ingredient, unit, ingredient, ingredient, unit, ingredient, ingredient, ingredient, ingredient, ingredient, quantity, ingredient, ingredient]            17          17           True\n",
       "282                                                                                                                  3 Potatoes Aloo 2 Green zucchini 1 tablespoon Red Chilli flakes Dried oregano Thyme Leaves Black pepper powder 1/4 cup Cheddar cheese grated 1/2 Whole Wheat Bread crumbs Salt                                                                                                                                                                 quantity ingredient ingredient quantity ingredient ingredient quantity unit ingredient ingredient ingredient ingredient ingredient ingredient ingredient ingredient ingredient ingredient quantity unit ingredient ingredient ingredient quantity ingredient ingredient ingredient ingredient ingredient                                                                                                                                   [3, Potatoes, Aloo, 2, Green, zucchini, 1, tablespoon, Red, Chilli, flakes, Dried, oregano, Thyme, Leaves, Black, pepper, powder, 1/4, cup, Cheddar, cheese, grated, 1/2, Whole, Wheat, Bread, crumbs, Salt]                                                                                                                                                                                  [quantity, ingredient, ingredient, quantity, ingredient, ingredient, quantity, unit, ingredient, ingredient, ingredient, ingredient, ingredient, ingredient, ingredient, ingredient, ingredient, ingredient, quantity, unit, ingredient, ingredient, ingredient, quantity, ingredient, ingredient, ingredient, ingredient, ingredient]            29          29           True\n",
       "283    1 cup Pink Masoor Dal 200 grams Drumstick Leaves Moringa Murungai Keerai 1/4 teaspoon Asafoetida hing Cumin seeds Jeera inch Ginger finely chopped Dry Red Chilli Tomato Green slit 2 teaspoons Coriander Powder Dhania 1/2 Turmeric powder Haldi Salt tablespoon Ghee Lemon juice extracted                    quantity unit ingredient ingredient ingredient quantity unit ingredient ingredient ingredient ingredient ingredient quantity unit ingredient ingredient ingredient ingredient ingredient unit ingredient ingredient ingredient ingredient ingredient ingredient ingredient ingredient ingredient quantity unit ingredient ingredient ingredient quantity ingredient ingredient ingredient ingredient unit ingredient ingredient ingredient ingredient      [1, cup, Pink, Masoor, Dal, 200, grams, Drumstick, Leaves, Moringa, Murungai, Keerai, 1/4, teaspoon, Asafoetida, hing, Cumin, seeds, Jeera, inch, Ginger, finely, chopped, Dry, Red, Chilli, Tomato, Green, slit, 2, teaspoons, Coriander, Powder, Dhania, 1/2, Turmeric, powder, Haldi, Salt, tablespoon, Ghee, Lemon, juice, extracted]                      [quantity, unit, ingredient, ingredient, ingredient, quantity, unit, ingredient, ingredient, ingredient, ingredient, ingredient, quantity, unit, ingredient, ingredient, ingredient, ingredient, ingredient, unit, ingredient, ingredient, ingredient, ingredient, ingredient, ingredient, ingredient, ingredient, ingredient, quantity, unit, ingredient, ingredient, ingredient, quantity, ingredient, ingredient, ingredient, ingredient, unit, ingredient, ingredient, ingredient, ingredient]            44          44           True\n",
       "284                                                                            1/2 cup Bajra Flour Jowar Whole Wheat 2 cups Methi Leaves inch Ginger 3 Green Chillies 1 tablespoon Sesame seeds teaspoons Red Chilli powder Turmeric 1/4 teaspoon Asafoetida 5 tablespoons Curd Sugar Sunflower Oil                                                                                                                                          quantity unit ingredient ingredient ingredient ingredient ingredient quantity unit ingredient ingredient unit ingredient quantity ingredient ingredient quantity unit ingredient ingredient unit ingredient ingredient ingredient ingredient quantity unit ingredient quantity unit ingredient ingredient ingredient ingredient                                                                                        [1/2, cup, Bajra, Flour, Jowar, Whole, Wheat, 2, cups, Methi, Leaves, inch, Ginger, 3, Green, Chillies, 1, tablespoon, Sesame, seeds, teaspoons, Red, Chilli, powder, Turmeric, 1/4, teaspoon, Asafoetida, 5, tablespoons, Curd, Sugar, Sunflower, Oil]                                                                                                                                                      [quantity, unit, ingredient, ingredient, ingredient, ingredient, ingredient, quantity, unit, ingredient, ingredient, unit, ingredient, quantity, ingredient, ingredient, quantity, unit, ingredient, ingredient, unit, ingredient, ingredient, ingredient, ingredient, quantity, unit, ingredient, quantity, unit, ingredient, ingredient, ingredient, ingredient]            34          34           True\n",
       "\n",
       "[280 rows x 7 columns]"
      ]
     },
     "execution_count": 17,
     "metadata": {},
     "output_type": "execute_result"
    }
   ],
   "source": [
    "# update the input and pos length in input_length and pos_length\n",
    "def update_token_lengths(df):\n",
    "    \"\"\"\n",
    "    Updates the 'input_length' and 'pos_length' columns in the DataFrame\n",
    "    based on the lengths of 'input_tokens' and 'pos_tokens'.\n",
    "\n",
    "    Parameters:\n",
    "    - df (pd.DataFrame): DataFrame with 'input_tokens' and 'pos_tokens' columns.\n",
    "\n",
    "    Returns:\n",
    "    - pd.DataFrame: Updated DataFrame with refreshed 'input_length' and 'pos_length'.\n",
    "    \"\"\"\n",
    "    df['input_length'] = df['input_tokens'].apply(len)\n",
    "    df['pos_length'] = df['pos_tokens'].apply(len)\n",
    "    return df\n",
    "update_token_lengths(df1)"
   ]
  },
  {
   "cell_type": "markdown",
   "metadata": {
    "id": "qJdYJ2TEDBzd"
   },
   "source": [
    "##### **2.2.6** **Validate the input_length and pos_length by checking unequal rows** <font color = red> [1 marks]</font> <br>"
   ]
  },
  {
   "cell_type": "code",
   "execution_count": 18,
   "metadata": {
    "id": "fdSsdOPM8aXo"
   },
   "outputs": [
    {
     "data": {
      "text/html": [
       "<div>\n",
       "<style scoped>\n",
       "    .dataframe tbody tr th:only-of-type {\n",
       "        vertical-align: middle;\n",
       "    }\n",
       "\n",
       "    .dataframe tbody tr th {\n",
       "        vertical-align: top;\n",
       "    }\n",
       "\n",
       "    .dataframe thead th {\n",
       "        text-align: right;\n",
       "    }\n",
       "</style>\n",
       "<table border=\"1\" class=\"dataframe\">\n",
       "  <thead>\n",
       "    <tr style=\"text-align: right;\">\n",
       "      <th></th>\n",
       "      <th>input</th>\n",
       "      <th>pos</th>\n",
       "      <th>input_tokens</th>\n",
       "      <th>pos_tokens</th>\n",
       "      <th>input_length</th>\n",
       "      <th>pos_length</th>\n",
       "      <th>lengths_match</th>\n",
       "    </tr>\n",
       "  </thead>\n",
       "  <tbody>\n",
       "  </tbody>\n",
       "</table>\n",
       "</div>"
      ],
      "text/plain": [
       "Empty DataFrame\n",
       "Columns: [input, pos, input_tokens, pos_tokens, input_length, pos_length, lengths_match]\n",
       "Index: []"
      ]
     },
     "execution_count": 18,
     "metadata": {},
     "output_type": "execute_result"
    }
   ],
   "source": [
    "# validate the input length and pos length as input_length and pos_length\n",
    "def find_mismatched_lengths(df):\n",
    "    \"\"\"\n",
    "    Returns rows where 'input_length' and 'pos_length' are not equal.\n",
    "\n",
    "    Parameters:\n",
    "    - df (pd.DataFrame): DataFrame with 'input_length' and 'pos_length' columns.\n",
    "\n",
    "    Returns:\n",
    "    - pd.DataFrame: Subset of DataFrame with mismatched lengths.\n",
    "    \"\"\"\n",
    "    mismatched_rows = df[df['input_length'] != df['pos_length']]\n",
    "    return mismatched_rows\n",
    "find_mismatched_lengths(df1)"
   ]
  },
  {
   "cell_type": "markdown",
   "metadata": {
    "id": "TwKLW4em-qMu"
   },
   "source": [
    "## **3** Train Validation Split (70 train - 30 val) <font color = red>[6 marks]</font> <br>"
   ]
  },
  {
   "cell_type": "markdown",
   "metadata": {
    "id": "z_pJDTVO-71z"
   },
   "source": [
    "#### **3.1** *Perform train and validation split ratio* <font color = red>[6 marks]</font> <br>\n",
    "Split the dataset with the help of input_tokens and pos_tokens and make a ratio of 70:30 split for training and validation datasets."
   ]
  },
  {
   "cell_type": "markdown",
   "metadata": {
    "id": "l-64gdDiIy9u"
   },
   "source": [
    "###### **3.1.1** **Split the dataset into train_df and val_df into 70:30 ratio** <font color = red> [1 marks]</font> <br>"
   ]
  },
  {
   "cell_type": "code",
   "execution_count": 19,
   "metadata": {
    "id": "W20A_-9E_WOv"
   },
   "outputs": [],
   "source": [
    "# split the dataset into training and validation sets\n",
    "from sklearn.model_selection import train_test_split\n",
    "\n",
    "def split_dataset(df, test_size=0.3, random_seed=0):\n",
    "    \"\"\"\n",
    "    Splits the DataFrame into training and validation sets.\n",
    "\n",
    "    Parameters:\n",
    "    - df (pd.DataFrame): The cleaned DataFrame.\n",
    "    - test_size (float): Proportion of the dataset to include in the validation split.\n",
    "    - random_seed (int): Random seed for reproducibility.\n",
    "\n",
    "    Returns:\n",
    "    - pd.DataFrame: Training set\n",
    "    - pd.DataFrame: Validation set\n",
    "    \"\"\"\n",
    "    train_df, val_df = train_test_split(df, test_size=test_size, random_state=random_seed, shuffle=True)\n",
    "    return train_df, val_df\n",
    "train_df, val_df = split_dataset(df1, test_size=0.3, random_seed=0)"
   ]
  },
  {
   "cell_type": "markdown",
   "metadata": {
    "id": "PUA05_77JRAv"
   },
   "source": [
    "###### **3.1.2** **Print the first five rows of train_df and val_df** <font color = red> [1 marks]</font> <br>"
   ]
  },
  {
   "cell_type": "code",
   "execution_count": 20,
   "metadata": {},
   "outputs": [
    {
     "data": {
      "image/png": "[encoded data removed]",
      "text/plain": [
       "<Figure size 600x400 with 1 Axes>"
      ]
     },
     "metadata": {},
     "output_type": "display_data"
    },
    {
     "data": {
      "image/png": "[encoded data removed]",
      "text/plain": [
       "<Figure size 800x500 with 1 Axes>"
      ]
     },
     "metadata": {},
     "output_type": "display_data"
    },
    {
     "data": {
      "image/png": "[encoded data removed]",
      "text/plain": [
       "<Figure size 1200x600 with 1 Axes>"
      ]
     },
     "metadata": {},
     "output_type": "display_data"
    }
   ],
   "source": [
    "import pandas as pd\n",
    "import matplotlib.pyplot as plt\n",
    "from collections import Counter\n",
    "\n",
    "def visualize_dataset(train_df, val_df):\n",
    "    # 1. Dataset Sizes\n",
    "    sizes = [len(train_df), len(val_df)]\n",
    "    labels = ['Training Set', 'Validation Set']\n",
    "    \n",
    "    plt.figure(figsize=(6, 4))\n",
    "    plt.bar(labels, sizes, color=['skyblue', 'salmon'])\n",
    "    plt.title('Dataset Sizes')\n",
    "    plt.ylabel('Number of Samples')\n",
    "    plt.show()\n",
    "\n",
    "    # 2. Input Length Distribution\n",
    "    plt.figure(figsize=(8, 5))\n",
    "    plt.hist(train_df['input_length'], bins=30, alpha=0.6, label='Training', color='skyblue')\n",
    "    plt.hist(val_df['input_length'], bins=30, alpha=0.6, label='Validation', color='salmon')\n",
    "    plt.title('Input Length Distribution')\n",
    "    plt.xlabel('Input Length')\n",
    "    plt.ylabel('Frequency')\n",
    "    plt.legend()\n",
    "    plt.show()\n",
    "\n",
    "    # 3. POS Tag Distribution\n",
    "    def get_pos_counts(df):\n",
    "        all_tags = [tag for tokens in df['pos_tokens'] for tag in tokens]\n",
    "        return Counter(all_tags)\n",
    "\n",
    "    train_pos_counts = get_pos_counts(train_df)\n",
    "    val_pos_counts = get_pos_counts(val_df)\n",
    "\n",
    "    all_tags = sorted(set(train_pos_counts.keys()).union(val_pos_counts.keys()))\n",
    "    train_counts = [train_pos_counts.get(tag, 0) for tag in all_tags]\n",
    "    val_counts = [val_pos_counts.get(tag, 0) for tag in all_tags]\n",
    "\n",
    "    x = range(len(all_tags))\n",
    "    width = 0.35\n",
    "\n",
    "    plt.figure(figsize=(12, 6))\n",
    "    plt.bar([i - width/2 for i in x], train_counts, width=width, label='Training', color='skyblue')\n",
    "    plt.bar([i + width/2 for i in x], val_counts, width=width, label='Validation', color='salmon')\n",
    "    plt.xticks(ticks=x, labels=all_tags, rotation=45)\n",
    "    plt.title('POS Tag Distribution')\n",
    "    plt.xlabel('POS Tags')\n",
    "    plt.ylabel('Frequency')\n",
    "    plt.legend()\n",
    "    plt.tight_layout()\n",
    "    plt.show()\n",
    "visualize_dataset(train_df, val_df)"
   ]
  },
  {
   "cell_type": "code",
   "execution_count": 21,
   "metadata": {
    "id": "pgMZfsbV_XhK"
   },
   "outputs": [
    {
     "name": "stdout",
     "output_type": "stream",
     "text": [
      "                                                                                                                                                                                                                                                                                                                                           input                                                                                                                                                                                                                                                                                                                                                                                                                                                                                                                                           pos                                                                                                                                                                                                                                                                                                                                                                                     input_tokens                                                                                                                                                                                                                                                                                                                                                                                                                                                                                                                                                                                        pos_tokens  input_length  pos_length  lengths_match\n",
      "251                                                                                                                500 grams Chicken 1 Onion Tomato 2 sprig Curry leaves tablespoon Ginger Garlic Paste 1/2 teaspoon Turmeric powder Haldi Cumin Jeera roasted Fennel Powder Coriander Dhania 2-1/2 Black pepper Salt Sunflower Oil Water Leaves                                                                                                                                                                                           quantity unit ingredient quantity ingredient ingredient quantity unit ingredient ingredient unit ingredient ingredient ingredient quantity unit ingredient ingredient ingredient ingredient ingredient ingredient ingredient ingredient ingredient ingredient quantity ingredient ingredient ingredient ingredient ingredient ingredient ingredient                                                                                                                                 [500, grams, Chicken, 1, Onion, Tomato, 2, sprig, Curry, leaves, tablespoon, Ginger, Garlic, Paste, 1/2, teaspoon, Turmeric, powder, Haldi, Cumin, Jeera, roasted, Fennel, Powder, Coriander, Dhania, 2-1/2, Black, pepper, Salt, Sunflower, Oil, Water, Leaves]                                                                                                                                                                                                            [quantity, unit, ingredient, quantity, ingredient, ingredient, quantity, unit, ingredient, ingredient, unit, ingredient, ingredient, ingredient, quantity, unit, ingredient, ingredient, ingredient, ingredient, ingredient, ingredient, ingredient, ingredient, ingredient, ingredient, quantity, ingredient, ingredient, ingredient, ingredient, ingredient, ingredient, ingredient]            34          34           True\n",
      "218                                                                                                                                                                                                                          500 grams Fresh Figs 1/4 cup Lemon juice 1 teaspoon zest 2 Red Chilli flakes 1/2 Honey Brown Sugar (Demerara Sugar)                                                                                                                                                                                                                                                                                                                                    quantity unit ingredient ingredient quantity unit ingredient ingredient quantity unit ingredient quantity ingredient ingredient ingredient quantity ingredient ingredient ingredient ingredient ingredient                                                                                                                                                                                                                                                        [500, grams, Fresh, Figs, 1/4, cup, Lemon, juice, 1, teaspoon, zest, 2, Red, Chilli, flakes, 1/2, Honey, Brown, Sugar, (Demerara, Sugar)]                                                                                                                                                                                                                                                                                                                                                                  [quantity, unit, ingredient, ingredient, quantity, unit, ingredient, ingredient, quantity, unit, ingredient, quantity, ingredient, ingredient, ingredient, quantity, ingredient, ingredient, ingredient, ingredient, ingredient]            21          21           True\n",
      "73                                                                      3 Green zucchini Salt Extra Virgin Olive Oil 1/2 cup Mozzarella cheese 1-1/2 finely chopped Red Bell pepper Onion 4 cloves Garlic diced 1 teaspoon Dried Thyme Leaves Rosemary Chilli flakes 500 grams Tomatoes 8 2 teaspoons Black corns crushed Sugar 1/4 Basil leaves                                                                                           quantity ingredient ingredient ingredient ingredient ingredient ingredient ingredient quantity unit ingredient ingredient quantity ingredient ingredient ingredient ingredient ingredient ingredient quantity unit ingredient ingredient quantity unit ingredient ingredient ingredient ingredient ingredient ingredient quantity unit ingredient quantity quantity unit ingredient ingredient ingredient ingredient quantity ingredient ingredient                                                                            [3, Green, zucchini, Salt, Extra, Virgin, Olive, Oil, 1/2, cup, Mozzarella, cheese, 1-1/2, finely, chopped, Red, Bell, pepper, Onion, 4, cloves, Garlic, diced, 1, teaspoon, Dried, Thyme, Leaves, Rosemary, Chilli, flakes, 500, grams, Tomatoes, 8, 2, teaspoons, Black, corns, crushed, Sugar, 1/4, Basil, leaves]                                                                                                  [quantity, ingredient, ingredient, ingredient, ingredient, ingredient, ingredient, ingredient, quantity, unit, ingredient, ingredient, quantity, ingredient, ingredient, ingredient, ingredient, ingredient, ingredient, quantity, unit, ingredient, ingredient, quantity, unit, ingredient, ingredient, ingredient, ingredient, ingredient, ingredient, quantity, unit, ingredient, quantity, quantity, unit, ingredient, ingredient, ingredient, ingredient, quantity, ingredient, ingredient]            44          44           True\n",
      "157  2 cups Brown Rice cooked tablespoons Garlic chopped 1 Green Chilli 1/2 cup Carrots (Gajjar) beans (French Beans) Bell Pepper (Capsicum) Onion Cabbage (Patta Gobi/ Muttaikose) tablespoon Roasted tomato pasta sauce - or store bought Red teaspoon Soy Ginger freshly grated Spring Greens Salt Vinegar Extra Virgin Olive Oil as required  quantity unit ingredient ingredient ingredient unit ingredient ingredient quantity ingredient ingredient quantity unit ingredient ingredient ingredient ingredient ingredient ingredient ingredient ingredient ingredient ingredient ingredient ingredient ingredient unit ingredient ingredient ingredient ingredient ingredient ingredient ingredient ingredient ingredient unit ingredient ingredient ingredient ingredient ingredient ingredient ingredient ingredient ingredient ingredient ingredient ingredient ingredient ingredient  [2, cups, Brown, Rice, cooked, tablespoons, Garlic, chopped, 1, Green, Chilli, 1/2, cup, Carrots, (Gajjar), beans, (French, Beans), Bell, Pepper, (Capsicum), Onion, Cabbage, (Patta, Gobi/, Muttaikose), tablespoon, Roasted, tomato, pasta, sauce, -, or, store, bought, Red, teaspoon, Soy, Ginger, freshly, grated, Spring, Greens, Salt, Vinegar, Extra, Virgin, Olive, Oil, as, required]  [quantity, unit, ingredient, ingredient, ingredient, unit, ingredient, ingredient, quantity, ingredient, ingredient, quantity, unit, ingredient, ingredient, ingredient, ingredient, ingredient, ingredient, ingredient, ingredient, ingredient, ingredient, ingredient, ingredient, ingredient, unit, ingredient, ingredient, ingredient, ingredient, ingredient, ingredient, ingredient, ingredient, ingredient, unit, ingredient, ingredient, ingredient, ingredient, ingredient, ingredient, ingredient, ingredient, ingredient, ingredient, ingredient, ingredient, ingredient, ingredient]            51          51           True\n",
      "225                                                                                              500 grams Baby Potatoes 1/2 teaspoon Cumin powder Jeera Black pepper Garam masala 2 teaspoons Lemon juice Sesame seeds Til 1 tablespoon Ghee or clarified butter Rock Salt cup Coriander Dhania Leaves roughly chopped inch Ginger Green Chilli                                                                                                                                                         quantity unit ingredient ingredient quantity unit ingredient ingredient ingredient ingredient ingredient ingredient ingredient quantity unit ingredient ingredient ingredient ingredient ingredient quantity unit ingredient ingredient ingredient ingredient ingredient ingredient unit ingredient ingredient ingredient ingredient ingredient unit ingredient ingredient ingredient                                                                                                           [500, grams, Baby, Potatoes, 1/2, teaspoon, Cumin, powder, Jeera, Black, pepper, Garam, masala, 2, teaspoons, Lemon, juice, Sesame, seeds, Til, 1, tablespoon, Ghee, or, clarified, butter, Rock, Salt, cup, Coriander, Dhania, Leaves, roughly, chopped, inch, Ginger, Green, Chilli]                                                                                                                                                                      [quantity, unit, ingredient, ingredient, quantity, unit, ingredient, ingredient, ingredient, ingredient, ingredient, ingredient, ingredient, quantity, unit, ingredient, ingredient, ingredient, ingredient, ingredient, quantity, unit, ingredient, ingredient, ingredient, ingredient, ingredient, ingredient, unit, ingredient, ingredient, ingredient, ingredient, ingredient, unit, ingredient, ingredient, ingredient]            38          38           True\n"
     ]
    }
   ],
   "source": [
    "# print the first five rows of train_df\n",
    "print(train_df.head())"
   ]
  },
  {
   "cell_type": "code",
   "execution_count": 22,
   "metadata": {
    "id": "Kgtg5WE4_d7h"
   },
   "outputs": [
    {
     "name": "stdout",
     "output_type": "stream",
     "text": [
      "                                                                                                                                                                                                                                              input                                                                                                                                                                                                                                                                                                                                                                    pos                                                                                                                                                                                                                                                                        input_tokens                                                                                                                                                                                                                                                                                                                                                                                                  pos_tokens  input_length  pos_length  lengths_match\n",
      "270           1/4 cup lentils green peas 1 onion finely chopped tomato 1/2 inch ginger grated 2 cloves garlic chillies Cut teaspoon turmeric powder salt mustard fenugreek seeds cumin aniseed Kalonji garam masala teaspoons oil asafetida a pinch  quantity unit ingredient ingredient ingredient quantity ingredient ingredient ingredient ingredient quantity unit ingredient ingredient quantity unit ingredient ingredient ingredient unit ingredient ingredient ingredient ingredient ingredient ingredient ingredient ingredient ingredient ingredient ingredient unit ingredient ingredient ingredient ingredient          [1/4, cup, lentils, green, peas, 1, onion, finely, chopped, tomato, 1/2, inch, ginger, grated, 2, cloves, garlic, chillies, Cut, teaspoon, turmeric, powder, salt, mustard, fenugreek, seeds, cumin, aniseed, Kalonji, garam, masala, teaspoons, oil, asafetida, a, pinch]  [quantity, unit, ingredient, ingredient, ingredient, quantity, ingredient, ingredient, ingredient, ingredient, quantity, unit, ingredient, ingredient, quantity, unit, ingredient, ingredient, ingredient, unit, ingredient, ingredient, ingredient, ingredient, ingredient, ingredient, ingredient, ingredient, ingredient, ingredient, ingredient, unit, ingredient, ingredient, ingredient, ingredient]            36          36           True\n",
      "12                                                             2 cup Tamarind Water 1/2 Arhar dal Split Toor Dal 1 teaspoon Asafoetida hing Salt Mustard seeds Cumin Jeera Methi Seeds Fenugreek sprig Curry leaves pinch Sunflower Oil for cooking                                                            quantity unit ingredient ingredient quantity ingredient ingredient ingredient ingredient ingredient quantity unit ingredient ingredient ingredient ingredient ingredient ingredient ingredient ingredient ingredient ingredient unit ingredient ingredient unit ingredient ingredient ingredient ingredient                                                                 [2, cup, Tamarind, Water, 1/2, Arhar, dal, Split, Toor, Dal, 1, teaspoon, Asafoetida, hing, Salt, Mustard, seeds, Cumin, Jeera, Methi, Seeds, Fenugreek, sprig, Curry, leaves, pinch, Sunflower, Oil, for, cooking]                                                                  [quantity, unit, ingredient, ingredient, quantity, ingredient, ingredient, ingredient, ingredient, ingredient, quantity, unit, ingredient, ingredient, ingredient, ingredient, ingredient, ingredient, ingredient, ingredient, ingredient, ingredient, unit, ingredient, ingredient, unit, ingredient, ingredient, ingredient, ingredient]            30          30           True\n",
      "113  1 Brinjal Baingan Eggplant 4 Tomatoes 2 Onions tablespoon Ginger Garlic Paste 20 grams Tamarind teaspoon Mustard seeds Whole Black Peppercorns 1/2 Jaggery 1/4 Turmeric powder Red Chilli teaspoons Sunflower Oil Salt Coriander Dhania Leaves           quantity ingredient ingredient ingredient quantity ingredient quantity ingredient unit ingredient ingredient ingredient quantity unit ingredient unit ingredient ingredient ingredient ingredient ingredient quantity ingredient quantity ingredient ingredient ingredient ingredient unit ingredient ingredient ingredient ingredient ingredient ingredient  [1, Brinjal, Baingan, Eggplant, 4, Tomatoes, 2, Onions, tablespoon, Ginger, Garlic, Paste, 20, grams, Tamarind, teaspoon, Mustard, seeds, Whole, Black, Peppercorns, 1/2, Jaggery, 1/4, Turmeric, powder, Red, Chilli, teaspoons, Sunflower, Oil, Salt, Coriander, Dhania, Leaves]            [quantity, ingredient, ingredient, ingredient, quantity, ingredient, quantity, ingredient, unit, ingredient, ingredient, ingredient, quantity, unit, ingredient, unit, ingredient, ingredient, ingredient, ingredient, ingredient, quantity, ingredient, quantity, ingredient, ingredient, ingredient, ingredient, unit, ingredient, ingredient, ingredient, ingredient, ingredient, ingredient]            35          35           True\n",
      "84                                                                                              250 grams Elephant yam 1/2 green chilli 1 inch ginger 3 tablespoons coriander chopped cup curd teaspoon oil asafetida 1-1/2 Rye Kali Urad Dal Split                                                                                                                             quantity unit ingredient ingredient quantity ingredient ingredient quantity unit ingredient quantity unit ingredient ingredient unit ingredient unit ingredient ingredient quantity ingredient ingredient ingredient ingredient ingredient                                                                                                       [250, grams, Elephant, yam, 1/2, green, chilli, 1, inch, ginger, 3, tablespoons, coriander, chopped, cup, curd, teaspoon, oil, asafetida, 1-1/2, Rye, Kali, Urad, Dal, Split]                                                                                                                                        [quantity, unit, ingredient, ingredient, quantity, ingredient, ingredient, quantity, unit, ingredient, quantity, unit, ingredient, ingredient, unit, ingredient, unit, ingredient, ingredient, quantity, ingredient, ingredient, ingredient, ingredient, ingredient]            25          25           True\n",
      "255                                                                                                                              1 tablespoon Green Coffee beans Cardamom Elaichi Pods Seeds 2.5 cups Water 1/8 teaspoon Saffron strands Rose water                                                                                                                                                                                          quantity unit ingredient ingredient ingredient ingredient ingredient ingredient ingredient quantity unit ingredient quantity unit ingredient ingredient ingredient ingredient                                                                                                                                               [1, tablespoon, Green, Coffee, beans, Cardamom, Elaichi, Pods, Seeds, 2.5, cups, Water, 1/8, teaspoon, Saffron, strands, Rose, water]                                                                                                                                                                                                            [quantity, unit, ingredient, ingredient, ingredient, ingredient, ingredient, ingredient, ingredient, quantity, unit, ingredient, quantity, unit, ingredient, ingredient, ingredient, ingredient]            18          18           True\n"
     ]
    }
   ],
   "source": [
    "# print the first five rows of the val_df\n",
    "print(val_df.head())"
   ]
  },
  {
   "cell_type": "markdown",
   "metadata": {
    "id": "7prEiaiqI_VZ"
   },
   "source": [
    "###### **3.1.3** **Extract the dataset into train_df and val_df into X_train, X_val, y_train and y_val and display their length** <font color = red> [2 marks]</font> <br>\n",
    "\n",
    "Extract X_train, X_val, y_train and y_val by extracting the list of input_tokens and pos_tokens from train_df and val_df and also display their length"
   ]
  },
  {
   "cell_type": "code",
   "execution_count": 23,
   "metadata": {
    "id": "BFVnCD71IHXF"
   },
   "outputs": [],
   "source": [
    "# extract the training and validation sets by taking input_tokens and pos_tokens\n",
    "def extract_token_columns(train_df, val_df):\n",
    "    \"\"\"\n",
    "    Extracts only the 'input_tokens' and 'pos_tokens' columns from training and validation DataFrames.\n",
    "\n",
    "    Parameters:\n",
    "    - train_df (pd.DataFrame): Training dataset.\n",
    "    - val_df (pd.DataFrame): Validation dataset.\n",
    "\n",
    "    Returns:\n",
    "    - pd.DataFrame: Training subset with only token columns.\n",
    "    - pd.DataFrame: Validation subset with only token columns.\n",
    "    \"\"\"\n",
    "    train_subset = train_df[['input_tokens', 'pos_tokens']].copy()\n",
    "    val_subset = val_df[['input_tokens', 'pos_tokens']].copy()\n",
    "    return train_subset, val_subset\n",
    "train_subset, val_subset = extract_token_columns(train_df, val_df)"
   ]
  },
  {
   "cell_type": "code",
   "execution_count": 24,
   "metadata": {
    "id": "yQPOVz3J_fiq"
   },
   "outputs": [
    {
     "name": "stdout",
     "output_type": "stream",
     "text": [
      "(196, 2)\n",
      "(84, 2)\n"
     ]
    }
   ],
   "source": [
    "# validate the shape of training and validation samples\n",
    "print(train_subset.shape)\n",
    "print(val_subset.shape)"
   ]
  },
  {
   "cell_type": "markdown",
   "metadata": {
    "id": "8uicUYglLeiA"
   },
   "source": [
    "###### **3.1.4** **Display the number of unique labels present in y_train** <font color = red> [2 marks]</font> <br>"
   ]
  },
  {
   "cell_type": "code",
   "execution_count": 25,
   "metadata": {
    "id": "hzWtzpdINt6X"
   },
   "outputs": [
    {
     "name": "stdout",
     "output_type": "stream",
     "text": [
      "Number of unique labels in y_train: 3\n"
     ]
    }
   ],
   "source": [
    "# Display the number of unique labels present in y_train\n",
    "from itertools import chain\n",
    "import pandas as pd\n",
    "\n",
    "def extract_token_columns(train_df, val_df):\n",
    "    train_subset = train_df[['input_tokens', 'pos_tokens']]\n",
    "    val_subset = val_df[['input_tokens', 'pos_tokens']]\n",
    "    return train_subset, val_subset\n",
    "\n",
    "# Example usage:\n",
    "train_subset, val_subset = extract_token_columns(train_df, val_df)\n",
    "\n",
    "# Assign features and labels\n",
    "X_train = train_subset['input_tokens']\n",
    "y_train = train_subset['pos_tokens']\n",
    "\n",
    "# Flatten y_train\n",
    "flattened_y_train = list(chain.from_iterable(y_train))\n",
    "\n",
    "# Count unique labels\n",
    "unique_labels = set(flattened_y_train)\n",
    "print(f\"Number of unique labels in y_train: {len(unique_labels)}\")\n"
   ]
  },
  {
   "cell_type": "markdown",
   "metadata": {
    "id": "QFm46QrB4gmj"
   },
   "source": [
    "## **4** Exploratory Recipe Data Analysis on Training Dataset <font color = red>[16 marks]</font> <br>"
   ]
  },
  {
   "cell_type": "markdown",
   "metadata": {
    "id": "KUWIp0n_NeH6"
   },
   "source": [
    "#### **4.1** *Flatten the lists for input_tokens & pos_tokens* <font color = red>[2 marks]</font> <br>\n",
    "\n",
    "Define a function **flatten_list** for flattening the structure for input_tokens and pos_tokens. The input parameter passed to this function is a nested list.\n",
    "\n",
    "Initialise the dataset_name with a value ***'Training'***\n",
    "\n",
    "\n"
   ]
  },
  {
   "cell_type": "code",
   "execution_count": 26,
   "metadata": {
    "id": "WzcY0gPiOe8o"
   },
   "outputs": [
    {
     "name": "stdout",
     "output_type": "stream",
     "text": [
      "First 10 input tokens: ['6', 'Karela', 'Bitter', 'Gourd', 'Pavakkai', 'Salt', '1', 'Onion', '3', 'tablespoon']\n",
      "First 10 POS tokens: ['quantity', 'ingredient', 'ingredient', 'ingredient', 'ingredient', 'ingredient', 'quantity', 'ingredient', 'quantity', 'unit']\n"
     ]
    }
   ],
   "source": [
    "# flatten the list for nested_list (input_tokens, pos_tokens)\n",
    "from itertools import chain\n",
    "\n",
    "# Flatten input_tokens\n",
    "flattened_input_tokens = list(chain.from_iterable(df['input_tokens']))\n",
    "\n",
    "# Flatten pos_tokens\n",
    "flattened_pos_tokens = list(chain.from_iterable(df['pos_tokens']))\n",
    "\n",
    "# Optional: Display the first few flattened tokens\n",
    "print(\"First 10 input tokens:\", flattened_input_tokens[:10])\n",
    "print(\"First 10 POS tokens:\", flattened_pos_tokens[:10])\n"
   ]
  },
  {
   "cell_type": "code",
   "execution_count": 27,
   "metadata": {},
   "outputs": [],
   "source": [
    "#nested_list = input_tokens + pos_tokens\n",
    "#flattened = [token for sublist in nested_list for token in sublist]\n"
   ]
  },
  {
   "cell_type": "code",
   "execution_count": 28,
   "metadata": {},
   "outputs": [
    {
     "name": "stdout",
     "output_type": "stream",
     "text": [
      "Total input tokens: 6992\n",
      "Total POS tokens: 6992\n"
     ]
    }
   ],
   "source": [
    "from itertools import chain\n",
    "\n",
    "# Flatten input_tokens\n",
    "flattened_input_tokens = list(chain.from_iterable(train_df['input_tokens']))\n",
    "\n",
    "# Flatten pos_tokens\n",
    "flattened_pos_tokens = list(chain.from_iterable(train_df['pos_tokens']))\n",
    "\n",
    "# Optional: print the number of tokens\n",
    "print(f\"Total input tokens: {len(flattened_input_tokens)}\")\n",
    "print(f\"Total POS tokens: {len(flattened_pos_tokens)}\")\n",
    "nested_list = flattened_input_tokens + flattened_pos_tokens\n",
    "\n"
   ]
  },
  {
   "cell_type": "code",
   "execution_count": 29,
   "metadata": {
    "id": "DXRda29gNBH8"
   },
   "outputs": [],
   "source": [
    "# initialise the dataset_name\n",
    "dataset_name = 'Training'"
   ]
  },
  {
   "cell_type": "markdown",
   "metadata": {
    "id": "eGOqhd8OOr1E"
   },
   "source": [
    "#### **4.2** *Extract and validate the tokens after using the flattening technique* <font color = red>[2 marks]</font> <br>\n",
    "\n",
    "Define a function named ***extract_and_validate_tokens*** with parameters dataframe and dataset_name (Training/Validation), validate the length of input_tokens and pos_tokens from dataframe and display first 10 records for both the input_tokens and pos_tokens. Execute this function\n",
    "\n",
    "\n"
   ]
  },
  {
   "cell_type": "code",
   "execution_count": 30,
   "metadata": {
    "id": "H3GMX83xP7ja"
   },
   "outputs": [],
   "source": [
    "# define a extract_and_validate_tokens with parameters (df, dataset_name)\n",
    "# call the flatten_list and apply it on input_tokens and pos_tokens\n",
    "# validate their length and display first 10 records having input and pos tokens\n",
    "\n",
    "from itertools import chain\n",
    "\n",
    "def flatten_list(nested_list):\n",
    "    \"\"\"Flatten a list of lists.\"\"\"\n",
    "    return list(chain.from_iterable(nested_list))\n",
    "\n",
    "def extract_and_validate_tokens(df, dataset_name):\n",
    "    print(f\"Processing dataset: {dataset_name}\")\n",
    "    \n",
    "    # Flatten input_tokens and pos_tokens\n",
    "    flat_input_tokens = flatten_list(df['input_tokens'])\n",
    "    flat_pos_tokens = flatten_list(df['pos_tokens'])\n",
    "    \n",
    "    # Validate lengths\n",
    "    if len(flat_input_tokens) != len(flat_pos_tokens):\n",
    "        print(f\"⚠️ Length mismatch: input_tokens = {len(flat_input_tokens)}, pos_tokens = {len(flat_pos_tokens)}\")\n",
    "    else:\n",
    "        print(f\"✅ Token lengths match: {len(flat_input_tokens)} tokens\")\n",
    "    \n",
    "    # Display first 10 token pairs\n",
    "    print(\"\\nFirst 10 token pairs:\")\n",
    "    for i in range(min(10, len(flat_input_tokens))):\n",
    "        print(f\"{flat_input_tokens[i]} --> {flat_pos_tokens[i]}\")\n"
   ]
  },
  {
   "cell_type": "code",
   "execution_count": 31,
   "metadata": {
    "id": "ajdbYMgeLpf9"
   },
   "outputs": [
    {
     "name": "stdout",
     "output_type": "stream",
     "text": [
      "Processing dataset: Training\n",
      "✅ Token lengths match: 6992 tokens\n",
      "\n",
      "First 10 token pairs:\n",
      "500 --> quantity\n",
      "grams --> unit\n",
      "Chicken --> ingredient\n",
      "1 --> quantity\n",
      "Onion --> ingredient\n",
      "Tomato --> ingredient\n",
      "2 --> quantity\n",
      "sprig --> unit\n",
      "Curry --> ingredient\n",
      "leaves --> ingredient\n"
     ]
    }
   ],
   "source": [
    "# extract the tokens and its pos tags\n",
    "extract_and_validate_tokens(train_subset,dataset_name)\n"
   ]
  },
  {
   "cell_type": "markdown",
   "metadata": {
    "id": "htZVn5wcQSok"
   },
   "source": [
    "#### **4.3** *Categorise tokens into labels (unit, ingredient, quantity)* <font color = red>[2 marks]</font> <br>\n",
    "\n",
    "Define a function ***categorize_tokens*** to categorise tokens into ingredients, units and quantities by using extracted tokens in the previous code and return a list of ingredients, units and quantities. Execute this function to get the list.\n",
    "\n",
    "tokens = [\"2\", \"cups\", \"flour\"]\n",
    "pos_tags = [\"QUANTITY\", \"UNIT\", \"INGREDIENT\"]\n",
    "\n",
    "ingredients, units, quantities = categorize_tokens(tokens, pos_tags)\n",
    "print(\"Ingredients:\", ingredients)\n",
    "print(\"Units:\", units)\n",
    "print(\"Quantities:\", quantities)\n"
   ]
  },
  {
   "cell_type": "code",
   "execution_count": 32,
   "metadata": {
    "id": "7xq0a4L7Quct"
   },
   "outputs": [],
   "source": [
    "# define a categorize_tokens function and provide the tokens and pos_tags as parameters and create ingredient, unit and quantity list and return it\n",
    "# validate the list that it comprised of these labels, if not return empty arrays\n",
    "\n",
    "def categorize_tokens(tokens, pos_tags):\n",
    "    \"\"\"\n",
    "    Categorize tokens into ingredients, units, and quantities based on their POS tags.\n",
    "    \n",
    "    Parameters:\n",
    "        tokens (list): List of tokens (words).\n",
    "        pos_tags (list): Corresponding list of POS tags.\n",
    "    \n",
    "    Returns:\n",
    "        tuple: (ingredients, units, quantities) if valid, else ([], [], [])\n",
    "    \"\"\"\n",
    "    # Define expected POS tags\n",
    "    valid_labels = {'ingredient', 'unit', 'quantity'}\n",
    "    \n",
    "    # Validate that all tags are within the expected set\n",
    "    if not all(tag in valid_labels for tag in pos_tags):\n",
    "        print(\"Invalid POS tags found. Returning empty lists.\")\n",
    "        return [], [], []\n",
    "    \n",
    "    # Initialize categorized lists\n",
    "    ingredients = [token for token, tag in zip(tokens, pos_tags) if tag == 'ingredient']\n",
    "    units = [token for token, tag in zip(tokens, pos_tags) if tag == 'unit']\n",
    "    quantities = [token for token, tag in zip(tokens, pos_tags) if tag == 'quantity']\n",
    "    \n",
    "    return ingredients, units, quantities\n"
   ]
  },
  {
   "cell_type": "code",
   "execution_count": 33,
   "metadata": {
    "id": "evcsigvUL7bM"
   },
   "outputs": [
    {
     "name": "stdout",
     "output_type": "stream",
     "text": [
      "Total input tokens: 6992\n",
      "Total POS tokens: 6992\n",
      "Ingredients: ['Chicken', 'Onion', 'Tomato', 'Curry', 'leaves', 'Ginger', 'Garlic', 'Paste', 'Turmeric', 'powder', 'Haldi', 'Cumin', 'Jeera', 'roasted', 'Fennel', 'Powder', 'Coriander', 'Dhania', 'Black', 'pepper', 'Salt', 'Sunflower', 'Oil', 'Water', 'Leaves', 'Fresh', 'Figs', 'Lemon', 'juice', 'zest', 'Red', 'Chilli', 'flakes', 'Honey', 'Brown', 'Sugar', '(Demerara', 'Sugar)', 'Green', 'zucchini', 'Salt', 'Extra', 'Virgin', 'Olive', 'Oil', 'Mozzarella', 'cheese', 'finely', 'chopped', 'Red', 'Bell', 'pepper', 'Onion', 'Garlic', 'diced', 'Dried', 'Thyme', 'Leaves', 'Rosemary', 'Chilli', 'flakes', 'Tomatoes', 'Black', 'corns', 'crushed', 'Sugar', 'Basil', 'leaves', 'Brown', 'Rice', 'cooked', 'Garlic', 'chopped', 'Green', 'Chilli', 'Carrots', '(Gajjar)', 'beans', '(French', 'Beans)', 'Bell', 'Pepper', '(Capsicum)', 'Onion', 'Cabbage', '(Patta', 'Gobi/', 'Muttaikose)', 'Roasted', 'tomato', 'pasta', 'sauce', '-', 'or', 'store', 'bought', 'Red', 'Soy', 'Ginger', 'freshly', 'grated', 'Spring', 'Greens', 'Salt', 'Vinegar', 'Extra', 'Virgin', 'Olive', 'Oil', 'as', 'required', 'Baby', 'Potatoes', 'Cumin', 'powder', 'Jeera', 'Black', 'pepper', 'Garam', 'masala', 'Lemon', 'juice', 'Sesame', 'seeds', 'Til', 'Ghee', 'or', 'clarified', 'butter', 'Rock', 'Salt', 'Coriander', 'Dhania', 'Leaves', 'roughly', 'chopped', 'Ginger', 'Green', 'Chilli', 'Potatoes', 'Aloo', 'Tomatoes', 'finely', 'chopped', 'Ginger', 'grated', 'ground', 'Green', 'Chillies', 'slit', 'Kasuri', 'Methi', 'Dried', 'Fenugreek', 'Leaves', 'Fennel', 'seeds', 'Saunf', 'Cumin', 'Jeera', 'Seeds', 'Coriander', 'Powder', 'Dhania', 'Red', 'Chilli', 'powder', 'Turmeric', 'Haldi', 'Garam', 'masala', 'Amchur', 'Dry', 'Mango', 'Ghee', 'Salt', 'to', 'taste', 'Gawar', 'Phali', 'Ajwain', 'SSP', 'Asafoetida', 'Onion', 'Tomatoes', 'Garlic', 'Ginger', 'Turmeric', 'Red', 'Chilli', 'Coriander', 'Powder', 'Jaggery', 'Raw', 'Peanuts', 'Salt', 'Water', 'Mustard', 'oil', 'Leaves', 'Kataifi', 'dough', 'Butter', 'Sugar', 'Rose', 'water', 'Water', 'Lemon', 'juice', 'Saffron', 'strands', 'Paneer', '(Homemade', 'Cottage', 'Cheese)', 'Mango', 'Pulp', '(Puree)', 'Icing', 'Thandai', 'Masala', 'Heavy', 'whipping', 'cream', 'Fresh', 'Pistachios', '-', 'crushed', 'Dried', 'rose', 'petals', 'Ada', 'Milk', 'Sugar', 'Ghee', 'Cardamom', 'Powder', 'Elaichi', 'Shrimps', 'prawns', 'Basmati', 'rice', 'Shallots', 'Ginger', 'paste', 'Garlic', 'Fresh', 'coconut', 'grated', 'Green', 'Chilli', 'Hung', 'Curd', '(Greek', 'Yogurt)', 'Curry', 'leaves', 'Sunflower', 'Oil', 'Ghee', 'Coriander', 'Powder', '(Dhania)', 'Red', 'powder', 'Turmeric', '(Haldi)', 'Garam', 'masala', 'Whole', 'Black', 'Peppercorns', 'Cardamom', '(Elaichi)', 'Pods/Seeds', 'cardamom', '(Badi', 'Elaichi)', 'Cinnamon', 'Stick', '(Dalchini)', 'Bay', '(tej', 'patta)', 'Dry', 'Cumin', 'seeds', '(Jeera)', 'Iceberg', 'lettuce', 'Chicken', 'breasts', 'cubes', 'Sunflower', 'Oil', 'Black', 'pepper', 'powder', 'Garlic', 'chopped', 'Button', 'mushrooms', 'Spring', 'Onion', 'Bulb', 'Greens', 'Chilli', 'vinegar', 'Soy', 'sauce', 'Red', 'Sweet', 'Spicy', 'Sauce', '(Tomato', 'Sauce)', 'Whole', 'Egg', 'Onion', 'chopped', 'Jaggery', 'Salt', 'Sunflower', 'Oil', 'Coriander', 'Dhania', 'Leaves', 'Fresh', 'coconut', 'grated', 'Seeds', 'Dry', 'Red', 'Chilli', 'Sesame', 'seeds', 'Til', 'Poppy', 'Ginger', 'Garlic', 'Badam', 'Almond', 'kachris', 'garlic', 'chillies', 'cumin', 'seeds', 'curd', 'ghee', 'Oranges', 'Orange', 'Zest', 'Sugar', 'Whole', 'Eggs', 'Caster', 'Almond', 'Meal', 'Badam', 'Powder', 'Hazelnut', 'Baking', 'powder', 'Britannia', 'Cream', 'Cheese', 'Heavy', 'whipping', 'cream', 'Fresh', 'orange', 'juice', 'Icing', 'Submarine', 'Bread', 'Green', 'Moong', 'Sprouts', 'Beetroot', 'Garlic', 'Hung', 'Curd', 'Greek', 'Yogurt', 'Coriander', 'Dhania', 'Leaves', 'Tomatoes', 'Spring', 'Onion', 'Bulb', 'Greens', 'Tabasco', 'Original', 'Hot', 'Sauce', 'Salt', 'and', 'Pepper', 'Basil', 'leaves', 'Mint', 'Leaves', 'Pudina', 'Spirulina', 'Badam', 'Almond', 'blanched', 'Garlic', 'Tofu', 'Black', 'pepper', 'powder', 'Salt', 'Extra', 'Virgin', 'Olive', 'Oil', 'Pasta', 'chopped', 'Green', 'zucchini', 'diced', 'Yellow', 'Bell', 'Pepper', 'Capsicum', 'Tomato', 'Red', 'Chilli', 'flakes', 'Dried', 'oregano', 'bay', 'leaves', 'coriander', 'seeds', 'whole', 'pepper', 'celery', 'cumin', 'cardamom', 'large', 'mace', 'stone', 'flowers', 'star', 'anis', 'small', 'Nutmeg', 'Powder', 'Cinnamon', 'Long', 'Whole', 'Eggs', 'Cinnamon', 'Stick', 'Dalchini', 'Bay', 'leaf', 'tej', 'patta', 'Cloves', 'Laung', 'Sunflower', 'Oil', 'Coriander', 'Powder', 'Dhania', 'Garam', 'masala', 'powder', 'Fresh', 'cream', 'Leaves', 'tightly', 'packed', 'Mint', 'Pudina', 'chopped', 'Green', 'Chillies', 'Onion', 'roughly', 'Ginger', 'Garlic', 'Broccoli', 'florets', 'Mozzarella', 'cheese', 'Nutralite', 'Cheesy', 'Garlic', 'Mayo', 'Corn', 'flour', 'Whole', 'Wheat', 'Bread', 'crumbs', 'Salt', '&', 'Oregano', 'Spread', 'Lukewarm', 'Water', 'Active', 'dry', 'yeast', 'Sugar', 'Milk', 'Powder', 'Vivatta', 'Maida', 'or', 'half', 'of', 'bread', 'flour', 'Salt', 'Butter', '(unsalted)', 'Egg', 'white', 'for', 'brushing', '(or', 'milk)', 'Bhindi', 'Lady', 'Finger', 'Okra', 'Tomato', 'roughly', 'chopped', 'Pearl', 'onions', 'Sambar', 'Onions', 'quartered', 'Garlic', 'Tamarind', 'Water', 'Red', 'Chilli', 'powder', 'Turmeric', 'Haldi', 'Asafoetida', 'hing', 'Coriander', 'Powder', 'Dhania', 'Sugar', 'Salt', 'Ghee', 'Mustard', 'seeds', 'Cumin', 'Jeera', 'Methi', 'Seeds', 'Fenugreek', 'Curry', 'leaves', 'Dry', 'broken', 'into', 'half', 'Rice', 'Sunflower', 'Oil', 'Onion', 'chopped', 'Tomato', 'Ginger', 'Garlic', 'Paste', 'Red', 'Chilli', 'powder', 'Carrots', 'Gajjar', 'Green', 'peas', 'Matar', 'steamed', 'Bell', 'Pepper', 'Capsicum', 'Potato', 'Aloo', 'cut', 'into', 'small', 'cubes', 'Cardamom', 'Elaichi', 'Pods', 'Seeds', 'Cloves', 'Laung', 'Garam', 'masala', 'Star', 'anise', 'Cinnamon', 'Stick', 'Dalchini', 'Coriander', 'Dhania', 'Leaves', 'bunch', 'finely', 'Mint', 'Pudina', 'few', 'sprigs', 'Salt', 'Whole', 'Wheat', 'Flour', 'Instant', 'Oats', 'Oatmeal', 'Extra', 'Virgin', 'Olive', 'Oil', 'Salt', 'Ajwain', 'Carom', 'seeds', 'Water', 'Green', 'peas', 'Matar', 'Chilli', 'Coriander', 'Dhania', 'Leaves', 'Amchur', 'Dry', 'Mango', 'Powder', 'Chaat', 'Masala', 'Red', 'powder', 'Okra', 'Oil', 'Onion', 'finely', 'chopped', 'Tomato', 'Grated', 'Ginger', 'Garlic', 'Finely', 'Cumin', 'seeds', 'asafoetida', 'cottage', 'cheese', 'pinched', 'coriander', 'powder', 'mango', 'red', 'chilli', 'turmeric', 'chana', 'dal', 'white', 'urad', 'red', 'chillies', 'coriander', 'seeds', 'ginger', 'onion', 'tomato', 'mustard', 'asafoetida', 'curry', 'Gingelly', 'oil', 'Mustard', 'seeds', 'Methi', 'Seeds', 'Fenugreek', 'Dry', 'Red', 'Chillies', 'Pearl', 'onions', 'Sambar', 'Onions', 'halved', 'Curry', 'leaves', 'Urad', 'dal', 'papad', 'broken', 'in', 'to', 'quarters', 'Tamarind', 'Water', 'Powder', 'Jaggery', 'Turmeric', 'powder', 'Haldi', 'Salt', 'as', 'needed', 'Pheni', 'roll', 'Milk', 'Sugar', 'Ghee', 'Cashew', 'nuts', 'Raisins', 'Almond', 'Meal', 'Badam', 'Powder', 'Gram', 'flour', 'besan', 'Coconut', 'milk', 'Water', 'Ginger', 'grated', 'Garlic', 'Ajwain', 'Carom', 'seeds', 'Asafoetida', 'hing', 'Turmeric', 'powder', 'Baking', 'soda', 'Green', 'Chillies', 'finely', 'chopped', 'Onion', 'Tomato', 'Coriander', 'Dhania', 'Leaves', 'Salt', 'Sunflower', 'Oil', 'Carrot', 'Gajjar', 'chopped', 'Potatoes', 'Aloo', 'Cauliflower', 'gobi', 'cut', 'to', 'small', 'florets', 'Onion', 'Ginger', 'Garlic', 'Paste', 'Salt', 'Sunflower', 'Oil', 'Fresh', 'coconut', 'grated', 'Whole', 'Black', 'Peppercorns', 'Green', 'Chillies', 'Fennel', 'seeds', 'Saunf', 'Poppy', 'Cashew', 'nuts', 'Cinnamon', 'Stick', 'Dalchini', 'Star', 'anise', 'Cloves', 'Laung', 'Cardamom', 'Elaichi', 'Pods/Seeds', 'Cumin', 'Jeera', 'Onions', 'chopped', 'Garlic', 'Fresh', 'coconut', 'grated', 'Coriander', '(Dhania)', 'Leaves', 'Cumin', 'seeds', '(Jeera)', 'Red', 'Chilli', 'powder', 'Turmeric', '(Haldi)', 'Garam', 'masala', 'Gram', 'flour', '(besan)', 'Salt', 'Extra', 'Virgin', 'Olive', 'Oil', 'Butter', 'unsalted', 'Onion', 'finely', 'chopped', 'Jasmine', 'Rice', 'Salt', 'Sweet', 'corn', 'Parsley', 'leaves', 'Parmesan', 'cheese', 'grated', 'Mozzarella', 'cut', 'into', 'small', 'cubes', 'All', 'Purpose', 'Flour', 'Maida', 'Whole', 'Eggs', 'beaten', 'with', 'a', 'fork', 'Wheat', 'Bread', 'crumbs', 'Sunflower', 'for', 'deep', 'frying', 'Tomatoes', 'chopped', 'Onion', 'finely', 'Red', 'Wine', 'Vinaigrette', 'Dried', 'oregano', 'Garlic', 'minced', 'Black', 'pepper', 'powder', 'Dijon', 'Mustard', 'Cane', 'sugar', 'Extra', 'Virgin', 'Olive', 'Oil', 'Salt', 'Whole', 'Wheat', 'Flour', 'All', 'Purpose', 'Maida', 'Ajwain', 'Carom', 'seeds', 'Cumin', 'Jeera', 'Ghee', 'Salt', 'Chana', 'dal', 'Bengal', 'Gram', 'Dal', 'Turmeric', 'powder', 'Haldi', 'Garam', 'masala', 'Red', 'Chilli', 'Amchur', 'Dry', 'Mango', 'Powder', 'Sugar', 'Asafoetida', 'hing', 'Green', 'Chillies', 'slit', 'Curry', 'leaves', 'Sweet', 'Chutney', 'Date', 'Tamarind', 'Coriander', 'Mint', 'Onion', 'finely', 'chopped', 'Fresh', 'Pomegranate', 'Fruit', 'Kernels', 'Sev', 'yogurt', 'banana', 'fried', 'pomegranate', 'red', 'chili', 'powder', 'sugar', 'cumin', 'Dijon', 'mustard', 'salt', 'Gawar', 'Phali', 'Kothavarangai', 'Cluster', 'beans', 'Ginger', 'Garlic', 'Green', 'Chillies', 'Roasted', 'Peanuts', 'Moongphali', 'Coriander', 'Dhania', 'Seeds', 'Cumin', 'seeds', 'Jeera', 'Tamarind', 'Salt', 'Mustard', 'White', 'Urad', 'Dal', 'Split', 'Asafoetida', 'hing', 'Button', 'mushrooms', 'quartered', 'Spinach', 'Leaves', 'Palak', 'washed', 'and', 'chopped', 'Tomato', 'or', 'pureed', 'Garlic', 'finely', 'Ginger', 'Green', 'Chillies', 'slit', 'Cumin', 'seeds', 'Jeera', 'Cinnamon', 'Stick', 'Dalchini', 'powder', 'Turmeric', 'Haldi', 'Garam', 'masala', 'Fresh', 'cream', 'Ghee', 'Salt', 'Phulka', 'Potato', 'Aloo', 'mashed', 'Green', 'Chillies', 'finely', 'chopped', 'Carrot', 'Gajjar', 'grated', 'Sweet', 'corn', 'Onion', 'Red', 'Chilli', 'powder', 'Amchur', 'Dry', 'Mango', 'Powder', 'Black', 'pepper', 'flakes', 'Lemon', 'juice', 'Whole', 'Wheat', 'Bread', 'crumbs', 'Corn', 'flour', 'Jackfruit', 'Seeds', 'Kala', 'Chana', 'Mustard', 'seeds', 'Cumin', 'Curry', 'leaves', 'Tomato', 'Tamarind', 'Water', 'Turmeric', 'powder', 'Dry', 'Red', 'Chillies', 'Coriander', '(Dhania)', 'Cloves', '(Laung)', 'Cinnamon', 'Stick', '(Dalchini)', 'Fresh', 'coconut', 'Ginger', 'Garlic', 'Dark', 'chocolate', 'Sprig', 'Extract', 'of', 'Natural', 'Bourbon', 'Vanilla', 'Egg', 'yolks', 'whites', 'Caster', 'Sugar', 'Fresh', 'cream', 'chilled', 'and', 'strained', 'from', 'water', 'Aar', 'Maach', 'rohu', 'katla', 'Tomato', 'Bay', 'leaves', 'Ginger', 'paste', 'Green', 'Chillies', 'Cumin', 'powder', 'Coriander', 'Powder', 'Salt', 'seeds', 'Turmeric', 'slit', 'lengthwise', 'Water', 'Sugar', 'Leaves', 'Basmati', 'rice', 'Button', 'mushrooms', 'Soy', 'Chunks', 'Onion', 'sliced', 'Ginger', 'Curd', 'Dahi', 'Yogurt', 'Biryani', 'Masala', 'Garlic', 'Turmeric', 'powder', 'Haldi', 'Garam', 'masala', 'Red', 'Chilli', 'Mint', 'Leaves', 'Pudina', 'Ghee', 'Green', 'Chillies', 'Ajwain', 'Carom', 'seeds', 'Bay', 'leaf', 'tej', 'patta', 'Star', 'anise', 'Cardamom', 'Pods', 'Seeds', 'Cloves', 'Laung', 'Cinnamon', 'Stick', 'Dalchini', 'Milk', 'Sooji', 'Semolina', 'Rava', 'Powder', 'All', 'Purpose', 'Flour', 'Maida', 'Baking', 'soda', 'Caster', 'Sugar', 'Water', 'Cardamom', 'Elaichi', 'Pistachios', 'chopped', 'Ghee', 'Vegetable', 'oil', 'Tindora', 'Dondakaya', 'Kovakkai', 'sliced', 'roundels', 'Sunflower', 'Oil', 'Mustard', 'seeds', 'Dry', 'Red', 'Chillies', 'Curry', 'leaves', 'Raw', 'Peanuts', 'Moongphali', 'coarsely', 'ground', 'Sesame', 'Til', 'roasted', 'Chilli', 'powder', 'Coriander', 'Powder', 'Dhania', 'Turmeric', 'Haldi', 'Salt', 'Chicken', 'Onion', 'chopped', 'Tomato', 'Green', 'Chillies', 'slit', 'Ginger', 'finely', 'Garlic', 'Turmeric', 'powder', 'Haldi', 'Garam', 'masala', 'Sesame', 'Gingelly', 'Oil', 'Methi', 'Seeds', 'Fenugreek', 'Coriander', 'Dhania', 'Dry', 'Red', 'Fennel', 'seeds', 'Saunf', 'Sorrel', 'Leaves', 'Gongura', 'picked', 'and', 'Chana', 'dal', 'Bengal', 'Gram', 'Dal', 'Onion', 'Garlic', 'Green', 'Chillies', 'Ajwain', 'Carom', 'seeds', 'Coriander', 'Dhania', 'Leaves', 'Salt', 'Oreo', 'biscuits', 'Vanilla', 'Ice', 'cream', 'Milk', 'Chocolate', 'sauce', 'Heavy', 'whipping', 'idli', 'dosa', 'mixture', 'rice', 'rava', 'jaggery', 'coconut', 'grated', 'cardamom', 'powder', 'salt', 'water', 'oil', 'Cabbage', 'Patta', 'Gobi', 'Muttaikose', 'Spinach', 'Fresh', 'Pomegranate', 'Fruit', 'Kernels', 'Lemon', 'juice', 'Extra', 'Virgin', 'Olive', 'Oil', 'Salt', 'and', 'Pepper', 'Fresh', 'cream', 'Water', 'green', 'peas', 'gram', 'flour', 'cheese', 'ginger', 'chillies', 'turmeric', 'powder', 'cumin', 'salt', 'oil', 'Potatoes', 'Aloo', 'Lotus', 'Stem', 'Homemade', 'tomato', 'puree', 'Cumin', 'seeds', 'Jeera', 'Asafoetida', 'hing', 'Coriander', 'Powder', 'Dhania', 'Turmeric', 'powder', 'Haldi', 'Red', 'Chilli', 'Garam', 'masala', 'Salt', 'Sunflower', 'Oil', 'Leaves', 'Onions', 'Garlic', 'Ginger', 'Green', 'Chillies', 'amla', 'onions', 'garlic', 'chillies', 'mint', 'coriander', 'oil', 'rye', 'urad', 'chana', 'dal', 'curry', 'leaves', 'cashew', 'nuts', 'cheese', 'spinach', 'green', 'chillies', 'onion', 'tomato', 'garlic', 'cumin', 'red', 'chilli', 'powder', 'garam', 'masala', 'mango', 'butter', 'salt', 'oil', 'Whole', 'Wheat', 'Brown', 'Bread', 'Carrot', 'Gajjar', 'grated', 'Green', 'peas', 'Matar', 'boiled', 'Garlic', 'finely', 'chopped', 'Chillies', 'Black', 'pepper', 'powder', 'Chaat', 'Masala', 'Powder', 'Cheese', 'Salt', 'Onions', 'cut', 'into', 'thin', 'rings', 'Lemon', 'juice', 'extracted', 'Black', 'Salt', 'Kala', 'Namak', 'Red', 'Chilli', 'powder', 'Chaat', 'Masala', 'Powder', 'green', 'peas', 'cheese', 'ginger', 'chili', 'turmeric', 'powder', 'red', 'mango', 'coriander', 'wheat', 'flour', 'water', 'lukewarm', 'Whole', 'Wheat', 'Flour', 'Salt', 'Ghee', 'Paneer', 'Homemade', 'Cottage', 'Cheese', 'Hung', 'Curd', 'Greek', 'Yogurt', 'Ginger', 'Garlic', 'Kasuri', 'Methi', 'Dried', 'Fenugreek', 'Leaves', 'Turmeric', 'powder', 'Chaat', 'Masala', 'Powder', 'Garam', 'masala', 'Mint', 'Pudina', 'Coal', 'Onion', 'Lemon', 'juice', 'Rice', 'Vermicelli', 'Noodles', 'Thin', 'Onion', 'sliced', 'Carrots', 'Gajjar', 'chopped', 'Green', 'peas', 'Matar', 'Chillies', 'Asafoetida', 'hing', 'Mustard', 'seeds', 'White', 'Urad', 'Dal', 'Split', 'Ghee', 'Curry', 'leaves', 'Salt', 'Lemon', 'juice', 'Boneless', 'chicken', 'cut', 'into', 'bite', 'sized', 'pieces', 'Red', 'Chilli', 'powder', 'Coriander', 'Powder', '(Dhania)', 'Turmeric', '(Haldi)', 'Garam', 'masala', 'Ginger', 'Garlic', 'Paste', 'Leaves', 'chopped', 'Salt', 'Corn', 'flakes', 'made', 'to', 'a', 'coarse', 'Whole', 'Eggs', 'beaten', 'Sunflower', 'Oil', 'fry', 'Whole', 'Wheat', 'Flour', 'Spinach', 'Leaves', 'Palak', 'Potatoes', 'Aloo', 'boiled', 'mashed', 'Paneer', 'Homemade', 'Cottage', 'Cheese', 'crumbled', 'grated', 'Coriander', 'Dhania', 'Garam', 'masala', 'powder', 'Salt', 'Cumin', 'Jeera', 'Red', 'Chilli', 'chopped', 'green', 'chillies', 'Mixed', 'nuts', 'Raisins', 'Ghee', 'to', 'smear', 'Vivatta', 'Maida', 'Sugar', 'Butter', 'unsalted', 'Milk', 'Powder', 'Baking', 'powder', 'Vanilla', 'Extract', 'Sooji', 'Semolina', 'Rava', 'Ghee', 'Milk', 'Sugar', 'Saffron', 'strands', 'Cardamom', 'Elaichi', 'Pods', 'Seeds', 'Cashew', 'nuts', 'Raisins', 'Mixed', 'dry', 'fruits', 'chopped', 'Dry', 'beans', 'Extra', 'Virgin', 'Olive', 'Oil', 'Onion', 'finely', 'chopped', 'Garlic', 'grated', 'Tomatoes', 'pureed', 'Honey', 'Cumin', 'powder', 'Jeera', 'Dried', 'oregano', 'Red', 'Chilli', 'cayenne', 'pepper', 'Salt', 'and', 'Pepper', 'Quinoa', 'Water', 'Extra', 'Virgin', 'Olive', 'Oil', 'Mustard', 'seeds', 'Cumin', 'Jeera', 'White', 'Urad', 'Dal', 'Split', 'Chana', 'dal', 'Bengal', 'Gram', 'Curry', 'leaves', 'Green', 'Chillies', 'finely', 'chopped', 'Shallot', 'Tomato', 'Carrot', 'Gajjar', 'Del', 'Monte', 'Whole', 'Corn', 'Kernels', 'peas', 'Matar', 'beans', 'French', 'Beans', 'Coriander', 'Powder', 'Dhania', 'Garam', 'masala', 'powder', 'Salt', 'Leaves', 'few', 'chakundar', 'arhar', 'dal', 'tamarind', 'water', 'sambar', 'powder', 'mustard', 'asafoetida', 'curry', 'leaves', 'dry', 'red', 'chili', 'sesame', 'oil', 'coriander', 'salt', 'Whole', 'Wheat', 'Flour', 'Salt', 'Italian', 'seasoning', 'Cheese', 'spread', 'flavoured', 'Broccoli', 'cut', 'into', 'florets', 'Onion', 'thinly', 'sliced', 'Red', 'Bell', 'pepper', 'Capsicum', 'diced', 'Parsley', 'leaves', 'roughly', 'chopped', 'Potatoes', 'Aloo', 'Fennel', 'seeds', 'Saunf', 'Red', 'Chilli', 'powder', 'Turmeric', 'Haldi', 'Fresh', 'cream', 'or', 'Coriander', 'Dhania', 'Leaves', 'Broken', 'Wheat', 'Dalia', 'Godumai', 'Rava', 'Salt', 'Sunflower', 'Oil', 'Gram', 'flour', 'besan', 'Onion', 'finely', 'chopped', 'Coriander', 'Dhania', 'Leaves', 'Green', 'Chilli', 'Turmeric', 'powder', 'Haldi', 'Cumin', 'seeds', 'Jeera', 'Ajwain', 'Carom', 'Water', 'Enos', 'fruit', 'salt', 'Baby', 'Potatoes', 'Dry', 'Red', 'Chillies', 'Sesame', 'seeds', 'Cumin', 'Fennel', 'Asafoetida', 'hing', 'Turmeric', 'powder', 'Kashmiri', 'Chilli', 'Powder', 'flakes', 'Amchur', 'Mango', 'Coriander', 'Dhania', 'Leaves', 'finely', 'chopped', 'Sunflower', 'Oil', 'Salt', 'Pani', 'Pur', 'Potato', 'Aloo', 'boiled', 'Green', 'Moong', 'Sprouts', 'Cumin', 'powder', 'Jeera', 'Chaat', 'Masala', 'Powder', 'Red', 'Chilli', 'Mango', 'Raw', 'Mint', 'Leaves', 'Pudina', 'Black', 'Salt', 'Kala', 'Namak', 'pepper', 'Sugar', 'Ragi', 'Flour', 'Finger', 'Millet', 'Nagli', 'Onion', 'finely', 'chopped', 'Green', 'Chillies', 'Carrot', 'Gajjar', 'grated', 'Dill', 'leaves', 'Coriander', 'Dhania', 'Leaves', 'Cumin', 'seeds', 'Salt', 'Ghee', 'Rice', 'flour', 'Water', 'Sunflower', 'Oil', 'Salt', 'White', 'Urad', 'Dal', 'Whole', 'Green', 'Chillies', 'Ginger', 'Asafoetida', 'hing', 'Sesame', 'Gingelly', 'Mustard', 'seeds', 'Curry', 'leaves', 'Fresh', 'orange', 'juice', 'Ginger', 'grated', 'Tea', 'Monk', 'Seiki', 'Peppermint', 'Green', 'Chilled', 'water', 'Sunflower', 'Oil', 'Potato', 'Aloo', 'Ginger', 'paste', 'Green', 'Chilli', 'chopped', 'Sesame', 'seeds', 'Til', 'Red', 'powder', 'Cumin', 'Jeera', 'Coriander', 'Powder', 'Dhania', 'Garam', 'masala', 'Sweet', 'Chutney', 'Date', 'Tamarind', 'Leaves', 'few', 'Chicken', 'Sunflower', 'Oil', 'Garlic', 'minced', 'Ginger', 'Green', 'Chillies', 'slit', 'Onion', 'sliced', 'Bell', 'Pepper', 'Capsicum', 'Soy', 'sauce', 'Vinegar', 'Black', 'pepper', 'powder', 'Red', 'Chilli', 'Sauce', 'Roasted', 'tomato', 'pasta', 'Corn', 'flour', 'Water', 'All', 'Purpose', 'Flour', 'Maida', 'Whole', 'Wheat', 'Flour', 'Salt', 'Ghee', 'Lukewarm', 'Water', 'Caster', 'Sugar', 'Sunflower', 'Oil', 'Sunflower', 'Oil', 'Ginger', 'grated', 'Green', 'Chilli', 'finely', 'chopped', 'Onion', 'Tomato', 'Turmeric', 'powder', 'Haldi', 'Red', 'Paneer', 'Homemade', 'Cottage', 'Cheese', 'crumpled', 'Coriander', 'Dhania', 'Leaves', 'Pav', 'buns', 'roasted', 'in', 'butter', 'Carrots', 'Gajjar', 'Cabbage', 'Patta', 'Gobi', 'Muttaikose', 'Green', 'Bell', 'Pepper', 'Capsicum', 'Turmeric', 'powder', 'Haldi', 'Sugar', 'Lemon', 'juice', 'Salt', 'Sunflower', 'Oil', 'Mustard', 'seeds', 'Asafoetida', 'hing', 'Curry', 'leaves', 'Chillies', 'slit', 'lengthwise', 'Malabar', 'Spinach', 'Leaves', 'stalks', 'Kaddu', 'Parangikai', 'Pumpkin', 'Mooli', 'Mullangi', 'Radish', 'Potato', 'Aloo', 'Brinjal', 'Baingan', 'Eggplant', 'Panch', 'Phoran', 'Masala', 'Dry', 'Red', 'Chillies', 'Mustard', 'oil', 'vegetable', 'Cumin', 'powder', 'Salt', 'Sugar', 'Turmeric', 'Haldi', 'Kabuli', 'Channa', 'cumin', 'seeds', 'ginger', 'paste', 'chana', 'masala', 'powder', 'red', 'chilli', 'Amchoor', 'turmeric', 'Coriander', 'salt', 'Wood', 'apple', 'Jaggery', 'or', 'sugar', 'Black', 'Salt', 'Kala', 'Namak', 'Cumin', 'powder', 'Jeera', 'Lemon', 'juice', 'Mint', 'Leaves', 'Pudina', 'Water', 'chilled', 'Ice', 'cubes', 'Whole', 'Wheat', 'Brown', 'Bread', 'Green', 'zucchini', 'Carrot', 'Gajjar', 'Red', 'Bell', 'pepper', 'Capsicum', 'Spinach', 'Leaves', 'Palak', 'Button', 'mushrooms', 'Onion', 'Garlic', 'Extra', 'Virgin', 'Olive', 'Oil', 'Dijon', 'Mustard', 'Fresh', 'Thyme', 'leaves', 'Black', 'powder', 'crushed', 'or', 'red', 'chilli', 'flakes', 'Milk', 'Eggs', 'lightly', 'whisked', 'Cheddar', 'cheese', 'grated', 'and', 'for', 'topping', 'Butter', 'greasing', 'the', 'baking', 'dish', 'Salt', 'Basmati', 'rice', 'Water', 'Salt', 'Soy', 'Chunks', 'Nuggets', 'Carrots', 'Gajjar', 'Green', 'beans', 'French', 'Beans', 'peas', 'Matar', 'Cauliflower', 'gobi', 'Bell', 'Pepper', 'Capsicum', 'Potatoes', 'Aloo', 'Tomatoes', 'Onions', 'Ginger', 'Garlic', 'Paste', 'Sunflower', 'Oil', 'Cinnamon', 'Stick', 'Dalchini', 'Cardamom', 'Pods/Seeds', 'Cloves', 'Laung', 'Cumin', 'seeds', 'Jeera', 'Spinach', 'Leaves', 'Palak', 'bunch', 'Coriander', 'Dhania', 'Mint', 'Pudina', 'Chillies', 'Badam', 'Almond', 'Elaichi', 'Black', 'cardamom', 'Badi', 'Bay', 'leaf', 'tej', 'patta', 'Ajwain', 'Carom', 'Mace', 'Javitri', 'Turmeric', 'powder', 'Haldi', 'Red', 'Chilli', 'Powder', 'Garam', 'masala', 'sliced', 'chopped', 'roughly', 'torn', 'Milk', 'Saffron', 'strands', 'Ghee', 'Lemon', 'juice', 'Curd', 'Dahi', 'Yogurt', 'Sugar', 'powdered', 'Fresh', 'cream', 'Turmeric', 'powder', 'Vanilla', 'Extract', 'Orange', 'Zest', 'Rind', 'Potato', 'Aloo', 'Green', 'Chilli', 'Spaghetti', 'Pasta', 'Ginger', 'Coriander', 'Dhania', 'Leaves', 'Fried', 'Bread', 'Cubes', 'Croutons', 'Extra', 'Virgin', 'Olive', 'Oil', 'Salt', 'and', 'Pepper', 'Button', 'mushrooms', 'chopped', 'Green', 'peas', 'Matar', 'boiled', 'Cumin', 'seeds', 'Jeera', 'Mustard', 'Asafoetida', 'hing', 'Onion', 'paste', 'Tomato', 'Ginger', 'Garlic', 'Paste', 'Chilli', 'Red', 'powder', 'Turmeric', 'Haldi', 'Coriander', 'Powder', 'Dhania', 'Garam', 'masala', 'Leaves', 'Brinjal', 'chopped', 'mustard', 'onion', 'thin', 'and', 'straight', 'cut', 'cloves', 'garlic', 'finely', 'ginger', 'cumin', 'red', 'chili', 'powder', 'coriander', 'garam', 'masala', 'mango', 'salt', 'oil', 'Carrot', 'Gajjar', 'Sweet', 'corn', 'Whole', 'Wheat', 'Flour', 'Onion', 'finely', 'chopped', 'Del', 'Monte', 'Sandwich', 'Spread', 'Coriander', 'Dhania', 'Leaves', 'Eggs', 'Baking', 'powder', 'soda', 'Green', 'Chillies', 'Ragi', 'Flour', 'Finger', 'Millet', 'Nagli', 'Water', 'Salt', 'Sunflower', 'Oil', 'Ghee', 'Rice', 'flour', 'prawns', 'soy', 'sauce', 'sesame', 'gingelly', 'oil', 'cloves', 'garlic', 'finely', 'chopped', 'green', 'chillies', 'coriander', 'dhania', 'leaves', 'whole', 'black', 'peppercorns', 'crushed', 'sunflower', 'salt', 'drops', 'lemon', 'juice', 'jackfruit', 'seeds', 'tamarind', 'water', 'garlic', 'mustard', 'cumin', 'curry', 'leaves', 'turmeric', 'powder', 'red', 'chilli', 'sambar', 'asafoetida', 'coriander', 'sunflower', 'oil', 'fresh', 'coconut', 'black', 'peppercorns', 'dry', 'chillies', 'onion', 'chopped', 'tomato', 'Whole', 'Wheat', 'Brown', 'Bread', 'Paneer', 'Homemade', 'Cottage', 'Cheese', 'grated', 'Green', 'Bell', 'Pepper', 'Capsicum', 'finely', 'chopped', 'Chilli', 'Chaat', 'Masala', 'Powder', 'Black', 'pepper', 'powder', 'Butter', 'Salt', 'Karela', 'Bitter', 'Gourd', 'Pavakkai', 'Salt', 'Onion', 'Gram', 'flour', 'besan', 'Turmeric', 'powder', 'Haldi', 'Red', 'Chilli', 'Cumin', 'seeds', 'Jeera', 'Coriander', 'Powder', 'Dhania', 'Amchur', 'Dry', 'Mango', 'Sunflower', 'Oil', 'Whole', 'Eggs', 'Roasted', 'Gram', 'Dal', 'Pottukadalai', 'Dry', 'Red', 'Chillies', 'Ginger', 'chopped', 'Garlic', 'Black', 'Peppercorns', 'Salt', 'Fresh', 'coconut', 'grated', 'Palm', 'jaggery', 'use', 'date', 'Poha', 'Flattened', 'rice', 'All', 'Purpose', 'Flour', 'Maida', 'Sooji', 'Semolina', 'Rava', 'Milk', 'warm', 'palm', 'Bamboo', 'shoots', 'Button', 'mushrooms', 'Spring', 'Onion', 'Bulb', 'Greens', 'Red', 'Yellow', 'Green', 'Bell', 'Peppers', 'Capsicum', 'Extra', 'Virgin', 'Olive', 'Oil', 'Chilli', 'flakes', 'Salt', 'Chicken', 'Thighs', 'Wings', 'Soy', 'sauce', 'Honey', 'Vinegar', 'Garlic', 'Minced', 'Ginger', 'Grated', 'Sesame', 'Gingelly', 'Oil', 'Olive', 'Black', 'pepper', 'powder', 'seeds', 'Til', 'Vivatta', 'Maida', 'Mango', 'Pulp', '(Puree)', 'Baking', 'powder', 'soda', 'Sunflower', 'Oil', 'Sugar', 'Salt', 'Vanilla', 'Extract', 'Dark', 'chocolate', '-', 'chopped', 'Fresh', 'cream', 'Cocoa', 'Powder', 'powdered', 'Ridge', 'Gourd', 'Skin', 'Turai', 'Peerkangai', 'White', 'Urad', 'Dal', 'Methi', 'Seeds', 'Fenugreek', 'Dry', 'Red', 'Chillies', 'Curry', 'leaves', 'Tamarind', 'Mustard', 'seeds', 'Sunflower', 'Oil', 'Salt', 'Whole', 'Wheat', 'Flour', 'Salt', 'Water', 'Ghee', 'Chicken', 'cut', 'into', 'pieces', 'Ginger', 'paste', 'Garlic', 'Fresh', 'cream', 'Badam', 'Almond', 'Lemon', 'juice', 'Black', 'pepper', 'powder', 'Salt', 'Onion', 'sliced', 'Milk', 'Cardamom', 'Powder', 'Elaichi', 'Cinnamon', 'Stick', 'Dalchini', 'Bay', 'leaf', 'tej', 'patta', 'Kasuri', 'Methi', 'Dried', 'Fenugreek', 'Leaves', 'Ghee', 'Potatoes', 'Aloo', 'Green', 'zucchini', 'Red', 'Chilli', 'flakes', 'Dried', 'oregano', 'Thyme', 'Leaves', 'Black', 'pepper', 'powder', 'Cheddar', 'cheese', 'grated', 'Whole', 'Wheat', 'Bread', 'crumbs', 'Salt', 'lentil', 'water', 'long', 'whole', 'black', 'peppers', 'cumin', 'mustard', 'bay', 'leaf', 'curry', 'leaves', 'Jaggery', 'grated', 'tamarind', 'paste', 'goda', 'masala', 'oil', 'coriander', 'salt', 'Mango', 'Pulp', 'Puree', 'Curd', 'Dahi', 'Yogurt', 'Sugar', 'honey', 'Saffron', 'strands', 'Badam', 'Almond', 'Milk', 'luke', 'warm', 'more', 'cold', 'milk', 'Ice', 'cubes', 'few', 'Raw', 'Banana', 'par', 'boiled', 'and', 'grated', 'thick', 'Mustard', 'seeds', 'White', 'Urad', 'Dal', '(Split)', 'Curry', 'leaves', 'Onion', 'finely', 'chopped', 'Green', 'Chilli', 'Ginger', 'Fresh', 'coconut', 'Sunflower', 'Oil', 'Salt', 'small', 'potatoes', 'turmeric', 'powder', 'cardamom', 'cinnamon', 'long', 'bay', 'leaf', 'tomato', 'puree', 'garam', 'masala', 'yogurt', 'red', 'chilli', 'coriander', 'sugar', 'salt', 'stock', 'green', 'onion', 'ginger', 'cloves', 'garlic', 'chillies', 'cabbage', 'green', 'peas', 'onion', 'finely', 'chopped', 'chillies', 'tomato', 'ginger', 'garlic', 'paste', 'turmeric', 'powder', 'garam', 'masala', 'oil', 'red', 'chilli', 'salt', 'corriander', 'leaves', 'Rice', 'flour', 'Salt', 'Sunflower', 'Oil', 'Bok', 'Choy', 'sliced', 'Carrot', 'Gajjar', 'thinly', 'Cabbage', 'Patta', 'Gobi', 'Muttaikose', 'Button', 'mushrooms', 'quartered', 'Corn', 'Dark', 'soy', 'sauce', 'Bean', 'Paste', 'Red', 'Chilli', 'Sugar', 'Whole', 'Wheat', 'Brown', 'Bread', 'Milk', 'Khoya', 'Mawa', 'Sugar', 'Badam', 'Almond', 'finely', 'chopped', 'Ghee', 'for', 'deep', 'frying', 'oil', 'mustard', 'capsicum', 'yellow', 'cut', 'red', 'green', 'onion', 'curry', 'leaves', 'Salt', 'peanuts', 'roast', 'coconut', 'dry', 'chillies', 'cloves', 'garlic', 'unpeeled', 'cumin', 'seeds', 'coridander', 'chopped', 'Aar', 'Maach', 'Tomato', 'Bay', 'leaf', 'Ginger', 'Garlic', 'Paste', 'Green', 'Chillies', 'Cumin', 'seeds', 'Jeera', 'Coriander', 'Powder', 'Dhania', 'Red', 'Chilli', 'powder', 'Turmeric', 'Haldi', 'Mustard', 'oil', 'Salt', 'Water', 'Leaves', 'sprigs', 'Red', 'matta', 'rice', 'Basmati', 'White', 'Urad', 'Dal', 'Split', 'Coconut', 'milk', 'Sugar', 'Active', 'dry', 'yeast', 'Salt', 'Fresh', 'coconut', 'Grated', 'Jaggery', 'Cardamom', 'Elaichi', 'Pods/Seeds', 'Pink', 'Masoor', 'Dal', 'Drumstick', 'Leaves', 'Moringa', 'Murungai', 'Keerai', 'Asafoetida', 'hing', 'Cumin', 'seeds', 'Jeera', 'Ginger', 'finely', 'chopped', 'Dry', 'Red', 'Chilli', 'Tomato', 'Green', 'slit', 'Coriander', 'Powder', 'Dhania', 'Turmeric', 'powder', 'Haldi', 'Salt', 'Ghee', 'Lemon', 'juice', 'extracted', 'tomatoes', 'curry', 'leaves', 'green', 'chillies', 'turmeric', 'powder', 'coriander', 'salt', 'rock', 'sugar', 'Vellai', 'Poosanikai', 'Turmeric', 'powder', 'Salt', 'Sunflower', 'Oil', 'Dry', 'Red', 'Chillies', 'Fresh', 'coconut', 'grated', 'Tamarind', 'Water', 'Methi', 'Seeds', 'Cumin', 'seeds', 'Coriander', 'Dhania', 'Sesame', 'Jaggery', 'Mustard', 'Curry', 'leaves', 'Mooli', 'Mullangi', 'Radish', 'purple', 'Water', 'Garam', 'masala', 'powder', 'Salt', 'Black', 'pepper', 'slices', 'Coriander', 'Dhania', 'Leaves', 'chopped', 'Walnuts', 'Dried', 'Figs', 'Flax', 'seeds', 'Honey', 'Roasted', 'Peanuts', '(Moongphali)', 'Cinnamon', 'Powder', '(Dalchini)', 'Instant', 'Oats', 'Oatmeal', 'Wheat', 'Flakes', 'Cereal', 'Pine', 'nuts', 'Pumpkin', 'seeds', 'Dates', 'dried', 'ones', 'finely', 'chopped', 'Dried', 'raspberries', 'Raisins', 'sultana', 'Badam', 'Almond', 'Walnuts', 'Cinnamon', 'Powder', 'Dalchini', 'Nutmeg', 'powder', 'Vanilla', 'Extract', 'Sunflower', 'Oil', 'Honey', 'Yellow', 'Moong', 'Dal', 'Cucumber', 'finely', 'chopped', 'Carrot', 'Gajjar', 'grated', 'Fresh', 'coconut', 'Lemon', 'juice', 'Sunflower', 'Oil', 'Mustard', 'seeds', 'Green', 'Chillies', 'slit', 'Asafoetida', 'hing', 'Curry', 'leaves', 'roughly', 'torn', 'Coriander', 'Dhania', 'Leaves', 'Potatoes', 'Cheese', 'Tomatoes', 'Ginger', 'Grated', 'Green', 'Chillies', 'Red', 'Chilli', 'Powder', 'Coriander', 'Cumin', 'Salt', 'oil', 'coriander', 'Finely', 'chopped', 'Carrot', 'Gajjar', 'Green', 'beans', 'French', 'Beans', 'Tofu', 'Red', 'Bell', 'pepper', 'Capsicum', 'Pepper', 'Ginger', 'Garlic', 'Dry', 'Chillies', 'Soy', 'sauce', 'Chilli', 'vinegar', 'Sugar', 'Vegetable', 'stock', 'Corn', 'flour', 'water', 'Sunflower', 'Oil', 'Salt', 'and', 'Cauliflower', 'gobi', 'broken', 'into', 'small', 'florets', 'Green', 'beans', 'French', 'cut', 'one-inch', 'pieces', 'Carrots', 'Gajjar', 'inch', 'long', 'Potatoes', 'Aloo', 'cubes', 'Onion', 'sliced', 'Sunflower', 'Oil', 'Mustard', 'seeds', 'Curry', 'leaves', 'Fresh', 'coconut', 'grated', 'Dry', 'Red', 'Chillies', 'Cumin', 'Jeera', 'Fennel', 'Saunf', 'tamarind', 'paste', 'jaggery', 'rasam', 'powder', 'red', 'chili', 'oil', 'fenugreek', 'seeds', 'curry', 'leaves', 'mustard', 'asafoetida', 'to', 'green', 'chillies', 'thin', 'and', 'straight', 'Tender', 'coconut', 'water', 'Fresh', 'cream', 'Sugar', 'granulated', 'meat', 'extra', 'Condensed', 'Milk', 'Honey', 'glazing', 'Optional', 'Ice', 'cone', 'coconut', 'milk', 'water', 'roasted', 'chana', 'lentils', 'green', 'chillies', 'oil', 'mustard', 'turmeric', 'powder', 'cumin', 'seeds', 'curry', 'leaves', 'salt', 'coriander', 'rice', 'noodles', 'baby', 'corn', 'capsicum', 'red', 'yellow', 'green', 'Thai', 'Basil', 'leaves', 'onions', 'garlic', 'ginger', 'brown', 'sugar', 'honey', 'soy', 'sauce', 'fish', 'Sriracha', 'Papaya', 'peeled', 'grated', 'Carrot', 'Gajjar', 'Sugar', 'Milk', 'Cardamom', 'Powder', 'Elaichi', 'Saffron', 'strands', 'Badam', 'Almond', 'Ghee', 'Burger', 'buns', 'Pickled', 'Jalapenos', 'sliced', 'Cheese', 'Slices', 'Potatoes', 'Aloo', 'pressure', 'cooked', 'Onion', 'chopped', 'Red', 'Chilli', 'powder', 'Salt', 'Whole', 'Egg', 'Wheat', 'Bread', 'crumbs', 'Garlic', 'Onions', 'Tomatoes', 'Homemade', 'tomato', 'puree', 'Green', 'Bell', 'Pepper', 'Capsicum', 'Soy', 'granules', 'flakes', 'Cumin', 'Jeera', 'Dried', 'oregano', 'Tabasco', 'Original', 'Hot', 'Sauce', 'Honey', 'Sunflower', 'Oil', 'Whole', 'Wheat', 'Flour', 'Sunflower', 'Oil', 'Salt', 'Button', 'mushrooms', 'Onion', 'finely', 'chopped', 'Cumin', 'seeds', 'Jeera', 'Garam', 'masala', 'powder', 'Green', 'Chillies', 'Turmeric', 'Haldi', 'Ghee', 'or', 'oil', 'for', 'cooking', 'Potatoes', 'Aloo', 'Mozzarella', 'cheese', 'Mustard', 'seeds', 'Ginger', 'grated', 'Onion', 'finely', 'chopped', 'Green', 'Chillies', 'Asafoetida', 'hing', 'Turmeric', 'powder', 'Haldi', 'Coriander', 'Dhania', 'Leaves', 'small', 'bunch', 'Sunflower', 'Oil', 'Gram', 'flour', 'besan', 'Salt', 'Chicken', 'legs', 'Hung', 'Curd', '(Greek', 'Yogurt)', 'Turmeric', 'powder', '(Haldi)', 'Salt', 'Sunflower', 'Oil', 'Onion', '-', 'sliced', 'Garlic', 'Ginger', 'Fresh', 'coconut', 'grated', 'Cumin', 'seeds', '(Jeera)', 'Coriander', '(Dhania)', 'Seeds', 'Methi', '(Fenugreek', 'Seeds)', 'Kalonji', '(Onion', 'Nigella', 'Whole', 'Black', 'Peppercorns', 'Dry', 'Red', 'Chillies', 'Fennel', '(Saunf)', 'Cinnamon', 'Stick', '(Dalchini)', 'Cloves', '(Laung)', 'Cardamom', '(Elaichi)', 'Pods/Seeds', 'Mustard', 'Ghee', 'Tamarind', 'Paste', 'Jaggery', 'Curry', 'leaves', 'Mooli', 'Mullangi', 'Radish', 'Potato', 'Aloo', 'Onion', 'Green', 'Chilli', 'Kasundi', 'mustard', 'sauce', 'Red', 'powder', 'Turmeric', 'Haldi', 'Mustard', 'seeds', 'Cumin', 'Jeera', 'Kalonji', 'Nigella', 'Seeds', 'oil', 'Sugar', 'Salt', 'Whole', 'Wheat', 'Brown', 'Bread', 'Tomatoes', 'sliced', 'thin', 'into', 'rounds', 'Cucumber', 'peeled', 'and', 'Salt', 'Black', 'pepper', 'powder', 'Chaat', 'Masala', 'Powder', 'Butter', 'Green', 'Chutney', '(Coriander', '&', 'Mint)', 'Tomato', 'Ketchup', 'Paneer', 'Homemade', 'Cottage', 'Cheese', 'Potatoes', 'Aloo', 'Onion', 'julienned', 'Ginger', 'grated', 'Garlic', 'Green', 'Bell', 'Pepper', 'Capsicum', 'Tomatoes', 'finely', 'chopped', 'Pav', 'bhaji', 'masala', 'Coriander', 'Dhania', 'Leaves', 'French', 'bread', 'or', 'rye', 'to', 'make', 'sandwiches', 'Rocket', 'leaves', 'salad', 'for', 'the', 'sandwich', 'rice', 'cooked', 'tomatoes', 'BC', 'Belle', 'Bhat', 'powder', 'chickpea', 'lentils', 'cumin', 'seeds', 'white', 'urad', 'dal', 'mustard', 'green', 'chilli', 'dry', 'red', 'cashew', 'or', 'peanuts', 'oil', 'asafoetida', 'Chana', 'dal', 'Spinach', 'Leaves', 'Water', 'Turmeric', 'powder', 'Ghee', 'Asafoetida', 'hing', 'Cumin', 'seeds', 'Dry', 'Red', 'Chillies', 'Ginger', 'Garlic', 'Paste', 'Onion', 'Green', 'Tomato', 'Chilli', 'Idli', 'Dosa', 'Batter', 'Rice', 'parboiled', 'Poha', 'Flattened', 'rice', 'thick', 'Buttermilk', 'sour', 'Cooking', 'soda', 'Butter', 'loni', 'white', 'Beetroot', 'peeled', 'to', 'Curry', 'leaves', 'Green', 'Chilli', 'Paste', 'Salt', 'Sesame', 'Gingelly', 'Oil', 'Banana', 'flower', 'Vazhaipoo', 'Coconut', 'milk', 'Rice', 'Chana', 'dal', 'Bengal', 'Gram', 'Onion', 'Cardamom', 'Elaichi', 'Pods/Seeds', 'Sugar', 'Salt', 'Water', 'Makki', 'Ka', 'Atta', 'Yellow', 'Corn', 'Meal', 'Flour', 'Methi', 'Leaves', 'Fenugreek', 'chopped', 'Green', 'Chillies', 'Ajwain', 'Carom', 'seeds', 'Kashmiri', 'Red', 'Chilli', 'Powder', 'Salt', 'Hard', 'taco', 'shells', 'Hariyali', 'Chicken', 'Tikka', 'Summer', 'Salad', 'Refried', 'beans', 'Nutralite', 'Cheesy', 'Garlic', 'Mayo', 'Tomato', 'Salsa', 'Green', 'Amaranth', 'Leaves', 'Tamarind', 'Onion', 'Tomato', 'Garlic', 'Mustard', 'seeds', 'Asafoetida', 'hing', 'Curry', 'leaves', 'Sambar', 'Powder', 'Methi', 'Fenugreek', 'Sesame', 'Gingelly', 'Oil', 'Salt', 'Curd', 'Dahi', 'Yogurt', 'thick', 'Fresh', 'coconut', 'Vellai', 'Poosanikai', 'Ash', 'gourd', 'White', 'Pumpkin', 'cubed', 'Green', 'Chillies', 'Black', 'pepper', 'powder', 'Water', 'Turmeric', 'Haldi', 'Salt', 'Coconut', 'Oil', 'Mustard', 'seeds', 'Methi', 'Seeds', 'Fenugreek', 'Curry', 'leaves', 'Dry', 'Red', 'Chilli', 'Potatoes', 'Garlic', 'powder', 'Onion', 'Dried', 'oregano', 'Coriander', 'Leaves', 'finely', 'chopped', 'Red', 'Chilli', 'flakes', 'All', 'Purpose', 'Flour', 'Maida', 'Rice', 'flour', 'Salt', 'Sunflower', 'Oil', 'for', 'deep', 'frying', 'the', 'tater', 'tots', 'Water', 'Tea', 'leaves', 'Milk', 'Saffron', 'strands', 'Raw', 'Peanuts', 'Moongphali', 'Gram', 'flour', 'besan', 'Rice', 'Red', 'Chilli', 'powder', 'Coriander', 'Powder', 'Dhania', 'Chaat', 'Masala', 'Water', 'Black', 'pepper', 'Sunflower', 'Oil', 'Salt', 'to', 'fry', 'Fish', 'fillet', 'basa', 'Prawns', 'Clamps', 'Baby', 'Potatoes', 'Carrots', 'Gajjar', 'Onion', 'Tomato', 'Fresh', 'Red', 'chillies', 'cloves', 'Garlic', 'Cumin', 'powder', 'Jeera', 'Paprika', 'Salt', 'Lemon', 'juice', 'Black', 'pepper', 'Coriander', 'Dhania', 'Leaves', 'Extra', 'Virgin', 'Olive', 'Oil', 'Chicken', 'stock', 'Coconut', 'milk', 'Rice', 'Green', 'peas', 'Potatoes', 'Aloo', 'Onion', 'Ginger', 'Garlic', 'Paste', 'Chillies', 'Black', 'cardamom', 'Badi', 'Elaichi', 'Bay', 'leaf', 'tej', 'patta', 'Cardamom', 'Pods/Seeds', 'Cinnamon', 'Stick', 'Dalchini', 'Cloves', 'Laung', 'Cumin', 'seeds', 'Jeera', 'Coriander', 'Powder', 'Dhania', 'powder', 'pepper', 'Red', 'Chilli', 'Ghee', 'Leaves', 'finely', 'chopped', 'garnish', 'Milk', 'White', 'vinegar', 'Sugar', 'Powder', 'Condensed', 'Cardamom', 'Pods', 'Seeds', 'Ghee', 'Pistachios', 'chopped', 'Saffron', 'strands', 'or', 'Yellow', 'food', 'colour', 'eggplant', 'yogurt', 'green', 'chilli', 'chopped', 'cumin', 'powder', 'Kashmiri', 'red', 'garam', 'masala', 'onion', 'thin', 'and', 'straight', 'cut', 'salt', 'ghee', 'coriander', 'Tindora', 'Dondakaya', 'Kovakkai', 'Red', 'Chilli', 'powder', 'Split', 'Methi', 'Seeds', 'Kuria', 'Mustard', 'Rai', 'Turmeric', 'Haldi', 'Asafoetida', 'hing', 'Sunflower', 'Oil', 'Lemon', 'juice', 'extracted', 'Salt', 'Sunflower', 'Oil', 'All', 'Purpose', 'Flour', 'Maida', 'Baking', 'powder', 'Water', 'Honey', 'Sugar', 'Sesame', 'seeds', 'Til', 'Vanilla', 'Extract', 'Karela', 'Bitter', 'Gourd', 'Pavakkai', 'sliced', 'into', 'rounds', 'Coriander', 'Powder', 'Dhania', 'Red', 'Chilli', 'powder', 'Asafoetida', 'hing', 'Gram', 'flour', 'besan', 'Black', 'Salt', 'Kala', 'Namak', 'Sunflower', 'Oil', 'Hung', 'Curd', 'Greek', 'Yogurt', 'Chaat', 'Masala', 'Sweet', 'Chutney', 'Date', 'Tamarind', 'Sev', 'Aloo', 'Bhujia', 'Dates', 'Leaves', 'small', 'bunch', 'Elephant', 'yam', 'Suran', 'Senai', 'Ratalu', 'Onion', 'Green', 'Chillies', 'Ginger', 'Garlic', 'Curry', 'leaves', 'Cumin', 'seeds', 'Jeera', 'Turmeric', 'powder', 'Haldi', 'Coriander', 'Powder', 'Dhania', 'Red', 'Chilli', 'Black', 'pepper', 'Garam', 'masala', 'Salt', 'Sunflower', 'Oil', 'Spaghetti', 'Pasta', 'Spinach', 'amaranth', 'leaves', 'Garlic', 'finely', 'chopped', 'big', 'size', 'Extra', 'Virgin', 'Olive', 'Oil', 'Parmesan', 'cheese', 'grated', 'or', 'powdered', 'fruit', 'pineapple', 'yogurt', 'turmeric', 'powder', 'jaggery', 'salt', 'coconut', 'green', 'chillies', 'mustard', 'dry', 'red', 'peppers', 'break', 'oil', 'curry', 'leaves', 'papad', 'urad', 'dal', 'tamarind', 'sambar', 'powder', 'turmeric', 'horse-powder', 'mustard', 'gram', 'lentils', 'Asafoetida', 'dry', 'red', 'chili', 'curry', 'leaves', 'sesame', 'oil', 'salt', 'Bajra', 'Flour', 'Whole', 'Wheat', 'Turmeric', 'powder', 'Black', 'pepper', 'Ginger', 'grated', 'Green', 'Chilli', 'Coriander', 'Leaves', 'Sunflower', 'Oil', 'All', 'Purpose', 'Flour', 'Maida', 'Ghee', 'Salt', 'Sunflower', 'Oil', 'for', 'deep', 'frying', 'Cumin', 'seeds', 'Jeera', 'Green', 'Chilli', 'Sauce', 'Cinnamon', 'Powder', 'Dalchini', 'Garam', 'masala', 'powder', 'Red', 'Amchur', 'Dry', 'Mango', 'peas', 'Matar', 'steamed', 'and', 'mashed', 'Water', 'Arhar', 'dal', 'Split', 'Toor', 'Yellow', 'Moong', 'Dal', 'Spinach', 'Leaves', 'Palak', 'Pearl', 'onions', 'Sambar', 'Onions', 'Green', 'Chillies', 'slit', 'Turmeric', 'powder', 'Haldi', 'Tamarind', 'Water', 'Salt', 'Mustard', 'seeds', 'Garlic', 'coarsely', 'pound', 'Curry', 'leaves', 'Dry', 'Red', 'Sunflower', 'Oil', 'Paneer', 'Homemade', 'Cottage', 'Cheese', 'cubed', 'Sunflower', 'Oil', 'Green', 'peas', 'Matar', 'Salt', 'Sugar', 'Red', 'Chilli', 'powder', 'Milk', 'Kasuri', 'Methi', 'Dried', 'Fenugreek', 'Leaves', 'Onion', 'red', 'Tomatoes', 'finely', 'chopped', 'Ginger', 'clove', 'Garlic', 'peeled', 'and', 'Ghee', 'or', 'clarified', 'butter', 'Dry', 'Chillies', 'Cardamom', 'Elaichi', 'Pods/Seeds', 'Cinnamon', 'Stick', 'Dalchini', 'Whole', 'Black', 'Peppercorns', 'Coriander', 'Dhania', 'Seeds', 'Cashew', 'nuts', 'broken', 'into', 'small', 'pieces', 'Moth', 'Sprouts', 'Matki', 'White', 'Urad', 'Dal', 'Split', 'Green', 'Chillies', 'Fennel', 'seeds', 'Saunf', 'Ginger', 'Spinach', 'Leaves', 'Palak', 'Turmeric', 'powder', 'Haldi', 'Sunflower', 'Oil', 'Tofu', 'crumbled', 'Onion', 'chopped', 'Red', 'Bell', 'pepper', 'Capsicum', 'Tomato', 'Green', 'Chilli', 'Cumin', 'seeds', 'Jeera', 'powder', 'Black', 'Turmeric', 'Haldi', 'Coriander', 'Dhania', 'Leaves', 'Salt', 'Sunflower', 'Oil', 'Gram', 'flour', 'besan', 'Rice', 'Green', 'Moong', 'Sprouts', 'Onion', 'Coriander', 'Dhania', 'Leaves', 'Chillies', 'Ginger', 'grated', 'Powder', 'Garam', 'masala', 'powder', 'Lemon', 'juice', 'Salt', 'Red', 'Chilli', 'Sunflower', 'Oil', 'deep', 'fry', 'All', 'Purpose', 'Flour', 'Maida', 'Sugar', 'Dark', 'chocolate', 'Cocoa', 'Powder', 'Salted', 'butter', 'Milk', 'Baking', 'powder', 'soda', 'Vanilla', 'Extract', 'Britannia', 'Cream', 'Cheese', 'Caster', 'Fresh', 'raspberries', 'Pointed', 'gourd', 'Parval', 'cut', 'into', 'wedges', 'Potatoes', 'Aloo', 'skin', 'peeled', 'Methi', 'Seeds', 'Fenugreek', 'Cumin', 'seeds', 'Jeera', 'Fennel', 'Saunf', 'Cloves', 'Laung', 'Cinnamon', 'Stick', 'Dalchini', 'Dry', 'Red', 'Chilli', 'Ginger', 'finely', 'chopped', 'Fresh', 'coconut', 'grated', 'Poppy', 'powder', 'Turmeric', 'Haldi', 'Green', 'Chillies', 'Sugar', 'Salt', 'Mustard', 'oil', 'for', 'cooking', 'Whole', 'Wheat', 'Flour', 'All', 'Purpose', 'Maida', 'Sooji', 'Semolina', 'Rava', 'Curd', 'Dahi', 'Yogurt', 'Turmeric', 'powder', 'Haldi', 'Salt', 'Sunflower', 'Oil', 'kneading', 'Potatoes', 'Aloo', 'boiled', 'and', 'mashed', 'Cumin', 'seeds', 'Jeera', 'Onion', 'finely', 'chopped', 'Garlic', 'crushed', 'Ginger', 'Green', 'Chillies', 'Curry', 'leaves', 'Coriander', 'Dhania', 'Leaves', 'Red', 'Chilli', 'Mooli', 'Mullangi', 'Radish', 'Paneer', 'Homemade', 'Cottage', 'Cheese', 'Green', 'Chilli', 'Garlic', 'Ginger', 'Cumin', 'powder', 'Sunflower', 'Oil', 'Salt', 'Turmeric', 'Haldi', 'Whole', 'Wheat', 'Flour', 'Ghee', 'Basmati', 'rice', 'Coconut', 'milk', 'Turmeric', 'powder', 'Green', 'beans', 'French', 'Beans', 'diced', 'small', 'Cauliflower', 'gobi', 'florets', 'Carrots', 'Gajjar', 'Garlic', 'grated', 'Ginger', 'Chillies', 'slit', 'Cloves', 'Laung', 'Cardamom', 'Elaichi', 'Pods/Seeds', 'Cinnamon', 'Stick', 'Dalchini', 'Bay', 'leaf', 'tej', 'patta', 'Salt', 'Ghee', 'Sundkai', 'fenugreek', 'Arhar', 'dal', 'boiled', 'mashed', 'Tomato', 'Tamarind', 'Turmeric', 'Powder', 'Sambar', 'Coriander', 'mustard', 'cumin', 'seeds', 'dry', 'red', 'chili', 'asafoetida', 'oil', 'salt', 'water', 'Brown', 'Rice', 'Rolled', 'Oats', 'Or', 'Instant', 'Whole', 'Eggs', 'Spring', 'Onion', 'Greens', 'finely', 'chopped', 'Carrots', 'Gajjar', 'Green', 'beans', 'French', 'Beans', 'Cabbage', 'Patta', 'Gobi', 'Muttaikose', 'Sunflower', 'Oil', 'Salt', 'and', 'Pepper', 'Mango', 'Ripe', 'Sugar', 'Saffron', 'strands', 'Cinnamon', 'Powder', 'Dalchini', 'Carrots', 'Gajjar', 'small', 'Green', 'beans', 'French', 'pieces', 'Cauliflower', 'gobi', 'florets', 'Potatoes', 'Aloo', 'Tofu', 'Onions', 'Chillies', 'Ginger', 'Garlic', 'Paste', 'Turmeric', 'powder', 'Haldi', 'Red', 'Chilli', 'Cardamom', 'Elaichi', 'Pods', 'Seeds', 'Black', 'cardamom', 'Badi', 'Cloves', 'Laung', 'Coconut', 'Yogurt', 'optional', 'milk', 'thick', 'Mint', 'Leaves', 'Pudina', 'Saffron', 'strands', 'Edible', 'Silver', 'Foil', 'Leaf', 'Chandi', 'Ka', 'Vark', 'Pineapple', 'Raisins', 'Cashew', 'nuts', 'Badam', 'Almond', 'Pistachios', 'Garam', 'masala', 'Oil', 'Poppy', 'seeds', 'Coriander', 'Dhania', 'Leaves', 'chopped', 'Green', 'Chillies', 'Ginger', 'Salt', 'Lemon', 'juice', 'extracted', 'Kabuli', 'Chana', 'White', 'Chickpeas', 'soaked', 'overnight', 'Ghee', 'Onion', 'finely', 'Garlic', 'Cinnamon', 'Stick', 'Dalchini', 'Bay', 'leaf', 'tej', 'patta', 'Brown', 'cardamom', 'Badi', 'Elaichi', 'Black', 'Kala', 'Namak', 'Garam', 'masala', 'powder', 'Powder', 'Gunde', 'bird', 'lime', 'Methi', 'Seeds', 'Fenugreek', 'Cumin', 'seeds', 'Jeera', 'Asafoetida', 'hing', 'Fennel', 'Saunf', 'Mustard', 'Turmeric', 'powder', 'Haldi', 'Red', 'Chilli', 'Amchur', 'Dry', 'Mango', 'Powder', 'Coriander', 'Dhania', 'Leaves', 'few', 'All', 'Purpose', 'Flour', 'Maida', 'Sunflower', 'Oil', 'Cabbage', 'Patta', 'Gobi', 'Muttaikose', 'shredded', 'Green', 'peas', 'Matar', 'Spring', 'Onion', 'Bulb', 'Greens', 'chopped', 'Soy', 'sauce', 'Red', 'Chilli', 'Honey', 'Salt', 'Sesame', 'Gingelly', 'seeds', 'Til', 'Water', 'Brown', 'Sugar', 'Demerara', 'Cinnamon', 'Stick', 'Dalchini', 'Star', 'anise', 'Ginger', 'coconut', 'oil', 'curry', 'leaves', 'garlic', 'ginger', 'onion', 'tomatoes', 'turmeric', 'powder', 'garam', 'masala', 'red', 'chilli', 'coriander', 'chicken', 'breast', 'water', 'Fresh', 'coconut', 'grated', 'Cooked', 'rice', 'Mustard', 'seeds', 'White', 'Urad', 'Dal', 'Split', 'Chana', 'dal', 'Bengal', 'Gram', 'Raw', 'Peanuts', 'Moongphali', 'Curry', 'leaves', 'Green', 'Chillies', 'finely', 'chopped', 'Ginger', 'Coconut', 'Oil', 'Salt', 'Cardamom', 'Elaichi', 'Pods', 'Seeds', 'Whole', 'Black', 'Peppercorns', 'Cinnamon', 'Stick', 'Dalchini', 'cloves', 'Cloves', 'Laung', 'Mace', 'Javitri', 'Bay', 'leaf', 'tej', 'patta', 'cardamom', 'Badi', 'Kasuri', 'Methi', 'Dried', 'Fenugreek', 'Leaves', 'Kashmiri', 'Red', 'Chilli', 'Powder', 'Turmeric', 'powder', 'Haldi', 'Coriander', 'Dhania', 'Garam', 'masala', 'Samosas', 'mini', 'Cashew', 'nuts', 'Green', 'Onion', 'roughly', 'chopped', 'Tomato', 'Ginger', 'Sugar', 'Fresh', 'cream', 'Sunflower', 'Oil', 'Sooji', 'Semolina', 'Rava', 'Curd', 'Dahi', 'Yogurt', 'Onion', 'powder', 'finely', 'chopped', 'Green', 'Bell', 'Pepper', 'Capsicum', 'Coriander', 'Dhania', 'Leaves', 'Chilli', 'Black', 'pepper', 'Salt', 'Sunflower', 'Oil', 'Black', 'Eyed', 'Beans', 'Lobia', 'Onion', 'chopped', 'Garlic', 'minced', 'Red', 'Yellow', 'Green', 'Bell', 'Pepper', 'Capsicum', 'finely', 'Tomatoes', 'blanched', 'Ginger', 'Extra', 'Virgin', 'Olive', 'Oil', 'Cumin', 'powder', 'Jeera', 'Chilli', 'or', 'red', 'chilli', 'flakes', 'Coriander', 'Dhania', 'Leaves', 'Lemon', 'juice', 'adjustable', 'Cumin', 'seeds', 'Jeera', 'Cinnamon', 'Stick', 'Dalchini', 'Dry', 'ginger', 'powder', 'Turmeric', 'Haldi', 'Red', 'Chilli', 'Coriander', 'Dhania', 'Seeds', 'Fennel', 'Saunf', 'Whole', 'Black', 'Peppercorns', 'Garlic', 'Cardamom', 'Elaichi', 'Pods', 'Mace', 'Javitri', 'Jasmine', 'Rice', 'Coconut', 'milk', 'Salt', 'Oil', 'Onion', 'diced', 'Bell', 'pepper', 'Capsicum', 'sliced', 'thin', 'Gawar', 'Phali', 'Kothavarangai', 'Cluster', 'beans', 'chopped', 'into', 'half', 'Ginger', 'minced', 'Lemongrass', 'fresh', 'Lemon', 'juice', 'Jaggery', 'Thai', 'basil', 'leaves', 'garnish', 'All', 'Purpose', 'Flour', 'Maida', 'Ghee', 'melted', 'Ajwain', 'Carom', 'seeds', 'Green', 'Peas', 'Matar', 'Sweet', 'corn', 'Chillies', 'finely', 'chopped', 'Ginger', 'grated', 'Fennel', 'Saunf', 'Garam', 'masala', 'powder', 'Chaat', 'Masala', 'Powder', 'Coriander', 'Dhania', 'Leaves', 'small', 'bunch', 'raw', 'mango', 'tamarind', 'water', 'jaggery', 'sambar', 'powder', 'turmeric', 'salt', 'mustard', 'asafoetida', 'Curry', 'leaves', 'dry', 'red', 'chillies', 'oil', 'Amla', 'Nellikai', 'Gooseberry', 'Methi', 'Seeds', 'Fenugreek', 'Mustard', 'seeds', 'oil', 'Red', 'Chilli', 'powder', 'Asafoetida', 'hing', 'Salt', 'rice', 'water', 'ghee', 'cardamom', 'long', 'star', 'anise', 'cinnamon', 'whole', 'black', 'pepper', 'bay', 'leaf', 'onion', 'green', 'coriander', 'mint', 'cottage', 'cheese', 'tomatoes', 'cream', 'ginger', 'cloves', 'garlic', 'chili', 'powder', 'cumin', 'garam', 'masala', 'red', 'chilli', 'kasoori', 'methi', 'honey', 'cashews', 'All', 'Purpose', 'Flour', 'Maida', 'Sunflower', 'Oil', 'Ajwain', 'Carom', 'seeds', 'Green', 'peas', 'Matar', 'Paneer', 'Homemade', 'Cottage', 'Cheese', 'crumbled', 'Coriander', 'Powder', 'Dhania', 'Red', 'Chilli', 'Amchur', 'Dry', 'Mango', 'Turmeric', 'powder', 'Haldi', 'Onion', 'chopped', 'tomato', 'puree', 'Ginger', 'Garlic', 'Paste', 'Whole', 'cashews', 'Curd', 'Dahi', 'Yogurt', 'Cloves', 'Laung', 'Mace', 'Javitri', 'Cardamom', 'Elaichi', 'Pods', 'Seeds', 'Cinnamon', 'Stick', 'Dalchini', 'Cumin', 'Jeera', 'Garam', 'masala', 'Kasuri', 'Methi', 'Dried', 'Fenugreek', 'Leaves', 'Sugar', 'Chicken', 'breasts', 'Red', 'Bell', 'pepper', 'Capsicum', 'Onion', 'Lemon', 'juice', 'Dried', 'Thyme', 'Leaves', 'Chilli', 'flakes', 'Black', 'powder', 'Extra', 'Virgin', 'Olive', 'Oil', 'Salt', 'Paneer', 'Homemade', 'Cottage', 'Cheese', 'cut', 'into', 'cubes', 'Green', 'Chilli', 'finely', 'chopped', 'Ginger', 'Raisins', 'Cashew', 'nuts', 'Badam', 'Almond', 'Pistachios', 'Turmeric', 'powder', 'Gram', 'flour', 'Cardamom', 'Powder', 'Sunflower', 'Oil', 'Bay', 'leaf', 'tej', 'patta', 'Pods', 'Seeds', 'Cinnamon', 'Stick', 'Dalchini', 'Cloves', 'Laung', 'Mace', 'Javitri', 'Star', 'anise', 'tomato', 'puree', 'cloves', 'Garlic', 'Onion', 'roughly', 'Coriander', 'Dhania', 'Red', 'soaked', 'and', 'grind', 'to', 'a', 'smooth', 'paste', 'Curd', 'Dahi', 'Yogurt', 'Kasuri', 'Methi', 'Dried', 'Fenugreek', 'Leaves', 'Honey', 'Fresh', 'cream', 'Apricots', 'finely', 'chopped', 'Whole', 'Wheat', 'Flour', 'Brown', 'Sugar', 'Demerara', 'Butter', 'unsalted', 'cold', 'and', 'cut', 'in', 'a', 'small', 'chunks', 'Cinnamon', 'Powder', 'Dalchini', 'Pecans', 'coarsely', 'at', 'room', 'temperature', 'Cocoa', 'Dark', 'chocolate', 'Coffee', 'Decoction', 'Eggs', 'Vanilla', 'Extract', 'Sour', 'cream', 'Baking', 'powder', 'soda', 'cabbage', 'leaves', 'tomatoes', 'tamarind', 'white', 'urad', 'dal', 'red', 'chillies', 'cloves', 'garlic', 'big', 'oil', 'Rye', 'Cumin', 'seeds', 'Curry', 'Colocasia', 'root', 'Arbi', 'Green', 'Chilli', 'Cumin', 'powder', 'Jeera', 'Coriander', 'Powder', 'Dhania', 'Red', 'Turmeric', 'Haldi', 'Garam', 'masala', 'Amchur', 'Dry', 'Mango', 'Salt', 'Leaves', 'Whole', 'Wheat', 'Flour', 'Sunflower', 'Oil', 'a', 'Barley', 'seeds', 'Broccoli', 'florets', 'Green', 'peas', 'Matar', 'Sweet', 'corn', 'beans', 'French', 'Beans', 'Carrots', 'Gajjar', 'Rocket', 'leaves', 'Tomatoes', 'chopped', 'Onion', 'Garlic', 'minced', 'Extra', 'Virgin', 'Olive', 'Oil', 'Basil', 'Fresh', 'Thyme', 'Red', 'Chilli', 'flakes', 'Corn', 'flour', 'Water', 'Sour', 'cream', 'Chicken', 'thighs', 'Onion', 'diced', 'Garlic', 'chopped', 'Ginger', 'grated', 'Tomatoes', 'desseded', 'Coriander', '(Dhania)', 'Leaves', 'Green', 'Chillies', 'slit', 'Kasuri', 'Methi', '(Dried', 'Fenugreek', 'Leaves)', 'Turmeric', 'powder', '(Haldi)', 'Kashmiri', 'Red', 'Chilli', 'Powder', 'Garam', 'masala', 'Sunflower', 'Oil', 'Salt', 'Arhar', 'dal', 'Water', 'Turmeric', 'powder', 'Green', 'Chillies', 'Tamarind', 'Lemon', 'juice', 'Ghee', 'Mustard', 'seeds', 'Asafoetida', 'hing', 'Curry', 'leaves', 'Handful', 'Coriander', 'Dhania', 'Leaves', 'Mango', 'Ripe', 'cut', 'into', 'pieces', 'Water', 'Sugar', 'optional', 'Elephant', 'yam', 'Suran', 'Senai', 'Ratalu', 'Fresh', 'coconut', 'grated', 'Mustard', 'seeds', 'Curry', 'leaves', 'few', 'Asafoetida', '(hing)', 'Red', 'Chilli', 'powder', 'Coriander', 'Powder', '(Dhania)', 'Turmeric', '(Haldi)', 'Sambar', 'Salt', 'Sunflower', 'Oil', 'for', 'frying']\n",
      "Units: ['grams', 'sprig', 'tablespoon', 'teaspoon', 'grams', 'cup', 'teaspoon', 'cup', 'cloves', 'teaspoon', 'grams', 'teaspoons', 'cups', 'tablespoons', 'cup', 'tablespoon', 'teaspoon', 'grams', 'teaspoon', 'teaspoons', 'tablespoon', 'cup', 'inch', 'cups', 'tablespoon', 'tablespoons', 'teaspoon', 'teaspoons', 'grams', 'grams', 'tablespoons', 'cups', 'teaspoon', 'cup', 'teaspoons', 'cup', 'liter', 'tablespoon', 'teaspoon', 'grams', 'cups', 'tablespoon', 'tablespoons', 'teaspoon', 'cup', 'sprig', 'inch', 'cut', 'into', 'cm', 'teaspoons', 'teaspoon', 'finely', 'cup', 'and', 'tablespoon', 'sprig', 'cup', 'inch', 'cloves', 'cloves', 'dry', 'red', 'tablespoon', 'tablespoons', 'tsp', 'tablespoons', 'grams', 'teaspoon', 'cup', 'cloves', 'tablespoon', 'Stalks', 'cup', 'tablespoon', 'cloves', 'teaspoon', 'tablespoons', 'Spoon', 'inch', 'tablespoon', 'teaspoons', 'teaspoon', 'tablespoons', 'cups', 'cup', 'inch', 'cloves', 'cups', 'cup', 'tablespoon', 'tablespoons', 'ml', 'grams', 'tablespoons', 'cup', 'teaspoon', 'sprig', 'cups', 'tablespoons', 'tablespoon', 'teaspoon', 'cup', 'inch', 'cup', 'teaspoon', 'sprig', 'grams', 'teaspoon', 'Teaspoon', 'cup', 'tablespoon', 'inches', 'Teaspoon', 'sprig', 'tablespoon', 'teaspoon', 'cup', 'sprig', 'cups', 'grams', 'ml', 'cup', 'tablespoon', 'tablespoons', 'cup', 'inch', 'cloves', 'teaspoon', 'handful', 'cups', 'tablespoon', 'teaspoons', 'cup', 'teaspoon', 'inch', 'finely', 'cloves', 'cup', 'teaspoon', 'tablespoon', 'tablespoon', 'cups', 'teaspoon', 'cup', 'cups', 'cup', 'cloves', 'tablespoon', 'tablespoons', 'cup', 'teaspoon', 'tablespoons', 'tablespoon', 'sprig', 'cup', 'teaspoon', 'inch', 'cloves', 'tablespoons', 'teaspoon', 'grams', 'pinch', 'grams', 'cloves', 'inch', 'teaspoon', 'tablespoons', 'tablespoon', 'cup', 'teaspoon', 'tablespoon', 'cup', 'teaspoon', 'sprig', 'inch', 'cloves', 'grams', 'teaspoon', 'cup', 'Tablespoons', 'grams', 'tablespoons', 'teaspoon', 'cups', 'tablespoon', 'cups', 'cup', 'inch', 'tablespoons', 'cloves', 'teaspoon', 'cup', 'tablespoon', 'teaspoon', 'cups', 'grams', 'teaspoons', 'sprig', 'tablespoons', 'teaspoon', 'pinch', 'grams', 'inch', 'cloves', 'teaspoon', 'tablespoon', 'cups', 'cups', 'cloves', 'teaspoon', 'cup', 'scoops', 'tablespoon', 'cup', 'tablespoons', 'tablespoon', 'cup', 'tablespoons', 'cups', 'cup', 'cup', 'tsp', 'teaspoon', 'cup', 'teaspoon', 'teaspoons', 'sprig', 'inch', 'small', 'bud', 'green', 'cup', 'tsp', 'sprig', 'grams', 'cloves', 'small', 'Teaspoon', 'tsp', 'tbsp', 'cup', 'cloves', 'teaspoon', 'teaspoon', 'cup', 'inch', 'tsp', 'cups', 'tablespoon', 'grams', 'inch', 'cloves', 'teaspoon', 'cups', 'cup', 'teaspoon', 'sprig', 'kg', 'teaspoon', 'tablespoon', 'cup', 'cups', 'cup', 'tablespoon', 'teaspoon', 'grams', 'pinch', 'teaspoon', 'cup', 'teaspoon', 'cups', 'grams', 'teaspoon', 'clove', 'tablespoon', 'cup', 'cups', 'tablespoons', 'teaspoon', 'cup', 'tablespoon', 'teaspoon', 'sprig', 'cup', 'pinch', 'teaspoon', 'sprig', 'teaspoon', 'cup', 'sprig', 'cup', 'teaspoon', 'tablespoon', 'grams', 'teaspoons', 'teaspoon', 'tablespoons', 'tablespoon', 'cup', 'teaspoon', 'tablespoons', 'cups', 'cup', 'teaspoon', 'cup', 'teaspoon', 'cups', 'inch', 'sprig', 'cups', 'teaspoons', 'tablespoons', 'tablespoon', 'tablespoons', 'teaspoon', 'grams', 'tablespoons', 'teaspoon', 'tablespoon', 'cup', 'teaspoon', 'tablespoon', 'tablespoon', 'teaspoon', 'cups', 'cups', 'teaspoon', 'sprig', 'cups', 'cup', 'teaspoon', 'tablespoons', 'cup', 'teaspoon', 'teaspoons', 'tablespoon', 'tablespoons', 'teaspoon', 'cup', 'cloves', 'teaspoon', 'tablespoon', 'sprig', 'cups', 'cups', 'tablespoons', 'inch', 'teaspoon', 'cup', 'cup', 'grams', 'tablespoons', 'teaspoon', 'drops', 'wedges', 'gram', 'inch', 'sprigs', 'cup', 'teaspoon', 'cup', 'teaspoon', 'tablespoon', 'sprig', 'grams', 'inch', 'tsp', 'tbsp', 'cup', 'tablespoons', 'teaspoon', 'cup', 'teaspoon', 'tablespoon', 'teaspoon', 'cup', 'cloves', 'teaspoon', 'teaspoons', 'whole', 'grams', 'teaspoon', 'tablespoons', 'tablespoon', 'teaspoons', 'tablespoons', 'inch', 'cloves', 'tablespoon', 'cups', 'cup', 'tablespoons', 'liter', 'cups', 'cup', 'tablespoon', 'teaspoon', 'Tablespoon', 'teaspoon', 'cups', 'teaspoons', 'teaspoon', 'grams', 'tablespoons', 'cups', 'teaspoons', 'grams', 'cup', 'gram', 'teaspoon', 'tablespoon', 'cup', 'inch', 'tablespoon', 'cup', 'cups', 'cup', 'teaspoon', 'tablespoon', 'cup', 'tablespoon', 'pinch', 'tablespoons', 'teaspoon', 'sprig', 'cup', 'tablespoon', 'grams', 'tsp', 'inch', 'cup', 'cup', 'teaspoon', 'tablespoon', 'cup', 'tablespoons', 'tablespoon', 'teaspoon', 'cup', 'grams', 'teaspoon', 'cup', 'tablespoon', 'sprig', 'tablespoons', 'teaspoon', 'cup', 'tablespoon', 'teaspoon', 'cup', 'grams', 'teaspoon', 'inch', 'teaspoons', 'tablespoon', 'sprig', 'tsp', 'pinch', 'grams', 'teaspoon', 'cup', 'teaspoons', 'tablespoons', 'sprig', 'cups', 'teaspoon', 'cup', 'teaspoon', 'cup', 'tablespoon', 'tablespoons', 'teaspoon', 'cup', 'tablespoon', 'teaspoon', 'sprig', 'gms', 'inch', 'teaspoon', 'cup', 'grams', 'inch', 'cloves', 'tablespoons', 'teaspoon', 'teaspoons', 'cups', 'tablespoon', 'cup', 'teaspoons', 'teaspoon', 'sprig', 'cup', 'teaspoon', 'tablespoon', 'Pinch', 'cut', 'cup', 'cups', 'cup', 'teaspoon', 'small', 'spoon', 'grams', 'cup', 'cloves', 'inch', 'tbsp', 'Tbsp', 'cups', 'cup', 'teaspoon', 'tablespoons', 'tablespoon', 'cup', 'cloves', 'teaspoon', 'cup', 'teaspoons', 'grams', 'teaspoon', 'grams', 'teaspoon', 'inch', 'cup', 'cup', 'teaspoon', 'cloves', 'inch', 'tablespoon', 'teaspoons', 'sprig', 'tablespoons', 'teaspoon', 'tablespoon', 'tablespoons', 'grams', 'inch', 'cloves', 'tablespoons', 'cups', 'teaspoons', 'teaspoon', 'tablespoon', 'cup', 'grams', 'teaspoon', 'tablespoons', 'cups', 'teaspoon', 'tablespoon', 'cup', 'thick', 'thin', 'raw', 'teaspoon', 'cups', 'tablespoon', 'cup', 'tablespoons', 'cup', 'grams', 'cloves', 'teaspoon', 'sprig', 'teaspoons', 'tablespoon', 'cups', 'cup', 'teaspoon', 'sprig', 'teaspoon', 'tablespoon', 'cups', 'teaspoon', 'cup', 'tablespoons', 'tablespoon', 'teaspoon', 'pinch', 'grams', 'teaspoon', 'tablespoon', 'cup', 'cup', 'tablespoon', 'inch', 'teaspoon', 'liter', 'tablespoons', 'cup', 'tablespoon', 'teaspoon', 'cups', 'tsp', 'tbsp', 'cup', 'teaspoon', 'tablespoon', 'tablespoon', 'teaspoon', 'teaspoons', 'teaspoon', 'pinch', 'cup', 'tablespoon', 'grams', 'teaspoon', 'sprig', 'teaspoons', 'grams', 'cloves', 'tablespoons', 'cup', 'cups', 'teaspoon', 'teaspoons', 'cup', 'sprig', 'tablespoon', 'teaspoon', 'pinch', 'teaspoons', 'cup', 'teaspoon', 'inch', 'sprig', 'cup', 'tablespoons', 'teaspoon', 'cups', 'cup', 'teaspoon', 'cloves', 'sprig', 'cups', 'cup', 'teaspoon', 'inch', 'tablespoons', 'cup', 'teaspoon', 'inch', 'grams', 'teaspoon', 'sprig', 'cup', 'tablespoon', 'teaspoon', 'cup', 'tablespoon', 'teaspoon', 'teaspoon', 'inch', 'cup', 'tablespoon', 'cup', 'tablespoon', 'teaspoon', 'pinch', 'cloves', 'inch', 'sprig', 'grams', 'cloves', 'inch', 'teaspoon', 'cup', 'cup', 'ml', 'teaspoon', 'cups', 'cloves', 'inch', 'tablespoons', 'cup', 'tsp', 'teaspoon', 'cups', 'grams', 'cup', 'teaspoon', 'cup', 'teaspoon', 'diced', 'to', 'cut', 'into', 'inch', 'cup', 'boiled', 'sliced', 'tablespoon', 'teaspoon', 'powdered', 'tablespoons', 'toasted', 'cold', 'pressed', 'whole', 'cup', 'inch', 'cups', 'tablespoon', 'cloves', 'teaspoon', 'grams', 'teaspoon', 'cup', 'tablespoon', 'sprig', 'teaspoon', 'tablespoons', 'inch', 'tsp', 'sprig', 'long', 'inch', 'teaspoon', 'grams', 'cups', 'cup', 'cups', 'teaspoon', 'teaspoons', 'fistful', 'sprig', 'or', 'tablespoon', 'inch', 'teaspoon', 'tablespoon', 'tablespoons', 'cup', 'tablespoons', 'teaspoon', 'cup', 'cloves', 'inch', 'julienned', 'tablespoon', 'teaspoon', 'sprig', 'tablespoon', 'teaspoons', 'cloves', 'teaspoon', 'cups', 'cup', 'tablespoons', 'inch', 'Stalks', 'cups', 'teaspoon', 'cup', 'inch', 'teaspoons', 'cup', 'tablespoon', 'teaspoon', 'Sprig', 'grams', 'teaspoon', 'cup', 'tsp', 'inch', 'sprig', 'grams', 'tablespoons', 'tbsp', 'cup', 'tablespoons', 'teaspoons', 'teaspoon', 'inch', 'teaspoon', 'tablespoon', 'grams', 'inch', 'teaspoon', 'tablespoon', 'teaspoons', 'cup', 'tablespoons', 'cup', 'teaspoon', 'tablespoon', 'grams', 'cup', 'grams', 'tablespoons', 'Spoon', 'teaspoon', 'sprig', 'grams', 'teaspoon', 'tablespoon', 'sprig', 'cup', 'pinch', 'cup', 'cloves', 'tablespoon', 'teaspoon', 'teaspoons', 'grams', 'cloves', 'inch', 'cup', 'teaspoon', 'teaspoons', 'cup', 'cups', 'teaspoon', 'grams', 'tablespoon', 'cups', 'grams', 'cup', 'teaspoon']\n",
      "Quantities: ['500', '1', '2', '1/2', '2-1/2', '500', '1/4', '1', '2', '1/2', '3', '1/2', '1-1/2', '4', '1', '500', '8', '2', '1/4', '2', '1', '1/2', '500', '1/2', '2', '1', '2', '1', '1-1/2', '1/2', '250', 'cloves', '500', '200', '2', '1', '2-1/2', '1-1/2', 'few', '1/2', '50', '1', '2', '3/4', '1/2', '200', '1', '1-1/2', '4-5', '3', '1/2', '2', '5-6', '4', '2-3', '1', '2', '1/4', '4', '1', '1/4', '2', '3', '5', '8', '6', '12', '4', '1', '3', '3', '2', '6', '175', '150', '100', '1', '200', '75', '2', '1/2', '1', '1', '1/2', '4', '2', '1/4', '2', '5', '6', '1', '3', '1/4', '4', '1', '2', '1-1/2', '1/2', '1', '2', '1/4', '325', '14', '2', '30', '500', '1', '3', '6', '2', '4', '1', '1/2', '1/4', '2', '4', '1', '1/4', 'a', '1', '1/2', '1/4', '250', '1', '2', '1/2', '1/4', '1', '2', '3', '1', '1/4', '3', '1/2', '100', 'one', '300', '1/4', '1', '2', '1', '1/2', '3/4', '2', '1/4', '2-3', 'A', '1', '7', '2', '1/2', '6', '3', '2', '4', '1/4', '1/2', '1', '3', '2', '1', '1/4', '3', '2', '1/2', '3', 'to', '1', '2', '1/2', '1/4', '1', '1/4', '1/2', '15', '1', '4', '5', '3', '1/4', '1/2', '18', '200', '500', '1', '2', '1/2', '1/4', '4', '2', '2-3', '1', '1/2', '10', '1', '1/2', '4', '2', '160', '1', '3', '1/2', '1/4', '600', '1', '2', '1-1/2', '4', '1/2', '1-1/4', '1-1/2', '1', '1/2', '2', '3', '1/4', '1/2', '1', '1/8', '2', '2-1/2', '400', '2', '1/2', '1', '500', '2', '1', '4', '6', '1/2', '1/4', '1-1/2', '1', '3', '2', '1/2', '8', '1/2', '2', '1/4', '1', '1', '4', '1/3', '3', '1', '2', '2', '1', '1', '1/2', '2', '3', '1', '1/2', '1/4', '2', '4', '8', '6', '10', '2', '1/2', '1', '1/4', '200', '50', '2', '1', '1/2', '6', '1', '5', '2', '1/2', '1/4', '2', '1', '1/2', '1/2', '1', '2', '2', '1', '200', '1/4', '4', '1/2', '1-1/2', '1', '1/2', '1/3', '2', '1/4', '1', '2', '1/2', '1', '3', '1/2', '2', '1-1/2', '300', '75', '175', '15', '1', '1/2', '1/2', '3', '3/4', '5', '1', '250', '1', '500', '1/4', '1', '2', '1/2', '6', '4', '1/4', '1', '1-1/2', '5', '4', '1', '1/4', '2', '5', '2', '1', '1/4', '1/2', '4', '1', '1/2', '1/3', '1/4', '500', '2', '1', '1/4', '1/2', '18', 'is', '2', '1/4', '1', '1/2', '10', '2', '1', '1/2', '1/4', '1', '1/4', '2', '2', '4', '1', '3', '1-1/12', '1/2', '2', '250', '2', '1', '1/2', '1-1/2', '2-1/2', '1', '1/4', '1/2', '1', '1/4', '2', '4', '3', '1', '1/2', '1/4', '3-4', '1', '1/2', '2-3', '2', '1', '1/4', '2', '1', '2', '6', '1/2', '1', '3', '2', '4', '2', '8', '1/4', '3', '4', '1', '1-1/2', '1/2', '5', '7', '1/4', '500', '2', '1/8', 'few', '1', 'two', '1', '4', '50', '2', '10', '3/4', '1', '1/2', '1/4', '2', '300', '200', '1', '4', '1/2', '3', '2', '3/4', '1', '5', '1/4', '3', '1', '10', '1', '2', '1/2', 'few', '1', '8', '1/2', '1/4', '2', '10', '8', '200', '1', '1/2', '2', '6', '1', '3', '2', '2', '3', '1', '4', '2', '1', '1/2', '1/4', '4', '3/4', '2', '6', '4', '1', '1-1/2', '1/2', '2', '1.5', '1', '1-1/2', '3/4', '1/4', '1', '150', '2', '3', '2', '5', '3', '10', '30', '1/4', '1', '500', '2', '1', '1/2', '1/4', '4', '3', '2', '1', '1/4', '1/2', '2', '1', '3', '5', '1/2', '3/4', '1', '2', '3', 'a', '4', '1', '1/2', '200', '2', '1', '1/2', '3', '1', '3', '1/4', '1/2', '1-1', '2', '1', '1/2', '2', '24', '1', '150', '1/4', '1', 'little', 'as', 'per', 'taste', '1/2', '4', '3', '1', '2', '3', '1/2', 'Few', '1', '1/2', '3', '4', '1', '200', '1/4', '2', '1/2', '4', '2', '1/2', '1', 'a', '500', '1/2', '4', '30', '2', '3', '1', '8', '2', '1/4', '1/2', '1', '1/3', '1/2', '1/2', '3', '1', '1/2', '1', '1/4', '2', '7', '350', '5', '2', '1', '1', '1/4', '200', '1/2', '2', '3', '1-1/2', '1/2', '1/4', '2', '1', '1', '1/2', '10', '4', '5', '1/2', '1', '1/4', 'Little', 'for', '2-1', '1', '1/4', '6', '1/2', '200', '1/2', '1/4', '1/3', '6', '1', '4', '1', '1/2', '3/4', '2', '1/4', '2', '5', '1', '1/2', '4', '1', '2', '250', '1/4', '4', '50', '1', '2', '1/4', '1/2', '1', '1/4', '1/2', '4', '2', '3', '2', '1', '1/2', '8', '2', '1', '4', '100', '2', '1', '3', '2-1/2', '3', '1', '1/2', '2', '1-1/2', '1', '200', '3', '2', '1/4', '1/2', '2', '1/4', '3', '1', '5', '7', '1/2', '2', '1', '3', '1/2', '1/4', '3/4', '2', '1', '1/2', '4', '1', '1/2', '2', '1/4', '1', '20', '10', '1/4', '2', '1-1/2', '1/2', '1', '4', '1/4', '1/3', '10', '1', '2', '2', '1', '1/4', '10', '1', '2', '1/2', '1/4', '250', '15', '5', '2', '1', '4', '1/4', '1', '1/2', '3', '2', '1', '1/2', '2', '4', '3', '1/8', '1', '2', '1/2', '1', '1/4', '1/2', '1', '1/4', '2', '1/2', '4', '2', '1', '1/4', '1/2', 'few', '250', '1', '2', '1/2', '400', '200', '4', '3', '1/4', '2', '1', '1/2', '1/4', '4', '1', '1/4', '1/2', '3', '1', '1/2', '4', '1', '2', '1/2', '1/4', '1-1/2', '1/2', '1', '2', '4', '1-1/2', '1/2', '1', '1/4', '2', '3', '4', '1', '1/2', '2', '1/4', '300', '1', '2', '4', '1/2', '2', '1/4', '1', 'to', '1', '1/2', '3/4', '8', '15', '3', '4', '1/2', '1', '2', '1', '1/4', '2', 'a', 'for', '4', '1/2', '5', '2', '200', '1', '4', '1/4', '1', '120', '10', '1-1/2', '2', '1/2', '1/4', '1', '2', '2', '80', '3', '12', '1', '2', '1', '1/4', '2', '10', '12', '1', '1/2', '6', '3-4', '3', '6-8', 'few', '1-1/2', '15', '1/2', '4', '1', '2', '3', '1/4', '500', '1', '1/2', '1', '1/2', '2', '4', '5', '1/3', '1', '4', '2', '1/2', '300', '1', '2-1/2', '2', '3', '4', '3', '6', '1/2', '1', '15', '2', '1/2', '1/4', '2', '1', '1', '3', '2', '4', '1', '2', '4', '1/2', '10', '2', '1/4', '1', '1/2', '1', '1/2', '2', '100', '1', '1/2', '1', '2', '1/2', '1/4', '200', '3', '1', '2', '1/2', '12', '1', '2', '200', '1', '2', '6', '1/4', '2-3', '3', '1/2', '10', '1', '3/4', '1/2', '4', '1-3/4', '125', '1/4', '225', '2', '1-1/2', '1', '3/4', '18', '2', '4', '3', '1/2', '500', '1', '1/2', '2', '1', '1/4', '1/2', '2', '4', '500', '1', '10', '6', '1/3', '3', '2', '1/4', '1', '5', '30', '1/2', '1/4', '3', '1/4', '250', '1/2', '1/4', '1', '2']\n"
     ]
    }
   ],
   "source": [
    "#  call the function to categorise the labels into respective list\n",
    "# Flatten the columns\n",
    "#flat_input_tokens = flatten_list(df1['input_tokens'])\n",
    "#flat_pos_tokens = flatten_list(df1['pos_tokens'])\n",
    "\n",
    "# Flatten input_tokens\n",
    "flattened_input_tokens = list(chain.from_iterable(train_df['input_tokens']))\n",
    "\n",
    "# Flatten pos_tokens\n",
    "flattened_pos_tokens = list(chain.from_iterable(train_df['pos_tokens']))\n",
    "print(f\"Total input tokens: {len(flattened_input_tokens)}\")\n",
    "print(f\"Total POS tokens: {len(flattened_pos_tokens)}\")\n",
    "nested_list = flattened_input_tokens + flattened_pos_tokens\n",
    "# Apply the function\n",
    "ingredients, units, quantities = categorize_tokens(flattened_input_tokens, flattened_pos_tokens)\n",
    "\n",
    "# Display the results\n",
    "print(\"Ingredients:\", ingredients)\n",
    "print(\"Units:\", units)\n",
    "print(\"Quantities:\", quantities)"
   ]
  },
  {
   "cell_type": "markdown",
   "metadata": {
    "id": "QSGau4EgZCix"
   },
   "source": [
    "#### **4.4** *Top 10 Most Frequent Items* <font color = red>[3 marks]</font> <br>\n",
    "\n",
    "Define a function ***get_top_frequent_items*** to display top 10 most frequent items\n",
    "\n",
    "Here, item_list is used as a general parameter where you will call this function for ingredient and unit list\n",
    "\n",
    "Execute this function separately for top 10 most units and ingredients\n",
    "\n"
   ]
  },
  {
   "cell_type": "code",
   "execution_count": 34,
   "metadata": {
    "id": "kXc8h3H4ZOZ4"
   },
   "outputs": [],
   "source": [
    "# define a function get_top_frequent_items to get the top frequent items by using item_list, pos label and dataset_name(Training/Validation) and return top items\n",
    "\n",
    "def get_top_frequent_items(item_list, pos_label, dataset_name, top_n=10):\n",
    "    counter = Counter(item_list)\n",
    "    top_items = counter.most_common(top_n)\n",
    "    print(f\"\\nTop {top_n} {pos_label.lower()}s in {dataset_name} dataset:\")\n",
    "    for item, freq in top_items:\n",
    "        print(f\"{item}: {freq}\")\n",
    "    return top_items\n"
   ]
  },
  {
   "cell_type": "code",
   "execution_count": 35,
   "metadata": {
    "id": "W2jZCCf2MEke"
   },
   "outputs": [
    {
     "name": "stdout",
     "output_type": "stream",
     "text": [
      "\n",
      "Top 10 ingredients in Training dataset:\n",
      "powder: 125\n",
      "Salt: 106\n",
      "Green: 87\n",
      "Oil: 85\n",
      "Red: 84\n",
      "seeds: 82\n",
      "chopped: 80\n",
      "Chilli: 78\n",
      "Leaves: 72\n",
      "Coriander: 70\n"
     ]
    }
   ],
   "source": [
    "# get the top ingredients which are frequently seen in the recipe\n",
    "\n",
    "top_ingredients = get_top_frequent_items(ingredients, pos_label=\"ingredient\", dataset_name=\"Training\")\n"
   ]
  },
  {
   "cell_type": "code",
   "execution_count": 36,
   "metadata": {
    "id": "wipghGXAMYQR"
   },
   "outputs": [
    {
     "name": "stdout",
     "output_type": "stream",
     "text": [
      "\n",
      "Top 10 units in Training dataset:\n",
      "teaspoon: 157\n",
      "cup: 139\n",
      "tablespoon: 94\n",
      "tablespoons: 63\n",
      "cups: 57\n",
      "grams: 56\n",
      "inch: 50\n",
      "sprig: 42\n",
      "cloves: 37\n",
      "teaspoons: 35\n"
     ]
    }
   ],
   "source": [
    "# get the top units which are frequently seen in the recipe\n",
    "top_units = get_top_frequent_items(units, pos_label=\"unit\", dataset_name=\"Training\")\n"
   ]
  },
  {
   "cell_type": "markdown",
   "metadata": {
    "id": "9hldpjOHaPVZ"
   },
   "source": [
    "#### **4.5** *Plot Top 10 most frequent items* <font color = red>[2 marks]</font> <br>\n",
    "\n",
    "\n"
   ]
  },
  {
   "cell_type": "markdown",
   "metadata": {
    "id": "9ImpWstybDP_"
   },
   "source": [
    "Define a function ***plot_top_items*** to plot a bar graph on top 10 most frequent items for units and ingredients\n",
    "\n",
    "Here, item_list is used as a general parameter where you will call this function for ingredient and unit list"
   ]
  },
  {
   "cell_type": "code",
   "execution_count": 37,
   "metadata": {},
   "outputs": [
    {
     "data": {
      "image/png": "[encoded data removed]",
      "text/plain": [
       "<Figure size 1000x600 with 1 Axes>"
      ]
     },
     "metadata": {},
     "output_type": "display_data"
    }
   ],
   "source": [
    "# define plot top items with parameters - top_item list, label to suggest whether its ingredient or unit, dataset_name\n",
    "from matplotlib import pyplot as plt\n",
    "import numpy as np\n",
    "\n",
    "\n",
    "\n",
    "# Combine with labels\n",
    "combined = [(name, count, 'Ingredient') for name, count in top_ingredients] + \\\n",
    "           [(name, count, 'Item') for name, count in top_units]\n",
    "\n",
    "# Sort by frequency in descending order\n",
    "combined_sorted = sorted(combined, key=lambda x: x[1], reverse=True)\n",
    "\n",
    "# Take top 10\n",
    "top_10_combined = combined_sorted[:10]\n",
    "\n",
    "# Unpack for plotting\n",
    "names = [x[0] for x in top_10_combined]\n",
    "counts = [x[1] for x in top_10_combined]\n",
    "labels = [x[2] for x in top_10_combined]\n",
    "colors = ['skyblue' if label == 'Ingredient' else 'lightgreen' for label in labels]\n",
    "\n",
    "# Plot\n",
    "plt.figure(figsize=(10, 6))\n",
    "y_pos = range(len(names))\n",
    "plt.barh(y_pos, counts, color=colors)\n",
    "plt.yticks(y_pos, names)\n",
    "plt.xlabel('Frequency')\n",
    "plt.title('Top 5 Ingredients and Items by Frequency')\n",
    "plt.gca().invert_yaxis()\n",
    "plt.legend(handles=[\n",
    "    plt.Rectangle((0, 0), 1, 1, color='skyblue', label='Ingredient'),\n",
    "    plt.Rectangle((0, 0), 1, 1, color='lightgreen', label='Item')\n",
    "])\n",
    "plt.tight_layout()\n",
    "plt.show()\n"
   ]
  },
  {
   "cell_type": "markdown",
   "metadata": {
    "id": "rHusCfkJ4suh"
   },
   "source": [
    "#### **4.6** *Perform EDA analysis* <font color = red>[5 marks]</font> <br>\n",
    "\n",
    "Plot the bar plots for ingredients and units and provide the insights for training dataset\n",
    "\n",
    "---\n",
    "\n"
   ]
  },
  {
   "cell_type": "code",
   "execution_count": 38,
   "metadata": {
    "id": "8seIqFKyYFmn"
   },
   "outputs": [
    {
     "data": {
      "image/png": "[encoded data removed]",
      "text/plain": [
       "<Figure size 1000x600 with 1 Axes>"
      ]
     },
     "metadata": {},
     "output_type": "display_data"
    }
   ],
   "source": [
    "# plot the top frequent ingredients in training data\n",
    "import matplotlib.pyplot as plt\n",
    "\n",
    "def plot_top_items(top_items, label, dataset_name):\n",
    "    \"\"\"\n",
    "    Plots a bar chart of the top items.\n",
    "\n",
    "    Parameters:\n",
    "    - top_items: List of tuples (item_name, count)\n",
    "    - label: String indicating the type of item (e.g., 'ingredient' or 'unit')\n",
    "    - dataset_name: String indicating the name of the dataset\n",
    "    \"\"\"\n",
    "    # Unpack items and counts\n",
    "    items, counts = zip(*top_items)\n",
    "\n",
    "    # Create the bar plot\n",
    "    plt.figure(figsize=(10, 6))\n",
    "    plt.bar(items, counts, color='skyblue')\n",
    "    #plt.xlabel(f'{label.capitalize()}')\n",
    "    plt.ylabel('Count')\n",
    "    #plt.title(f'Top {label.capitalize()}s in {dataset_name}')\n",
    "    plt.xticks(rotation=45, ha='right')\n",
    "    plt.tight_layout()\n",
    "    plt.show()\n",
    "\n",
    "plot_top_items(top_ingredients,units, 'Training')"
   ]
  },
  {
   "cell_type": "code",
   "execution_count": 39,
   "metadata": {
    "id": "fbXAwiUkMtqT"
   },
   "outputs": [
    {
     "data": {
      "image/png": "[encoded data removed]",
      "text/plain": [
       "<Figure size 1000x600 with 1 Axes>"
      ]
     },
     "metadata": {},
     "output_type": "display_data"
    }
   ],
   "source": [
    "# plot the top frequent units in training data\n",
    "import matplotlib.pyplot as plt\n",
    "\n",
    "def plot_top_items(top_items, label, dataset_name):\n",
    "    \"\"\"\n",
    "    Plots a bar chart of the top items.\n",
    "\n",
    "    Parameters:\n",
    "    - top_items: List of tuples (item_name, count)\n",
    "    - label: String indicating the type of item (e.g., 'ingredient' or 'unit')\n",
    "    - dataset_name: String indicating the name of the dataset\n",
    "    \"\"\"\n",
    "    # Unpack items and counts\n",
    "    items, counts = zip(*top_items)\n",
    "\n",
    "    # Create the bar plot\n",
    "    plt.figure(figsize=(10, 6))\n",
    "    plt.bar(items, counts, color='skyblue')\n",
    "    plt.xlabel(f'{label.capitalize()}')\n",
    "    plt.ylabel('Count')\n",
    "    plt.title(f'Top {label.capitalize()}s in {dataset_name}')\n",
    "    plt.xticks(rotation=45, ha='right')\n",
    "    plt.tight_layout()\n",
    "    plt.show()\n",
    "\n",
    "plot_top_items(top_units, 'ingredient', 'Training')"
   ]
  },
  {
   "cell_type": "markdown",
   "metadata": {
    "id": "vYh7zbJpCajJ"
   },
   "source": [
    "## **5** Exploratory Recipe Data Analysis on Validation Dataset (Optional)<font color = red> [0 marks]</font> <br>"
   ]
  },
  {
   "cell_type": "markdown",
   "metadata": {
    "id": "K2wPIaOGCmk2"
   },
   "source": [
    "#### **5.1** *Execute EDA on Validation Dataset with insights (Optional)* <font color = red> [0 marks]</font> <br>\n",
    "Initialise the dataset_name as ***Validation*** and call the ***plot_top_items*** for top 10 ingredients and units in the recipe data\n",
    "Provide the insights for the same.\n",
    "\n"
   ]
  },
  {
   "cell_type": "code",
   "execution_count": 40,
   "metadata": {
    "id": "atSk0ChLPXHd"
   },
   "outputs": [
    {
     "data": {
      "text/html": [
       "<div>\n",
       "<style scoped>\n",
       "    .dataframe tbody tr th:only-of-type {\n",
       "        vertical-align: middle;\n",
       "    }\n",
       "\n",
       "    .dataframe tbody tr th {\n",
       "        vertical-align: top;\n",
       "    }\n",
       "\n",
       "    .dataframe thead th {\n",
       "        text-align: right;\n",
       "    }\n",
       "</style>\n",
       "<table border=\"1\" class=\"dataframe\">\n",
       "  <thead>\n",
       "    <tr style=\"text-align: right;\">\n",
       "      <th></th>\n",
       "      <th>input</th>\n",
       "      <th>pos</th>\n",
       "      <th>input_tokens</th>\n",
       "      <th>pos_tokens</th>\n",
       "      <th>input_length</th>\n",
       "      <th>pos_length</th>\n",
       "      <th>lengths_match</th>\n",
       "    </tr>\n",
       "  </thead>\n",
       "  <tbody>\n",
       "    <tr>\n",
       "      <th>270</th>\n",
       "      <td>1/4 cup lentils green peas 1 onion finely chopped tomato 1/2 inch ginger grated 2 cloves garlic chillies Cut teaspoon turmeric powder salt mustard fenugreek seeds cumin aniseed Kalonji garam masala teaspoons oil asafetida a pinch</td>\n",
       "      <td>quantity unit ingredient ingredient ingredient quantity ingredient ingredient ingredient ingredient quantity unit ingredient ingredient quantity unit ingredient ingredient ingredient unit ingredient ingredient ingredient ingredient ingredient ingredient ingredient ingredient ingredient ingredient ingredient unit ingredient ingredient ingredient ingredient</td>\n",
       "      <td>[1/4, cup, lentils, green, peas, 1, onion, finely, chopped, tomato, 1/2, inch, ginger, grated, 2, cloves, garlic, chillies, Cut, teaspoon, turmeric, powder, salt, mustard, fenugreek, seeds, cumin, aniseed, Kalonji, garam, masala, teaspoons, oil, asafetida, a, pinch]</td>\n",
       "      <td>[quantity, unit, ingredient, ingredient, ingredient, quantity, ingredient, ingredient, ingredient, ingredient, quantity, unit, ingredient, ingredient, quantity, unit, ingredient, ingredient, ingredient, unit, ingredient, ingredient, ingredient, ingredient, ingredient, ingredient, ingredient, ingredient, ingredient, ingredient, ingredient, unit, ingredient, ingredient, ingredient, ingredient]</td>\n",
       "      <td>36</td>\n",
       "      <td>36</td>\n",
       "      <td>True</td>\n",
       "    </tr>\n",
       "    <tr>\n",
       "      <th>12</th>\n",
       "      <td>2 cup Tamarind Water 1/2 Arhar dal Split Toor Dal 1 teaspoon Asafoetida hing Salt Mustard seeds Cumin Jeera Methi Seeds Fenugreek sprig Curry leaves pinch Sunflower Oil for cooking</td>\n",
       "      <td>quantity unit ingredient ingredient quantity ingredient ingredient ingredient ingredient ingredient quantity unit ingredient ingredient ingredient ingredient ingredient ingredient ingredient ingredient ingredient ingredient unit ingredient ingredient unit ingredient ingredient ingredient ingredient</td>\n",
       "      <td>[2, cup, Tamarind, Water, 1/2, Arhar, dal, Split, Toor, Dal, 1, teaspoon, Asafoetida, hing, Salt, Mustard, seeds, Cumin, Jeera, Methi, Seeds, Fenugreek, sprig, Curry, leaves, pinch, Sunflower, Oil, for, cooking]</td>\n",
       "      <td>[quantity, unit, ingredient, ingredient, quantity, ingredient, ingredient, ingredient, ingredient, ingredient, quantity, unit, ingredient, ingredient, ingredient, ingredient, ingredient, ingredient, ingredient, ingredient, ingredient, ingredient, unit, ingredient, ingredient, unit, ingredient, ingredient, ingredient, ingredient]</td>\n",
       "      <td>30</td>\n",
       "      <td>30</td>\n",
       "      <td>True</td>\n",
       "    </tr>\n",
       "    <tr>\n",
       "      <th>113</th>\n",
       "      <td>1 Brinjal Baingan Eggplant 4 Tomatoes 2 Onions tablespoon Ginger Garlic Paste 20 grams Tamarind teaspoon Mustard seeds Whole Black Peppercorns 1/2 Jaggery 1/4 Turmeric powder Red Chilli teaspoons Sunflower Oil Salt Coriander Dhania Leaves</td>\n",
       "      <td>quantity ingredient ingredient ingredient quantity ingredient quantity ingredient unit ingredient ingredient ingredient quantity unit ingredient unit ingredient ingredient ingredient ingredient ingredient quantity ingredient quantity ingredient ingredient ingredient ingredient unit ingredient ingredient ingredient ingredient ingredient ingredient</td>\n",
       "      <td>[1, Brinjal, Baingan, Eggplant, 4, Tomatoes, 2, Onions, tablespoon, Ginger, Garlic, Paste, 20, grams, Tamarind, teaspoon, Mustard, seeds, Whole, Black, Peppercorns, 1/2, Jaggery, 1/4, Turmeric, powder, Red, Chilli, teaspoons, Sunflower, Oil, Salt, Coriander, Dhania, Leaves]</td>\n",
       "      <td>[quantity, ingredient, ingredient, ingredient, quantity, ingredient, quantity, ingredient, unit, ingredient, ingredient, ingredient, quantity, unit, ingredient, unit, ingredient, ingredient, ingredient, ingredient, ingredient, quantity, ingredient, quantity, ingredient, ingredient, ingredient, ingredient, unit, ingredient, ingredient, ingredient, ingredient, ingredient, ingredient]</td>\n",
       "      <td>35</td>\n",
       "      <td>35</td>\n",
       "      <td>True</td>\n",
       "    </tr>\n",
       "    <tr>\n",
       "      <th>84</th>\n",
       "      <td>250 grams Elephant yam 1/2 green chilli 1 inch ginger 3 tablespoons coriander chopped cup curd teaspoon oil asafetida 1-1/2 Rye Kali Urad Dal Split</td>\n",
       "      <td>quantity unit ingredient ingredient quantity ingredient ingredient quantity unit ingredient quantity unit ingredient ingredient unit ingredient unit ingredient ingredient quantity ingredient ingredient ingredient ingredient ingredient</td>\n",
       "      <td>[250, grams, Elephant, yam, 1/2, green, chilli, 1, inch, ginger, 3, tablespoons, coriander, chopped, cup, curd, teaspoon, oil, asafetida, 1-1/2, Rye, Kali, Urad, Dal, Split]</td>\n",
       "      <td>[quantity, unit, ingredient, ingredient, quantity, ingredient, ingredient, quantity, unit, ingredient, quantity, unit, ingredient, ingredient, unit, ingredient, unit, ingredient, ingredient, quantity, ingredient, ingredient, ingredient, ingredient, ingredient]</td>\n",
       "      <td>25</td>\n",
       "      <td>25</td>\n",
       "      <td>True</td>\n",
       "    </tr>\n",
       "    <tr>\n",
       "      <th>255</th>\n",
       "      <td>1 tablespoon Green Coffee beans Cardamom Elaichi Pods Seeds 2.5 cups Water 1/8 teaspoon Saffron strands Rose water</td>\n",
       "      <td>quantity unit ingredient ingredient ingredient ingredient ingredient ingredient ingredient quantity unit ingredient quantity unit ingredient ingredient ingredient ingredient</td>\n",
       "      <td>[1, tablespoon, Green, Coffee, beans, Cardamom, Elaichi, Pods, Seeds, 2.5, cups, Water, 1/8, teaspoon, Saffron, strands, Rose, water]</td>\n",
       "      <td>[quantity, unit, ingredient, ingredient, ingredient, ingredient, ingredient, ingredient, ingredient, quantity, unit, ingredient, quantity, unit, ingredient, ingredient, ingredient, ingredient]</td>\n",
       "      <td>18</td>\n",
       "      <td>18</td>\n",
       "      <td>True</td>\n",
       "    </tr>\n",
       "  </tbody>\n",
       "</table>\n",
       "</div>"
      ],
      "text/plain": [
       "                                                                                                                                                                                                                                              input                                                                                                                                                                                                                                                                                                                                                                    pos                                                                                                                                                                                                                                                                        input_tokens                                                                                                                                                                                                                                                                                                                                                                                                  pos_tokens  input_length  pos_length  lengths_match\n",
       "270           1/4 cup lentils green peas 1 onion finely chopped tomato 1/2 inch ginger grated 2 cloves garlic chillies Cut teaspoon turmeric powder salt mustard fenugreek seeds cumin aniseed Kalonji garam masala teaspoons oil asafetida a pinch  quantity unit ingredient ingredient ingredient quantity ingredient ingredient ingredient ingredient quantity unit ingredient ingredient quantity unit ingredient ingredient ingredient unit ingredient ingredient ingredient ingredient ingredient ingredient ingredient ingredient ingredient ingredient ingredient unit ingredient ingredient ingredient ingredient          [1/4, cup, lentils, green, peas, 1, onion, finely, chopped, tomato, 1/2, inch, ginger, grated, 2, cloves, garlic, chillies, Cut, teaspoon, turmeric, powder, salt, mustard, fenugreek, seeds, cumin, aniseed, Kalonji, garam, masala, teaspoons, oil, asafetida, a, pinch]  [quantity, unit, ingredient, ingredient, ingredient, quantity, ingredient, ingredient, ingredient, ingredient, quantity, unit, ingredient, ingredient, quantity, unit, ingredient, ingredient, ingredient, unit, ingredient, ingredient, ingredient, ingredient, ingredient, ingredient, ingredient, ingredient, ingredient, ingredient, ingredient, unit, ingredient, ingredient, ingredient, ingredient]            36          36           True\n",
       "12                                                             2 cup Tamarind Water 1/2 Arhar dal Split Toor Dal 1 teaspoon Asafoetida hing Salt Mustard seeds Cumin Jeera Methi Seeds Fenugreek sprig Curry leaves pinch Sunflower Oil for cooking                                                            quantity unit ingredient ingredient quantity ingredient ingredient ingredient ingredient ingredient quantity unit ingredient ingredient ingredient ingredient ingredient ingredient ingredient ingredient ingredient ingredient unit ingredient ingredient unit ingredient ingredient ingredient ingredient                                                                 [2, cup, Tamarind, Water, 1/2, Arhar, dal, Split, Toor, Dal, 1, teaspoon, Asafoetida, hing, Salt, Mustard, seeds, Cumin, Jeera, Methi, Seeds, Fenugreek, sprig, Curry, leaves, pinch, Sunflower, Oil, for, cooking]                                                                  [quantity, unit, ingredient, ingredient, quantity, ingredient, ingredient, ingredient, ingredient, ingredient, quantity, unit, ingredient, ingredient, ingredient, ingredient, ingredient, ingredient, ingredient, ingredient, ingredient, ingredient, unit, ingredient, ingredient, unit, ingredient, ingredient, ingredient, ingredient]            30          30           True\n",
       "113  1 Brinjal Baingan Eggplant 4 Tomatoes 2 Onions tablespoon Ginger Garlic Paste 20 grams Tamarind teaspoon Mustard seeds Whole Black Peppercorns 1/2 Jaggery 1/4 Turmeric powder Red Chilli teaspoons Sunflower Oil Salt Coriander Dhania Leaves           quantity ingredient ingredient ingredient quantity ingredient quantity ingredient unit ingredient ingredient ingredient quantity unit ingredient unit ingredient ingredient ingredient ingredient ingredient quantity ingredient quantity ingredient ingredient ingredient ingredient unit ingredient ingredient ingredient ingredient ingredient ingredient  [1, Brinjal, Baingan, Eggplant, 4, Tomatoes, 2, Onions, tablespoon, Ginger, Garlic, Paste, 20, grams, Tamarind, teaspoon, Mustard, seeds, Whole, Black, Peppercorns, 1/2, Jaggery, 1/4, Turmeric, powder, Red, Chilli, teaspoons, Sunflower, Oil, Salt, Coriander, Dhania, Leaves]            [quantity, ingredient, ingredient, ingredient, quantity, ingredient, quantity, ingredient, unit, ingredient, ingredient, ingredient, quantity, unit, ingredient, unit, ingredient, ingredient, ingredient, ingredient, ingredient, quantity, ingredient, quantity, ingredient, ingredient, ingredient, ingredient, unit, ingredient, ingredient, ingredient, ingredient, ingredient, ingredient]            35          35           True\n",
       "84                                                                                              250 grams Elephant yam 1/2 green chilli 1 inch ginger 3 tablespoons coriander chopped cup curd teaspoon oil asafetida 1-1/2 Rye Kali Urad Dal Split                                                                                                                             quantity unit ingredient ingredient quantity ingredient ingredient quantity unit ingredient quantity unit ingredient ingredient unit ingredient unit ingredient ingredient quantity ingredient ingredient ingredient ingredient ingredient                                                                                                       [250, grams, Elephant, yam, 1/2, green, chilli, 1, inch, ginger, 3, tablespoons, coriander, chopped, cup, curd, teaspoon, oil, asafetida, 1-1/2, Rye, Kali, Urad, Dal, Split]                                                                                                                                        [quantity, unit, ingredient, ingredient, quantity, ingredient, ingredient, quantity, unit, ingredient, quantity, unit, ingredient, ingredient, unit, ingredient, unit, ingredient, ingredient, quantity, ingredient, ingredient, ingredient, ingredient, ingredient]            25          25           True\n",
       "255                                                                                                                              1 tablespoon Green Coffee beans Cardamom Elaichi Pods Seeds 2.5 cups Water 1/8 teaspoon Saffron strands Rose water                                                                                                                                                                                          quantity unit ingredient ingredient ingredient ingredient ingredient ingredient ingredient quantity unit ingredient quantity unit ingredient ingredient ingredient ingredient                                                                                                                                               [1, tablespoon, Green, Coffee, beans, Cardamom, Elaichi, Pods, Seeds, 2.5, cups, Water, 1/8, teaspoon, Saffron, strands, Rose, water]                                                                                                                                                                                                            [quantity, unit, ingredient, ingredient, ingredient, ingredient, ingredient, ingredient, ingredient, quantity, unit, ingredient, quantity, unit, ingredient, ingredient, ingredient, ingredient]            18          18           True"
      ]
     },
     "execution_count": 40,
     "metadata": {},
     "output_type": "execute_result"
    }
   ],
   "source": [
    "# initialise the dataset_name\n",
    "dataset_name='validation'\n",
    "val_df.head()"
   ]
  },
  {
   "cell_type": "markdown",
   "metadata": {
    "id": "AFPxheIuj1o8"
   },
   "source": [
    " # use extract and validate tokens, categorise tokens, get top frequent items for ingredient list and unit list on validation dataframe\n",
    "import pandas as pd\n",
    "from collections import Counter\n",
    "\n",
    "\n",
    "# Tokenize input and pos\n",
    "val_df['input_tokens'] = val_df['input'].apply(lambda x: x.split())\n",
    "val_df['pos_tokens'] = val_df['pos'].apply(lambda x: x.split())\n",
    "\n",
    "# Categorize tokens\n",
    "ingredients = []\n",
    "units = []\n",
    "\n",
    "for tokens, pos_tags in zip(val_df['input_tokens'], val_df['pos_tokens']):\n",
    "    for token, tag in zip(tokens, pos_tags):\n",
    "        if tag in ['NN', 'NNS']:\n",
    "            ingredients.append(token.lower())\n",
    "        elif tag == 'CD':\n",
    "            continue\n",
    "        else:\n",
    "            units.append(token.lower())\n",
    "\n",
    "# Count frequencies\n",
    "ingredient_counts = Counter(ingredients)\n",
    "unit_counts = Counter(units)\n",
    "\n",
    "# Get top frequent items\n",
    "top_ingredients = ingredient_counts.most_common(10)\n",
    "top_units = unit_counts.most_common(10)\n",
    "\n",
    "# Display results\n",
    "print(\"Top Ingredients:\")\n",
    "print(top_ingredients)\n",
    "print(\"\\nTop Units:\")\n",
    "print(top_units)\n"
   ]
  },
  {
   "cell_type": "markdown",
   "metadata": {},
   "source": []
  },
  {
   "cell_type": "code",
   "execution_count": 41,
   "metadata": {},
   "outputs": [
    {
     "name": "stdout",
     "output_type": "stream",
     "text": [
      "Processing dataset: validation\n",
      "✅ Token lengths match: 2998 tokens\n",
      "\n",
      "First 10 token pairs:\n",
      "1/4 --> quantity\n",
      "cup --> unit\n",
      "lentils --> ingredient\n",
      "green --> ingredient\n",
      "peas --> ingredient\n",
      "1 --> quantity\n",
      "onion --> ingredient\n",
      "finely --> ingredient\n",
      "chopped --> ingredient\n",
      "tomato --> ingredient\n",
      "Total input tokens: 2998\n",
      "Total POS tokens: 2998\n",
      "Ingredients: ['Chicken', 'Onion', 'Tomato', 'Curry', 'leaves', 'Ginger', 'Garlic', 'Paste', 'Turmeric', 'powder', 'Haldi', 'Cumin', 'Jeera', 'roasted', 'Fennel', 'Powder', 'Coriander', 'Dhania', 'Black', 'pepper', 'Salt', 'Sunflower', 'Oil', 'Water', 'Leaves', 'Fresh', 'Figs', 'Lemon', 'juice', 'zest', 'Red', 'Chilli', 'flakes', 'Honey', 'Brown', 'Sugar', '(Demerara', 'Sugar)', 'Green', 'zucchini', 'Salt', 'Extra', 'Virgin', 'Olive', 'Oil', 'Mozzarella', 'cheese', 'finely', 'chopped', 'Red', 'Bell', 'pepper', 'Onion', 'Garlic', 'diced', 'Dried', 'Thyme', 'Leaves', 'Rosemary', 'Chilli', 'flakes', 'Tomatoes', 'Black', 'corns', 'crushed', 'Sugar', 'Basil', 'leaves', 'Brown', 'Rice', 'cooked', 'Garlic', 'chopped', 'Green', 'Chilli', 'Carrots', '(Gajjar)', 'beans', '(French', 'Beans)', 'Bell', 'Pepper', '(Capsicum)', 'Onion', 'Cabbage', '(Patta', 'Gobi/', 'Muttaikose)', 'Roasted', 'tomato', 'pasta', 'sauce', '-', 'or', 'store', 'bought', 'Red', 'Soy', 'Ginger', 'freshly', 'grated', 'Spring', 'Greens', 'Salt', 'Vinegar', 'Extra', 'Virgin', 'Olive', 'Oil', 'as', 'required', 'Baby', 'Potatoes', 'Cumin', 'powder', 'Jeera', 'Black', 'pepper', 'Garam', 'masala', 'Lemon', 'juice', 'Sesame', 'seeds', 'Til', 'Ghee', 'or', 'clarified', 'butter', 'Rock', 'Salt', 'Coriander', 'Dhania', 'Leaves', 'roughly', 'chopped', 'Ginger', 'Green', 'Chilli', 'Potatoes', 'Aloo', 'Tomatoes', 'finely', 'chopped', 'Ginger', 'grated', 'ground', 'Green', 'Chillies', 'slit', 'Kasuri', 'Methi', 'Dried', 'Fenugreek', 'Leaves', 'Fennel', 'seeds', 'Saunf', 'Cumin', 'Jeera', 'Seeds', 'Coriander', 'Powder', 'Dhania', 'Red', 'Chilli', 'powder', 'Turmeric', 'Haldi', 'Garam', 'masala', 'Amchur', 'Dry', 'Mango', 'Ghee', 'Salt', 'to', 'taste', 'Gawar', 'Phali', 'Ajwain', 'SSP', 'Asafoetida', 'Onion', 'Tomatoes', 'Garlic', 'Ginger', 'Turmeric', 'Red', 'Chilli', 'Coriander', 'Powder', 'Jaggery', 'Raw', 'Peanuts', 'Salt', 'Water', 'Mustard', 'oil', 'Leaves', 'Kataifi', 'dough', 'Butter', 'Sugar', 'Rose', 'water', 'Water', 'Lemon', 'juice', 'Saffron', 'strands', 'Paneer', '(Homemade', 'Cottage', 'Cheese)', 'Mango', 'Pulp', '(Puree)', 'Icing', 'Thandai', 'Masala', 'Heavy', 'whipping', 'cream', 'Fresh', 'Pistachios', '-', 'crushed', 'Dried', 'rose', 'petals', 'Ada', 'Milk', 'Sugar', 'Ghee', 'Cardamom', 'Powder', 'Elaichi', 'Shrimps', 'prawns', 'Basmati', 'rice', 'Shallots', 'Ginger', 'paste', 'Garlic', 'Fresh', 'coconut', 'grated', 'Green', 'Chilli', 'Hung', 'Curd', '(Greek', 'Yogurt)', 'Curry', 'leaves', 'Sunflower', 'Oil', 'Ghee', 'Coriander', 'Powder', '(Dhania)', 'Red', 'powder', 'Turmeric', '(Haldi)', 'Garam', 'masala', 'Whole', 'Black', 'Peppercorns', 'Cardamom', '(Elaichi)', 'Pods/Seeds', 'cardamom', '(Badi', 'Elaichi)', 'Cinnamon', 'Stick', '(Dalchini)', 'Bay', '(tej', 'patta)', 'Dry', 'Cumin', 'seeds', '(Jeera)', 'Iceberg', 'lettuce', 'Chicken', 'breasts', 'cubes', 'Sunflower', 'Oil', 'Black', 'pepper', 'powder', 'Garlic', 'chopped', 'Button', 'mushrooms', 'Spring', 'Onion', 'Bulb', 'Greens', 'Chilli', 'vinegar', 'Soy', 'sauce', 'Red', 'Sweet', 'Spicy', 'Sauce', '(Tomato', 'Sauce)', 'Whole', 'Egg', 'Onion', 'chopped', 'Jaggery', 'Salt', 'Sunflower', 'Oil', 'Coriander', 'Dhania', 'Leaves', 'Fresh', 'coconut', 'grated', 'Seeds', 'Dry', 'Red', 'Chilli', 'Sesame', 'seeds', 'Til', 'Poppy', 'Ginger', 'Garlic', 'Badam', 'Almond', 'kachris', 'garlic', 'chillies', 'cumin', 'seeds', 'curd', 'ghee', 'Oranges', 'Orange', 'Zest', 'Sugar', 'Whole', 'Eggs', 'Caster', 'Almond', 'Meal', 'Badam', 'Powder', 'Hazelnut', 'Baking', 'powder', 'Britannia', 'Cream', 'Cheese', 'Heavy', 'whipping', 'cream', 'Fresh', 'orange', 'juice', 'Icing', 'Submarine', 'Bread', 'Green', 'Moong', 'Sprouts', 'Beetroot', 'Garlic', 'Hung', 'Curd', 'Greek', 'Yogurt', 'Coriander', 'Dhania', 'Leaves', 'Tomatoes', 'Spring', 'Onion', 'Bulb', 'Greens', 'Tabasco', 'Original', 'Hot', 'Sauce', 'Salt', 'and', 'Pepper', 'Basil', 'leaves', 'Mint', 'Leaves', 'Pudina', 'Spirulina', 'Badam', 'Almond', 'blanched', 'Garlic', 'Tofu', 'Black', 'pepper', 'powder', 'Salt', 'Extra', 'Virgin', 'Olive', 'Oil', 'Pasta', 'chopped', 'Green', 'zucchini', 'diced', 'Yellow', 'Bell', 'Pepper', 'Capsicum', 'Tomato', 'Red', 'Chilli', 'flakes', 'Dried', 'oregano', 'bay', 'leaves', 'coriander', 'seeds', 'whole', 'pepper', 'celery', 'cumin', 'cardamom', 'large', 'mace', 'stone', 'flowers', 'star', 'anis', 'small', 'Nutmeg', 'Powder', 'Cinnamon', 'Long', 'Whole', 'Eggs', 'Cinnamon', 'Stick', 'Dalchini', 'Bay', 'leaf', 'tej', 'patta', 'Cloves', 'Laung', 'Sunflower', 'Oil', 'Coriander', 'Powder', 'Dhania', 'Garam', 'masala', 'powder', 'Fresh', 'cream', 'Leaves', 'tightly', 'packed', 'Mint', 'Pudina', 'chopped', 'Green', 'Chillies', 'Onion', 'roughly', 'Ginger', 'Garlic', 'Broccoli', 'florets', 'Mozzarella', 'cheese', 'Nutralite', 'Cheesy', 'Garlic', 'Mayo', 'Corn', 'flour', 'Whole', 'Wheat', 'Bread', 'crumbs', 'Salt', '&', 'Oregano', 'Spread', 'Lukewarm', 'Water', 'Active', 'dry', 'yeast', 'Sugar', 'Milk', 'Powder', 'Vivatta', 'Maida', 'or', 'half', 'of', 'bread', 'flour', 'Salt', 'Butter', '(unsalted)', 'Egg', 'white', 'for', 'brushing', '(or', 'milk)', 'Bhindi', 'Lady', 'Finger', 'Okra', 'Tomato', 'roughly', 'chopped', 'Pearl', 'onions', 'Sambar', 'Onions', 'quartered', 'Garlic', 'Tamarind', 'Water', 'Red', 'Chilli', 'powder', 'Turmeric', 'Haldi', 'Asafoetida', 'hing', 'Coriander', 'Powder', 'Dhania', 'Sugar', 'Salt', 'Ghee', 'Mustard', 'seeds', 'Cumin', 'Jeera', 'Methi', 'Seeds', 'Fenugreek', 'Curry', 'leaves', 'Dry', 'broken', 'into', 'half', 'Rice', 'Sunflower', 'Oil', 'Onion', 'chopped', 'Tomato', 'Ginger', 'Garlic', 'Paste', 'Red', 'Chilli', 'powder', 'Carrots', 'Gajjar', 'Green', 'peas', 'Matar', 'steamed', 'Bell', 'Pepper', 'Capsicum', 'Potato', 'Aloo', 'cut', 'into', 'small', 'cubes', 'Cardamom', 'Elaichi', 'Pods', 'Seeds', 'Cloves', 'Laung', 'Garam', 'masala', 'Star', 'anise', 'Cinnamon', 'Stick', 'Dalchini', 'Coriander', 'Dhania', 'Leaves', 'bunch', 'finely', 'Mint', 'Pudina', 'few', 'sprigs', 'Salt', 'Whole', 'Wheat', 'Flour', 'Instant', 'Oats', 'Oatmeal', 'Extra', 'Virgin', 'Olive', 'Oil', 'Salt', 'Ajwain', 'Carom', 'seeds', 'Water', 'Green', 'peas', 'Matar', 'Chilli', 'Coriander', 'Dhania', 'Leaves', 'Amchur', 'Dry', 'Mango', 'Powder', 'Chaat', 'Masala', 'Red', 'powder', 'Okra', 'Oil', 'Onion', 'finely', 'chopped', 'Tomato', 'Grated', 'Ginger', 'Garlic', 'Finely', 'Cumin', 'seeds', 'asafoetida', 'cottage', 'cheese', 'pinched', 'coriander', 'powder', 'mango', 'red', 'chilli', 'turmeric', 'chana', 'dal', 'white', 'urad', 'red', 'chillies', 'coriander', 'seeds', 'ginger', 'onion', 'tomato', 'mustard', 'asafoetida', 'curry', 'Gingelly', 'oil', 'Mustard', 'seeds', 'Methi', 'Seeds', 'Fenugreek', 'Dry', 'Red', 'Chillies', 'Pearl', 'onions', 'Sambar', 'Onions', 'halved', 'Curry', 'leaves', 'Urad', 'dal', 'papad', 'broken', 'in', 'to', 'quarters', 'Tamarind', 'Water', 'Powder', 'Jaggery', 'Turmeric', 'powder', 'Haldi', 'Salt', 'as', 'needed', 'Pheni', 'roll', 'Milk', 'Sugar', 'Ghee', 'Cashew', 'nuts', 'Raisins', 'Almond', 'Meal', 'Badam', 'Powder', 'Gram', 'flour', 'besan', 'Coconut', 'milk', 'Water', 'Ginger', 'grated', 'Garlic', 'Ajwain', 'Carom', 'seeds', 'Asafoetida', 'hing', 'Turmeric', 'powder', 'Baking', 'soda', 'Green', 'Chillies', 'finely', 'chopped', 'Onion', 'Tomato', 'Coriander', 'Dhania', 'Leaves', 'Salt', 'Sunflower', 'Oil', 'Carrot', 'Gajjar', 'chopped', 'Potatoes', 'Aloo', 'Cauliflower', 'gobi', 'cut', 'to', 'small', 'florets', 'Onion', 'Ginger', 'Garlic', 'Paste', 'Salt', 'Sunflower', 'Oil', 'Fresh', 'coconut', 'grated', 'Whole', 'Black', 'Peppercorns', 'Green', 'Chillies', 'Fennel', 'seeds', 'Saunf', 'Poppy', 'Cashew', 'nuts', 'Cinnamon', 'Stick', 'Dalchini', 'Star', 'anise', 'Cloves', 'Laung', 'Cardamom', 'Elaichi', 'Pods/Seeds', 'Cumin', 'Jeera', 'Onions', 'chopped', 'Garlic', 'Fresh', 'coconut', 'grated', 'Coriander', '(Dhania)', 'Leaves', 'Cumin', 'seeds', '(Jeera)', 'Red', 'Chilli', 'powder', 'Turmeric', '(Haldi)', 'Garam', 'masala', 'Gram', 'flour', '(besan)', 'Salt', 'Extra', 'Virgin', 'Olive', 'Oil', 'Butter', 'unsalted', 'Onion', 'finely', 'chopped', 'Jasmine', 'Rice', 'Salt', 'Sweet', 'corn', 'Parsley', 'leaves', 'Parmesan', 'cheese', 'grated', 'Mozzarella', 'cut', 'into', 'small', 'cubes', 'All', 'Purpose', 'Flour', 'Maida', 'Whole', 'Eggs', 'beaten', 'with', 'a', 'fork', 'Wheat', 'Bread', 'crumbs', 'Sunflower', 'for', 'deep', 'frying', 'Tomatoes', 'chopped', 'Onion', 'finely', 'Red', 'Wine', 'Vinaigrette', 'Dried', 'oregano', 'Garlic', 'minced', 'Black', 'pepper', 'powder', 'Dijon', 'Mustard', 'Cane', 'sugar', 'Extra', 'Virgin', 'Olive', 'Oil', 'Salt', 'Whole', 'Wheat', 'Flour', 'All', 'Purpose', 'Maida', 'Ajwain', 'Carom', 'seeds', 'Cumin', 'Jeera', 'Ghee', 'Salt', 'Chana', 'dal', 'Bengal', 'Gram', 'Dal', 'Turmeric', 'powder', 'Haldi', 'Garam', 'masala', 'Red', 'Chilli', 'Amchur', 'Dry', 'Mango', 'Powder', 'Sugar', 'Asafoetida', 'hing', 'Green', 'Chillies', 'slit', 'Curry', 'leaves', 'Sweet', 'Chutney', 'Date', 'Tamarind', 'Coriander', 'Mint', 'Onion', 'finely', 'chopped', 'Fresh', 'Pomegranate', 'Fruit', 'Kernels', 'Sev', 'yogurt', 'banana', 'fried', 'pomegranate', 'red', 'chili', 'powder', 'sugar', 'cumin', 'Dijon', 'mustard', 'salt', 'Gawar', 'Phali', 'Kothavarangai', 'Cluster', 'beans', 'Ginger', 'Garlic', 'Green', 'Chillies', 'Roasted', 'Peanuts', 'Moongphali', 'Coriander', 'Dhania', 'Seeds', 'Cumin', 'seeds', 'Jeera', 'Tamarind', 'Salt', 'Mustard', 'White', 'Urad', 'Dal', 'Split', 'Asafoetida', 'hing', 'Button', 'mushrooms', 'quartered', 'Spinach', 'Leaves', 'Palak', 'washed', 'and', 'chopped', 'Tomato', 'or', 'pureed', 'Garlic', 'finely', 'Ginger', 'Green', 'Chillies', 'slit', 'Cumin', 'seeds', 'Jeera', 'Cinnamon', 'Stick', 'Dalchini', 'powder', 'Turmeric', 'Haldi', 'Garam', 'masala', 'Fresh', 'cream', 'Ghee', 'Salt', 'Phulka', 'Potato', 'Aloo', 'mashed', 'Green', 'Chillies', 'finely', 'chopped', 'Carrot', 'Gajjar', 'grated', 'Sweet', 'corn', 'Onion', 'Red', 'Chilli', 'powder', 'Amchur', 'Dry', 'Mango', 'Powder', 'Black', 'pepper', 'flakes', 'Lemon', 'juice', 'Whole', 'Wheat', 'Bread', 'crumbs', 'Corn', 'flour', 'Jackfruit', 'Seeds', 'Kala', 'Chana', 'Mustard', 'seeds', 'Cumin', 'Curry', 'leaves', 'Tomato', 'Tamarind', 'Water', 'Turmeric', 'powder', 'Dry', 'Red', 'Chillies', 'Coriander', '(Dhania)', 'Cloves', '(Laung)', 'Cinnamon', 'Stick', '(Dalchini)', 'Fresh', 'coconut', 'Ginger', 'Garlic', 'Dark', 'chocolate', 'Sprig', 'Extract', 'of', 'Natural', 'Bourbon', 'Vanilla', 'Egg', 'yolks', 'whites', 'Caster', 'Sugar', 'Fresh', 'cream', 'chilled', 'and', 'strained', 'from', 'water', 'Aar', 'Maach', 'rohu', 'katla', 'Tomato', 'Bay', 'leaves', 'Ginger', 'paste', 'Green', 'Chillies', 'Cumin', 'powder', 'Coriander', 'Powder', 'Salt', 'seeds', 'Turmeric', 'slit', 'lengthwise', 'Water', 'Sugar', 'Leaves', 'Basmati', 'rice', 'Button', 'mushrooms', 'Soy', 'Chunks', 'Onion', 'sliced', 'Ginger', 'Curd', 'Dahi', 'Yogurt', 'Biryani', 'Masala', 'Garlic', 'Turmeric', 'powder', 'Haldi', 'Garam', 'masala', 'Red', 'Chilli', 'Mint', 'Leaves', 'Pudina', 'Ghee', 'Green', 'Chillies', 'Ajwain', 'Carom', 'seeds', 'Bay', 'leaf', 'tej', 'patta', 'Star', 'anise', 'Cardamom', 'Pods', 'Seeds', 'Cloves', 'Laung', 'Cinnamon', 'Stick', 'Dalchini', 'Milk', 'Sooji', 'Semolina', 'Rava', 'Powder', 'All', 'Purpose', 'Flour', 'Maida', 'Baking', 'soda', 'Caster', 'Sugar', 'Water', 'Cardamom', 'Elaichi', 'Pistachios', 'chopped', 'Ghee', 'Vegetable', 'oil', 'Tindora', 'Dondakaya', 'Kovakkai', 'sliced', 'roundels', 'Sunflower', 'Oil', 'Mustard', 'seeds', 'Dry', 'Red', 'Chillies', 'Curry', 'leaves', 'Raw', 'Peanuts', 'Moongphali', 'coarsely', 'ground', 'Sesame', 'Til', 'roasted', 'Chilli', 'powder', 'Coriander', 'Powder', 'Dhania', 'Turmeric', 'Haldi', 'Salt', 'Chicken', 'Onion', 'chopped', 'Tomato', 'Green', 'Chillies', 'slit', 'Ginger', 'finely', 'Garlic', 'Turmeric', 'powder', 'Haldi', 'Garam', 'masala', 'Sesame', 'Gingelly', 'Oil', 'Methi', 'Seeds', 'Fenugreek', 'Coriander', 'Dhania', 'Dry', 'Red', 'Fennel', 'seeds', 'Saunf', 'Sorrel', 'Leaves', 'Gongura', 'picked', 'and', 'Chana', 'dal', 'Bengal', 'Gram', 'Dal', 'Onion', 'Garlic', 'Green', 'Chillies', 'Ajwain', 'Carom', 'seeds', 'Coriander', 'Dhania', 'Leaves', 'Salt', 'Oreo', 'biscuits', 'Vanilla', 'Ice', 'cream', 'Milk', 'Chocolate', 'sauce', 'Heavy', 'whipping', 'idli', 'dosa', 'mixture', 'rice', 'rava', 'jaggery', 'coconut', 'grated', 'cardamom', 'powder', 'salt', 'water', 'oil', 'Cabbage', 'Patta', 'Gobi', 'Muttaikose', 'Spinach', 'Fresh', 'Pomegranate', 'Fruit', 'Kernels', 'Lemon', 'juice', 'Extra', 'Virgin', 'Olive', 'Oil', 'Salt', 'and', 'Pepper', 'Fresh', 'cream', 'Water', 'green', 'peas', 'gram', 'flour', 'cheese', 'ginger', 'chillies', 'turmeric', 'powder', 'cumin', 'salt', 'oil', 'Potatoes', 'Aloo', 'Lotus', 'Stem', 'Homemade', 'tomato', 'puree', 'Cumin', 'seeds', 'Jeera', 'Asafoetida', 'hing', 'Coriander', 'Powder', 'Dhania', 'Turmeric', 'powder', 'Haldi', 'Red', 'Chilli', 'Garam', 'masala', 'Salt', 'Sunflower', 'Oil', 'Leaves', 'Onions', 'Garlic', 'Ginger', 'Green', 'Chillies', 'amla', 'onions', 'garlic', 'chillies', 'mint', 'coriander', 'oil', 'rye', 'urad', 'chana', 'dal', 'curry', 'leaves', 'cashew', 'nuts', 'cheese', 'spinach', 'green', 'chillies', 'onion', 'tomato', 'garlic', 'cumin', 'red', 'chilli', 'powder', 'garam', 'masala', 'mango', 'butter', 'salt', 'oil', 'Whole', 'Wheat', 'Brown', 'Bread', 'Carrot', 'Gajjar', 'grated', 'Green', 'peas', 'Matar', 'boiled', 'Garlic', 'finely', 'chopped', 'Chillies', 'Black', 'pepper', 'powder', 'Chaat', 'Masala', 'Powder', 'Cheese', 'Salt', 'Onions', 'cut', 'into', 'thin', 'rings', 'Lemon', 'juice', 'extracted', 'Black', 'Salt', 'Kala', 'Namak', 'Red', 'Chilli', 'powder', 'Chaat', 'Masala', 'Powder', 'green', 'peas', 'cheese', 'ginger', 'chili', 'turmeric', 'powder', 'red', 'mango', 'coriander', 'wheat', 'flour', 'water', 'lukewarm', 'Whole', 'Wheat', 'Flour', 'Salt', 'Ghee', 'Paneer', 'Homemade', 'Cottage', 'Cheese', 'Hung', 'Curd', 'Greek', 'Yogurt', 'Ginger', 'Garlic', 'Kasuri', 'Methi', 'Dried', 'Fenugreek', 'Leaves', 'Turmeric', 'powder', 'Chaat', 'Masala', 'Powder', 'Garam', 'masala', 'Mint', 'Pudina', 'Coal', 'Onion', 'Lemon', 'juice', 'Rice', 'Vermicelli', 'Noodles', 'Thin', 'Onion', 'sliced', 'Carrots', 'Gajjar', 'chopped', 'Green', 'peas', 'Matar', 'Chillies', 'Asafoetida', 'hing', 'Mustard', 'seeds', 'White', 'Urad', 'Dal', 'Split', 'Ghee', 'Curry', 'leaves', 'Salt', 'Lemon', 'juice', 'Boneless', 'chicken', 'cut', 'into', 'bite', 'sized', 'pieces', 'Red', 'Chilli', 'powder', 'Coriander', 'Powder', '(Dhania)', 'Turmeric', '(Haldi)', 'Garam', 'masala', 'Ginger', 'Garlic', 'Paste', 'Leaves', 'chopped', 'Salt', 'Corn', 'flakes', 'made', 'to', 'a', 'coarse', 'Whole', 'Eggs', 'beaten', 'Sunflower', 'Oil', 'fry', 'Whole', 'Wheat', 'Flour', 'Spinach', 'Leaves', 'Palak', 'Potatoes', 'Aloo', 'boiled', 'mashed', 'Paneer', 'Homemade', 'Cottage', 'Cheese', 'crumbled', 'grated', 'Coriander', 'Dhania', 'Garam', 'masala', 'powder', 'Salt', 'Cumin', 'Jeera', 'Red', 'Chilli', 'chopped', 'green', 'chillies', 'Mixed', 'nuts', 'Raisins', 'Ghee', 'to', 'smear', 'Vivatta', 'Maida', 'Sugar', 'Butter', 'unsalted', 'Milk', 'Powder', 'Baking', 'powder', 'Vanilla', 'Extract', 'Sooji', 'Semolina', 'Rava', 'Ghee', 'Milk', 'Sugar', 'Saffron', 'strands', 'Cardamom', 'Elaichi', 'Pods', 'Seeds', 'Cashew', 'nuts', 'Raisins', 'Mixed', 'dry', 'fruits', 'chopped', 'Dry', 'beans', 'Extra', 'Virgin', 'Olive', 'Oil', 'Onion', 'finely', 'chopped', 'Garlic', 'grated', 'Tomatoes', 'pureed', 'Honey', 'Cumin', 'powder', 'Jeera', 'Dried', 'oregano', 'Red', 'Chilli', 'cayenne', 'pepper', 'Salt', 'and', 'Pepper', 'Quinoa', 'Water', 'Extra', 'Virgin', 'Olive', 'Oil', 'Mustard', 'seeds', 'Cumin', 'Jeera', 'White', 'Urad', 'Dal', 'Split', 'Chana', 'dal', 'Bengal', 'Gram', 'Curry', 'leaves', 'Green', 'Chillies', 'finely', 'chopped', 'Shallot', 'Tomato', 'Carrot', 'Gajjar', 'Del', 'Monte', 'Whole', 'Corn', 'Kernels', 'peas', 'Matar', 'beans', 'French', 'Beans', 'Coriander', 'Powder', 'Dhania', 'Garam', 'masala', 'powder', 'Salt', 'Leaves', 'few', 'chakundar', 'arhar', 'dal', 'tamarind', 'water', 'sambar', 'powder', 'mustard', 'asafoetida', 'curry', 'leaves', 'dry', 'red', 'chili', 'sesame', 'oil', 'coriander', 'salt', 'Whole', 'Wheat', 'Flour', 'Salt', 'Italian', 'seasoning', 'Cheese', 'spread', 'flavoured', 'Broccoli', 'cut', 'into', 'florets', 'Onion', 'thinly', 'sliced', 'Red', 'Bell', 'pepper', 'Capsicum', 'diced', 'Parsley', 'leaves', 'roughly', 'chopped', 'Potatoes', 'Aloo', 'Fennel', 'seeds', 'Saunf', 'Red', 'Chilli', 'powder', 'Turmeric', 'Haldi', 'Fresh', 'cream', 'or', 'Coriander', 'Dhania', 'Leaves', 'Broken', 'Wheat', 'Dalia', 'Godumai', 'Rava', 'Salt', 'Sunflower', 'Oil', 'Gram', 'flour', 'besan', 'Onion', 'finely', 'chopped', 'Coriander', 'Dhania', 'Leaves', 'Green', 'Chilli', 'Turmeric', 'powder', 'Haldi', 'Cumin', 'seeds', 'Jeera', 'Ajwain', 'Carom', 'Water', 'Enos', 'fruit', 'salt', 'Baby', 'Potatoes', 'Dry', 'Red', 'Chillies', 'Sesame', 'seeds', 'Cumin', 'Fennel', 'Asafoetida', 'hing', 'Turmeric', 'powder', 'Kashmiri', 'Chilli', 'Powder', 'flakes', 'Amchur', 'Mango', 'Coriander', 'Dhania', 'Leaves', 'finely', 'chopped', 'Sunflower', 'Oil', 'Salt', 'Pani', 'Pur', 'Potato', 'Aloo', 'boiled', 'Green', 'Moong', 'Sprouts', 'Cumin', 'powder', 'Jeera', 'Chaat', 'Masala', 'Powder', 'Red', 'Chilli', 'Mango', 'Raw', 'Mint', 'Leaves', 'Pudina', 'Black', 'Salt', 'Kala', 'Namak', 'pepper', 'Sugar', 'Ragi', 'Flour', 'Finger', 'Millet', 'Nagli', 'Onion', 'finely', 'chopped', 'Green', 'Chillies', 'Carrot', 'Gajjar', 'grated', 'Dill', 'leaves', 'Coriander', 'Dhania', 'Leaves', 'Cumin', 'seeds', 'Salt', 'Ghee', 'Rice', 'flour', 'Water', 'Sunflower', 'Oil', 'Salt', 'White', 'Urad', 'Dal', 'Whole', 'Green', 'Chillies', 'Ginger', 'Asafoetida', 'hing', 'Sesame', 'Gingelly', 'Mustard', 'seeds', 'Curry', 'leaves', 'Fresh', 'orange', 'juice', 'Ginger', 'grated', 'Tea', 'Monk', 'Seiki', 'Peppermint', 'Green', 'Chilled', 'water', 'Sunflower', 'Oil', 'Potato', 'Aloo', 'Ginger', 'paste', 'Green', 'Chilli', 'chopped', 'Sesame', 'seeds', 'Til', 'Red', 'powder', 'Cumin', 'Jeera', 'Coriander', 'Powder', 'Dhania', 'Garam', 'masala', 'Sweet', 'Chutney', 'Date', 'Tamarind', 'Leaves', 'few', 'Chicken', 'Sunflower', 'Oil', 'Garlic', 'minced', 'Ginger', 'Green', 'Chillies', 'slit', 'Onion', 'sliced', 'Bell', 'Pepper', 'Capsicum', 'Soy', 'sauce', 'Vinegar', 'Black', 'pepper', 'powder', 'Red', 'Chilli', 'Sauce', 'Roasted', 'tomato', 'pasta', 'Corn', 'flour', 'Water', 'All', 'Purpose', 'Flour', 'Maida', 'Whole', 'Wheat', 'Flour', 'Salt', 'Ghee', 'Lukewarm', 'Water', 'Caster', 'Sugar', 'Sunflower', 'Oil', 'Sunflower', 'Oil', 'Ginger', 'grated', 'Green', 'Chilli', 'finely', 'chopped', 'Onion', 'Tomato', 'Turmeric', 'powder', 'Haldi', 'Red', 'Paneer', 'Homemade', 'Cottage', 'Cheese', 'crumpled', 'Coriander', 'Dhania', 'Leaves', 'Pav', 'buns', 'roasted', 'in', 'butter', 'Carrots', 'Gajjar', 'Cabbage', 'Patta', 'Gobi', 'Muttaikose', 'Green', 'Bell', 'Pepper', 'Capsicum', 'Turmeric', 'powder', 'Haldi', 'Sugar', 'Lemon', 'juice', 'Salt', 'Sunflower', 'Oil', 'Mustard', 'seeds', 'Asafoetida', 'hing', 'Curry', 'leaves', 'Chillies', 'slit', 'lengthwise', 'Malabar', 'Spinach', 'Leaves', 'stalks', 'Kaddu', 'Parangikai', 'Pumpkin', 'Mooli', 'Mullangi', 'Radish', 'Potato', 'Aloo', 'Brinjal', 'Baingan', 'Eggplant', 'Panch', 'Phoran', 'Masala', 'Dry', 'Red', 'Chillies', 'Mustard', 'oil', 'vegetable', 'Cumin', 'powder', 'Salt', 'Sugar', 'Turmeric', 'Haldi', 'Kabuli', 'Channa', 'cumin', 'seeds', 'ginger', 'paste', 'chana', 'masala', 'powder', 'red', 'chilli', 'Amchoor', 'turmeric', 'Coriander', 'salt', 'Wood', 'apple', 'Jaggery', 'or', 'sugar', 'Black', 'Salt', 'Kala', 'Namak', 'Cumin', 'powder', 'Jeera', 'Lemon', 'juice', 'Mint', 'Leaves', 'Pudina', 'Water', 'chilled', 'Ice', 'cubes', 'Whole', 'Wheat', 'Brown', 'Bread', 'Green', 'zucchini', 'Carrot', 'Gajjar', 'Red', 'Bell', 'pepper', 'Capsicum', 'Spinach', 'Leaves', 'Palak', 'Button', 'mushrooms', 'Onion', 'Garlic', 'Extra', 'Virgin', 'Olive', 'Oil', 'Dijon', 'Mustard', 'Fresh', 'Thyme', 'leaves', 'Black', 'powder', 'crushed', 'or', 'red', 'chilli', 'flakes', 'Milk', 'Eggs', 'lightly', 'whisked', 'Cheddar', 'cheese', 'grated', 'and', 'for', 'topping', 'Butter', 'greasing', 'the', 'baking', 'dish', 'Salt', 'Basmati', 'rice', 'Water', 'Salt', 'Soy', 'Chunks', 'Nuggets', 'Carrots', 'Gajjar', 'Green', 'beans', 'French', 'Beans', 'peas', 'Matar', 'Cauliflower', 'gobi', 'Bell', 'Pepper', 'Capsicum', 'Potatoes', 'Aloo', 'Tomatoes', 'Onions', 'Ginger', 'Garlic', 'Paste', 'Sunflower', 'Oil', 'Cinnamon', 'Stick', 'Dalchini', 'Cardamom', 'Pods/Seeds', 'Cloves', 'Laung', 'Cumin', 'seeds', 'Jeera', 'Spinach', 'Leaves', 'Palak', 'bunch', 'Coriander', 'Dhania', 'Mint', 'Pudina', 'Chillies', 'Badam', 'Almond', 'Elaichi', 'Black', 'cardamom', 'Badi', 'Bay', 'leaf', 'tej', 'patta', 'Ajwain', 'Carom', 'Mace', 'Javitri', 'Turmeric', 'powder', 'Haldi', 'Red', 'Chilli', 'Powder', 'Garam', 'masala', 'sliced', 'chopped', 'roughly', 'torn', 'Milk', 'Saffron', 'strands', 'Ghee', 'Lemon', 'juice', 'Curd', 'Dahi', 'Yogurt', 'Sugar', 'powdered', 'Fresh', 'cream', 'Turmeric', 'powder', 'Vanilla', 'Extract', 'Orange', 'Zest', 'Rind', 'Potato', 'Aloo', 'Green', 'Chilli', 'Spaghetti', 'Pasta', 'Ginger', 'Coriander', 'Dhania', 'Leaves', 'Fried', 'Bread', 'Cubes', 'Croutons', 'Extra', 'Virgin', 'Olive', 'Oil', 'Salt', 'and', 'Pepper', 'Button', 'mushrooms', 'chopped', 'Green', 'peas', 'Matar', 'boiled', 'Cumin', 'seeds', 'Jeera', 'Mustard', 'Asafoetida', 'hing', 'Onion', 'paste', 'Tomato', 'Ginger', 'Garlic', 'Paste', 'Chilli', 'Red', 'powder', 'Turmeric', 'Haldi', 'Coriander', 'Powder', 'Dhania', 'Garam', 'masala', 'Leaves', 'Brinjal', 'chopped', 'mustard', 'onion', 'thin', 'and', 'straight', 'cut', 'cloves', 'garlic', 'finely', 'ginger', 'cumin', 'red', 'chili', 'powder', 'coriander', 'garam', 'masala', 'mango', 'salt', 'oil', 'Carrot', 'Gajjar', 'Sweet', 'corn', 'Whole', 'Wheat', 'Flour', 'Onion', 'finely', 'chopped', 'Del', 'Monte', 'Sandwich', 'Spread', 'Coriander', 'Dhania', 'Leaves', 'Eggs', 'Baking', 'powder', 'soda', 'Green', 'Chillies', 'Ragi', 'Flour', 'Finger', 'Millet', 'Nagli', 'Water', 'Salt', 'Sunflower', 'Oil', 'Ghee', 'Rice', 'flour', 'prawns', 'soy', 'sauce', 'sesame', 'gingelly', 'oil', 'cloves', 'garlic', 'finely', 'chopped', 'green', 'chillies', 'coriander', 'dhania', 'leaves', 'whole', 'black', 'peppercorns', 'crushed', 'sunflower', 'salt', 'drops', 'lemon', 'juice', 'jackfruit', 'seeds', 'tamarind', 'water', 'garlic', 'mustard', 'cumin', 'curry', 'leaves', 'turmeric', 'powder', 'red', 'chilli', 'sambar', 'asafoetida', 'coriander', 'sunflower', 'oil', 'fresh', 'coconut', 'black', 'peppercorns', 'dry', 'chillies', 'onion', 'chopped', 'tomato', 'Whole', 'Wheat', 'Brown', 'Bread', 'Paneer', 'Homemade', 'Cottage', 'Cheese', 'grated', 'Green', 'Bell', 'Pepper', 'Capsicum', 'finely', 'chopped', 'Chilli', 'Chaat', 'Masala', 'Powder', 'Black', 'pepper', 'powder', 'Butter', 'Salt', 'Karela', 'Bitter', 'Gourd', 'Pavakkai', 'Salt', 'Onion', 'Gram', 'flour', 'besan', 'Turmeric', 'powder', 'Haldi', 'Red', 'Chilli', 'Cumin', 'seeds', 'Jeera', 'Coriander', 'Powder', 'Dhania', 'Amchur', 'Dry', 'Mango', 'Sunflower', 'Oil', 'Whole', 'Eggs', 'Roasted', 'Gram', 'Dal', 'Pottukadalai', 'Dry', 'Red', 'Chillies', 'Ginger', 'chopped', 'Garlic', 'Black', 'Peppercorns', 'Salt', 'Fresh', 'coconut', 'grated', 'Palm', 'jaggery', 'use', 'date', 'Poha', 'Flattened', 'rice', 'All', 'Purpose', 'Flour', 'Maida', 'Sooji', 'Semolina', 'Rava', 'Milk', 'warm', 'palm', 'Bamboo', 'shoots', 'Button', 'mushrooms', 'Spring', 'Onion', 'Bulb', 'Greens', 'Red', 'Yellow', 'Green', 'Bell', 'Peppers', 'Capsicum', 'Extra', 'Virgin', 'Olive', 'Oil', 'Chilli', 'flakes', 'Salt', 'Chicken', 'Thighs', 'Wings', 'Soy', 'sauce', 'Honey', 'Vinegar', 'Garlic', 'Minced', 'Ginger', 'Grated', 'Sesame', 'Gingelly', 'Oil', 'Olive', 'Black', 'pepper', 'powder', 'seeds', 'Til', 'Vivatta', 'Maida', 'Mango', 'Pulp', '(Puree)', 'Baking', 'powder', 'soda', 'Sunflower', 'Oil', 'Sugar', 'Salt', 'Vanilla', 'Extract', 'Dark', 'chocolate', '-', 'chopped', 'Fresh', 'cream', 'Cocoa', 'Powder', 'powdered', 'Ridge', 'Gourd', 'Skin', 'Turai', 'Peerkangai', 'White', 'Urad', 'Dal', 'Methi', 'Seeds', 'Fenugreek', 'Dry', 'Red', 'Chillies', 'Curry', 'leaves', 'Tamarind', 'Mustard', 'seeds', 'Sunflower', 'Oil', 'Salt', 'Whole', 'Wheat', 'Flour', 'Salt', 'Water', 'Ghee', 'Chicken', 'cut', 'into', 'pieces', 'Ginger', 'paste', 'Garlic', 'Fresh', 'cream', 'Badam', 'Almond', 'Lemon', 'juice', 'Black', 'pepper', 'powder', 'Salt', 'Onion', 'sliced', 'Milk', 'Cardamom', 'Powder', 'Elaichi', 'Cinnamon', 'Stick', 'Dalchini', 'Bay', 'leaf', 'tej', 'patta', 'Kasuri', 'Methi', 'Dried', 'Fenugreek', 'Leaves', 'Ghee', 'Potatoes', 'Aloo', 'Green', 'zucchini', 'Red', 'Chilli', 'flakes', 'Dried', 'oregano', 'Thyme', 'Leaves', 'Black', 'pepper', 'powder', 'Cheddar', 'cheese', 'grated', 'Whole', 'Wheat', 'Bread', 'crumbs', 'Salt', 'lentil', 'water', 'long', 'whole', 'black', 'peppers', 'cumin', 'mustard', 'bay', 'leaf', 'curry', 'leaves', 'Jaggery', 'grated', 'tamarind', 'paste', 'goda', 'masala', 'oil', 'coriander', 'salt', 'Mango', 'Pulp', 'Puree', 'Curd', 'Dahi', 'Yogurt', 'Sugar', 'honey', 'Saffron', 'strands', 'Badam', 'Almond', 'Milk', 'luke', 'warm', 'more', 'cold', 'milk', 'Ice', 'cubes', 'few', 'Raw', 'Banana', 'par', 'boiled', 'and', 'grated', 'thick', 'Mustard', 'seeds', 'White', 'Urad', 'Dal', '(Split)', 'Curry', 'leaves', 'Onion', 'finely', 'chopped', 'Green', 'Chilli', 'Ginger', 'Fresh', 'coconut', 'Sunflower', 'Oil', 'Salt', 'small', 'potatoes', 'turmeric', 'powder', 'cardamom', 'cinnamon', 'long', 'bay', 'leaf', 'tomato', 'puree', 'garam', 'masala', 'yogurt', 'red', 'chilli', 'coriander', 'sugar', 'salt', 'stock', 'green', 'onion', 'ginger', 'cloves', 'garlic', 'chillies', 'cabbage', 'green', 'peas', 'onion', 'finely', 'chopped', 'chillies', 'tomato', 'ginger', 'garlic', 'paste', 'turmeric', 'powder', 'garam', 'masala', 'oil', 'red', 'chilli', 'salt', 'corriander', 'leaves', 'Rice', 'flour', 'Salt', 'Sunflower', 'Oil', 'Bok', 'Choy', 'sliced', 'Carrot', 'Gajjar', 'thinly', 'Cabbage', 'Patta', 'Gobi', 'Muttaikose', 'Button', 'mushrooms', 'quartered', 'Corn', 'Dark', 'soy', 'sauce', 'Bean', 'Paste', 'Red', 'Chilli', 'Sugar', 'Whole', 'Wheat', 'Brown', 'Bread', 'Milk', 'Khoya', 'Mawa', 'Sugar', 'Badam', 'Almond', 'finely', 'chopped', 'Ghee', 'for', 'deep', 'frying', 'oil', 'mustard', 'capsicum', 'yellow', 'cut', 'red', 'green', 'onion', 'curry', 'leaves', 'Salt', 'peanuts', 'roast', 'coconut', 'dry', 'chillies', 'cloves', 'garlic', 'unpeeled', 'cumin', 'seeds', 'coridander', 'chopped', 'Aar', 'Maach', 'Tomato', 'Bay', 'leaf', 'Ginger', 'Garlic', 'Paste', 'Green', 'Chillies', 'Cumin', 'seeds', 'Jeera', 'Coriander', 'Powder', 'Dhania', 'Red', 'Chilli', 'powder', 'Turmeric', 'Haldi', 'Mustard', 'oil', 'Salt', 'Water', 'Leaves', 'sprigs', 'Red', 'matta', 'rice', 'Basmati', 'White', 'Urad', 'Dal', 'Split', 'Coconut', 'milk', 'Sugar', 'Active', 'dry', 'yeast', 'Salt', 'Fresh', 'coconut', 'Grated', 'Jaggery', 'Cardamom', 'Elaichi', 'Pods/Seeds', 'Pink', 'Masoor', 'Dal', 'Drumstick', 'Leaves', 'Moringa', 'Murungai', 'Keerai', 'Asafoetida', 'hing', 'Cumin', 'seeds', 'Jeera', 'Ginger', 'finely', 'chopped', 'Dry', 'Red', 'Chilli', 'Tomato', 'Green', 'slit', 'Coriander', 'Powder', 'Dhania', 'Turmeric', 'powder', 'Haldi', 'Salt', 'Ghee', 'Lemon', 'juice', 'extracted', 'tomatoes', 'curry', 'leaves', 'green', 'chillies', 'turmeric', 'powder', 'coriander', 'salt', 'rock', 'sugar', 'Vellai', 'Poosanikai', 'Turmeric', 'powder', 'Salt', 'Sunflower', 'Oil', 'Dry', 'Red', 'Chillies', 'Fresh', 'coconut', 'grated', 'Tamarind', 'Water', 'Methi', 'Seeds', 'Cumin', 'seeds', 'Coriander', 'Dhania', 'Sesame', 'Jaggery', 'Mustard', 'Curry', 'leaves', 'Mooli', 'Mullangi', 'Radish', 'purple', 'Water', 'Garam', 'masala', 'powder', 'Salt', 'Black', 'pepper', 'slices', 'Coriander', 'Dhania', 'Leaves', 'chopped', 'Walnuts', 'Dried', 'Figs', 'Flax', 'seeds', 'Honey', 'Roasted', 'Peanuts', '(Moongphali)', 'Cinnamon', 'Powder', '(Dalchini)', 'Instant', 'Oats', 'Oatmeal', 'Wheat', 'Flakes', 'Cereal', 'Pine', 'nuts', 'Pumpkin', 'seeds', 'Dates', 'dried', 'ones', 'finely', 'chopped', 'Dried', 'raspberries', 'Raisins', 'sultana', 'Badam', 'Almond', 'Walnuts', 'Cinnamon', 'Powder', 'Dalchini', 'Nutmeg', 'powder', 'Vanilla', 'Extract', 'Sunflower', 'Oil', 'Honey', 'Yellow', 'Moong', 'Dal', 'Cucumber', 'finely', 'chopped', 'Carrot', 'Gajjar', 'grated', 'Fresh', 'coconut', 'Lemon', 'juice', 'Sunflower', 'Oil', 'Mustard', 'seeds', 'Green', 'Chillies', 'slit', 'Asafoetida', 'hing', 'Curry', 'leaves', 'roughly', 'torn', 'Coriander', 'Dhania', 'Leaves', 'Potatoes', 'Cheese', 'Tomatoes', 'Ginger', 'Grated', 'Green', 'Chillies', 'Red', 'Chilli', 'Powder', 'Coriander', 'Cumin', 'Salt', 'oil', 'coriander', 'Finely', 'chopped', 'Carrot', 'Gajjar', 'Green', 'beans', 'French', 'Beans', 'Tofu', 'Red', 'Bell', 'pepper', 'Capsicum', 'Pepper', 'Ginger', 'Garlic', 'Dry', 'Chillies', 'Soy', 'sauce', 'Chilli', 'vinegar', 'Sugar', 'Vegetable', 'stock', 'Corn', 'flour', 'water', 'Sunflower', 'Oil', 'Salt', 'and', 'Cauliflower', 'gobi', 'broken', 'into', 'small', 'florets', 'Green', 'beans', 'French', 'cut', 'one-inch', 'pieces', 'Carrots', 'Gajjar', 'inch', 'long', 'Potatoes', 'Aloo', 'cubes', 'Onion', 'sliced', 'Sunflower', 'Oil', 'Mustard', 'seeds', 'Curry', 'leaves', 'Fresh', 'coconut', 'grated', 'Dry', 'Red', 'Chillies', 'Cumin', 'Jeera', 'Fennel', 'Saunf', 'tamarind', 'paste', 'jaggery', 'rasam', 'powder', 'red', 'chili', 'oil', 'fenugreek', 'seeds', 'curry', 'leaves', 'mustard', 'asafoetida', 'to', 'green', 'chillies', 'thin', 'and', 'straight', 'Tender', 'coconut', 'water', 'Fresh', 'cream', 'Sugar', 'granulated', 'meat', 'extra', 'Condensed', 'Milk', 'Honey', 'glazing', 'Optional', 'Ice', 'cone', 'coconut', 'milk', 'water', 'roasted', 'chana', 'lentils', 'green', 'chillies', 'oil', 'mustard', 'turmeric', 'powder', 'cumin', 'seeds', 'curry', 'leaves', 'salt', 'coriander', 'rice', 'noodles', 'baby', 'corn', 'capsicum', 'red', 'yellow', 'green', 'Thai', 'Basil', 'leaves', 'onions', 'garlic', 'ginger', 'brown', 'sugar', 'honey', 'soy', 'sauce', 'fish', 'Sriracha', 'Papaya', 'peeled', 'grated', 'Carrot', 'Gajjar', 'Sugar', 'Milk', 'Cardamom', 'Powder', 'Elaichi', 'Saffron', 'strands', 'Badam', 'Almond', 'Ghee', 'Burger', 'buns', 'Pickled', 'Jalapenos', 'sliced', 'Cheese', 'Slices', 'Potatoes', 'Aloo', 'pressure', 'cooked', 'Onion', 'chopped', 'Red', 'Chilli', 'powder', 'Salt', 'Whole', 'Egg', 'Wheat', 'Bread', 'crumbs', 'Garlic', 'Onions', 'Tomatoes', 'Homemade', 'tomato', 'puree', 'Green', 'Bell', 'Pepper', 'Capsicum', 'Soy', 'granules', 'flakes', 'Cumin', 'Jeera', 'Dried', 'oregano', 'Tabasco', 'Original', 'Hot', 'Sauce', 'Honey', 'Sunflower', 'Oil', 'Whole', 'Wheat', 'Flour', 'Sunflower', 'Oil', 'Salt', 'Button', 'mushrooms', 'Onion', 'finely', 'chopped', 'Cumin', 'seeds', 'Jeera', 'Garam', 'masala', 'powder', 'Green', 'Chillies', 'Turmeric', 'Haldi', 'Ghee', 'or', 'oil', 'for', 'cooking', 'Potatoes', 'Aloo', 'Mozzarella', 'cheese', 'Mustard', 'seeds', 'Ginger', 'grated', 'Onion', 'finely', 'chopped', 'Green', 'Chillies', 'Asafoetida', 'hing', 'Turmeric', 'powder', 'Haldi', 'Coriander', 'Dhania', 'Leaves', 'small', 'bunch', 'Sunflower', 'Oil', 'Gram', 'flour', 'besan', 'Salt', 'Chicken', 'legs', 'Hung', 'Curd', '(Greek', 'Yogurt)', 'Turmeric', 'powder', '(Haldi)', 'Salt', 'Sunflower', 'Oil', 'Onion', '-', 'sliced', 'Garlic', 'Ginger', 'Fresh', 'coconut', 'grated', 'Cumin', 'seeds', '(Jeera)', 'Coriander', '(Dhania)', 'Seeds', 'Methi', '(Fenugreek', 'Seeds)', 'Kalonji', '(Onion', 'Nigella', 'Whole', 'Black', 'Peppercorns', 'Dry', 'Red', 'Chillies', 'Fennel', '(Saunf)', 'Cinnamon', 'Stick', '(Dalchini)', 'Cloves', '(Laung)', 'Cardamom', '(Elaichi)', 'Pods/Seeds', 'Mustard', 'Ghee', 'Tamarind', 'Paste', 'Jaggery', 'Curry', 'leaves', 'Mooli', 'Mullangi', 'Radish', 'Potato', 'Aloo', 'Onion', 'Green', 'Chilli', 'Kasundi', 'mustard', 'sauce', 'Red', 'powder', 'Turmeric', 'Haldi', 'Mustard', 'seeds', 'Cumin', 'Jeera', 'Kalonji', 'Nigella', 'Seeds', 'oil', 'Sugar', 'Salt', 'Whole', 'Wheat', 'Brown', 'Bread', 'Tomatoes', 'sliced', 'thin', 'into', 'rounds', 'Cucumber', 'peeled', 'and', 'Salt', 'Black', 'pepper', 'powder', 'Chaat', 'Masala', 'Powder', 'Butter', 'Green', 'Chutney', '(Coriander', '&', 'Mint)', 'Tomato', 'Ketchup', 'Paneer', 'Homemade', 'Cottage', 'Cheese', 'Potatoes', 'Aloo', 'Onion', 'julienned', 'Ginger', 'grated', 'Garlic', 'Green', 'Bell', 'Pepper', 'Capsicum', 'Tomatoes', 'finely', 'chopped', 'Pav', 'bhaji', 'masala', 'Coriander', 'Dhania', 'Leaves', 'French', 'bread', 'or', 'rye', 'to', 'make', 'sandwiches', 'Rocket', 'leaves', 'salad', 'for', 'the', 'sandwich', 'rice', 'cooked', 'tomatoes', 'BC', 'Belle', 'Bhat', 'powder', 'chickpea', 'lentils', 'cumin', 'seeds', 'white', 'urad', 'dal', 'mustard', 'green', 'chilli', 'dry', 'red', 'cashew', 'or', 'peanuts', 'oil', 'asafoetida', 'Chana', 'dal', 'Spinach', 'Leaves', 'Water', 'Turmeric', 'powder', 'Ghee', 'Asafoetida', 'hing', 'Cumin', 'seeds', 'Dry', 'Red', 'Chillies', 'Ginger', 'Garlic', 'Paste', 'Onion', 'Green', 'Tomato', 'Chilli', 'Idli', 'Dosa', 'Batter', 'Rice', 'parboiled', 'Poha', 'Flattened', 'rice', 'thick', 'Buttermilk', 'sour', 'Cooking', 'soda', 'Butter', 'loni', 'white', 'Beetroot', 'peeled', 'to', 'Curry', 'leaves', 'Green', 'Chilli', 'Paste', 'Salt', 'Sesame', 'Gingelly', 'Oil', 'Banana', 'flower', 'Vazhaipoo', 'Coconut', 'milk', 'Rice', 'Chana', 'dal', 'Bengal', 'Gram', 'Onion', 'Cardamom', 'Elaichi', 'Pods/Seeds', 'Sugar', 'Salt', 'Water', 'Makki', 'Ka', 'Atta', 'Yellow', 'Corn', 'Meal', 'Flour', 'Methi', 'Leaves', 'Fenugreek', 'chopped', 'Green', 'Chillies', 'Ajwain', 'Carom', 'seeds', 'Kashmiri', 'Red', 'Chilli', 'Powder', 'Salt', 'Hard', 'taco', 'shells', 'Hariyali', 'Chicken', 'Tikka', 'Summer', 'Salad', 'Refried', 'beans', 'Nutralite', 'Cheesy', 'Garlic', 'Mayo', 'Tomato', 'Salsa', 'Green', 'Amaranth', 'Leaves', 'Tamarind', 'Onion', 'Tomato', 'Garlic', 'Mustard', 'seeds', 'Asafoetida', 'hing', 'Curry', 'leaves', 'Sambar', 'Powder', 'Methi', 'Fenugreek', 'Sesame', 'Gingelly', 'Oil', 'Salt', 'Curd', 'Dahi', 'Yogurt', 'thick', 'Fresh', 'coconut', 'Vellai', 'Poosanikai', 'Ash', 'gourd', 'White', 'Pumpkin', 'cubed', 'Green', 'Chillies', 'Black', 'pepper', 'powder', 'Water', 'Turmeric', 'Haldi', 'Salt', 'Coconut', 'Oil', 'Mustard', 'seeds', 'Methi', 'Seeds', 'Fenugreek', 'Curry', 'leaves', 'Dry', 'Red', 'Chilli', 'Potatoes', 'Garlic', 'powder', 'Onion', 'Dried', 'oregano', 'Coriander', 'Leaves', 'finely', 'chopped', 'Red', 'Chilli', 'flakes', 'All', 'Purpose', 'Flour', 'Maida', 'Rice', 'flour', 'Salt', 'Sunflower', 'Oil', 'for', 'deep', 'frying', 'the', 'tater', 'tots', 'Water', 'Tea', 'leaves', 'Milk', 'Saffron', 'strands', 'Raw', 'Peanuts', 'Moongphali', 'Gram', 'flour', 'besan', 'Rice', 'Red', 'Chilli', 'powder', 'Coriander', 'Powder', 'Dhania', 'Chaat', 'Masala', 'Water', 'Black', 'pepper', 'Sunflower', 'Oil', 'Salt', 'to', 'fry', 'Fish', 'fillet', 'basa', 'Prawns', 'Clamps', 'Baby', 'Potatoes', 'Carrots', 'Gajjar', 'Onion', 'Tomato', 'Fresh', 'Red', 'chillies', 'cloves', 'Garlic', 'Cumin', 'powder', 'Jeera', 'Paprika', 'Salt', 'Lemon', 'juice', 'Black', 'pepper', 'Coriander', 'Dhania', 'Leaves', 'Extra', 'Virgin', 'Olive', 'Oil', 'Chicken', 'stock', 'Coconut', 'milk', 'Rice', 'Green', 'peas', 'Potatoes', 'Aloo', 'Onion', 'Ginger', 'Garlic', 'Paste', 'Chillies', 'Black', 'cardamom', 'Badi', 'Elaichi', 'Bay', 'leaf', 'tej', 'patta', 'Cardamom', 'Pods/Seeds', 'Cinnamon', 'Stick', 'Dalchini', 'Cloves', 'Laung', 'Cumin', 'seeds', 'Jeera', 'Coriander', 'Powder', 'Dhania', 'powder', 'pepper', 'Red', 'Chilli', 'Ghee', 'Leaves', 'finely', 'chopped', 'garnish', 'Milk', 'White', 'vinegar', 'Sugar', 'Powder', 'Condensed', 'Cardamom', 'Pods', 'Seeds', 'Ghee', 'Pistachios', 'chopped', 'Saffron', 'strands', 'or', 'Yellow', 'food', 'colour', 'eggplant', 'yogurt', 'green', 'chilli', 'chopped', 'cumin', 'powder', 'Kashmiri', 'red', 'garam', 'masala', 'onion', 'thin', 'and', 'straight', 'cut', 'salt', 'ghee', 'coriander', 'Tindora', 'Dondakaya', 'Kovakkai', 'Red', 'Chilli', 'powder', 'Split', 'Methi', 'Seeds', 'Kuria', 'Mustard', 'Rai', 'Turmeric', 'Haldi', 'Asafoetida', 'hing', 'Sunflower', 'Oil', 'Lemon', 'juice', 'extracted', 'Salt', 'Sunflower', 'Oil', 'All', 'Purpose', 'Flour', 'Maida', 'Baking', 'powder', 'Water', 'Honey', 'Sugar', 'Sesame', 'seeds', 'Til', 'Vanilla', 'Extract', 'Karela', 'Bitter', 'Gourd', 'Pavakkai', 'sliced', 'into', 'rounds', 'Coriander', 'Powder', 'Dhania', 'Red', 'Chilli', 'powder', 'Asafoetida', 'hing', 'Gram', 'flour', 'besan', 'Black', 'Salt', 'Kala', 'Namak', 'Sunflower', 'Oil', 'Hung', 'Curd', 'Greek', 'Yogurt', 'Chaat', 'Masala', 'Sweet', 'Chutney', 'Date', 'Tamarind', 'Sev', 'Aloo', 'Bhujia', 'Dates', 'Leaves', 'small', 'bunch', 'Elephant', 'yam', 'Suran', 'Senai', 'Ratalu', 'Onion', 'Green', 'Chillies', 'Ginger', 'Garlic', 'Curry', 'leaves', 'Cumin', 'seeds', 'Jeera', 'Turmeric', 'powder', 'Haldi', 'Coriander', 'Powder', 'Dhania', 'Red', 'Chilli', 'Black', 'pepper', 'Garam', 'masala', 'Salt', 'Sunflower', 'Oil', 'Spaghetti', 'Pasta', 'Spinach', 'amaranth', 'leaves', 'Garlic', 'finely', 'chopped', 'big', 'size', 'Extra', 'Virgin', 'Olive', 'Oil', 'Parmesan', 'cheese', 'grated', 'or', 'powdered', 'fruit', 'pineapple', 'yogurt', 'turmeric', 'powder', 'jaggery', 'salt', 'coconut', 'green', 'chillies', 'mustard', 'dry', 'red', 'peppers', 'break', 'oil', 'curry', 'leaves', 'papad', 'urad', 'dal', 'tamarind', 'sambar', 'powder', 'turmeric', 'horse-powder', 'mustard', 'gram', 'lentils', 'Asafoetida', 'dry', 'red', 'chili', 'curry', 'leaves', 'sesame', 'oil', 'salt', 'Bajra', 'Flour', 'Whole', 'Wheat', 'Turmeric', 'powder', 'Black', 'pepper', 'Ginger', 'grated', 'Green', 'Chilli', 'Coriander', 'Leaves', 'Sunflower', 'Oil', 'All', 'Purpose', 'Flour', 'Maida', 'Ghee', 'Salt', 'Sunflower', 'Oil', 'for', 'deep', 'frying', 'Cumin', 'seeds', 'Jeera', 'Green', 'Chilli', 'Sauce', 'Cinnamon', 'Powder', 'Dalchini', 'Garam', 'masala', 'powder', 'Red', 'Amchur', 'Dry', 'Mango', 'peas', 'Matar', 'steamed', 'and', 'mashed', 'Water', 'Arhar', 'dal', 'Split', 'Toor', 'Yellow', 'Moong', 'Dal', 'Spinach', 'Leaves', 'Palak', 'Pearl', 'onions', 'Sambar', 'Onions', 'Green', 'Chillies', 'slit', 'Turmeric', 'powder', 'Haldi', 'Tamarind', 'Water', 'Salt', 'Mustard', 'seeds', 'Garlic', 'coarsely', 'pound', 'Curry', 'leaves', 'Dry', 'Red', 'Sunflower', 'Oil', 'Paneer', 'Homemade', 'Cottage', 'Cheese', 'cubed', 'Sunflower', 'Oil', 'Green', 'peas', 'Matar', 'Salt', 'Sugar', 'Red', 'Chilli', 'powder', 'Milk', 'Kasuri', 'Methi', 'Dried', 'Fenugreek', 'Leaves', 'Onion', 'red', 'Tomatoes', 'finely', 'chopped', 'Ginger', 'clove', 'Garlic', 'peeled', 'and', 'Ghee', 'or', 'clarified', 'butter', 'Dry', 'Chillies', 'Cardamom', 'Elaichi', 'Pods/Seeds', 'Cinnamon', 'Stick', 'Dalchini', 'Whole', 'Black', 'Peppercorns', 'Coriander', 'Dhania', 'Seeds', 'Cashew', 'nuts', 'broken', 'into', 'small', 'pieces', 'Moth', 'Sprouts', 'Matki', 'White', 'Urad', 'Dal', 'Split', 'Green', 'Chillies', 'Fennel', 'seeds', 'Saunf', 'Ginger', 'Spinach', 'Leaves', 'Palak', 'Turmeric', 'powder', 'Haldi', 'Sunflower', 'Oil', 'Tofu', 'crumbled', 'Onion', 'chopped', 'Red', 'Bell', 'pepper', 'Capsicum', 'Tomato', 'Green', 'Chilli', 'Cumin', 'seeds', 'Jeera', 'powder', 'Black', 'Turmeric', 'Haldi', 'Coriander', 'Dhania', 'Leaves', 'Salt', 'Sunflower', 'Oil', 'Gram', 'flour', 'besan', 'Rice', 'Green', 'Moong', 'Sprouts', 'Onion', 'Coriander', 'Dhania', 'Leaves', 'Chillies', 'Ginger', 'grated', 'Powder', 'Garam', 'masala', 'powder', 'Lemon', 'juice', 'Salt', 'Red', 'Chilli', 'Sunflower', 'Oil', 'deep', 'fry', 'All', 'Purpose', 'Flour', 'Maida', 'Sugar', 'Dark', 'chocolate', 'Cocoa', 'Powder', 'Salted', 'butter', 'Milk', 'Baking', 'powder', 'soda', 'Vanilla', 'Extract', 'Britannia', 'Cream', 'Cheese', 'Caster', 'Fresh', 'raspberries', 'Pointed', 'gourd', 'Parval', 'cut', 'into', 'wedges', 'Potatoes', 'Aloo', 'skin', 'peeled', 'Methi', 'Seeds', 'Fenugreek', 'Cumin', 'seeds', 'Jeera', 'Fennel', 'Saunf', 'Cloves', 'Laung', 'Cinnamon', 'Stick', 'Dalchini', 'Dry', 'Red', 'Chilli', 'Ginger', 'finely', 'chopped', 'Fresh', 'coconut', 'grated', 'Poppy', 'powder', 'Turmeric', 'Haldi', 'Green', 'Chillies', 'Sugar', 'Salt', 'Mustard', 'oil', 'for', 'cooking', 'Whole', 'Wheat', 'Flour', 'All', 'Purpose', 'Maida', 'Sooji', 'Semolina', 'Rava', 'Curd', 'Dahi', 'Yogurt', 'Turmeric', 'powder', 'Haldi', 'Salt', 'Sunflower', 'Oil', 'kneading', 'Potatoes', 'Aloo', 'boiled', 'and', 'mashed', 'Cumin', 'seeds', 'Jeera', 'Onion', 'finely', 'chopped', 'Garlic', 'crushed', 'Ginger', 'Green', 'Chillies', 'Curry', 'leaves', 'Coriander', 'Dhania', 'Leaves', 'Red', 'Chilli', 'Mooli', 'Mullangi', 'Radish', 'Paneer', 'Homemade', 'Cottage', 'Cheese', 'Green', 'Chilli', 'Garlic', 'Ginger', 'Cumin', 'powder', 'Sunflower', 'Oil', 'Salt', 'Turmeric', 'Haldi', 'Whole', 'Wheat', 'Flour', 'Ghee', 'Basmati', 'rice', 'Coconut', 'milk', 'Turmeric', 'powder', 'Green', 'beans', 'French', 'Beans', 'diced', 'small', 'Cauliflower', 'gobi', 'florets', 'Carrots', 'Gajjar', 'Garlic', 'grated', 'Ginger', 'Chillies', 'slit', 'Cloves', 'Laung', 'Cardamom', 'Elaichi', 'Pods/Seeds', 'Cinnamon', 'Stick', 'Dalchini', 'Bay', 'leaf', 'tej', 'patta', 'Salt', 'Ghee', 'Sundkai', 'fenugreek', 'Arhar', 'dal', 'boiled', 'mashed', 'Tomato', 'Tamarind', 'Turmeric', 'Powder', 'Sambar', 'Coriander', 'mustard', 'cumin', 'seeds', 'dry', 'red', 'chili', 'asafoetida', 'oil', 'salt', 'water', 'Brown', 'Rice', 'Rolled', 'Oats', 'Or', 'Instant', 'Whole', 'Eggs', 'Spring', 'Onion', 'Greens', 'finely', 'chopped', 'Carrots', 'Gajjar', 'Green', 'beans', 'French', 'Beans', 'Cabbage', 'Patta', 'Gobi', 'Muttaikose', 'Sunflower', 'Oil', 'Salt', 'and', 'Pepper', 'Mango', 'Ripe', 'Sugar', 'Saffron', 'strands', 'Cinnamon', 'Powder', 'Dalchini', 'Carrots', 'Gajjar', 'small', 'Green', 'beans', 'French', 'pieces', 'Cauliflower', 'gobi', 'florets', 'Potatoes', 'Aloo', 'Tofu', 'Onions', 'Chillies', 'Ginger', 'Garlic', 'Paste', 'Turmeric', 'powder', 'Haldi', 'Red', 'Chilli', 'Cardamom', 'Elaichi', 'Pods', 'Seeds', 'Black', 'cardamom', 'Badi', 'Cloves', 'Laung', 'Coconut', 'Yogurt', 'optional', 'milk', 'thick', 'Mint', 'Leaves', 'Pudina', 'Saffron', 'strands', 'Edible', 'Silver', 'Foil', 'Leaf', 'Chandi', 'Ka', 'Vark', 'Pineapple', 'Raisins', 'Cashew', 'nuts', 'Badam', 'Almond', 'Pistachios', 'Garam', 'masala', 'Oil', 'Poppy', 'seeds', 'Coriander', 'Dhania', 'Leaves', 'chopped', 'Green', 'Chillies', 'Ginger', 'Salt', 'Lemon', 'juice', 'extracted', 'Kabuli', 'Chana', 'White', 'Chickpeas', 'soaked', 'overnight', 'Ghee', 'Onion', 'finely', 'Garlic', 'Cinnamon', 'Stick', 'Dalchini', 'Bay', 'leaf', 'tej', 'patta', 'Brown', 'cardamom', 'Badi', 'Elaichi', 'Black', 'Kala', 'Namak', 'Garam', 'masala', 'powder', 'Powder', 'Gunde', 'bird', 'lime', 'Methi', 'Seeds', 'Fenugreek', 'Cumin', 'seeds', 'Jeera', 'Asafoetida', 'hing', 'Fennel', 'Saunf', 'Mustard', 'Turmeric', 'powder', 'Haldi', 'Red', 'Chilli', 'Amchur', 'Dry', 'Mango', 'Powder', 'Coriander', 'Dhania', 'Leaves', 'few', 'All', 'Purpose', 'Flour', 'Maida', 'Sunflower', 'Oil', 'Cabbage', 'Patta', 'Gobi', 'Muttaikose', 'shredded', 'Green', 'peas', 'Matar', 'Spring', 'Onion', 'Bulb', 'Greens', 'chopped', 'Soy', 'sauce', 'Red', 'Chilli', 'Honey', 'Salt', 'Sesame', 'Gingelly', 'seeds', 'Til', 'Water', 'Brown', 'Sugar', 'Demerara', 'Cinnamon', 'Stick', 'Dalchini', 'Star', 'anise', 'Ginger', 'coconut', 'oil', 'curry', 'leaves', 'garlic', 'ginger', 'onion', 'tomatoes', 'turmeric', 'powder', 'garam', 'masala', 'red', 'chilli', 'coriander', 'chicken', 'breast', 'water', 'Fresh', 'coconut', 'grated', 'Cooked', 'rice', 'Mustard', 'seeds', 'White', 'Urad', 'Dal', 'Split', 'Chana', 'dal', 'Bengal', 'Gram', 'Raw', 'Peanuts', 'Moongphali', 'Curry', 'leaves', 'Green', 'Chillies', 'finely', 'chopped', 'Ginger', 'Coconut', 'Oil', 'Salt', 'Cardamom', 'Elaichi', 'Pods', 'Seeds', 'Whole', 'Black', 'Peppercorns', 'Cinnamon', 'Stick', 'Dalchini', 'cloves', 'Cloves', 'Laung', 'Mace', 'Javitri', 'Bay', 'leaf', 'tej', 'patta', 'cardamom', 'Badi', 'Kasuri', 'Methi', 'Dried', 'Fenugreek', 'Leaves', 'Kashmiri', 'Red', 'Chilli', 'Powder', 'Turmeric', 'powder', 'Haldi', 'Coriander', 'Dhania', 'Garam', 'masala', 'Samosas', 'mini', 'Cashew', 'nuts', 'Green', 'Onion', 'roughly', 'chopped', 'Tomato', 'Ginger', 'Sugar', 'Fresh', 'cream', 'Sunflower', 'Oil', 'Sooji', 'Semolina', 'Rava', 'Curd', 'Dahi', 'Yogurt', 'Onion', 'powder', 'finely', 'chopped', 'Green', 'Bell', 'Pepper', 'Capsicum', 'Coriander', 'Dhania', 'Leaves', 'Chilli', 'Black', 'pepper', 'Salt', 'Sunflower', 'Oil', 'Black', 'Eyed', 'Beans', 'Lobia', 'Onion', 'chopped', 'Garlic', 'minced', 'Red', 'Yellow', 'Green', 'Bell', 'Pepper', 'Capsicum', 'finely', 'Tomatoes', 'blanched', 'Ginger', 'Extra', 'Virgin', 'Olive', 'Oil', 'Cumin', 'powder', 'Jeera', 'Chilli', 'or', 'red', 'chilli', 'flakes', 'Coriander', 'Dhania', 'Leaves', 'Lemon', 'juice', 'adjustable', 'Cumin', 'seeds', 'Jeera', 'Cinnamon', 'Stick', 'Dalchini', 'Dry', 'ginger', 'powder', 'Turmeric', 'Haldi', 'Red', 'Chilli', 'Coriander', 'Dhania', 'Seeds', 'Fennel', 'Saunf', 'Whole', 'Black', 'Peppercorns', 'Garlic', 'Cardamom', 'Elaichi', 'Pods', 'Mace', 'Javitri', 'Jasmine', 'Rice', 'Coconut', 'milk', 'Salt', 'Oil', 'Onion', 'diced', 'Bell', 'pepper', 'Capsicum', 'sliced', 'thin', 'Gawar', 'Phali', 'Kothavarangai', 'Cluster', 'beans', 'chopped', 'into', 'half', 'Ginger', 'minced', 'Lemongrass', 'fresh', 'Lemon', 'juice', 'Jaggery', 'Thai', 'basil', 'leaves', 'garnish', 'All', 'Purpose', 'Flour', 'Maida', 'Ghee', 'melted', 'Ajwain', 'Carom', 'seeds', 'Green', 'Peas', 'Matar', 'Sweet', 'corn', 'Chillies', 'finely', 'chopped', 'Ginger', 'grated', 'Fennel', 'Saunf', 'Garam', 'masala', 'powder', 'Chaat', 'Masala', 'Powder', 'Coriander', 'Dhania', 'Leaves', 'small', 'bunch', 'raw', 'mango', 'tamarind', 'water', 'jaggery', 'sambar', 'powder', 'turmeric', 'salt', 'mustard', 'asafoetida', 'Curry', 'leaves', 'dry', 'red', 'chillies', 'oil', 'Amla', 'Nellikai', 'Gooseberry', 'Methi', 'Seeds', 'Fenugreek', 'Mustard', 'seeds', 'oil', 'Red', 'Chilli', 'powder', 'Asafoetida', 'hing', 'Salt', 'rice', 'water', 'ghee', 'cardamom', 'long', 'star', 'anise', 'cinnamon', 'whole', 'black', 'pepper', 'bay', 'leaf', 'onion', 'green', 'coriander', 'mint', 'cottage', 'cheese', 'tomatoes', 'cream', 'ginger', 'cloves', 'garlic', 'chili', 'powder', 'cumin', 'garam', 'masala', 'red', 'chilli', 'kasoori', 'methi', 'honey', 'cashews', 'All', 'Purpose', 'Flour', 'Maida', 'Sunflower', 'Oil', 'Ajwain', 'Carom', 'seeds', 'Green', 'peas', 'Matar', 'Paneer', 'Homemade', 'Cottage', 'Cheese', 'crumbled', 'Coriander', 'Powder', 'Dhania', 'Red', 'Chilli', 'Amchur', 'Dry', 'Mango', 'Turmeric', 'powder', 'Haldi', 'Onion', 'chopped', 'tomato', 'puree', 'Ginger', 'Garlic', 'Paste', 'Whole', 'cashews', 'Curd', 'Dahi', 'Yogurt', 'Cloves', 'Laung', 'Mace', 'Javitri', 'Cardamom', 'Elaichi', 'Pods', 'Seeds', 'Cinnamon', 'Stick', 'Dalchini', 'Cumin', 'Jeera', 'Garam', 'masala', 'Kasuri', 'Methi', 'Dried', 'Fenugreek', 'Leaves', 'Sugar', 'Chicken', 'breasts', 'Red', 'Bell', 'pepper', 'Capsicum', 'Onion', 'Lemon', 'juice', 'Dried', 'Thyme', 'Leaves', 'Chilli', 'flakes', 'Black', 'powder', 'Extra', 'Virgin', 'Olive', 'Oil', 'Salt', 'Paneer', 'Homemade', 'Cottage', 'Cheese', 'cut', 'into', 'cubes', 'Green', 'Chilli', 'finely', 'chopped', 'Ginger', 'Raisins', 'Cashew', 'nuts', 'Badam', 'Almond', 'Pistachios', 'Turmeric', 'powder', 'Gram', 'flour', 'Cardamom', 'Powder', 'Sunflower', 'Oil', 'Bay', 'leaf', 'tej', 'patta', 'Pods', 'Seeds', 'Cinnamon', 'Stick', 'Dalchini', 'Cloves', 'Laung', 'Mace', 'Javitri', 'Star', 'anise', 'tomato', 'puree', 'cloves', 'Garlic', 'Onion', 'roughly', 'Coriander', 'Dhania', 'Red', 'soaked', 'and', 'grind', 'to', 'a', 'smooth', 'paste', 'Curd', 'Dahi', 'Yogurt', 'Kasuri', 'Methi', 'Dried', 'Fenugreek', 'Leaves', 'Honey', 'Fresh', 'cream', 'Apricots', 'finely', 'chopped', 'Whole', 'Wheat', 'Flour', 'Brown', 'Sugar', 'Demerara', 'Butter', 'unsalted', 'cold', 'and', 'cut', 'in', 'a', 'small', 'chunks', 'Cinnamon', 'Powder', 'Dalchini', 'Pecans', 'coarsely', 'at', 'room', 'temperature', 'Cocoa', 'Dark', 'chocolate', 'Coffee', 'Decoction', 'Eggs', 'Vanilla', 'Extract', 'Sour', 'cream', 'Baking', 'powder', 'soda', 'cabbage', 'leaves', 'tomatoes', 'tamarind', 'white', 'urad', 'dal', 'red', 'chillies', 'cloves', 'garlic', 'big', 'oil', 'Rye', 'Cumin', 'seeds', 'Curry', 'Colocasia', 'root', 'Arbi', 'Green', 'Chilli', 'Cumin', 'powder', 'Jeera', 'Coriander', 'Powder', 'Dhania', 'Red', 'Turmeric', 'Haldi', 'Garam', 'masala', 'Amchur', 'Dry', 'Mango', 'Salt', 'Leaves', 'Whole', 'Wheat', 'Flour', 'Sunflower', 'Oil', 'a', 'Barley', 'seeds', 'Broccoli', 'florets', 'Green', 'peas', 'Matar', 'Sweet', 'corn', 'beans', 'French', 'Beans', 'Carrots', 'Gajjar', 'Rocket', 'leaves', 'Tomatoes', 'chopped', 'Onion', 'Garlic', 'minced', 'Extra', 'Virgin', 'Olive', 'Oil', 'Basil', 'Fresh', 'Thyme', 'Red', 'Chilli', 'flakes', 'Corn', 'flour', 'Water', 'Sour', 'cream', 'Chicken', 'thighs', 'Onion', 'diced', 'Garlic', 'chopped', 'Ginger', 'grated', 'Tomatoes', 'desseded', 'Coriander', '(Dhania)', 'Leaves', 'Green', 'Chillies', 'slit', 'Kasuri', 'Methi', '(Dried', 'Fenugreek', 'Leaves)', 'Turmeric', 'powder', '(Haldi)', 'Kashmiri', 'Red', 'Chilli', 'Powder', 'Garam', 'masala', 'Sunflower', 'Oil', 'Salt', 'Arhar', 'dal', 'Water', 'Turmeric', 'powder', 'Green', 'Chillies', 'Tamarind', 'Lemon', 'juice', 'Ghee', 'Mustard', 'seeds', 'Asafoetida', 'hing', 'Curry', 'leaves', 'Handful', 'Coriander', 'Dhania', 'Leaves', 'Mango', 'Ripe', 'cut', 'into', 'pieces', 'Water', 'Sugar', 'optional', 'Elephant', 'yam', 'Suran', 'Senai', 'Ratalu', 'Fresh', 'coconut', 'grated', 'Mustard', 'seeds', 'Curry', 'leaves', 'few', 'Asafoetida', '(hing)', 'Red', 'Chilli', 'powder', 'Coriander', 'Powder', '(Dhania)', 'Turmeric', '(Haldi)', 'Sambar', 'Salt', 'Sunflower', 'Oil', 'for', 'frying']\n",
      "Units: ['grams', 'sprig', 'tablespoon', 'teaspoon', 'grams', 'cup', 'teaspoon', 'cup', 'cloves', 'teaspoon', 'grams', 'teaspoons', 'cups', 'tablespoons', 'cup', 'tablespoon', 'teaspoon', 'grams', 'teaspoon', 'teaspoons', 'tablespoon', 'cup', 'inch', 'cups', 'tablespoon', 'tablespoons', 'teaspoon', 'teaspoons', 'grams', 'grams', 'tablespoons', 'cups', 'teaspoon', 'cup', 'teaspoons', 'cup', 'liter', 'tablespoon', 'teaspoon', 'grams', 'cups', 'tablespoon', 'tablespoons', 'teaspoon', 'cup', 'sprig', 'inch', 'cut', 'into', 'cm', 'teaspoons', 'teaspoon', 'finely', 'cup', 'and', 'tablespoon', 'sprig', 'cup', 'inch', 'cloves', 'cloves', 'dry', 'red', 'tablespoon', 'tablespoons', 'tsp', 'tablespoons', 'grams', 'teaspoon', 'cup', 'cloves', 'tablespoon', 'Stalks', 'cup', 'tablespoon', 'cloves', 'teaspoon', 'tablespoons', 'Spoon', 'inch', 'tablespoon', 'teaspoons', 'teaspoon', 'tablespoons', 'cups', 'cup', 'inch', 'cloves', 'cups', 'cup', 'tablespoon', 'tablespoons', 'ml', 'grams', 'tablespoons', 'cup', 'teaspoon', 'sprig', 'cups', 'tablespoons', 'tablespoon', 'teaspoon', 'cup', 'inch', 'cup', 'teaspoon', 'sprig', 'grams', 'teaspoon', 'Teaspoon', 'cup', 'tablespoon', 'inches', 'Teaspoon', 'sprig', 'tablespoon', 'teaspoon', 'cup', 'sprig', 'cups', 'grams', 'ml', 'cup', 'tablespoon', 'tablespoons', 'cup', 'inch', 'cloves', 'teaspoon', 'handful', 'cups', 'tablespoon', 'teaspoons', 'cup', 'teaspoon', 'inch', 'finely', 'cloves', 'cup', 'teaspoon', 'tablespoon', 'tablespoon', 'cups', 'teaspoon', 'cup', 'cups', 'cup', 'cloves', 'tablespoon', 'tablespoons', 'cup', 'teaspoon', 'tablespoons', 'tablespoon', 'sprig', 'cup', 'teaspoon', 'inch', 'cloves', 'tablespoons', 'teaspoon', 'grams', 'pinch', 'grams', 'cloves', 'inch', 'teaspoon', 'tablespoons', 'tablespoon', 'cup', 'teaspoon', 'tablespoon', 'cup', 'teaspoon', 'sprig', 'inch', 'cloves', 'grams', 'teaspoon', 'cup', 'Tablespoons', 'grams', 'tablespoons', 'teaspoon', 'cups', 'tablespoon', 'cups', 'cup', 'inch', 'tablespoons', 'cloves', 'teaspoon', 'cup', 'tablespoon', 'teaspoon', 'cups', 'grams', 'teaspoons', 'sprig', 'tablespoons', 'teaspoon', 'pinch', 'grams', 'inch', 'cloves', 'teaspoon', 'tablespoon', 'cups', 'cups', 'cloves', 'teaspoon', 'cup', 'scoops', 'tablespoon', 'cup', 'tablespoons', 'tablespoon', 'cup', 'tablespoons', 'cups', 'cup', 'cup', 'tsp', 'teaspoon', 'cup', 'teaspoon', 'teaspoons', 'sprig', 'inch', 'small', 'bud', 'green', 'cup', 'tsp', 'sprig', 'grams', 'cloves', 'small', 'Teaspoon', 'tsp', 'tbsp', 'cup', 'cloves', 'teaspoon', 'teaspoon', 'cup', 'inch', 'tsp', 'cups', 'tablespoon', 'grams', 'inch', 'cloves', 'teaspoon', 'cups', 'cup', 'teaspoon', 'sprig', 'kg', 'teaspoon', 'tablespoon', 'cup', 'cups', 'cup', 'tablespoon', 'teaspoon', 'grams', 'pinch', 'teaspoon', 'cup', 'teaspoon', 'cups', 'grams', 'teaspoon', 'clove', 'tablespoon', 'cup', 'cups', 'tablespoons', 'teaspoon', 'cup', 'tablespoon', 'teaspoon', 'sprig', 'cup', 'pinch', 'teaspoon', 'sprig', 'teaspoon', 'cup', 'sprig', 'cup', 'teaspoon', 'tablespoon', 'grams', 'teaspoons', 'teaspoon', 'tablespoons', 'tablespoon', 'cup', 'teaspoon', 'tablespoons', 'cups', 'cup', 'teaspoon', 'cup', 'teaspoon', 'cups', 'inch', 'sprig', 'cups', 'teaspoons', 'tablespoons', 'tablespoon', 'tablespoons', 'teaspoon', 'grams', 'tablespoons', 'teaspoon', 'tablespoon', 'cup', 'teaspoon', 'tablespoon', 'tablespoon', 'teaspoon', 'cups', 'cups', 'teaspoon', 'sprig', 'cups', 'cup', 'teaspoon', 'tablespoons', 'cup', 'teaspoon', 'teaspoons', 'tablespoon', 'tablespoons', 'teaspoon', 'cup', 'cloves', 'teaspoon', 'tablespoon', 'sprig', 'cups', 'cups', 'tablespoons', 'inch', 'teaspoon', 'cup', 'cup', 'grams', 'tablespoons', 'teaspoon', 'drops', 'wedges', 'gram', 'inch', 'sprigs', 'cup', 'teaspoon', 'cup', 'teaspoon', 'tablespoon', 'sprig', 'grams', 'inch', 'tsp', 'tbsp', 'cup', 'tablespoons', 'teaspoon', 'cup', 'teaspoon', 'tablespoon', 'teaspoon', 'cup', 'cloves', 'teaspoon', 'teaspoons', 'whole', 'grams', 'teaspoon', 'tablespoons', 'tablespoon', 'teaspoons', 'tablespoons', 'inch', 'cloves', 'tablespoon', 'cups', 'cup', 'tablespoons', 'liter', 'cups', 'cup', 'tablespoon', 'teaspoon', 'Tablespoon', 'teaspoon', 'cups', 'teaspoons', 'teaspoon', 'grams', 'tablespoons', 'cups', 'teaspoons', 'grams', 'cup', 'gram', 'teaspoon', 'tablespoon', 'cup', 'inch', 'tablespoon', 'cup', 'cups', 'cup', 'teaspoon', 'tablespoon', 'cup', 'tablespoon', 'pinch', 'tablespoons', 'teaspoon', 'sprig', 'cup', 'tablespoon', 'grams', 'tsp', 'inch', 'cup', 'cup', 'teaspoon', 'tablespoon', 'cup', 'tablespoons', 'tablespoon', 'teaspoon', 'cup', 'grams', 'teaspoon', 'cup', 'tablespoon', 'sprig', 'tablespoons', 'teaspoon', 'cup', 'tablespoon', 'teaspoon', 'cup', 'grams', 'teaspoon', 'inch', 'teaspoons', 'tablespoon', 'sprig', 'tsp', 'pinch', 'grams', 'teaspoon', 'cup', 'teaspoons', 'tablespoons', 'sprig', 'cups', 'teaspoon', 'cup', 'teaspoon', 'cup', 'tablespoon', 'tablespoons', 'teaspoon', 'cup', 'tablespoon', 'teaspoon', 'sprig', 'gms', 'inch', 'teaspoon', 'cup', 'grams', 'inch', 'cloves', 'tablespoons', 'teaspoon', 'teaspoons', 'cups', 'tablespoon', 'cup', 'teaspoons', 'teaspoon', 'sprig', 'cup', 'teaspoon', 'tablespoon', 'Pinch', 'cut', 'cup', 'cups', 'cup', 'teaspoon', 'small', 'spoon', 'grams', 'cup', 'cloves', 'inch', 'tbsp', 'Tbsp', 'cups', 'cup', 'teaspoon', 'tablespoons', 'tablespoon', 'cup', 'cloves', 'teaspoon', 'cup', 'teaspoons', 'grams', 'teaspoon', 'grams', 'teaspoon', 'inch', 'cup', 'cup', 'teaspoon', 'cloves', 'inch', 'tablespoon', 'teaspoons', 'sprig', 'tablespoons', 'teaspoon', 'tablespoon', 'tablespoons', 'grams', 'inch', 'cloves', 'tablespoons', 'cups', 'teaspoons', 'teaspoon', 'tablespoon', 'cup', 'grams', 'teaspoon', 'tablespoons', 'cups', 'teaspoon', 'tablespoon', 'cup', 'thick', 'thin', 'raw', 'teaspoon', 'cups', 'tablespoon', 'cup', 'tablespoons', 'cup', 'grams', 'cloves', 'teaspoon', 'sprig', 'teaspoons', 'tablespoon', 'cups', 'cup', 'teaspoon', 'sprig', 'teaspoon', 'tablespoon', 'cups', 'teaspoon', 'cup', 'tablespoons', 'tablespoon', 'teaspoon', 'pinch', 'grams', 'teaspoon', 'tablespoon', 'cup', 'cup', 'tablespoon', 'inch', 'teaspoon', 'liter', 'tablespoons', 'cup', 'tablespoon', 'teaspoon', 'cups', 'tsp', 'tbsp', 'cup', 'teaspoon', 'tablespoon', 'tablespoon', 'teaspoon', 'teaspoons', 'teaspoon', 'pinch', 'cup', 'tablespoon', 'grams', 'teaspoon', 'sprig', 'teaspoons', 'grams', 'cloves', 'tablespoons', 'cup', 'cups', 'teaspoon', 'teaspoons', 'cup', 'sprig', 'tablespoon', 'teaspoon', 'pinch', 'teaspoons', 'cup', 'teaspoon', 'inch', 'sprig', 'cup', 'tablespoons', 'teaspoon', 'cups', 'cup', 'teaspoon', 'cloves', 'sprig', 'cups', 'cup', 'teaspoon', 'inch', 'tablespoons', 'cup', 'teaspoon', 'inch', 'grams', 'teaspoon', 'sprig', 'cup', 'tablespoon', 'teaspoon', 'cup', 'tablespoon', 'teaspoon', 'teaspoon', 'inch', 'cup', 'tablespoon', 'cup', 'tablespoon', 'teaspoon', 'pinch', 'cloves', 'inch', 'sprig', 'grams', 'cloves', 'inch', 'teaspoon', 'cup', 'cup', 'ml', 'teaspoon', 'cups', 'cloves', 'inch', 'tablespoons', 'cup', 'tsp', 'teaspoon', 'cups', 'grams', 'cup', 'teaspoon', 'cup', 'teaspoon', 'diced', 'to', 'cut', 'into', 'inch', 'cup', 'boiled', 'sliced', 'tablespoon', 'teaspoon', 'powdered', 'tablespoons', 'toasted', 'cold', 'pressed', 'whole', 'cup', 'inch', 'cups', 'tablespoon', 'cloves', 'teaspoon', 'grams', 'teaspoon', 'cup', 'tablespoon', 'sprig', 'teaspoon', 'tablespoons', 'inch', 'tsp', 'sprig', 'long', 'inch', 'teaspoon', 'grams', 'cups', 'cup', 'cups', 'teaspoon', 'teaspoons', 'fistful', 'sprig', 'or', 'tablespoon', 'inch', 'teaspoon', 'tablespoon', 'tablespoons', 'cup', 'tablespoons', 'teaspoon', 'cup', 'cloves', 'inch', 'julienned', 'tablespoon', 'teaspoon', 'sprig', 'tablespoon', 'teaspoons', 'cloves', 'teaspoon', 'cups', 'cup', 'tablespoons', 'inch', 'Stalks', 'cups', 'teaspoon', 'cup', 'inch', 'teaspoons', 'cup', 'tablespoon', 'teaspoon', 'Sprig', 'grams', 'teaspoon', 'cup', 'tsp', 'inch', 'sprig', 'grams', 'tablespoons', 'tbsp', 'cup', 'tablespoons', 'teaspoons', 'teaspoon', 'inch', 'teaspoon', 'tablespoon', 'grams', 'inch', 'teaspoon', 'tablespoon', 'teaspoons', 'cup', 'tablespoons', 'cup', 'teaspoon', 'tablespoon', 'grams', 'cup', 'grams', 'tablespoons', 'Spoon', 'teaspoon', 'sprig', 'grams', 'teaspoon', 'tablespoon', 'sprig', 'cup', 'pinch', 'cup', 'cloves', 'tablespoon', 'teaspoon', 'teaspoons', 'grams', 'cloves', 'inch', 'cup', 'teaspoon', 'teaspoons', 'cup', 'cups', 'teaspoon', 'grams', 'tablespoon', 'cups', 'grams', 'cup', 'teaspoon']\n",
      "Quantities: ['500', '1', '2', '1/2', '2-1/2', '500', '1/4', '1', '2', '1/2', '3', '1/2', '1-1/2', '4', '1', '500', '8', '2', '1/4', '2', '1', '1/2', '500', '1/2', '2', '1', '2', '1', '1-1/2', '1/2', '250', 'cloves', '500', '200', '2', '1', '2-1/2', '1-1/2', 'few', '1/2', '50', '1', '2', '3/4', '1/2', '200', '1', '1-1/2', '4-5', '3', '1/2', '2', '5-6', '4', '2-3', '1', '2', '1/4', '4', '1', '1/4', '2', '3', '5', '8', '6', '12', '4', '1', '3', '3', '2', '6', '175', '150', '100', '1', '200', '75', '2', '1/2', '1', '1', '1/2', '4', '2', '1/4', '2', '5', '6', '1', '3', '1/4', '4', '1', '2', '1-1/2', '1/2', '1', '2', '1/4', '325', '14', '2', '30', '500', '1', '3', '6', '2', '4', '1', '1/2', '1/4', '2', '4', '1', '1/4', 'a', '1', '1/2', '1/4', '250', '1', '2', '1/2', '1/4', '1', '2', '3', '1', '1/4', '3', '1/2', '100', 'one', '300', '1/4', '1', '2', '1', '1/2', '3/4', '2', '1/4', '2-3', 'A', '1', '7', '2', '1/2', '6', '3', '2', '4', '1/4', '1/2', '1', '3', '2', '1', '1/4', '3', '2', '1/2', '3', 'to', '1', '2', '1/2', '1/4', '1', '1/4', '1/2', '15', '1', '4', '5', '3', '1/4', '1/2', '18', '200', '500', '1', '2', '1/2', '1/4', '4', '2', '2-3', '1', '1/2', '10', '1', '1/2', '4', '2', '160', '1', '3', '1/2', '1/4', '600', '1', '2', '1-1/2', '4', '1/2', '1-1/4', '1-1/2', '1', '1/2', '2', '3', '1/4', '1/2', '1', '1/8', '2', '2-1/2', '400', '2', '1/2', '1', '500', '2', '1', '4', '6', '1/2', '1/4', '1-1/2', '1', '3', '2', '1/2', '8', '1/2', '2', '1/4', '1', '1', '4', '1/3', '3', '1', '2', '2', '1', '1', '1/2', '2', '3', '1', '1/2', '1/4', '2', '4', '8', '6', '10', '2', '1/2', '1', '1/4', '200', '50', '2', '1', '1/2', '6', '1', '5', '2', '1/2', '1/4', '2', '1', '1/2', '1/2', '1', '2', '2', '1', '200', '1/4', '4', '1/2', '1-1/2', '1', '1/2', '1/3', '2', '1/4', '1', '2', '1/2', '1', '3', '1/2', '2', '1-1/2', '300', '75', '175', '15', '1', '1/2', '1/2', '3', '3/4', '5', '1', '250', '1', '500', '1/4', '1', '2', '1/2', '6', '4', '1/4', '1', '1-1/2', '5', '4', '1', '1/4', '2', '5', '2', '1', '1/4', '1/2', '4', '1', '1/2', '1/3', '1/4', '500', '2', '1', '1/4', '1/2', '18', 'is', '2', '1/4', '1', '1/2', '10', '2', '1', '1/2', '1/4', '1', '1/4', '2', '2', '4', '1', '3', '1-1/12', '1/2', '2', '250', '2', '1', '1/2', '1-1/2', '2-1/2', '1', '1/4', '1/2', '1', '1/4', '2', '4', '3', '1', '1/2', '1/4', '3-4', '1', '1/2', '2-3', '2', '1', '1/4', '2', '1', '2', '6', '1/2', '1', '3', '2', '4', '2', '8', '1/4', '3', '4', '1', '1-1/2', '1/2', '5', '7', '1/4', '500', '2', '1/8', 'few', '1', 'two', '1', '4', '50', '2', '10', '3/4', '1', '1/2', '1/4', '2', '300', '200', '1', '4', '1/2', '3', '2', '3/4', '1', '5', '1/4', '3', '1', '10', '1', '2', '1/2', 'few', '1', '8', '1/2', '1/4', '2', '10', '8', '200', '1', '1/2', '2', '6', '1', '3', '2', '2', '3', '1', '4', '2', '1', '1/2', '1/4', '4', '3/4', '2', '6', '4', '1', '1-1/2', '1/2', '2', '1.5', '1', '1-1/2', '3/4', '1/4', '1', '150', '2', '3', '2', '5', '3', '10', '30', '1/4', '1', '500', '2', '1', '1/2', '1/4', '4', '3', '2', '1', '1/4', '1/2', '2', '1', '3', '5', '1/2', '3/4', '1', '2', '3', 'a', '4', '1', '1/2', '200', '2', '1', '1/2', '3', '1', '3', '1/4', '1/2', '1-1', '2', '1', '1/2', '2', '24', '1', '150', '1/4', '1', 'little', 'as', 'per', 'taste', '1/2', '4', '3', '1', '2', '3', '1/2', 'Few', '1', '1/2', '3', '4', '1', '200', '1/4', '2', '1/2', '4', '2', '1/2', '1', 'a', '500', '1/2', '4', '30', '2', '3', '1', '8', '2', '1/4', '1/2', '1', '1/3', '1/2', '1/2', '3', '1', '1/2', '1', '1/4', '2', '7', '350', '5', '2', '1', '1', '1/4', '200', '1/2', '2', '3', '1-1/2', '1/2', '1/4', '2', '1', '1', '1/2', '10', '4', '5', '1/2', '1', '1/4', 'Little', 'for', '2-1', '1', '1/4', '6', '1/2', '200', '1/2', '1/4', '1/3', '6', '1', '4', '1', '1/2', '3/4', '2', '1/4', '2', '5', '1', '1/2', '4', '1', '2', '250', '1/4', '4', '50', '1', '2', '1/4', '1/2', '1', '1/4', '1/2', '4', '2', '3', '2', '1', '1/2', '8', '2', '1', '4', '100', '2', '1', '3', '2-1/2', '3', '1', '1/2', '2', '1-1/2', '1', '200', '3', '2', '1/4', '1/2', '2', '1/4', '3', '1', '5', '7', '1/2', '2', '1', '3', '1/2', '1/4', '3/4', '2', '1', '1/2', '4', '1', '1/2', '2', '1/4', '1', '20', '10', '1/4', '2', '1-1/2', '1/2', '1', '4', '1/4', '1/3', '10', '1', '2', '2', '1', '1/4', '10', '1', '2', '1/2', '1/4', '250', '15', '5', '2', '1', '4', '1/4', '1', '1/2', '3', '2', '1', '1/2', '2', '4', '3', '1/8', '1', '2', '1/2', '1', '1/4', '1/2', '1', '1/4', '2', '1/2', '4', '2', '1', '1/4', '1/2', 'few', '250', '1', '2', '1/2', '400', '200', '4', '3', '1/4', '2', '1', '1/2', '1/4', '4', '1', '1/4', '1/2', '3', '1', '1/2', '4', '1', '2', '1/2', '1/4', '1-1/2', '1/2', '1', '2', '4', '1-1/2', '1/2', '1', '1/4', '2', '3', '4', '1', '1/2', '2', '1/4', '300', '1', '2', '4', '1/2', '2', '1/4', '1', 'to', '1', '1/2', '3/4', '8', '15', '3', '4', '1/2', '1', '2', '1', '1/4', '2', 'a', 'for', '4', '1/2', '5', '2', '200', '1', '4', '1/4', '1', '120', '10', '1-1/2', '2', '1/2', '1/4', '1', '2', '2', '80', '3', '12', '1', '2', '1', '1/4', '2', '10', '12', '1', '1/2', '6', '3-4', '3', '6-8', 'few', '1-1/2', '15', '1/2', '4', '1', '2', '3', '1/4', '500', '1', '1/2', '1', '1/2', '2', '4', '5', '1/3', '1', '4', '2', '1/2', '300', '1', '2-1/2', '2', '3', '4', '3', '6', '1/2', '1', '15', '2', '1/2', '1/4', '2', '1', '1', '3', '2', '4', '1', '2', '4', '1/2', '10', '2', '1/4', '1', '1/2', '1', '1/2', '2', '100', '1', '1/2', '1', '2', '1/2', '1/4', '200', '3', '1', '2', '1/2', '12', '1', '2', '200', '1', '2', '6', '1/4', '2-3', '3', '1/2', '10', '1', '3/4', '1/2', '4', '1-3/4', '125', '1/4', '225', '2', '1-1/2', '1', '3/4', '18', '2', '4', '3', '1/2', '500', '1', '1/2', '2', '1', '1/4', '1/2', '2', '4', '500', '1', '10', '6', '1/3', '3', '2', '1/4', '1', '5', '30', '1/2', '1/4', '3', '1/4', '250', '1/2', '1/4', '1', '2']\n",
      "\n",
      "Top 10 ingredients in validation dataset:\n",
      "powder: 125\n",
      "Salt: 106\n",
      "Green: 87\n",
      "Oil: 85\n",
      "Red: 84\n",
      "seeds: 82\n",
      "chopped: 80\n",
      "Chilli: 78\n",
      "Leaves: 72\n",
      "Coriander: 70\n",
      "\n",
      "Top 10 units in validation dataset:\n",
      "teaspoon: 157\n",
      "cup: 139\n",
      "tablespoon: 94\n",
      "tablespoons: 63\n",
      "cups: 57\n",
      "grams: 56\n",
      "inch: 50\n",
      "sprig: 42\n",
      "cloves: 37\n",
      "teaspoons: 35\n"
     ]
    }
   ],
   "source": [
    "# define a extract_and_validate_tokens with parameters (df, dataset_name)\n",
    "# call the flatten_list and apply it on input_tokens and pos_tokens\n",
    "# validate their length and display first 10 records having input and pos tokens\n",
    "\n",
    "from itertools import chain\n",
    "\n",
    "def flatten_list(nested_list):\n",
    "    \"\"\"Flatten a list of lists.\"\"\"\n",
    "    return list(chain.from_iterable(nested_list))\n",
    "\n",
    "def extract_and_validate_tokens(df, dataset_name):\n",
    "    print(f\"Processing dataset: {dataset_name}\")\n",
    "    \n",
    "    # Flatten input_tokens and pos_tokens\n",
    "    flat_input_tokens = flatten_list(df['input_tokens'])\n",
    "    flat_pos_tokens = flatten_list(df['pos_tokens'])\n",
    "    \n",
    "    # Validate lengths\n",
    "    if len(flat_input_tokens) != len(flat_pos_tokens):\n",
    "        print(f\"⚠️ Length mismatch: input_tokens = {len(flat_input_tokens)}, pos_tokens = {len(flat_pos_tokens)}\")\n",
    "    else:\n",
    "        print(f\"✅ Token lengths match: {len(flat_input_tokens)} tokens\")\n",
    "    \n",
    "    # Display first 10 token pairs\n",
    "    print(\"\\nFirst 10 token pairs:\")\n",
    "    for i in range(min(10, len(flat_input_tokens))):\n",
    "        print(f\"{flat_input_tokens[i]} --> {flat_pos_tokens[i]}\")\n",
    "\n",
    "# extract the tokens and its pos tags\n",
    "extract_and_validate_tokens(val_subset,dataset_name)\n",
    "\n",
    "# define a categorize_tokens function and provide the tokens and pos_tags as parameters and create ingredient, unit and quantity list and return it\n",
    "# validate the list that it comprised of these labels, if not return empty arrays\n",
    "\n",
    "def categorize_tokens(tokens, pos_tags):\n",
    "    \"\"\"\n",
    "    Categorize tokens into ingredients, units, and quantities based on their POS tags.\n",
    "    \n",
    "    Parameters:\n",
    "        tokens (list): List of tokens (words).\n",
    "        pos_tags (list): Corresponding list of POS tags.\n",
    "    \n",
    "    Returns:\n",
    "        tuple: (ingredients, units, quantities) if valid, else ([], [], [])\n",
    "    \"\"\"\n",
    "    # Define expected POS tags\n",
    "    valid_labels = {'ingredient', 'unit', 'quantity'}\n",
    "    \n",
    "    # Validate that all tags are within the expected set\n",
    "    if not all(tag in valid_labels for tag in pos_tags):\n",
    "        print(\"Invalid POS tags found. Returning empty lists.\")\n",
    "        return [], [], []\n",
    "    \n",
    "    # Initialize categorized lists\n",
    "    ingredients = [token for token, tag in zip(tokens, pos_tags) if tag == 'ingredient']\n",
    "    units = [token for token, tag in zip(tokens, pos_tags) if tag == 'unit']\n",
    "    quantities = [token for token, tag in zip(tokens, pos_tags) if tag == 'quantity']\n",
    "    \n",
    "    return ingredients, units, quantities\n",
    "\n",
    "#  call the function to categorise the labels into respective list\n",
    "# Flatten the columns\n",
    "#flat_input_tokens = flatten_list(df1['input_tokens'])\n",
    "#flat_pos_tokens = flatten_list(df1['pos_tokens'])\n",
    "\n",
    "# Flatten input_tokens\n",
    "flattened_input_tokens_vf = list(chain.from_iterable(val_df['input_tokens']))\n",
    "\n",
    "# Flatten pos_tokens\n",
    "flattened_pos_tokens_vf = list(chain.from_iterable(val_df['pos_tokens']))\n",
    "print(f\"Total input tokens: {len(flattened_input_tokens_vf)}\")\n",
    "print(f\"Total POS tokens: {len(flattened_pos_tokens_vf)}\")\n",
    "nested_list_vf = flattened_input_tokens_vf + flattened_pos_tokens_vf\n",
    "# Apply the function\n",
    "ingredients_vf, units_vf, quantities_vf = categorize_tokens(flattened_input_tokens, flattened_pos_tokens)\n",
    "\n",
    "# Display the results\n",
    "print(\"Ingredients:\", ingredients_vf)\n",
    "print(\"Units:\", units_vf)\n",
    "print(\"Quantities:\", quantities_vf)\n",
    "# define a function get_top_frequent_items to get the top frequent items by using item_list, pos label and dataset_name(Training/Validation) and return top items\n",
    "\n",
    "def get_top_frequent_items(item_list, pos_label, dataset_name, top_n=10):\n",
    "    counter = Counter(item_list)\n",
    "    top_items = counter.most_common(top_n)\n",
    "    print(f\"\\nTop {top_n} {pos_label.lower()}s in {dataset_name} dataset:\")\n",
    "    for item, freq in top_items:\n",
    "        print(f\"{item}: {freq}\")\n",
    "    return top_items\n",
    "\n",
    "# get the top ingredients which are frequently seen in the recipe\n",
    "\n",
    "top_ingredients_vf = get_top_frequent_items(ingredients_vf, pos_label=\"ingredient\", dataset_name=\"validation\")\n",
    "\n",
    "# get the top units which are frequently seen in the recipe\n",
    "top_units_vf = get_top_frequent_items(units_vf, pos_label=\"unit\", dataset_name=\"validation\")\n"
   ]
  },
  {
   "cell_type": "code",
   "execution_count": 42,
   "metadata": {
    "id": "ikwox7ccMaU8"
   },
   "outputs": [
    {
     "data": {
      "image/png": "[encoded data removed]",
      "text/plain": [
       "<Figure size 1000x600 with 1 Axes>"
      ]
     },
     "metadata": {},
     "output_type": "display_data"
    },
    {
     "name": "stdout",
     "output_type": "stream",
     "text": [
      "[('powder', 125), ('Salt', 106), ('Green', 87), ('Oil', 85), ('Red', 84), ('seeds', 82), ('chopped', 80), ('Chilli', 78), ('Leaves', 72), ('Coriander', 70)]\n",
      "[('powder', 125), ('Salt', 106), ('Green', 87), ('Oil', 85), ('Red', 84), ('seeds', 82), ('chopped', 80), ('Chilli', 78), ('Leaves', 72), ('Coriander', 70)]\n"
     ]
    }
   ],
   "source": [
    "# plot the top frequent ingredients in validation data\n",
    "def plot_top_items(top_items, label, dataset_name):\n",
    "    \"\"\"\n",
    "    Plots a bar chart of the top items.\n",
    "\n",
    "    Parameters:\n",
    "    - top_items: List of tuples (item_name, count)\n",
    "    - label: String indicating the type of item (e.g., 'ingredient' or 'unit')\n",
    "    - dataset_name: String indicating the name of the dataset\n",
    "    \"\"\"\n",
    "    # Unpack items and counts\n",
    "    items, counts = zip(*top_items)\n",
    "\n",
    "    # Create the bar plot\n",
    "    plt.figure(figsize=(10, 6))\n",
    "    plt.bar(items, counts, color='skyblue')\n",
    "    #plt.xlabel(f'{label.capitalize()}')\n",
    "    plt.ylabel('Count')\n",
    "    #plt.title(f'Top {label.capitalize()}s in {dataset_name}')\n",
    "    plt.xticks(rotation=45, ha='right')\n",
    "    plt.tight_layout()\n",
    "    plt.show()\n",
    "\n",
    "plot_top_items(top_ingredients_vf,top_units_vf, 'validation')\n",
    "print(top_ingredients)\n",
    "print(top_ingredients_vf)"
   ]
  },
  {
   "cell_type": "code",
   "execution_count": 43,
   "metadata": {
    "id": "9QjVeMWpPwKO"
   },
   "outputs": [
    {
     "data": {
      "image/png": "[encoded data removed]",
      "text/plain": [
       "<Figure size 1000x600 with 1 Axes>"
      ]
     },
     "metadata": {},
     "output_type": "display_data"
    }
   ],
   "source": [
    "# plot the top frequent units in training data\n",
    "def plot_top_items(top_items, label, dataset_name):\n",
    "    \"\"\"\n",
    "    Plots a bar chart of the top items.\n",
    "\n",
    "    Parameters:\n",
    "    - top_items: List of tuples (item_name, count)\n",
    "    - label: String indicating the type of item (e.g., 'ingredient' or 'unit')\n",
    "    - dataset_name: String indicating the name of the dataset\n",
    "    \"\"\"\n",
    "    # Unpack items and counts\n",
    "    items, counts = zip(*top_items)\n",
    "\n",
    "    # Create the bar plot\n",
    "    plt.figure(figsize=(10, 6))\n",
    "    plt.bar(items, counts, color='skyblue')\n",
    "    #plt.xlabel(f'{label.capitalize()}')\n",
    "    plt.ylabel('Count')\n",
    "    #plt.title(f'Top {label.capitalize()}s in {dataset_name}')\n",
    "    plt.xticks(rotation=45, ha='right')\n",
    "    plt.tight_layout()\n",
    "    plt.show()\n",
    "\n",
    "plot_top_items(top_ingredients,top_units, 'Training')\n"
   ]
  },
  {
   "cell_type": "markdown",
   "metadata": {
    "id": "IvE92ait9GIS"
   },
   "source": [
    "## **6** Feature Extraction For CRF Model <font color = red>[30 marks]</font> <br>"
   ]
  },
  {
   "cell_type": "markdown",
   "metadata": {
    "id": "Gc5Q_Lj09GIT"
   },
   "source": [
    "### **6.1** *Define a feature functions to take each token from recipe* <font color = red>[10 marks]</font>\n",
    "\n",
    "Define a function as ***word2features*** which takes a particular recipe and its index to work with all recipe input tokens and include custom key-value pairs.\n",
    "\n",
    "Also, use feature key-value pairs to mark the beginning and end of the sequence and to also check whether the word belongs to unit, quantity etc. Use keyword sets for unit and quantity for differentiating feature functions well. Also make use of relevant regex patterns on fractions, whole numbers etc."
   ]
  },
  {
   "cell_type": "markdown",
   "metadata": {
    "id": "pyxmQ0PrhBra"
   },
   "source": [
    "##### **6.1.1** **Define keywords for unit and quantity and create a quantity pattern to work on fractions, numbers and decimals** <font color = red>[3 marks]</font> <br>\n",
    "\n",
    "Create sets for **unit_keywords** and ***quantity_keywords*** and include all the words relevant for measuring the ingredients such as cup, tbsp, tsp etc. and in quantity keywords, include words such as half, quarter etc.\n",
    "\n",
    "Also suggested to use regex pattern as ***quantity_pattern*** to work with quantity in any format such as fractions, numbers and decimals.\n",
    "\n",
    "Then, load the spacy model and process the entire sentence"
   ]
  },
  {
   "cell_type": "code",
   "execution_count": 77,
   "metadata": {
    "id": "GhFUPxeth0KI"
   },
   "outputs": [],
   "source": [
    "# define unit and quantity keywords along with quantity pattern\n",
    "\n",
    "\n",
    "# Define keyword sets\n",
    "unit_keywords = {\n",
    "    'cup', 'cups', 'tablespoon', 'tablespoons', 'tbsp',\n",
    "    'teaspoon', 'teaspoons', 'tsp', 'gram', 'grams', 'g',\n",
    "    'kilogram', 'kilograms', 'kg', 'ml', 'milliliter', 'milliliters',\n",
    "    'liter', 'liters', 'l', 'ounce', 'ounces', 'oz',\n",
    "    'pound', 'pounds', 'lb', 'lbs', 'pinch', 'dash',\n",
    "    'clove', 'cloves', 'slice', 'slices', 'can', 'cans',\n",
    "    'package', 'packages', 'stick', 'sticks', 'bottle', 'bottles'\n",
    "}\n",
    "\n",
    "quantity_keywords = {\n",
    "    'half', 'quarter', 'third', 'one', 'two', 'three', 'four', 'five',\n",
    "    'six', 'seven', 'eight', 'nine', 'ten', 'dozen', 'a', 'an'\n",
    "}\n",
    "\n",
    "quantity_pattern = re.compile(r'^\\d+(/\\d+)?(-\\d+(/\\d+)?)?$|^\\d*\\.\\d+$')\n",
    "\n"
   ]
  },
  {
   "cell_type": "markdown",
   "metadata": {},
   "source": [
    "import pandas as pd\n",
    "import re\n",
    "\n",
    "# Sample DataFrame\n",
    "data = [\n",
    "    {'input': '1 cup sugar', 'pos': 'CD NN NN'},\n",
    "    {'input': '2 tablespoons olive oil', 'pos': 'CD NNS JJ NN'},\n",
    "    {'input': '1/2 teaspoon salt', 'pos': 'CD NN NN'},\n",
    "    {'input': '3 cups flour', 'pos': 'CD NNS NN'},\n",
    "    {'input': 'half cup milk', 'pos': 'JJ NN NN'}\n",
    "]\n",
    "df = pd.DataFrame(data)\n",
    "\n",
    "\n",
    "\n",
    "# Function to extract keywords\n",
    "def extract_keywords(row):\n",
    "    tokens = row['input'].split()\n",
    "    pos_tags = row['pos'].split()\n",
    "    units = []\n",
    "    quantities = []\n",
    "    for token, tag in zip(tokens, pos_tags):\n",
    "        token_lower = token.lower()\n",
    "        if token_lower in unit_keywords:\n",
    "            units.append(token)\n",
    "        elif token_lower in quantity_keywords or quantity_pattern.match(token_lower):\n",
    "            quantities.append(token)\n",
    "    return pd.Series({'units': units, 'quantities': quantities})\n",
    "\n",
    "# Apply the function\n",
    "df[['units', 'quantities']] = df.apply(extract_keywords, axis=1)\n",
    "\n",
    "# Display result\n",
    "print(df)\n",
    "\n"
   ]
  },
  {
   "cell_type": "markdown",
   "metadata": {},
   "source": []
  },
  {
   "cell_type": "markdown",
   "metadata": {},
   "source": [
    "# Create DataFrame\n",
    "df_keywords = pd.DataFrame(dict([(k, pd.Series(v)) for k, v in df1]))\n",
    "\n",
    "# Extract keywords into separate lists\n",
    "unit_keywords = df_keywords['unit_keywords'].dropna().tolist()\n",
    "quantity_keywords = df_keywords['quantity_keywords'].dropna().tolist()\n",
    "\n",
    "# Output\n",
    "print(\"Unit Keywords:\", unit_keywords)\n",
    "print(\"Quantity Keywords:\", quantity_keywords)\n",
    "\n",
    "import json\n",
    "import pandas as pd"
   ]
  },
  {
   "cell_type": "markdown",
   "metadata": {},
   "source": [
    "import pandas as pd\n",
    "import re\n",
    "\n",
    "# Sample DataFrame\n",
    "data = [\n",
    "    {'input': '1 cup sugar', 'pos': 'CD NN NN'},\n",
    "    {'input': '2 tablespoons olive oil', 'pos': 'CD NNS JJ NN'},\n",
    "    {'input': '1/2 teaspoon salt', 'pos': 'CD NN NN'},\n",
    "    {'input': '3 cups flour', 'pos': 'CD NNS NN'},\n",
    "    {'input': 'half cup milk', 'pos': 'JJ NN NN'}\n",
    "]\n",
    "df = pd.DataFrame(data)\n",
    "\n",
    "# Define keyword sets\n",
    "unit_keywords = {\n",
    "    'cup', 'cups', 'tablespoon', 'tablespoons', 'tbsp',\n",
    "    'teaspoon', 'teaspoons', 'tsp', 'gram', 'grams', 'g',\n",
    "    'kilogram', 'kilograms', 'kg', 'ml', 'milliliter', 'milliliters',\n",
    "    'liter', 'liters', 'l', 'ounce', 'ounces', 'oz',\n",
    "    'pound', 'pounds', 'lb', 'lbs', 'pinch', 'dash',\n",
    "    'clove', 'cloves', 'slice', 'slices', 'can', 'cans',\n",
    "    'package', 'packages', 'stick', 'sticks', 'bottle', 'bottles'\n",
    "}\n",
    "\n",
    "quantity_keywords = {\n",
    "    'half', 'quarter', 'third', 'one', 'two', 'three', 'four', 'five',\n",
    "    'six', 'seven', 'eight', 'nine', 'ten', 'dozen', 'a', 'an'\n",
    "}\n",
    "\n",
    "quantity_pattern = re.compile(r'^\\d+(/\\d+)?(-\\d+(/\\d+)?)?$|^\\d*\\.\\d+$')\n",
    "\n",
    "# Function to extract keywords\n",
    "def extract_keywords(row):\n",
    "    tokens = row['input'].split()\n",
    "    pos_tags = row['pos'].split()\n",
    "    units = []\n",
    "    quantities = []\n",
    "    for token, tag in zip(tokens, pos_tags):\n",
    "        token_lower = token.lower()\n",
    "        if token_lower in unit_keywords:\n",
    "            units.append(token)\n",
    "        elif token_lower in quantity_keywords or quantity_pattern.match(token_lower):\n",
    "            quantities.append(token)\n",
    "    return pd.Series({'units': units, 'quantities': quantities})\n",
    "\n",
    "# Apply the function\n",
    "df[['units', 'quantities']] = df.apply(extract_keywords, axis=1)\n",
    "\n",
    "# Display result\n",
    "print(df)\n"
   ]
  },
  {
   "cell_type": "code",
   "execution_count": 79,
   "metadata": {
    "id": "9qmM8rw4VtJh"
   },
   "outputs": [],
   "source": [
    "# load spaCy model\n",
    "import spacy\n",
    "\n",
    "# Load the English core model (you can replace 'en_core_web_sm' with another model if needed)\n",
    "nlp = spacy.load(\"en_core_web_sm\")\n",
    "\n",
    "\n"
   ]
  },
  {
   "cell_type": "markdown",
   "metadata": {
    "id": "vrYD5tMNiFc-"
   },
   "source": [
    "##### **6.1.2** **Define feature functions for CRF** <font color = red>[7 marks]</font> <br>\n",
    "\n",
    "Define ***word2features*** function and use the parameters such as sentence and its indexing as ***sent*** and ***i*** for extracting token level features for CRF Training.\n",
    "Build ***features*** dictionary, also mark the beginning and end of the sequence and use the ***unit_keywords***, ***quantity_keywords*** and ***quantity_pattern*** for knowing the presence of quantity or unit in the tokens"
   ]
  },
  {
   "cell_type": "markdown",
   "metadata": {
    "id": "yAjf6j-dQtpr"
   },
   "source": [
    "While building ***features*** dictionary, include\n",
    "- ***Core Features*** - The core features of a token should capture its lexical\n",
    "and grammatical properties. Include attributes like the raw token, its lemma, part-of-speech tag, dependency relation, and shape, as well as indicators for whether it's a stop word, digit, or punctuation. The details of the features are given below:\n",
    "\n",
    "    - `bias` - Constant feature with a fixed value of 1.0 to aid model learning.\n",
    "    - `token` - The lowercase form of the current token.\n",
    "    - `lemma` - The lowercase lemma (base form) of the token.\n",
    "    - `pos_tag` - Part-of-speech (POS) tag of the token.\n",
    "    - `tag` - Detailed POS tag of the token.\n",
    "    - `dep` - Dependency relation of the token in the sentence.\n",
    "    - `shape` - Shape of the token (e.g., \"Xxx\" for \"Milk\").\n",
    "    - `is_stop` - Boolean indicating if the token is a stopword.\n",
    "    - `is_digit` - Boolean indicating if the token consists of only digits.\n",
    "    - `has_digit` - Boolean indicating if the token contains at least one digit.\n",
    "    - `has_alpha` - Boolean indicating if the token contains at least one alphabetic character.\n",
    "    - `hyphenated` - Boolean indicating if the token contains a hyphen (-).\n",
    "    - `slash_present` - Boolean indicating if the token contains a slash (/).\n",
    "    - `is_title` - Boolean indicating if the token starts with an uppercase letter.\n",
    "    - `is_upper` - Boolean indicating if the token is fully uppercase.\n",
    "    - `is_punct` - Boolean indicating if the token is a punctuation mark.\n",
    "\n",
    "- ***Improved Quantity and Unit Detection*** - Use key-value pairs to mark the presence of quantities and units in the features dictionary. Utilise the unit_keywords, quantity_keywords, and quantity_pattern to identify and flag these elements. The details of the features are given below:\n",
    "\n",
    "    - `is_quantity` - Boolean indicating if the token matches a quantity pattern or keyword.\n",
    "    - `is_unit` - Boolean indicating if the token is a known measurement unit.\n",
    "    - `is_numeric` - Boolean indicating if the token matches a numeric pattern.\n",
    "    - `is_fraction` - Boolean indicating if the token represents a fraction (e.g., 1/2).\n",
    "    - `is_decimal` - Boolean indicating if the token represents a decimal number (e.g., 3.14).\n",
    "    - `preceding_word` - The previous token in the sentence, if available.\n",
    "    - `following_word` - The next token in the sentence, if available.\n",
    "\n",
    "- ***Contextual Features*** - Incorporate contextual information by adding features for the preceding and following tokens. Include indicators like BOS and EOS to mark the beginning and end of the sequence, and utilise unit_keywords, quantity_keywords, and quantity_pattern to identify the types of neighboring tokens. The features are given below:\n",
    "\n",
    "    - `prev_token` - The lowercase form of the previous token.\n",
    "    - `prev_is_quantity` - Boolean indicating if the previous token is a quantity.\n",
    "    - `prev_is_digit` - Boolean indicating if the previous token is a digit.\n",
    "    - `BOS` - Boolean indicating if the token is at the beginning of the sentence.\n",
    "    - `next_token` - The lowercase form of the next token.\n",
    "    - `next_is_unit` - Boolean indicating if the next token is a unit.\n",
    "    - `next_is_ingredient` - Boolean indicating if the next token is not a unit or quantity.\n",
    "    - `EOS` - Boolean indicating if the token is at the end of the sentence.\n",
    "\n"
   ]
  },
  {
   "cell_type": "markdown",
   "metadata": {},
   "source": [
    "import re\n",
    "\n",
    "# Predefined sets and regex\n",
    "unit_keywords = {\n",
    "    \"cup\", \"cups\", \"tablespoon\", \"tablespoons\", \"tbsp\", \"teaspoon\", \"teaspoons\", \"tsp\",\n",
    "    \"gram\", \"grams\", \"kg\", \"kilogram\", \"kilograms\", \"ml\", \"milliliter\", \"milliliters\",\n",
    "    \"liter\", \"liters\", \"pinch\", \"dash\", \"clove\", \"cloves\", \"sprig\", \"sprigs\", \"inch\", \"inches\",\n",
    "    \"slice\", \"slices\", \"piece\", \"pieces\", \"drop\", \"drops\", \"stick\", \"sticks\"\n",
    "}\n",
    "\n",
    "quantity_keywords = {\n",
    "    \"half\", \"quarter\", \"third\", \"one\", \"two\", \"three\", \"four\", \"five\", \"six\", \"seven\", \"eight\",\n",
    "    \"nine\", \"ten\", \"few\", \"several\", \"some\", \"dozen\", \"couple\", \"1/2\", \"1/4\", \"3/4\", \"1/3\", \"2/3\"\n",
    "}\n",
    "\n",
    "quantity_pattern = re.compile(\n",
    "    r\"\\b(\\d+(\\.\\d+)?|\\d+/\\d+|\\d+\\s*[-–to]+\\s*\\d+|half|quarter|third)\\b\",\n",
    "    re.IGNORECASE\n",
    ")\n",
    "\n",
    "def word2features(sent, i):\n",
    "    token = sent[i]\n",
    "    text = token.text.lower()\n",
    "\n",
    "    features = {\n",
    "        # --- Core Features ---\n",
    "        'bias': 1.0,\n",
    "        'token': text,\n",
    "        'lemma': token.lemma_.lower(),\n",
    "        'pos_tag': token.pos_,\n",
    "        'tag': token.tag_,\n",
    "        'dep': token.dep_,\n",
    "        'shape': token.shape_,\n",
    "        'is_stop': token.is_stop,\n",
    "        'is_digit': token.is_digit,\n",
    "        'has_digit': any(char.isdigit() for char in token.text),\n",
    "        'has_alpha': any(char.isalpha() for char in token.text),\n",
    "        'hyphenated': '-' in token.text,\n",
    "        'slash_present': '/' in token.text,\n",
    "        'is_title': token.is_title,\n",
    "        'is_upper': token.is_upper,\n",
    "        'is_punct': token.is_punct,\n",
    "\n",
    "        # --- Improved Quantity and Unit Detection ---\n",
    "        'is_quantity': text in quantity_keywords or bool(quantity_pattern.match(text)),\n",
    "        'is_unit': text in unit_keywords,\n",
    "        'is_numeric': token.like_num,\n",
    "        'is_fraction': bool(re.match(r'^\\d+/\\d+$', text)),\n",
    "        'is_decimal': bool(re.match(r'^\\d+\\.\\d+$', text)),\n",
    "        'preceding_word': sent[i - 1].text.lower() if i > 0 else '',\n",
    "        'following_word': sent[i + 1].text.lower() if i < len(sent) - 1 else '',\n",
    "    }\n",
    "\n",
    "    # --- Contextual Features ---\n",
    "    if i > 0:\n",
    "        prev = sent[i - 1]\n",
    "        prev_text = prev.text.lower()\n",
    "        features.update({\n",
    "            'prev_token': prev_text,\n",
    "            'prev_is_quantity': prev_text in quantity_keywords or bool(quantity_pattern.match(prev_text)),\n",
    "            'prev_is_digit': prev.is_digit,\n",
    "        })\n",
    "    else:\n",
    "        features['BOS'] = True\n",
    "\n",
    "    if i < len(sent) - 1:\n",
    "        nxt = sent[i + 1]\n",
    "        next_text = nxt.text.lower()\n",
    "        features.update({\n",
    "            'next_token': next_text,\n",
    "            'next_is_unit': next_text in unit_keywords,\n",
    "            'next_is_ingredient': next_text not in unit_keywords and next_text not in quantity_keywords and not quantity_pattern.match(next_text),\n",
    "        })\n",
    "    else:\n",
    "        features['EOS'] = True\n",
    "\n",
    "    return features\n"
   ]
  },
  {
   "cell_type": "code",
   "execution_count": 83,
   "metadata": {
    "id": "pRU7efTF9GIW"
   },
   "outputs": [],
   "source": [
    "# define word2features for processing each token in the sentence sent by using index i.\n",
    "# use your own feature functions\n",
    "\n",
    "    # Process the entire sentence with spaCy\n",
    "\n",
    "    # --- Core Features ---\n",
    "\n",
    "    # --- Improved Quantity & Unit Detection ---\n",
    "\n",
    "    # --- Contextual Features ---\n",
    "def word2features(sent, i):\n",
    "    token = sent[i]\n",
    "    text = token.text.lower()\n",
    "\n",
    "    features = {\n",
    "        # --- Core Features ---\n",
    "        'bias': 1.0,\n",
    "        'token': text,\n",
    "        'lemma': token.lemma_.lower(),\n",
    "        'pos_tag': token.pos_,\n",
    "        'tag': token.tag_,\n",
    "        'dep': token.dep_,\n",
    "        'shape': token.shape_,\n",
    "        'is_stop': token.is_stop,\n",
    "        'is_digit': token.is_digit,\n",
    "        'has_digit': any(char.isdigit() for char in token.text),\n",
    "        'has_alpha': any(char.isalpha() for char in token.text),\n",
    "        'hyphenated': '-' in token.text,\n",
    "        'slash_present': '/' in token.text,\n",
    "        'is_title': token.is_title,\n",
    "        'is_upper': token.is_upper,\n",
    "        'is_punct': token.is_punct,\n",
    "\n",
    "        # --- Improved Quantity and Unit Detection ---\n",
    "        'is_quantity': text in quantity_keywords or bool(quantity_pattern.match(text)),\n",
    "        'is_unit': text in unit_keywords,\n",
    "        'is_numeric': token.like_num,\n",
    "        'is_fraction': bool(re.match(r'^\\d+/\\d+$', text)),\n",
    "        'is_decimal': bool(re.match(r'^\\d+\\.\\d+$', text)),\n",
    "        'preceding_word': sent[i - 1].text.lower() if i > 0 else '',\n",
    "        'following_word': sent[i + 1].text.lower() if i < len(sent) - 1 else '',\n",
    "    }\n",
    "\n",
    "    # --- Contextual Features ---\n",
    "    if i > 0:\n",
    "        prev = sent[i - 1]\n",
    "        prev_text = prev.text.lower()\n",
    "        features.update({\n",
    "            'prev_token': prev_text,\n",
    "            'prev_is_quantity': prev_text in quantity_keywords or bool(quantity_pattern.match(prev_text)),\n",
    "            'prev_is_digit': prev.is_digit,\n",
    "        })\n",
    "    else:\n",
    "        features['BOS'] = True\n",
    "\n",
    "    if i < len(sent) - 1:\n",
    "        nxt = sent[i + 1]\n",
    "        next_text = nxt.text.lower()\n",
    "        features.update({\n",
    "            'next_token': next_text,\n",
    "            'next_is_unit': next_text in unit_keywords,\n",
    "            'next_is_ingredient': next_text not in unit_keywords and next_text not in quantity_keywords and not quantity_pattern.match(next_text),\n",
    "        })\n",
    "    else:\n",
    "        features['EOS'] = True\n",
    "\n",
    "    return features"
   ]
  },
  {
   "cell_type": "markdown",
   "metadata": {
    "id": "hJm2nUw0998s"
   },
   "source": [
    "### **6.2** *Preparation of Recipe level features* <font color = red>[2 marks]</font>\n"
   ]
  },
  {
   "cell_type": "markdown",
   "metadata": {
    "id": "KL19ooQejA5z"
   },
   "source": [
    "##### **6.2.1** **Define function to work on all the recipes and call word2features for each recipe** <font color = red>[2 marks]</font> <br>\n",
    "\n",
    "Define ***sent2features*** function and inputs ***sent*** as a parameter and correctly generate feature functions for each token present in the sentence"
   ]
  },
  {
   "cell_type": "code",
   "execution_count": 85,
   "metadata": {
    "id": "NlQEifz-9GIW"
   },
   "outputs": [
    {
     "name": "stdout",
     "output_type": "stream",
     "text": [
      "2: {'bias': 1.0, 'token': '2', 'lemma': '2', 'pos_tag': 'NUM', 'tag': 'CD', 'dep': 'nummod', 'shape': 'd', 'is_stop': False, 'is_digit': True, 'has_digit': True, 'has_alpha': False, 'hyphenated': False, 'slash_present': False, 'is_title': False, 'is_upper': False, 'is_punct': False, 'is_quantity': True, 'is_unit': False, 'is_numeric': True, 'is_fraction': False, 'is_decimal': False, 'preceding_word': '', 'following_word': 'tablespoons', 'BOS': True, 'next_token': 'tablespoons', 'next_is_unit': True, 'next_is_ingredient': False}\n",
      "tablespoons: {'bias': 1.0, 'token': 'tablespoons', 'lemma': 'tablespoon', 'pos_tag': 'NOUN', 'tag': 'NNS', 'dep': 'ROOT', 'shape': 'xxxx', 'is_stop': False, 'is_digit': False, 'has_digit': False, 'has_alpha': True, 'hyphenated': False, 'slash_present': False, 'is_title': False, 'is_upper': False, 'is_punct': False, 'is_quantity': False, 'is_unit': True, 'is_numeric': False, 'is_fraction': False, 'is_decimal': False, 'preceding_word': '2', 'following_word': 'of', 'prev_token': '2', 'prev_is_quantity': True, 'prev_is_digit': True, 'next_token': 'of', 'next_is_unit': False, 'next_is_ingredient': True}\n",
      "of: {'bias': 1.0, 'token': 'of', 'lemma': 'of', 'pos_tag': 'ADP', 'tag': 'IN', 'dep': 'prep', 'shape': 'xx', 'is_stop': True, 'is_digit': False, 'has_digit': False, 'has_alpha': True, 'hyphenated': False, 'slash_present': False, 'is_title': False, 'is_upper': False, 'is_punct': False, 'is_quantity': False, 'is_unit': False, 'is_numeric': False, 'is_fraction': False, 'is_decimal': False, 'preceding_word': 'tablespoons', 'following_word': 'sugar', 'prev_token': 'tablespoons', 'prev_is_quantity': False, 'prev_is_digit': False, 'next_token': 'sugar', 'next_is_unit': False, 'next_is_ingredient': True}\n",
      "sugar: {'bias': 1.0, 'token': 'sugar', 'lemma': 'sugar', 'pos_tag': 'NOUN', 'tag': 'NN', 'dep': 'pobj', 'shape': 'xxxx', 'is_stop': False, 'is_digit': False, 'has_digit': False, 'has_alpha': True, 'hyphenated': False, 'slash_present': False, 'is_title': False, 'is_upper': False, 'is_punct': False, 'is_quantity': False, 'is_unit': False, 'is_numeric': False, 'is_fraction': False, 'is_decimal': False, 'preceding_word': 'of', 'following_word': 'and', 'prev_token': 'of', 'prev_is_quantity': False, 'prev_is_digit': False, 'next_token': 'and', 'next_is_unit': False, 'next_is_ingredient': True}\n",
      "and: {'bias': 1.0, 'token': 'and', 'lemma': 'and', 'pos_tag': 'CCONJ', 'tag': 'CC', 'dep': 'cc', 'shape': 'xxx', 'is_stop': True, 'is_digit': False, 'has_digit': False, 'has_alpha': True, 'hyphenated': False, 'slash_present': False, 'is_title': False, 'is_upper': False, 'is_punct': False, 'is_quantity': False, 'is_unit': False, 'is_numeric': False, 'is_fraction': False, 'is_decimal': False, 'preceding_word': 'sugar', 'following_word': '1/2', 'prev_token': 'sugar', 'prev_is_quantity': False, 'prev_is_digit': False, 'next_token': '1/2', 'next_is_unit': False, 'next_is_ingredient': False}\n",
      "1/2: {'bias': 1.0, 'token': '1/2', 'lemma': '1/2', 'pos_tag': 'NUM', 'tag': 'CD', 'dep': 'nummod', 'shape': 'd/d', 'is_stop': False, 'is_digit': False, 'has_digit': True, 'has_alpha': False, 'hyphenated': False, 'slash_present': True, 'is_title': False, 'is_upper': False, 'is_punct': False, 'is_quantity': True, 'is_unit': False, 'is_numeric': True, 'is_fraction': True, 'is_decimal': False, 'preceding_word': 'and', 'following_word': 'cup', 'prev_token': 'and', 'prev_is_quantity': False, 'prev_is_digit': False, 'next_token': 'cup', 'next_is_unit': True, 'next_is_ingredient': False}\n",
      "cup: {'bias': 1.0, 'token': 'cup', 'lemma': 'cup', 'pos_tag': 'NOUN', 'tag': 'NN', 'dep': 'conj', 'shape': 'xxx', 'is_stop': False, 'is_digit': False, 'has_digit': False, 'has_alpha': True, 'hyphenated': False, 'slash_present': False, 'is_title': False, 'is_upper': False, 'is_punct': False, 'is_quantity': False, 'is_unit': True, 'is_numeric': False, 'is_fraction': False, 'is_decimal': False, 'preceding_word': '1/2', 'following_word': 'of', 'prev_token': '1/2', 'prev_is_quantity': True, 'prev_is_digit': False, 'next_token': 'of', 'next_is_unit': False, 'next_is_ingredient': True}\n",
      "of: {'bias': 1.0, 'token': 'of', 'lemma': 'of', 'pos_tag': 'ADP', 'tag': 'IN', 'dep': 'prep', 'shape': 'xx', 'is_stop': True, 'is_digit': False, 'has_digit': False, 'has_alpha': True, 'hyphenated': False, 'slash_present': False, 'is_title': False, 'is_upper': False, 'is_punct': False, 'is_quantity': False, 'is_unit': False, 'is_numeric': False, 'is_fraction': False, 'is_decimal': False, 'preceding_word': 'cup', 'following_word': 'milk', 'prev_token': 'cup', 'prev_is_quantity': False, 'prev_is_digit': False, 'next_token': 'milk', 'next_is_unit': False, 'next_is_ingredient': True}\n",
      "milk: {'bias': 1.0, 'token': 'milk', 'lemma': 'milk', 'pos_tag': 'NOUN', 'tag': 'NN', 'dep': 'pobj', 'shape': 'xxxx', 'is_stop': False, 'is_digit': False, 'has_digit': False, 'has_alpha': True, 'hyphenated': False, 'slash_present': False, 'is_title': False, 'is_upper': False, 'is_punct': False, 'is_quantity': False, 'is_unit': False, 'is_numeric': False, 'is_fraction': False, 'is_decimal': False, 'preceding_word': 'of', 'following_word': '', 'prev_token': 'of', 'prev_is_quantity': False, 'prev_is_digit': False, 'EOS': True}\n"
     ]
    }
   ],
   "source": [
    "# define sent2features by working on each token in the sentence and correctly generate dictionaries for features\n",
    "import spacy\n",
    "\n",
    "# Load spaCy model\n",
    "def sent2features(sent):\n",
    "    return [word2features(sent, i) for i in range(len(sent))]\n",
    "\n",
    "\n",
    "# Example sentence\n",
    "sentence = \"2 tablespoons of sugar and 1/2 cup of milk\"\n",
    "doc = nlp(sentence)\n",
    "\n",
    "# Extract features\n",
    "features = sent2features(doc)\n",
    "\n",
    "# View features for each token\n",
    "for token, feats in zip(doc, features):\n",
    "    print(f\"{token.text}: {feats}\")\n"
   ]
  },
  {
   "cell_type": "markdown",
   "metadata": {
    "id": "FOK0t3c6-RiV"
   },
   "source": [
    "### **6.3** *Convert X_train, X_val, y_train and y_val into train and validation feature sets and labels* <font color = red>[6 marks]</font>\n",
    "\n"
   ]
  },
  {
   "cell_type": "markdown",
   "metadata": {
    "id": "7tsd50b_nX0J"
   },
   "source": [
    "##### **6.3.1** **Convert recipe into feature functions by using X_train and X_val** <font color = red>[2 marks]</font> <br>\n",
    "\n",
    "Create ***X_train_features*** and ***X_val_features*** as list to include the feature functions for each recipe present in training and validation sets"
   ]
  },
  {
   "cell_type": "code",
   "execution_count": 86,
   "metadata": {
    "id": "-bVPGPa39GIW"
   },
   "outputs": [
    {
     "ename": "NameError",
     "evalue": "name 'train_sents' is not defined",
     "output_type": "error",
     "traceback": [
      "\u001b[31m---------------------------------------------------------------------------\u001b[39m",
      "\u001b[31mNameError\u001b[39m                                 Traceback (most recent call last)",
      "\u001b[36mCell\u001b[39m\u001b[36m \u001b[39m\u001b[32mIn[86]\u001b[39m\u001b[32m, line 9\u001b[39m\n\u001b[32m      6\u001b[39m     \u001b[38;5;28;01mreturn\u001b[39;00m [word2features(sent, i) \u001b[38;5;28;01mfor\u001b[39;00m i \u001b[38;5;129;01min\u001b[39;00m \u001b[38;5;28mrange\u001b[39m(\u001b[38;5;28mlen\u001b[39m(sent))]\n\u001b[32m      8\u001b[39m \u001b[38;5;66;03m# Example: Create X_train_features and X_val_features\u001b[39;00m\n\u001b[32m----> \u001b[39m\u001b[32m9\u001b[39m X_train_features = [sent2features(sent) \u001b[38;5;28;01mfor\u001b[39;00m sent \u001b[38;5;129;01min\u001b[39;00m \u001b[43mtrain_sents\u001b[49m]\n\u001b[32m     10\u001b[39m X_val_features = [sent2features(sent) \u001b[38;5;28;01mfor\u001b[39;00m sent \u001b[38;5;129;01min\u001b[39;00m val_sents]\n\u001b[32m     12\u001b[39m \u001b[38;5;66;03m# Output the number of feature sets created\u001b[39;00m\n",
      "\u001b[31mNameError\u001b[39m: name 'train_sents' is not defined"
     ]
    }
   ],
   "source": [
    "# Convert input sentences into feature sets by taking training and validation dataset as X_train_features and X_val_features\n",
    "# Assuming train_sents and val_sents are lists of spaCy Doc objects or tokenized sentences\n",
    "\n",
    "# Define sent2features if not already defined\n",
    "def sent2features(sent):\n",
    "    return [word2features(sent, i) for i in range(len(sent))]\n",
    "\n",
    "# Example: Create X_train_features and X_val_features\n",
    "X_train_features = [sent2features(sent) for sent in train_sents]\n",
    "X_val_features = [sent2features(sent) for sent in val_sents]\n",
    "\n",
    "# Output the number of feature sets created\n",
    "print(f\"Number of training feature sets: {len(X_train_features)}\")\n",
    "print(f\"Number of validation feature sets: {len(X_val_features)}\")\n",
    "\n"
   ]
  },
  {
   "cell_type": "markdown",
   "metadata": {
    "id": "jcwmwXn-n6cs"
   },
   "source": [
    "##### **6.3.2** **Convert lables of y_train and y_val into list** <font color = red>[2 marks]</font> <br>\n",
    "\n",
    "Create ***y_train_labels*** and ***y_val_labels*** by using the list of y_train and y_val"
   ]
  },
  {
   "cell_type": "code",
   "execution_count": 87,
   "metadata": {
    "id": "TiGgP3O6nfPg"
   },
   "outputs": [
    {
     "ename": "KeyError",
     "evalue": "'ingredients'",
     "output_type": "error",
     "traceback": [
      "\u001b[31m---------------------------------------------------------------------------\u001b[39m",
      "\u001b[31mKeyError\u001b[39m                                  Traceback (most recent call last)",
      "\u001b[36mCell\u001b[39m\u001b[36m \u001b[39m\u001b[32mIn[87]\u001b[39m\u001b[32m, line 50\u001b[39m\n\u001b[32m     47\u001b[39m labels = []\n\u001b[32m     49\u001b[39m \u001b[38;5;28;01mfor\u001b[39;00m entry \u001b[38;5;129;01min\u001b[39;00m data:\n\u001b[32m---> \u001b[39m\u001b[32m50\u001b[39m     doc = nlp(\u001b[43mentry\u001b[49m\u001b[43m[\u001b[49m\u001b[33;43m\"\u001b[39;49m\u001b[33;43mingredients\u001b[39;49m\u001b[33;43m\"\u001b[39;49m\u001b[43m]\u001b[49m)\n\u001b[32m     51\u001b[39m     sentences.append(doc)\n\u001b[32m     52\u001b[39m     labels.append([label_token(token) \u001b[38;5;28;01mfor\u001b[39;00m token \u001b[38;5;129;01min\u001b[39;00m doc])\n",
      "\u001b[31mKeyError\u001b[39m: 'ingredients'"
     ]
    }
   ],
   "source": [
    "# Convert labels into list as y_train_labels and y_val_labels\n",
    "import json\n",
    "import random\n",
    "import re\n",
    "import spacy\n",
    "from sklearn.model_selection import train_test_split\n",
    "\n",
    "# Load spaCy model\n",
    "nlp = spacy.load(\"en_core_web_sm\")\n",
    "\n",
    "# Load the JSON file\n",
    "with open(\"ingredient_and_quantity.json\", \"r\", encoding=\"utf-8\") as f:\n",
    "    data = json.load(f)\n",
    "\n",
    "# Define unit and quantity keywords and pattern\n",
    "unit_keywords = {\n",
    "    \"cup\", \"cups\", \"tablespoon\", \"tablespoons\", \"tbsp\", \"teaspoon\", \"teaspoons\", \"tsp\",\n",
    "    \"gram\", \"grams\", \"kg\", \"kilogram\", \"kilograms\", \"ml\", \"milliliter\", \"milliliters\",\n",
    "    \"liter\", \"liters\", \"pinch\", \"dash\", \"clove\", \"cloves\", \"sprig\", \"sprigs\", \"inch\", \"inches\",\n",
    "    \"slice\", \"slices\", \"piece\", \"pieces\", \"drop\", \"drops\", \"stick\", \"sticks\"\n",
    "}\n",
    "\n",
    "quantity_keywords = {\n",
    "    \"half\", \"quarter\", \"third\", \"one\", \"two\", \"three\", \"four\", \"five\", \"six\", \"seven\", \"eight\",\n",
    "    \"nine\", \"ten\", \"few\", \"several\", \"some\", \"dozen\", \"couple\", \"1/2\", \"1/4\", \"3/4\", \"1/3\", \"2/3\"\n",
    "}\n",
    "\n",
    "quantity_pattern = re.compile(\n",
    "    r\"\\b(\\d+(\\.\\d+)?|\\d+/\\d+|\\d+\\s*[-–to]+\\s*\\d+|half|quarter|third)\\b\",\n",
    "    re.IGNORECASE\n",
    ")\n",
    "\n",
    "# Define BIO labeling function\n",
    "def label_token(token):\n",
    "    text = token.text.lower()\n",
    "    if text in unit_keywords:\n",
    "        return \"B-UNIT\"\n",
    "    elif text in quantity_keywords or quantity_pattern.match(text):\n",
    "        return \"B-QUANTITY\"\n",
    "    elif token.is_alpha and not token.is_stop:\n",
    "        return \"B-INGREDIENT\"\n",
    "    else:\n",
    "        return \"O\"\n",
    "\n",
    "# Prepare sentences and labels\n",
    "sentences = []\n",
    "labels = []\n",
    "\n",
    "for entry in data:\n",
    "    doc = nlp(entry[\"ingredients\"])\n",
    "    sentences.append(doc)\n",
    "    labels.append([label_token(token) for token in doc])\n",
    "\n",
    "# Split into training and validation sets\n",
    "train_sents, val_sents, train_labels, val_labels = train_test_split(sentences, labels, test_size=0.2, random_state=42)\n",
    "\n",
    "# Define feature extraction functions\n",
    "def word2features(sent, i):\n",
    "    token = sent[i]\n",
    "    text = token.text.lower()\n",
    "    features = {\n",
    "        'bias': 1.0,\n",
    "        'token': text,\n",
    "        'lemma': token.lemma_.lower(),\n",
    "        'pos_tag': token.pos_,\n",
    "        'tag': token.tag_,\n",
    "        'dep': token.dep_,\n",
    "        'shape': token.shape_,\n",
    "        'is_stop': token.is_stop,\n",
    "        'is_digit': token.is_digit,\n",
    "        'has_digit': any(char.isdigit() for char in token.text),\n",
    "        'has_alpha': any(char.isalpha() for char in token.text),\n",
    "        'hyphenated': '-' in token.text,\n",
    "        'slash_present': '/' in token.text,\n",
    "        'is_title': token.is_title,\n",
    "        'is_upper': token.is_upper,\n",
    "        'is_punct': token.is_punct,\n",
    "        'is_quantity': text in quantity_keywords or bool(quantity_pattern.match(text)),\n",
    "        'is_unit': text in unit_keywords,\n",
    "        'is_numeric': token.like_num,\n",
    "        'is_fraction': bool(re.match(r'^\\d+/\\d+$', text)),\n",
    "        'is_decimal': bool(re.match(r'^\\d+\\.\\d+$', text)),\n",
    "        'preceding_word': sent[i - 1].text.lower() if i > 0 else '',\n",
    "        'following_word': sent[i + 1].text.lower() if i < len(sent) - 1 else '',\n",
    "    }\n",
    "\n",
    "    if i > 0:\n",
    "        prev = sent[i - 1]\n",
    "        prev_text = prev.text.lower()\n",
    "        features.update({\n",
    "            'prev_token': prev_text,\n",
    "            'prev_is_quantity': prev_text in quantity_keywords or bool(quantity_pattern.match(prev_text)),\n",
    "            'prev_is_digit': prev.is_digit,\n",
    "        })\n",
    "    else:\n",
    "        features['BOS'] = True\n",
    "\n",
    "    if i < len(sent) - 1:\n",
    "        nxt = sent[i + 1]\n",
    "        next_text = nxt.text.lower()\n",
    "        features.update({\n",
    "            'next_token': next_text,\n",
    "            'next_is_unit': next_text in unit_keywords,\n",
    "            'next_is_ingredient': next_text not in unit_keywords and next_text not in quantity_keywords and not quantity_pattern.match(next_text),\n",
    "        })\n",
    "    else:\n",
    "        features['EOS'] = True\n",
    "\n",
    "    return features\n",
    "\n",
    "def sent2features(sent):\n",
    "    return [word2features(sent, i) for i in range(len(sent))]\n",
    "\n",
    "# Generate features and labels\n",
    "X_train_features = [sent2features(s) for s in train_sents]\n",
    "X_val_features = [sent2features(s) for s in val_sents]\n",
    "y_train_labels = train_labels\n",
    "y_val_labels = val_labels\n",
    "\n",
    "# Output the number of training and validation samples\n",
    "print(f\"Training samples: {len(X_train_features)}\")\n",
    "print(f\"Validation samples: {len(X_val_features)}\")\n",
    "\n"
   ]
  },
  {
   "cell_type": "markdown",
   "metadata": {
    "id": "4c-kjqtaoZvb"
   },
   "source": [
    "##### **6.3.3** **Print the length of val and train features and labels** <font color = red>[2 marks]</font> <br>\n",
    "\n"
   ]
  },
  {
   "cell_type": "code",
   "execution_count": 50,
   "metadata": {
    "id": "mWId2Nn0okMV"
   },
   "outputs": [],
   "source": [
    "# print the length of train features and labels\n"
   ]
  },
  {
   "cell_type": "code",
   "execution_count": 51,
   "metadata": {
    "id": "LAt_m_LubRvn"
   },
   "outputs": [],
   "source": [
    "# print the length of validation features and labels\n"
   ]
  },
  {
   "cell_type": "markdown",
   "metadata": {
    "id": "dZffFBH-pVhx"
   },
   "source": [
    "### **6.4** *Applying weights to feature sets* <font color = red>[12 marks]</font> <br>\n",
    "\n",
    "\n"
   ]
  },
  {
   "cell_type": "markdown",
   "metadata": {
    "id": "Goh_fX-6pqhN"
   },
   "source": [
    "##### **6.4.1** **Flatten the labels of y_train** <font color = red>[2 marks]</font> <br>\n",
    "\n",
    "Create ***y_train_flat*** to flatten the structure of nested y_train"
   ]
  },
  {
   "cell_type": "code",
   "execution_count": 52,
   "metadata": {
    "id": "adLWfYn_p3gM"
   },
   "outputs": [],
   "source": [
    "# Flatten labels in y_train\n"
   ]
  },
  {
   "cell_type": "markdown",
   "metadata": {
    "id": "qk9UMBrbp9dp"
   },
   "source": [
    "##### **6.4.2** **Count the labels present in training target dataset** <font color = red>[2 marks]</font> <br>\n",
    "\n",
    "Create ***label_counts*** to count the frequencies of labels present in y_train_flat and retrieve the total samples by using the values of label_counts as ***total_samples***"
   ]
  },
  {
   "cell_type": "code",
   "execution_count": 53,
   "metadata": {
    "id": "6Kiu8jckqZSH"
   },
   "outputs": [],
   "source": [
    "# Count label frequencies as label_counts and total_samples as getting the summation of values of label_counts\n"
   ]
  },
  {
   "cell_type": "markdown",
   "metadata": {
    "id": "4aCmDsZYqYA-"
   },
   "source": [
    "##### **6.4.3** **Compute weight_dict by using inverse frequency method for label weights** <font color = red>[2 marks]</font> <br>\n",
    "\n",
    "- Create ***weight_dict*** as dictionary with label and its inverse frequency count in ***label_counts***\n",
    "\n",
    "- Penalise ingredient label in the dictionary"
   ]
  },
  {
   "cell_type": "code",
   "execution_count": 54,
   "metadata": {
    "id": "FpbEAZ3zqxEo"
   },
   "outputs": [],
   "source": [
    "# Compute class weights (inverse frequency method) by considering total_samples and label_counts\n"
   ]
  },
  {
   "cell_type": "code",
   "execution_count": 55,
   "metadata": {
    "id": "hns3HbujXESs"
   },
   "outputs": [],
   "source": [
    "# penalise ingredient label\n"
   ]
  },
  {
   "cell_type": "markdown",
   "metadata": {
    "id": "V8TdHMlPrhh8"
   },
   "source": [
    "##### **6.4.4** **Extract features along with class weights** <font color = red>[4 marks]</font> <br>\n",
    "\n",
    "Define a function ***extract_features_with_class_weights*** to work with training and validation datasets and extract features by applying class weights\n",
    "\n",
    "\n",
    "\n"
   ]
  },
  {
   "cell_type": "code",
   "execution_count": 56,
   "metadata": {
    "id": "1km6GR4TjXPX"
   },
   "outputs": [],
   "source": [
    "# Apply weights to feature extraction in extract_features_with_class_weights by using parameters such as X (input tokens), y(labels) and weight_dict (Class weights)\n"
   ]
  },
  {
   "cell_type": "markdown",
   "metadata": {
    "id": "51ABmKwKsaiz"
   },
   "source": [
    "##### **6.4.5** **Execute extract_features_with_class_weights on training and validation datasets** <font color = red>[2 marks]</font> <br>\n",
    "\n",
    "Create ***X_train_weighted_features*** and ***X_val_weighted_features*** for extracting training and validation features along with their weights by calling ***extract_features_with_class_weights*** on the datasets"
   ]
  },
  {
   "cell_type": "code",
   "execution_count": 57,
   "metadata": {
    "id": "-XUFFnm5sYE6"
   },
   "outputs": [],
   "source": [
    "# Apply manually computed class weights\n"
   ]
  },
  {
   "cell_type": "markdown",
   "metadata": {
    "id": "Aah9bFDlAuzI"
   },
   "source": [
    "## **7** Model Building and Training <font color = red>[10 marks]</font> <br>"
   ]
  },
  {
   "cell_type": "markdown",
   "metadata": {
    "id": "axrvWR9TAuzJ"
   },
   "source": [
    "### **7.1** *Initialise the CRF model and train it* <font color = red>[5 marks]</font>\n",
    "Train the CRF model with the specified hyperparameters such as\n",
    "\n",
    "### CRF Model Hyperparameters Explanation\n",
    "\n",
    "| Parameter                  | Description |\n",
    "|----------------------------|-------------|\n",
    "| **algorithm='lbfgs'**      | Optimisation algorithm used for training. `lbfgs` (Limited-memory Broyden–Fletcher–Goldfarb–Shanno) is a quasi-Newton optimisation method. |\n",
    "| **c1=0.5**                | L1 regularisation term to control sparsity in feature weights. Helps in feature selection. |\n",
    "| **c2=1.0**                | L2 regularisation term to prevent overfitting by penalising large weights. |\n",
    "| **max_iterations=100**     | Maximum number of iterations for model training. Higher values allow more convergence but increase computation time. |\n",
    "| **all_possible_transitions=True** | Ensures that all possible state transitions are considered in training, making the model more robust. |\n",
    "\n",
    "Use weight_dict for training CRF\n",
    "\n"
   ]
  },
  {
   "cell_type": "code",
   "execution_count": 58,
   "metadata": {
    "id": "jig2J_n1AuzM"
   },
   "outputs": [],
   "source": [
    "# initialise CRF model with the specified hyperparameters and use weight_dict\n",
    "\n",
    "# train the CRF model with the weighted training data\n"
   ]
  },
  {
   "cell_type": "markdown",
   "metadata": {
    "id": "sDLwvYqOF6m_"
   },
   "source": [
    "### **7.2** *Evaluation of Training Dataset using CRF model* <font color = red>[4 marks]</font>\n",
    "Evaluate on training dataset using CRF by using flat classification report and confusion matrix"
   ]
  },
  {
   "cell_type": "code",
   "execution_count": 59,
   "metadata": {
    "id": "Us57jWSQ6laL"
   },
   "outputs": [],
   "source": [
    "# evaluate on the training dataset\n"
   ]
  },
  {
   "cell_type": "code",
   "execution_count": 60,
   "metadata": {
    "id": "gNGZnd-D6oq3"
   },
   "outputs": [],
   "source": [
    "# specify the flat classification report by using training data for evaluation\n"
   ]
  },
  {
   "cell_type": "code",
   "execution_count": 61,
   "metadata": {
    "id": "GqP9WBvJ63qm"
   },
   "outputs": [],
   "source": [
    "# create a confusion matrix on training datset\n"
   ]
  },
  {
   "cell_type": "markdown",
   "metadata": {
    "id": "Yps2-XscGuHc"
   },
   "source": [
    "### **7.3** *Save the CRF model* <font color = red>[1 marks]</font>\n",
    "Save the CRF model"
   ]
  },
  {
   "cell_type": "code",
   "execution_count": 62,
   "metadata": {
    "id": "iAYDLatcGzEN"
   },
   "outputs": [],
   "source": [
    "# dump the model using joblib as crf_model.pkl\n"
   ]
  },
  {
   "cell_type": "markdown",
   "metadata": {
    "id": "agM32oUlBo1K"
   },
   "source": [
    "## **8** Prediction and Model Evaluation <font color = red>[3 marks]</font> <br>"
   ]
  },
  {
   "cell_type": "markdown",
   "metadata": {
    "id": "b5BYmkTrBo1L"
   },
   "source": [
    "### **8.1** *Predict and Evaluate the CRF model on validation set* <font color = red>[3 marks]</font>\n",
    "Evaluate the metrics for CRF model by using flat classification report and confusion matrix\n",
    "\n",
    "\n"
   ]
  },
  {
   "cell_type": "code",
   "execution_count": 63,
   "metadata": {
    "id": "qhH6Sp8tBo1M"
   },
   "outputs": [],
   "source": [
    "# predict the crf model on validation dataset\n"
   ]
  },
  {
   "cell_type": "code",
   "execution_count": 64,
   "metadata": {
    "id": "SMktt_w1kovB"
   },
   "outputs": [],
   "source": [
    "# specify flat classification report\n"
   ]
  },
  {
   "cell_type": "code",
   "execution_count": 65,
   "metadata": {
    "id": "eI2tUBRRk4jK"
   },
   "outputs": [],
   "source": [
    "# create a confusion matrix on validation dataset\n"
   ]
  },
  {
   "cell_type": "markdown",
   "metadata": {
    "id": "8pD6hD3NEV3q"
   },
   "source": [
    "## **9** Error Analysis on Validation Data <font color = red>[10 marks]</font> <br>\n",
    "Investigate misclassified samples in validation dataset and provide the insights\n"
   ]
  },
  {
   "cell_type": "markdown",
   "metadata": {
    "id": "R9tUvjrzFjib"
   },
   "source": [
    "### **9.1** *Investigate misclassified samples in validation dataset* <font color = red>[8 marks]</font>\n",
    "\n"
   ]
  },
  {
   "cell_type": "markdown",
   "metadata": {
    "id": "Lb15uObqxKe4"
   },
   "source": [
    "##### **9.1.1** Flatten the labels of validation data and initialise error data <font color = red>[2 marks]</font> <br>\n",
    "\n",
    "\n",
    "\n",
    "Flatten the true and predicted labels and initialise the error data as ***error_data***"
   ]
  },
  {
   "cell_type": "code",
   "execution_count": 66,
   "metadata": {
    "id": "gbgYAjd-UzkI"
   },
   "outputs": [],
   "source": [
    "# flatten Labels and Initialise Error Data\n"
   ]
  },
  {
   "cell_type": "markdown",
   "metadata": {
    "id": "LS9foWfdXHOg"
   },
   "source": [
    "##### **9.1.2** Iterate the validation data and collect Error Information<font color = red> [2 marks]</font> <br>\n",
    "\n",
    "\n",
    "\n",
    "Iterate through validation data (X_val, y_val_labels, y_pred_val) and compare true vs. predicted labels. Collect error details, including surrounding context, previous/next tokens, and class weights, then store them in error_data"
   ]
  },
  {
   "cell_type": "code",
   "execution_count": 67,
   "metadata": {
    "id": "_VKLc1s0U0yY"
   },
   "outputs": [],
   "source": [
    "# iterate and collect Error Information\n",
    "\n",
    "            # get previous and next tokens with handling for boundary cases\n"
   ]
  },
  {
   "cell_type": "markdown",
   "metadata": {
    "id": "G_R8CCAFZSzF"
   },
   "source": [
    "##### **9.1.3** Create dataframe from error_data and print overall accuracy <font color = red>[1 marks]</font> <br>\n",
    "\n",
    "\n",
    "\n",
    "Change error_data into dataframe and then use it to illustrate the overall accuracy of validation data"
   ]
  },
  {
   "cell_type": "code",
   "execution_count": 68,
   "metadata": {
    "id": "fUffRP7XU3YC"
   },
   "outputs": [],
   "source": [
    "# Create DataFrame and Print Overall Accuracy\n"
   ]
  },
  {
   "cell_type": "markdown",
   "metadata": {
    "id": "8OUYHFmgZhgJ"
   },
   "source": [
    "##### **9.1.4** Analyse errors by label type<font color = red> [3 marks]</font> <br>\n",
    "Analyse errors found in the validation data by each label and display their class weights along with accuracy and also display the error dataframe with token,  previous token, next token, true label, predicted label and context"
   ]
  },
  {
   "cell_type": "code",
   "execution_count": 69,
   "metadata": {
    "collapsed": true,
    "id": "zu8CtjU6WR9l"
   },
   "outputs": [],
   "source": [
    "# Analyse errors found in the validation data by each label\n",
    "# and display their class weights along with accuracy\n",
    "# and display the error dataframe with token, previous token, next token, true label, predicted label and context\n",
    "\n"
   ]
  },
  {
   "cell_type": "markdown",
   "metadata": {
    "id": "Q3n74kVvEV3q"
   },
   "source": [
    "### **9.2** *Provide insights from the validation dataset* <font color = red>[2 marks]</font>\n",
    "\n",
    "\n"
   ]
  },
  {
   "cell_type": "markdown",
   "metadata": {
    "id": "aWZdf1O_vWnD"
   },
   "source": [
    " <font color = red>[Write your answer]</font>"
   ]
  },
  {
   "cell_type": "markdown",
   "metadata": {
    "id": "qUjFPBMxH20n"
   },
   "source": [
    "## **10** Conclusion (Optional) <font color = red>[0 marks]</font> <br>\n",
    "\n",
    "Write your findings and conclusion."
   ]
  }
 ],
 "metadata": {
  "colab": {
   "collapsed_sections": [
    "-ksMVNgeyiLN",
    "1y18LwoqyFpk",
    "bhNG_XC1r4Qw",
    "-JtvsBYur-oV",
    "dpJQu3JE_P7Z",
    "JbriClEV9CW5",
    "Qtqtij2-CD2m",
    "_RJEStPSC9PB",
    "qJdYJ2TEDBzd",
    "hJm2nUw0998s"
   ],
   "provenance": [],
   "toc_visible": true
  },
  "kernelspec": {
   "display_name": "Python 3",
   "name": "python3"
  },
  "language_info": {
   "codemirror_mode": {
    "name": "ipython",
    "version": 3
   },
   "file_extension": ".py",
   "mimetype": "text/x-python",
   "name": "python",
   "nbconvert_exporter": "python",
   "pygments_lexer": "ipython3",
   "version": "3.12.6"
  }
 },
 "nbformat": 4,
 "nbformat_minor": 0
}
